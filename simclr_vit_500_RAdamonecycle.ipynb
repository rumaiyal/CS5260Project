{
 "cells": [
  {
   "cell_type": "markdown",
   "metadata": {
    "id": "HptO0CSwNjie"
   },
   "source": [
    "# Contrastive Learning on CIFAR10 using ConvNext Backbone"
   ]
  },
  {
   "cell_type": "markdown",
   "metadata": {
    "id": "vXC8nEmxOMN6"
   },
   "source": [
    "First, we import the dataset and define transformation operations on it. We apply random transformation on images (crop + flip + colorjitter + grayscale)."
   ]
  },
  {
   "cell_type": "code",
   "execution_count": 1,
   "metadata": {
    "id": "c61bUj3dVpYD"
   },
   "outputs": [],
   "source": [
    "from PIL import Image\n",
    "from torchvision import transforms\n",
    "from torchvision.datasets import CIFAR10\n",
    "import torch\n",
    "\n",
    "class CIFAR10Pair(CIFAR10):\n",
    "    \"\"\"CIFAR10 Dataset.\n",
    "    \"\"\"\n",
    "\n",
    "    def __getitem__(self, index):\n",
    "        img, target = self.data[index], self.targets[index]\n",
    "        img = Image.fromarray(img)\n",
    "\n",
    "        if self.transform is not None:\n",
    "            pos_1 = self.transform(img)\n",
    "            pos_2 = self.transform(img)\n",
    "\n",
    "        if self.target_transform is not None:\n",
    "            target = self.target_transform(target)\n",
    "\n",
    "        return pos_1, pos_2, target\n",
    "\n",
    "\n",
    "train_transform = transforms.Compose([\n",
    "    transforms.RandomResizedCrop(32),\n",
    "    transforms.RandomHorizontalFlip(p=0.5),\n",
    "    transforms.RandomApply([transforms.ColorJitter(0.4, 0.4, 0.4, 0.1)], p=0.8),\n",
    "    transforms.RandomGrayscale(p=0.2),\n",
    "    transforms.ToTensor(),\n",
    "    transforms.Normalize([0.4914, 0.4822, 0.4465], [0.2023, 0.1994, 0.2010])])\n",
    "\n",
    "test_transform = transforms.Compose([\n",
    "    transforms.ToTensor(),\n",
    "    transforms.Normalize([0.4914, 0.4822, 0.4465], [0.2023, 0.1994, 0.2010])])"
   ]
  },
  {
   "cell_type": "markdown",
   "metadata": {
    "id": "ct01fnfSNHuT"
   },
   "source": [
    "We use commonly used ResNet-50 as ConvNet encoders for simplicity in the original paper. The task 1 is to set encoder and projection head. The parameters are adapted from the original paper."
   ]
  },
  {
   "cell_type": "code",
   "execution_count": 2,
   "metadata": {
    "id": "ZbjYxzrgG6rO"
   },
   "outputs": [
    {
     "name": "stdout",
     "output_type": "stream",
     "text": [
      "Requirement already satisfied: einops in /home/umaiyal/miniconda3/envs/deeplearn_course/lib/python3.7/site-packages (0.4.1)\r\n"
     ]
    }
   ],
   "source": [
    "# self written ViT code\n",
    "# referenced from https://github.com/lucidrains/vit-pytorch/blob/main/vit_pytorch/vit.py\n",
    "\n",
    "!pip install einops\n",
    "\n",
    "import torch\n",
    "from torch import nn\n",
    "import torch.nn.functional as F\n",
    "\n",
    "from einops import rearrange, repeat\n",
    "from einops.layers.torch import Rearrange\n",
    "\n",
    "# helpers\n",
    "\n",
    "def pair(t):\n",
    "    return t if isinstance(t, tuple) else (t, t)\n",
    "\n",
    "# classes\n",
    "\n",
    "class PreNorm(nn.Module):\n",
    "    def __init__(self, dim, fn):\n",
    "        super().__init__()\n",
    "        self.norm = nn.LayerNorm(dim)\n",
    "        self.fn = fn\n",
    "    def forward(self, x, **kwargs):\n",
    "        return self.fn(self.norm(x), **kwargs)\n",
    "\n",
    "class FeedForward(nn.Module):\n",
    "    def __init__(self, dim, hidden_dim, dropout = 0.):\n",
    "        super().__init__()\n",
    "        self.net = nn.Sequential(\n",
    "            nn.Linear(dim, hidden_dim),\n",
    "            nn.GELU(),\n",
    "            nn.Dropout(dropout),\n",
    "            nn.Linear(hidden_dim, dim),\n",
    "            nn.Dropout(dropout)\n",
    "        )\n",
    "    def forward(self, x):\n",
    "        return self.net(x)\n",
    "\n",
    "class Attention(nn.Module):\n",
    "    def __init__(self, dim, heads = 8, dim_head = 64, dropout = 0.):\n",
    "        super().__init__()\n",
    "        inner_dim = dim_head *  heads\n",
    "        project_out = not (heads == 1 and dim_head == dim)\n",
    "\n",
    "        self.heads = heads\n",
    "        self.scale = dim_head ** -0.5\n",
    "\n",
    "        self.attend = nn.Softmax(dim = -1)\n",
    "        self.to_qkv = nn.Linear(dim, inner_dim * 3, bias = False)\n",
    "\n",
    "        self.to_out = nn.Sequential(\n",
    "            nn.Linear(inner_dim, dim),\n",
    "            nn.Dropout(dropout)\n",
    "        ) if project_out else nn.Identity()\n",
    "\n",
    "    def forward(self, x):\n",
    "        qkv = self.to_qkv(x).chunk(3, dim = -1)\n",
    "        q, k, v = map(lambda t: rearrange(t, 'b n (h d) -> b h n d', h = self.heads), qkv)\n",
    "\n",
    "        dots = torch.matmul(q, k.transpose(-1, -2)) * self.scale\n",
    "\n",
    "        attn = self.attend(dots)\n",
    "\n",
    "        out = torch.matmul(attn, v)\n",
    "        out = rearrange(out, 'b h n d -> b n (h d)')\n",
    "        return self.to_out(out)\n",
    "\n",
    "class Transformer(nn.Module):\n",
    "    def __init__(self, dim, depth, heads, dim_head, mlp_dim, dropout = 0.):\n",
    "        super().__init__()\n",
    "        self.layers = nn.ModuleList([])\n",
    "        for _ in range(depth):\n",
    "            self.layers.append(nn.ModuleList([\n",
    "                PreNorm(dim, Attention(dim, heads = heads, dim_head = dim_head, dropout = dropout)),\n",
    "                PreNorm(dim, FeedForward(dim, mlp_dim, dropout = dropout))\n",
    "            ]))\n",
    "    def forward(self, x):\n",
    "        for attn, ff in self.layers:\n",
    "            x = attn(x) + x\n",
    "            x = ff(x) + x\n",
    "        return x\n",
    "\n",
    "\n",
    "\n",
    "class ViT(nn.Module):\n",
    "    def __init__(self, *, image_size=32, patch_size=8, num_classes=1000, dim=1024, depth=6, heads=16, mlp_dim=2048, pool = 'cls', channels = 3, dim_head = 64, dropout = 0.1, emb_dropout = 0.1, feature_dim=128):\n",
    "    #def __init__(self, *, image_size=256, patch_size=16, num_classes=1000, dim=1024, depth=6, heads=16, mlp_dim=2048, pool = 'cls', channels = 3, dim_head = 64, dropout = 0.1, emb_dropout = 0.1, feature_dim=128):\n",
    "        super().__init__()\n",
    "        image_height, image_width = pair(image_size)\n",
    "        patch_height, patch_width = pair(patch_size)\n",
    "\n",
    "        assert image_height % patch_height == 0 and image_width % patch_width == 0, 'Image dimensions must be divisible by the patch size.'\n",
    "\n",
    "        num_patches = (image_height // patch_height) * (image_width // patch_width)\n",
    "        patch_dim = channels * patch_height * patch_width\n",
    "        assert pool in {'cls', 'mean'}, 'pool type must be either cls (cls token) or mean (mean pooling)'\n",
    "\n",
    "        self.to_patch_embedding = nn.Sequential(\n",
    "            Rearrange('b c (h p1) (w p2) -> b (h w) (p1 p2 c)', p1 = patch_height, p2 = patch_width),\n",
    "            nn.Linear(patch_dim, dim),\n",
    "        )\n",
    "\n",
    "        self.pos_embedding = nn.Parameter(torch.randn(1, num_patches + 1, dim))\n",
    "        self.cls_token = nn.Parameter(torch.randn(1, 1, dim))\n",
    "        self.dropout = nn.Dropout(emb_dropout)\n",
    "\n",
    "        self.transformer = Transformer(dim, depth, heads, dim_head, mlp_dim, dropout)\n",
    "        #self.linear_crossover = nn.Linear(5120, mlp_dim)\n",
    "        self.linear_crossover = nn.Linear(17408,mlp_dim) \n",
    "\n",
    "        self.g = nn.Sequential(nn.Linear(mlp_dim, 512, bias=False), \n",
    "                               nn.BatchNorm1d(512),\n",
    "                               nn.ReLU(inplace=True),\n",
    "                               nn.Linear(512, feature_dim, bias=True))\n",
    "\n",
    "\n",
    "        #comment out below\n",
    "        #self.pool = pool\n",
    "        #self.to_latent = nn.Identity()\n",
    "        #self.mlp_head = nn.Sequential(\n",
    "        #    nn.LayerNorm(dim),\n",
    "        #    nn.Linear(dim, num_classes)\n",
    "        #)\n",
    "        \n",
    "\n",
    "\n",
    "    def forward(self, x):\n",
    "\n",
    "        #print(\"x input shape: \", x.shape)\n",
    "\n",
    "        x = self.to_patch_embedding(x)\n",
    "\n",
    "        b, n, _ = x.shape\n",
    "\n",
    "        cls_tokens = repeat(self.cls_token, '() n d -> b n d', b = b)\n",
    "        x = torch.cat((cls_tokens, x), dim=1)\n",
    "        x += self.pos_embedding[:, :(n + 1)]\n",
    "\n",
    "        x = self.dropout(x)\n",
    "        #print(\"X after dropout layer: \", x.shape)\n",
    "\n",
    "        x = self.transformer(x)\n",
    "        #print(\"X after transformer layer: \", x.shape)\n",
    "\n",
    "        x = torch.flatten(x,1)\n",
    "        #print(\"X after reduce_dim layer: \", x.shape)\n",
    "\n",
    "        x = self.linear_crossover(x)\n",
    "        #print(\"X after linear layer: \", x.shape)\n",
    "\n",
    "        feature = x\n",
    "        #print(\"F after dimension removal: \", feature.shape)\n",
    "\n",
    "        out = self.g(feature)\n",
    "        #out = feature\n",
    "        #print(\"Out Shape: \", out.shape)\n",
    "\n",
    "\n",
    "        #comment out below\n",
    "        #x = x.mean(dim = 1) if self.pool == 'mean' else x[:, 0]\n",
    "        #x = self.to_latent(x)\n",
    "        #x = self.mlp_head(x)\n",
    "\n",
    "        return F.normalize(feature, dim=-1), F.normalize(out, dim=-1)\n",
    "\n",
    "        \n"
   ]
  },
  {
   "cell_type": "markdown",
   "metadata": {
    "id": "PPM5hsulQ74i"
   },
   "source": [
    "We train encoder network and projection head to maximize agreement using a contrastive loss. The default epoch is 1 for time efficiency while it could takes about 10 minutes to run for one epoch in google colab. The task 2 is to calculate the contrastive loss.\n",
    "To evaluate the influence of temperature value for contrastive loss, we run this training process 3 times with different temperature value (0.1,0.5 and 1.0)."
   ]
  },
  {
   "cell_type": "code",
   "execution_count": 3,
   "metadata": {
    "colab": {
     "base_uri": "https://localhost:8080/"
    },
    "id": "w7FrLDw2HAWN",
    "outputId": "6edde720-2674-440c-9870-344b32321ef1"
   },
   "outputs": [
    {
     "name": "stdout",
     "output_type": "stream",
     "text": [
      "Requirement already satisfied: thop in /home/umaiyal/miniconda3/envs/deeplearn_course/lib/python3.7/site-packages (0.0.31.post2005241907)\r\n",
      "Requirement already satisfied: torch>=1.0.0 in /home/umaiyal/miniconda3/envs/deeplearn_course/lib/python3.7/site-packages (from thop) (1.10.1+cu111)\r\n",
      "Requirement already satisfied: typing-extensions in /home/umaiyal/miniconda3/envs/deeplearn_course/lib/python3.7/site-packages (from torch>=1.0.0->thop) (4.2.0)\r\n"
     ]
    }
   ],
   "source": [
    "import argparse\n",
    "import os\n",
    "\n",
    "import numpy as np\n",
    "import pandas as pd\n",
    "import torch\n",
    "import torch.optim as optim\n",
    "!pip install thop\n",
    "from thop import profile, clever_format\n",
    "from torch.utils.data import DataLoader\n",
    "from tqdm import tqdm\n",
    "\n",
    "\n",
    "import math\n",
    "\n",
    "def contrastive_loss(out_1, out_2, temperature):\n",
    "\n",
    "    # ------------------------------------------------------------------\n",
    "    # START OF YOUR CODE\n",
    "    # ------------------------------------------------------------------\n",
    "    # Task2: implement contrastive loss function and return loss variable\n",
    "    # hint: loss formula could refer to the slides\n",
    "    # input: out_1, out_2，temperature\n",
    "    # output: loss variable\n",
    "\n",
    "    out = torch.cat([out_1, out_2], dim=0)\n",
    "    # [2*B, 2*B]\n",
    "    sim_matrix = torch.exp(torch.mm(out, out.t().contiguous()) / temperature)\n",
    "    mask = (torch.ones_like(sim_matrix) - torch.eye(2 * batch_size, device=sim_matrix.device)).bool()\n",
    "    # [2*B, 2*B-1]\n",
    "    sim_matrix = sim_matrix.masked_select(mask).view(2 * batch_size, -1)\n",
    "\n",
    "    # compute loss\n",
    "    pos_sim = torch.exp(torch.sum(out_1 * out_2, dim=-1) / temperature)\n",
    "    # [2*B]\n",
    "    pos_sim = torch.cat([pos_sim, pos_sim], dim=0)\n",
    "    loss = (- torch.log(pos_sim / sim_matrix.sum(dim=-1))).mean() \n",
    "\n",
    "    # ------------------------------------------------------------------\n",
    "    # END OF YOUR CODE\n",
    "    # ------------------------------------------------------------------\n",
    "\n",
    "    return loss\n",
    "\n",
    "# train for one epoch to learn unique features\n",
    "def train(net, data_loader, train_optimizer, train_scheduler, temperature):\n",
    "    net.train()\n",
    "    total_loss, total_num, train_bar = 0.0, 0, tqdm(data_loader)\n",
    "    for pos_1, pos_2, target in train_bar:\n",
    "        pos_1, pos_2 = pos_1.cuda(non_blocking=True), pos_2.cuda(non_blocking=True)\n",
    "        feature_1, out_1 = net(pos_1)\n",
    "        feature_2, out_2 = net(pos_2)\n",
    "\n",
    "        loss = contrastive_loss(out_1, out_2, temperature)\n",
    "\n",
    "        train_optimizer.zero_grad()\n",
    "        loss.backward()\n",
    "        train_optimizer.step()\n",
    "        train_scheduler.step()\n",
    "\n",
    "        total_num += batch_size\n",
    "        total_loss += loss.item() * batch_size\n",
    "        train_bar.set_description('Train Epoch: [{}/{}] Loss: {:.4f}'.format(epoch, epochs, total_loss / total_num))\n",
    "\n",
    "    return total_loss / total_num\n",
    "\n",
    "\n",
    "# test for one epoch, use weighted knn to find the most similar images' label to assign the test image\n",
    "def test(net, memory_data_loader, test_data_loader, temperature):\n",
    "    net.eval()\n",
    "    total_top1, total_top5, total_num, feature_bank = 0.0, 0.0, 0, []\n",
    "    with torch.no_grad():\n",
    "        # generate feature bank\n",
    "        for data, _, target in tqdm(memory_data_loader, desc='Feature extracting'):\n",
    "            feature, out = net(data.cuda(non_blocking=True))\n",
    "            feature_bank.append(feature)\n",
    "        # [D, N]\n",
    "        feature_bank = torch.cat(feature_bank, dim=0).t().contiguous()\n",
    "        # [N]\n",
    "        feature_labels = torch.tensor(memory_data_loader.dataset.targets, device=feature_bank.device)\n",
    "        # loop test data to predict the label by weighted knn search\n",
    "        test_bar = tqdm(test_data_loader)\n",
    "        for data, _, target in test_bar:\n",
    "            data, target = data.cuda(non_blocking=True), target.cuda(non_blocking=True)\n",
    "            feature, out = net(data)\n",
    "\n",
    "            total_num += data.size(0)\n",
    "            # compute cos similarity between each feature vector and feature bank ---> [B, N]\n",
    "            sim_matrix = torch.mm(feature, feature_bank)\n",
    "            # [B, K]\n",
    "            sim_weight, sim_indices = sim_matrix.topk(k=k, dim=-1)\n",
    "            # [B, K]\n",
    "            sim_labels = torch.gather(feature_labels.expand(data.size(0), -1), dim=-1, index=sim_indices)\n",
    "            sim_weight = (sim_weight / temperature).exp()\n",
    "\n",
    "            # counts for each class\n",
    "            one_hot_label = torch.zeros(data.size(0) * k, c, device=sim_labels.device)\n",
    "            # [B*K, C]\n",
    "            one_hot_label = one_hot_label.scatter(dim=-1, index=sim_labels.view(-1, 1), value=1.0)\n",
    "            # weighted score ---> [B, C]\n",
    "            pred_scores = torch.sum(one_hot_label.view(data.size(0), -1, c) * sim_weight.unsqueeze(dim=-1), dim=1)\n",
    "\n",
    "            pred_labels = pred_scores.argsort(dim=-1, descending=True)\n",
    "            total_top1 += torch.sum((pred_labels[:, :1] == target.unsqueeze(dim=-1)).any(dim=-1).float()).item()\n",
    "            total_top5 += torch.sum((pred_labels[:, :5] == target.unsqueeze(dim=-1)).any(dim=-1).float()).item()\n",
    "            test_bar.set_description('Test Epoch: [{}/{}] Acc@1:{:.2f}% Acc@5:{:.2f}%'\n",
    "                                     .format(epoch, epochs, total_top1 / total_num * 100, total_top5 / total_num * 100))\n",
    "\n",
    "    return total_top1 / total_num * 100, total_top5 / total_num * 100"
   ]
  },
  {
   "cell_type": "code",
   "execution_count": 4,
   "metadata": {
    "id": "5nhS6egtxDk8"
   },
   "outputs": [],
   "source": [
    "device = 'cuda' if torch.cuda.is_available() else 'cpu'"
   ]
  },
  {
   "cell_type": "code",
   "execution_count": null,
   "metadata": {
    "colab": {
     "base_uri": "https://localhost:8080/",
     "height": 908
    },
    "id": "BCIhOUGGxT93",
    "outputId": "08fe65db-a61f-49f4-f337-3482fe1a8446"
   },
   "outputs": [
    {
     "name": "stdout",
     "output_type": "stream",
     "text": [
      "Files already downloaded and verified\n",
      "Files already downloaded and verified\n",
      "Files already downloaded and verified\n",
      "\u001b[91m[WARN] Cannot find rule for <class 'einops.layers.torch.Rearrange'>. Treat it as zero Macs and zero Params.\u001b[00m\n",
      "[INFO] Register count_linear() for <class 'torch.nn.modules.linear.Linear'>.\n",
      "\u001b[91m[WARN] Cannot find rule for <class 'torch.nn.modules.container.Sequential'>. Treat it as zero Macs and zero Params.\u001b[00m\n",
      "[INFO] Register zero_ops() for <class 'torch.nn.modules.dropout.Dropout'>.\n",
      "\u001b[91m[WARN] Cannot find rule for <class 'torch.nn.modules.normalization.LayerNorm'>. Treat it as zero Macs and zero Params.\u001b[00m\n",
      "\u001b[91m[WARN] Cannot find rule for <class 'torch.nn.modules.activation.Softmax'>. Treat it as zero Macs and zero Params.\u001b[00m\n",
      "\u001b[91m[WARN] Cannot find rule for <class '__main__.Attention'>. Treat it as zero Macs and zero Params.\u001b[00m\n",
      "\u001b[91m[WARN] Cannot find rule for <class '__main__.PreNorm'>. Treat it as zero Macs and zero Params.\u001b[00m\n",
      "\u001b[91m[WARN] Cannot find rule for <class 'torch.nn.modules.activation.GELU'>. Treat it as zero Macs and zero Params.\u001b[00m\n",
      "\u001b[91m[WARN] Cannot find rule for <class '__main__.FeedForward'>. Treat it as zero Macs and zero Params.\u001b[00m\n",
      "\u001b[91m[WARN] Cannot find rule for <class 'torch.nn.modules.container.ModuleList'>. Treat it as zero Macs and zero Params.\u001b[00m\n",
      "\u001b[91m[WARN] Cannot find rule for <class '__main__.Transformer'>. Treat it as zero Macs and zero Params.\u001b[00m\n",
      "[INFO] Register count_bn() for <class 'torch.nn.modules.batchnorm.BatchNorm1d'>.\n",
      "[INFO] Register zero_ops() for <class 'torch.nn.modules.activation.ReLU'>.\n",
      "\u001b[91m[WARN] Cannot find rule for <class '__main__.ViT'>. Treat it as zero Macs and zero Params.\u001b[00m\n",
      "# Model Params: 87.32M FLOPs: 895.55M\n"
     ]
    },
    {
     "name": "stderr",
     "output_type": "stream",
     "text": [
      "Train Epoch: [1/500] Loss: 4.5624: 100%|██████████| 390/390 [00:35<00:00, 11.03it/s]\n"
     ]
    },
    {
     "name": "stdout",
     "output_type": "stream",
     "text": [
      "2.352319351544004e-05\n",
      "tensor(4.5624)\n"
     ]
    },
    {
     "name": "stderr",
     "output_type": "stream",
     "text": [
      "Feature extracting: 100%|██████████| 391/391 [00:05<00:00, 70.67it/s]\n",
      "Test Epoch: [1/500] Acc@1:37.40% Acc@5:86.61%: 100%|██████████| 79/79 [00:02<00:00, 37.39it/s]\n",
      "Train Epoch: [2/500] Loss: 4.1373: 100%|██████████| 390/390 [00:36<00:00, 10.80it/s]\n"
     ]
    },
    {
     "name": "stdout",
     "output_type": "stream",
     "text": [
      "2.3592763887969874e-05\n",
      "tensor(4.1585)\n"
     ]
    },
    {
     "name": "stderr",
     "output_type": "stream",
     "text": [
      "Feature extracting: 100%|██████████| 391/391 [00:05<00:00, 68.59it/s]\n",
      "Test Epoch: [2/500] Acc@1:40.88% Acc@5:88.77%: 100%|██████████| 79/79 [00:02<00:00, 37.27it/s]\n",
      "Train Epoch: [3/500] Loss: 3.9545: 100%|██████████| 390/390 [00:36<00:00, 10.74it/s]\n"
     ]
    },
    {
     "name": "stdout",
     "output_type": "stream",
     "text": [
      "2.3708680600681577e-05\n",
      "tensor(3.9647)\n"
     ]
    },
    {
     "name": "stderr",
     "output_type": "stream",
     "text": [
      "Feature extracting: 100%|██████████| 391/391 [00:05<00:00, 69.49it/s]\n",
      "Test Epoch: [3/500] Acc@1:42.54% Acc@5:89.59%: 100%|██████████| 79/79 [00:02<00:00, 37.88it/s]\n",
      "Train Epoch: [4/500] Loss: 3.7608: 100%|██████████| 390/390 [00:36<00:00, 10.71it/s]\n"
     ]
    },
    {
     "name": "stdout",
     "output_type": "stream",
     "text": [
      "2.387089280693556e-05\n",
      "tensor(3.7709)\n"
     ]
    },
    {
     "name": "stderr",
     "output_type": "stream",
     "text": [
      "Feature extracting: 100%|██████████| 391/391 [00:05<00:00, 69.30it/s]\n",
      "Test Epoch: [4/500] Acc@1:44.54% Acc@5:90.67%: 100%|██████████| 79/79 [00:02<00:00, 37.94it/s]\n",
      "Train Epoch: [5/500] Loss: 3.5005: 100%|██████████| 390/390 [00:36<00:00, 10.71it/s]\n"
     ]
    },
    {
     "name": "stdout",
     "output_type": "stream",
     "text": [
      "2.4079329352664483e-05\n",
      "tensor(3.5141)\n"
     ]
    },
    {
     "name": "stderr",
     "output_type": "stream",
     "text": [
      "Feature extracting: 100%|██████████| 391/391 [00:05<00:00, 69.23it/s]\n",
      "Test Epoch: [5/500] Acc@1:46.95% Acc@5:91.65%: 100%|██████████| 79/79 [00:02<00:00, 37.56it/s]\n",
      "Train Epoch: [6/500] Loss: 3.2941: 100%|██████████| 390/390 [00:36<00:00, 10.69it/s]\n"
     ]
    },
    {
     "name": "stdout",
     "output_type": "stream",
     "text": [
      "2.433389880758489e-05\n",
      "tensor(3.3051)\n"
     ]
    },
    {
     "name": "stderr",
     "output_type": "stream",
     "text": [
      "Feature extracting: 100%|██████████| 391/391 [00:05<00:00, 69.13it/s]\n",
      "Test Epoch: [6/500] Acc@1:48.00% Acc@5:92.21%: 100%|██████████| 79/79 [00:02<00:00, 38.10it/s]\n",
      "Train Epoch: [7/500] Loss: 3.1402: 100%|██████████| 390/390 [00:36<00:00, 10.69it/s]\n"
     ]
    },
    {
     "name": "stdout",
     "output_type": "stream",
     "text": [
      "2.4634489505302688e-05\n",
      "tensor(3.1485)\n"
     ]
    },
    {
     "name": "stderr",
     "output_type": "stream",
     "text": [
      "Feature extracting: 100%|██████████| 391/391 [00:05<00:00, 68.83it/s]\n",
      "Test Epoch: [7/500] Acc@1:49.86% Acc@5:92.78%: 100%|██████████| 79/79 [00:02<00:00, 38.29it/s]\n",
      "Train Epoch: [8/500] Loss: 3.0056: 100%|██████████| 390/390 [00:36<00:00, 10.72it/s]\n"
     ]
    },
    {
     "name": "stdout",
     "output_type": "stream",
     "text": [
      "2.498096959229566e-05\n",
      "tensor(3.0127)\n"
     ]
    },
    {
     "name": "stderr",
     "output_type": "stream",
     "text": [
      "Feature extracting: 100%|██████████| 391/391 [00:05<00:00, 67.70it/s]\n",
      "Test Epoch: [8/500] Acc@1:50.56% Acc@5:92.97%: 100%|██████████| 79/79 [00:02<00:00, 37.96it/s]\n",
      "Train Epoch: [9/500] Loss: 2.8875: 100%|██████████| 390/390 [00:36<00:00, 10.69it/s]\n"
     ]
    },
    {
     "name": "stdout",
     "output_type": "stream",
     "text": [
      "2.5373187085750594e-05\n",
      "tensor(2.8938)\n"
     ]
    },
    {
     "name": "stderr",
     "output_type": "stream",
     "text": [
      "Feature extracting: 100%|██████████| 391/391 [00:05<00:00, 68.02it/s]\n",
      "Test Epoch: [9/500] Acc@1:51.54% Acc@5:92.95%: 100%|██████████| 79/79 [00:02<00:00, 37.40it/s]\n",
      "Train Epoch: [10/500] Loss: 2.7811: 100%|██████████| 390/390 [00:36<00:00, 10.72it/s]\n"
     ]
    },
    {
     "name": "stdout",
     "output_type": "stream",
     "text": [
      "2.5810969940230372e-05\n",
      "tensor(2.7867)\n"
     ]
    },
    {
     "name": "stderr",
     "output_type": "stream",
     "text": [
      "Feature extracting: 100%|██████████| 391/391 [00:05<00:00, 68.03it/s]\n",
      "Test Epoch: [10/500] Acc@1:51.90% Acc@5:93.12%: 100%|██████████| 79/79 [00:02<00:00, 38.45it/s]\n",
      "Train Epoch: [11/500] Loss: 2.6914: 100%|██████████| 390/390 [00:36<00:00, 10.70it/s]\n"
     ]
    },
    {
     "name": "stdout",
     "output_type": "stream",
     "text": [
      "2.629412612314123e-05\n",
      "tensor(2.6962)\n"
     ]
    },
    {
     "name": "stderr",
     "output_type": "stream",
     "text": [
      "Feature extracting: 100%|██████████| 391/391 [00:05<00:00, 68.87it/s]\n",
      "Test Epoch: [11/500] Acc@1:52.20% Acc@5:93.34%: 100%|██████████| 79/79 [00:02<00:00, 38.31it/s]\n",
      "Train Epoch: [12/500] Loss: 2.5920: 100%|██████████| 390/390 [00:36<00:00, 10.71it/s]\n"
     ]
    },
    {
     "name": "stdout",
     "output_type": "stream",
     "text": [
      "2.6822443698967563e-05\n",
      "tensor(2.5972)\n"
     ]
    },
    {
     "name": "stderr",
     "output_type": "stream",
     "text": [
      "Feature extracting: 100%|██████████| 391/391 [00:05<00:00, 68.54it/s]\n",
      "Test Epoch: [12/500] Acc@1:52.27% Acc@5:93.67%: 100%|██████████| 79/79 [00:02<00:00, 37.93it/s]\n",
      "Train Epoch: [13/500] Loss: 2.5185: 100%|██████████| 390/390 [00:36<00:00, 10.70it/s]\n"
     ]
    },
    {
     "name": "stdout",
     "output_type": "stream",
     "text": [
      "2.7395690922236895e-05\n",
      "tensor(2.5224)\n"
     ]
    },
    {
     "name": "stderr",
     "output_type": "stream",
     "text": [
      "Feature extracting: 100%|██████████| 391/391 [00:05<00:00, 68.97it/s]\n",
      "Test Epoch: [13/500] Acc@1:53.02% Acc@5:93.46%: 100%|██████████| 79/79 [00:02<00:00, 38.41it/s]\n",
      "Train Epoch: [14/500] Loss: 2.4695: 100%|██████████| 390/390 [00:36<00:00, 10.70it/s]\n"
     ]
    },
    {
     "name": "stdout",
     "output_type": "stream",
     "text": [
      "2.8013616339174865e-05\n",
      "tensor(2.4721)\n"
     ]
    },
    {
     "name": "stderr",
     "output_type": "stream",
     "text": [
      "Feature extracting: 100%|██████████| 391/391 [00:05<00:00, 68.62it/s]\n",
      "Test Epoch: [14/500] Acc@1:53.26% Acc@5:93.97%: 100%|██████████| 79/79 [00:02<00:00, 37.98it/s]\n",
      "Train Epoch: [15/500] Loss: 2.4044: 100%|██████████| 390/390 [00:36<00:00, 10.73it/s]\n"
     ]
    },
    {
     "name": "stdout",
     "output_type": "stream",
     "text": [
      "2.8675948898004692e-05\n",
      "tensor(2.4078)\n"
     ]
    },
    {
     "name": "stderr",
     "output_type": "stream",
     "text": [
      "Feature extracting: 100%|██████████| 391/391 [00:05<00:00, 69.07it/s]\n",
      "Test Epoch: [15/500] Acc@1:53.95% Acc@5:94.08%: 100%|██████████| 79/79 [00:02<00:00, 37.64it/s]\n",
      "Train Epoch: [16/500] Loss: 2.3473: 100%|██████████| 390/390 [00:36<00:00, 10.71it/s]\n"
     ]
    },
    {
     "name": "stdout",
     "output_type": "stream",
     "text": [
      "2.938239806784347e-05\n",
      "tensor(2.3503)\n"
     ]
    },
    {
     "name": "stderr",
     "output_type": "stream",
     "text": [
      "Feature extracting: 100%|██████████| 391/391 [00:05<00:00, 68.69it/s]\n",
      "Test Epoch: [16/500] Acc@1:53.73% Acc@5:94.30%: 100%|██████████| 79/79 [00:02<00:00, 37.70it/s]\n",
      "Train Epoch: [17/500] Loss: 2.3069: 100%|██████████| 390/390 [00:36<00:00, 10.69it/s]\n"
     ]
    },
    {
     "name": "stdout",
     "output_type": "stream",
     "text": [
      "3.013265396614319e-05\n",
      "tensor(2.3091)\n"
     ]
    },
    {
     "name": "stderr",
     "output_type": "stream",
     "text": [
      "Feature extracting: 100%|██████████| 391/391 [00:05<00:00, 68.05it/s]\n",
      "Test Epoch: [17/500] Acc@1:54.19% Acc@5:94.23%: 100%|██████████| 79/79 [00:02<00:00, 38.40it/s]\n",
      "Train Epoch: [18/500] Loss: 2.2761: 100%|██████████| 390/390 [00:36<00:00, 10.69it/s]\n"
     ]
    },
    {
     "name": "stdout",
     "output_type": "stream",
     "text": [
      "3.0926387494619964e-05\n",
      "tensor(2.2778)\n"
     ]
    },
    {
     "name": "stderr",
     "output_type": "stream",
     "text": [
      "Feature extracting: 100%|██████████| 391/391 [00:05<00:00, 68.83it/s]\n",
      "Test Epoch: [18/500] Acc@1:54.55% Acc@5:94.60%: 100%|██████████| 79/79 [00:02<00:00, 36.95it/s]\n",
      "Train Epoch: [19/500] Loss: 2.2143: 100%|██████████| 390/390 [00:36<00:00, 10.70it/s]\n"
     ]
    },
    {
     "name": "stdout",
     "output_type": "stream",
     "text": [
      "3.1763250483612314e-05\n",
      "tensor(2.2175)\n"
     ]
    },
    {
     "name": "stderr",
     "output_type": "stream",
     "text": [
      "Feature extracting: 100%|██████████| 391/391 [00:05<00:00, 67.85it/s]\n",
      "Test Epoch: [19/500] Acc@1:54.66% Acc@5:94.56%: 100%|██████████| 79/79 [00:02<00:00, 37.72it/s]\n",
      "Train Epoch: [20/500] Loss: 2.2051: 100%|██████████| 390/390 [00:36<00:00, 10.70it/s]\n"
     ]
    },
    {
     "name": "stdout",
     "output_type": "stream",
     "text": [
      "3.264287584480528e-05\n",
      "tensor(2.2057)\n"
     ]
    },
    {
     "name": "stderr",
     "output_type": "stream",
     "text": [
      "Feature extracting: 100%|██████████| 391/391 [00:05<00:00, 68.97it/s]\n",
      "Test Epoch: [20/500] Acc@1:54.94% Acc@5:94.75%: 100%|██████████| 79/79 [00:02<00:00, 37.86it/s]\n",
      "Train Epoch: [21/500] Loss: 2.1512: 100%|██████████| 390/390 [00:36<00:00, 10.71it/s]\n"
     ]
    },
    {
     "name": "stdout",
     "output_type": "stream",
     "text": [
      "3.356487773225277e-05\n",
      "tensor(2.1540)\n"
     ]
    },
    {
     "name": "stderr",
     "output_type": "stream",
     "text": [
      "Feature extracting: 100%|██████████| 391/391 [00:05<00:00, 68.98it/s]\n",
      "Test Epoch: [21/500] Acc@1:55.31% Acc@5:94.95%: 100%|██████████| 79/79 [00:02<00:00, 38.34it/s]\n",
      "Train Epoch: [22/500] Loss: 2.1197: 100%|██████████| 390/390 [00:36<00:00, 10.69it/s]\n"
     ]
    },
    {
     "name": "stdout",
     "output_type": "stream",
     "text": [
      "3.4528851711628395e-05\n",
      "tensor(2.1214)\n"
     ]
    },
    {
     "name": "stderr",
     "output_type": "stream",
     "text": [
      "Feature extracting: 100%|██████████| 391/391 [00:05<00:00, 68.61it/s]\n",
      "Test Epoch: [22/500] Acc@1:55.16% Acc@5:94.85%: 100%|██████████| 79/79 [00:02<00:00, 37.09it/s]\n",
      "Train Epoch: [23/500] Loss: 2.0805: 100%|██████████| 390/390 [00:36<00:00, 10.66it/s]\n"
     ]
    },
    {
     "name": "stdout",
     "output_type": "stream",
     "text": [
      "3.553437493762949e-05\n",
      "tensor(2.0825)\n"
     ]
    },
    {
     "name": "stderr",
     "output_type": "stream",
     "text": [
      "Feature extracting: 100%|██████████| 391/391 [00:05<00:00, 68.83it/s]\n",
      "Test Epoch: [23/500] Acc@1:55.23% Acc@5:95.10%: 100%|██████████| 79/79 [00:02<00:00, 37.71it/s]\n",
      "Train Epoch: [24/500] Loss: 2.0591: 100%|██████████| 390/390 [00:36<00:00, 10.69it/s]\n"
     ]
    },
    {
     "name": "stdout",
     "output_type": "stream",
     "text": [
      "3.658100633945768e-05\n",
      "tensor(2.0602)\n"
     ]
    },
    {
     "name": "stderr",
     "output_type": "stream",
     "text": [
      "Feature extracting: 100%|██████████| 391/391 [00:05<00:00, 68.86it/s]\n",
      "Test Epoch: [24/500] Acc@1:55.73% Acc@5:95.04%: 100%|██████████| 79/79 [00:02<00:00, 37.69it/s]\n",
      "Train Epoch: [25/500] Loss: 2.0400: 100%|██████████| 390/390 [00:36<00:00, 10.69it/s]\n"
     ]
    },
    {
     "name": "stdout",
     "output_type": "stream",
     "text": [
      "3.766828681429346e-05\n",
      "tensor(2.0410)\n"
     ]
    },
    {
     "name": "stderr",
     "output_type": "stream",
     "text": [
      "Feature extracting: 100%|██████████| 391/391 [00:05<00:00, 68.31it/s]\n",
      "Test Epoch: [25/500] Acc@1:55.70% Acc@5:95.15%: 100%|██████████| 79/79 [00:02<00:00, 38.14it/s]\n",
      "Train Epoch: [26/500] Loss: 2.0058: 100%|██████████| 390/390 [00:36<00:00, 10.69it/s]\n"
     ]
    },
    {
     "name": "stdout",
     "output_type": "stream",
     "text": [
      "3.879573942868096e-05\n",
      "tensor(2.0076)\n"
     ]
    },
    {
     "name": "stderr",
     "output_type": "stream",
     "text": [
      "Feature extracting: 100%|██████████| 391/391 [00:05<00:00, 68.50it/s]\n",
      "Test Epoch: [26/500] Acc@1:55.61% Acc@5:94.87%: 100%|██████████| 79/79 [00:02<00:00, 37.48it/s]\n",
      "Train Epoch: [27/500] Loss: 1.9853: 100%|██████████| 390/390 [00:36<00:00, 10.67it/s]\n"
     ]
    },
    {
     "name": "stdout",
     "output_type": "stream",
     "text": [
      "3.9962869627733724e-05\n",
      "tensor(1.9864)\n"
     ]
    },
    {
     "name": "stderr",
     "output_type": "stream",
     "text": [
      "Feature extracting: 100%|██████████| 391/391 [00:05<00:00, 68.09it/s]\n",
      "Test Epoch: [27/500] Acc@1:56.92% Acc@5:95.18%: 100%|██████████| 79/79 [00:02<00:00, 37.75it/s]\n",
      "Train Epoch: [28/500] Loss: 1.9637: 100%|██████████| 390/390 [00:36<00:00, 10.69it/s]\n"
     ]
    },
    {
     "name": "stdout",
     "output_type": "stream",
     "text": [
      "4.116916545207039e-05\n",
      "tensor(1.9649)\n"
     ]
    },
    {
     "name": "stderr",
     "output_type": "stream",
     "text": [
      "Feature extracting: 100%|██████████| 391/391 [00:05<00:00, 68.40it/s]\n",
      "Test Epoch: [28/500] Acc@1:56.80% Acc@5:95.05%: 100%|██████████| 79/79 [00:02<00:00, 37.65it/s]\n",
      "Train Epoch: [29/500] Loss: 1.9163: 100%|██████████| 390/390 [00:36<00:00, 10.69it/s]\n"
     ]
    },
    {
     "name": "stdout",
     "output_type": "stream",
     "text": [
      "4.241409776238448e-05\n",
      "tensor(1.9187)\n"
     ]
    },
    {
     "name": "stderr",
     "output_type": "stream",
     "text": [
      "Feature extracting: 100%|██████████| 391/391 [00:05<00:00, 69.09it/s]\n",
      "Test Epoch: [29/500] Acc@1:56.39% Acc@5:95.17%: 100%|██████████| 79/79 [00:02<00:00, 37.99it/s]\n",
      "Train Epoch: [30/500] Loss: 1.9069: 100%|██████████| 390/390 [00:36<00:00, 10.67it/s]\n"
     ]
    },
    {
     "name": "stdout",
     "output_type": "stream",
     "text": [
      "4.3697120471550553e-05\n",
      "tensor(1.9075)\n"
     ]
    },
    {
     "name": "stderr",
     "output_type": "stream",
     "text": [
      "Feature extracting: 100%|██████████| 391/391 [00:05<00:00, 68.43it/s]\n",
      "Test Epoch: [30/500] Acc@1:57.49% Acc@5:95.31%: 100%|██████████| 79/79 [00:02<00:00, 37.47it/s]\n",
      "Train Epoch: [31/500] Loss: 1.8883: 100%|██████████| 390/390 [00:36<00:00, 10.70it/s]\n"
     ]
    },
    {
     "name": "stdout",
     "output_type": "stream",
     "text": [
      "4.501767078416403e-05\n",
      "tensor(1.8892)\n"
     ]
    },
    {
     "name": "stderr",
     "output_type": "stream",
     "text": [
      "Feature extracting: 100%|██████████| 391/391 [00:05<00:00, 68.67it/s]\n",
      "Test Epoch: [31/500] Acc@1:57.51% Acc@5:95.62%: 100%|██████████| 79/79 [00:02<00:00, 37.89it/s]\n",
      "Train Epoch: [32/500] Loss: 1.8606: 100%|██████████| 390/390 [00:36<00:00, 10.73it/s]\n"
     ]
    },
    {
     "name": "stdout",
     "output_type": "stream",
     "text": [
      "4.637516944341045e-05\n",
      "tensor(1.8621)\n"
     ]
    },
    {
     "name": "stderr",
     "output_type": "stream",
     "text": [
      "Feature extracting: 100%|██████████| 391/391 [00:05<00:00, 68.05it/s]\n",
      "Test Epoch: [32/500] Acc@1:57.44% Acc@5:95.72%: 100%|██████████| 79/79 [00:02<00:00, 38.34it/s]\n",
      "Train Epoch: [33/500] Loss: 1.8341: 100%|██████████| 390/390 [00:36<00:00, 10.70it/s]\n"
     ]
    },
    {
     "name": "stdout",
     "output_type": "stream",
     "text": [
      "4.776902098515523e-05\n",
      "tensor(1.8355)\n"
     ]
    },
    {
     "name": "stderr",
     "output_type": "stream",
     "text": [
      "Feature extracting: 100%|██████████| 391/391 [00:05<00:00, 68.99it/s]\n",
      "Test Epoch: [33/500] Acc@1:57.67% Acc@5:95.49%: 100%|██████████| 79/79 [00:02<00:00, 38.23it/s]\n",
      "Train Epoch: [34/500] Loss: 1.8373: 100%|██████████| 390/390 [00:36<00:00, 10.70it/s]\n"
     ]
    },
    {
     "name": "stdout",
     "output_type": "stream",
     "text": [
      "4.919861399914306e-05\n",
      "tensor(1.8372)\n"
     ]
    },
    {
     "name": "stderr",
     "output_type": "stream",
     "text": [
      "Feature extracting: 100%|██████████| 391/391 [00:05<00:00, 68.97it/s]\n",
      "Test Epoch: [34/500] Acc@1:57.63% Acc@5:95.59%: 100%|██████████| 79/79 [00:02<00:00, 38.15it/s]\n",
      "Train Epoch: [35/500] Loss: 1.8258: 100%|██████████| 390/390 [00:36<00:00, 10.71it/s]\n"
     ]
    },
    {
     "name": "stdout",
     "output_type": "stream",
     "text": [
      "5.0663321397191575e-05\n",
      "tensor(1.8264)\n"
     ]
    },
    {
     "name": "stderr",
     "output_type": "stream",
     "text": [
      "Feature extracting: 100%|██████████| 391/391 [00:05<00:00, 68.63it/s]\n",
      "Test Epoch: [35/500] Acc@1:58.13% Acc@5:95.60%: 100%|██████████| 79/79 [00:02<00:00, 38.40it/s]\n",
      "Train Epoch: [36/500] Loss: 1.8091: 100%|██████████| 390/390 [00:36<00:00, 10.71it/s]\n"
     ]
    },
    {
     "name": "stdout",
     "output_type": "stream",
     "text": [
      "5.2162500688262355e-05\n",
      "tensor(1.8100)\n"
     ]
    },
    {
     "name": "stderr",
     "output_type": "stream",
     "text": [
      "Feature extracting: 100%|██████████| 391/391 [00:05<00:00, 68.47it/s]\n",
      "Test Epoch: [36/500] Acc@1:58.59% Acc@5:95.61%: 100%|██████████| 79/79 [00:02<00:00, 36.98it/s]\n",
      "Train Epoch: [37/500] Loss: 1.7880: 100%|██████████| 390/390 [00:36<00:00, 10.69it/s]\n"
     ]
    },
    {
     "name": "stdout",
     "output_type": "stream",
     "text": [
      "5.36954942602886e-05\n",
      "tensor(1.7891)\n"
     ]
    },
    {
     "name": "stderr",
     "output_type": "stream",
     "text": [
      "Feature extracting: 100%|██████████| 391/391 [00:05<00:00, 68.97it/s]\n",
      "Test Epoch: [37/500] Acc@1:58.92% Acc@5:95.80%: 100%|██████████| 79/79 [00:02<00:00, 35.91it/s]\n",
      "Train Epoch: [38/500] Loss: 1.7740: 100%|██████████| 390/390 [00:36<00:00, 10.69it/s]\n"
     ]
    },
    {
     "name": "stdout",
     "output_type": "stream",
     "text": [
      "5.526162966863518e-05\n",
      "tensor(1.7748)\n"
     ]
    },
    {
     "name": "stderr",
     "output_type": "stream",
     "text": [
      "Feature extracting: 100%|██████████| 391/391 [00:05<00:00, 68.32it/s]\n",
      "Test Epoch: [38/500] Acc@1:58.55% Acc@5:95.67%: 100%|██████████| 79/79 [00:02<00:00, 38.21it/s]\n",
      "Train Epoch: [39/500] Loss: 1.7619: 100%|██████████| 390/390 [00:36<00:00, 10.70it/s]\n"
     ]
    },
    {
     "name": "stdout",
     "output_type": "stream",
     "text": [
      "5.6860219931065216e-05\n",
      "tensor(1.7625)\n"
     ]
    },
    {
     "name": "stderr",
     "output_type": "stream",
     "text": [
      "Feature extracting: 100%|██████████| 391/391 [00:05<00:00, 68.56it/s]\n",
      "Test Epoch: [39/500] Acc@1:59.32% Acc@5:95.61%: 100%|██████████| 79/79 [00:02<00:00, 38.69it/s]\n",
      "Train Epoch: [40/500] Loss: 1.7421: 100%|██████████| 390/390 [00:36<00:00, 10.70it/s]\n"
     ]
    },
    {
     "name": "stdout",
     "output_type": "stream",
     "text": [
      "5.849056382908351e-05\n",
      "tensor(1.7432)\n"
     ]
    },
    {
     "name": "stderr",
     "output_type": "stream",
     "text": [
      "Feature extracting: 100%|██████████| 391/391 [00:05<00:00, 68.34it/s]\n",
      "Test Epoch: [40/500] Acc@1:59.05% Acc@5:95.61%: 100%|██████████| 79/79 [00:02<00:00, 38.46it/s]\n",
      "Train Epoch: [41/500] Loss: 1.7343: 100%|██████████| 390/390 [00:36<00:00, 10.71it/s]\n"
     ]
    },
    {
     "name": "stdout",
     "output_type": "stream",
     "text": [
      "6.015194621552462e-05\n",
      "tensor(1.7348)\n"
     ]
    },
    {
     "name": "stderr",
     "output_type": "stream",
     "text": [
      "Feature extracting: 100%|██████████| 391/391 [00:05<00:00, 68.47it/s]\n",
      "Test Epoch: [41/500] Acc@1:59.61% Acc@5:95.80%: 100%|██████████| 79/79 [00:02<00:00, 38.06it/s]\n",
      "Train Epoch: [42/500] Loss: 1.7039: 100%|██████████| 390/390 [00:36<00:00, 10.69it/s]\n"
     ]
    },
    {
     "name": "stdout",
     "output_type": "stream",
     "text": [
      "6.184363832825089e-05\n",
      "tensor(1.7054)\n"
     ]
    },
    {
     "name": "stderr",
     "output_type": "stream",
     "text": [
      "Feature extracting: 100%|██████████| 391/391 [00:05<00:00, 68.82it/s]\n",
      "Test Epoch: [42/500] Acc@1:60.07% Acc@5:95.90%: 100%|██████████| 79/79 [00:02<00:00, 37.98it/s]\n",
      "Train Epoch: [43/500] Loss: 1.6866: 100%|██████████| 390/390 [00:36<00:00, 10.70it/s]\n"
     ]
    },
    {
     "name": "stdout",
     "output_type": "stream",
     "text": [
      "6.356489810982233e-05\n",
      "tensor(1.6876)\n"
     ]
    },
    {
     "name": "stderr",
     "output_type": "stream",
     "text": [
      "Feature extracting: 100%|██████████| 391/391 [00:05<00:00, 68.76it/s]\n",
      "Test Epoch: [43/500] Acc@1:59.69% Acc@5:95.74%: 100%|██████████| 79/79 [00:02<00:00, 38.19it/s]\n",
      "Train Epoch: [44/500] Loss: 1.6779: 100%|██████████| 390/390 [00:36<00:00, 10.68it/s]\n"
     ]
    },
    {
     "name": "stdout",
     "output_type": "stream",
     "text": [
      "6.53149705329989e-05\n",
      "tensor(1.6784)\n"
     ]
    },
    {
     "name": "stderr",
     "output_type": "stream",
     "text": [
      "Feature extracting: 100%|██████████| 391/391 [00:05<00:00, 68.46it/s]\n",
      "Test Epoch: [44/500] Acc@1:60.29% Acc@5:95.98%: 100%|██████████| 79/79 [00:02<00:00, 37.18it/s]\n",
      "Train Epoch: [45/500] Loss: 1.6661: 100%|██████████| 390/390 [00:36<00:00, 10.70it/s]\n"
     ]
    },
    {
     "name": "stdout",
     "output_type": "stream",
     "text": [
      "6.709308793193149e-05\n",
      "tensor(1.6667)\n"
     ]
    },
    {
     "name": "stderr",
     "output_type": "stream",
     "text": [
      "Feature extracting: 100%|██████████| 391/391 [00:05<00:00, 67.82it/s]\n",
      "Test Epoch: [45/500] Acc@1:60.27% Acc@5:96.01%: 100%|██████████| 79/79 [00:02<00:00, 37.61it/s]\n",
      "Train Epoch: [46/500] Loss: 1.6395: 100%|██████████| 390/390 [00:36<00:00, 10.67it/s]\n"
     ]
    },
    {
     "name": "stdout",
     "output_type": "stream",
     "text": [
      "6.88984703388973e-05\n",
      "tensor(1.6408)\n"
     ]
    },
    {
     "name": "stderr",
     "output_type": "stream",
     "text": [
      "Feature extracting: 100%|██████████| 391/391 [00:05<00:00, 68.24it/s]\n",
      "Test Epoch: [46/500] Acc@1:60.08% Acc@5:95.86%: 100%|██████████| 79/79 [00:02<00:00, 38.36it/s]\n",
      "Train Epoch: [47/500] Loss: 1.6421: 100%|██████████| 390/390 [00:36<00:00, 10.67it/s]\n"
     ]
    },
    {
     "name": "stdout",
     "output_type": "stream",
     "text": [
      "7.073032582643094e-05\n",
      "tensor(1.6421)\n"
     ]
    },
    {
     "name": "stderr",
     "output_type": "stream",
     "text": [
      "Feature extracting: 100%|██████████| 391/391 [00:05<00:00, 68.12it/s]\n",
      "Test Epoch: [47/500] Acc@1:60.48% Acc@5:96.03%: 100%|██████████| 79/79 [00:02<00:00, 37.75it/s]\n",
      "Train Epoch: [48/500] Loss: 1.6263: 100%|██████████| 390/390 [00:36<00:00, 10.70it/s]\n"
     ]
    },
    {
     "name": "stdout",
     "output_type": "stream",
     "text": [
      "7.258785085470195e-05\n",
      "tensor(1.6271)\n"
     ]
    },
    {
     "name": "stderr",
     "output_type": "stream",
     "text": [
      "Feature extracting: 100%|██████████| 391/391 [00:05<00:00, 69.05it/s]\n",
      "Test Epoch: [48/500] Acc@1:60.84% Acc@5:96.12%: 100%|██████████| 79/79 [00:02<00:00, 37.56it/s]\n",
      "Train Epoch: [49/500] Loss: 1.5979: 100%|██████████| 390/390 [00:36<00:00, 10.67it/s]\n"
     ]
    },
    {
     "name": "stdout",
     "output_type": "stream",
     "text": [
      "7.447023062398606e-05\n",
      "tensor(1.5994)\n"
     ]
    },
    {
     "name": "stderr",
     "output_type": "stream",
     "text": [
      "Feature extracting: 100%|██████████| 391/391 [00:05<00:00, 68.70it/s]\n",
      "Test Epoch: [49/500] Acc@1:61.27% Acc@5:96.24%: 100%|██████████| 79/79 [00:02<00:00, 38.75it/s]\n",
      "Train Epoch: [50/500] Loss: 1.5968: 100%|██████████| 390/390 [00:36<00:00, 10.70it/s]\n"
     ]
    },
    {
     "name": "stdout",
     "output_type": "stream",
     "text": [
      "7.637663943207534e-05\n",
      "tensor(1.5970)\n"
     ]
    },
    {
     "name": "stderr",
     "output_type": "stream",
     "text": [
      "Feature extracting: 100%|██████████| 391/391 [00:05<00:00, 68.16it/s]\n",
      "Test Epoch: [50/500] Acc@1:61.29% Acc@5:96.30%: 100%|██████████| 79/79 [00:02<00:00, 37.61it/s]\n",
      "Train Epoch: [51/500] Loss: 1.5927: 100%|██████████| 390/390 [00:36<00:00, 10.70it/s]\n"
     ]
    },
    {
     "name": "stdout",
     "output_type": "stream",
     "text": [
      "7.8306241036471e-05\n",
      "tensor(1.5929)\n"
     ]
    },
    {
     "name": "stderr",
     "output_type": "stream",
     "text": [
      "Feature extracting: 100%|██████████| 391/391 [00:05<00:00, 68.78it/s]\n",
      "Test Epoch: [51/500] Acc@1:61.68% Acc@5:96.38%: 100%|██████████| 79/79 [00:02<00:00, 37.69it/s]\n",
      "Train Epoch: [52/500] Loss: 1.5701: 100%|██████████| 390/390 [00:36<00:00, 10.68it/s]\n"
     ]
    },
    {
     "name": "stdout",
     "output_type": "stream",
     "text": [
      "8.025818902119937e-05\n",
      "tensor(1.5713)\n"
     ]
    },
    {
     "name": "stderr",
     "output_type": "stream",
     "text": [
      "Feature extracting: 100%|██████████| 391/391 [00:05<00:00, 68.33it/s]\n",
      "Test Epoch: [52/500] Acc@1:61.71% Acc@5:96.39%: 100%|██████████| 79/79 [00:02<00:00, 37.94it/s]\n",
      "Train Epoch: [53/500] Loss: 1.5572: 100%|██████████| 390/390 [00:36<00:00, 10.72it/s]\n"
     ]
    },
    {
     "name": "stdout",
     "output_type": "stream",
     "text": [
      "8.223162716809078e-05\n",
      "tensor(1.5579)\n"
     ]
    },
    {
     "name": "stderr",
     "output_type": "stream",
     "text": [
      "Feature extracting: 100%|██████████| 391/391 [00:05<00:00, 68.64it/s]\n",
      "Test Epoch: [53/500] Acc@1:61.44% Acc@5:96.40%: 100%|██████████| 79/79 [00:02<00:00, 38.51it/s]\n",
      "Train Epoch: [54/500] Loss: 1.5466: 100%|██████████| 390/390 [00:36<00:00, 10.66it/s]\n"
     ]
    },
    {
     "name": "stdout",
     "output_type": "stream",
     "text": [
      "8.422568983235796e-05\n",
      "tensor(1.5472)\n"
     ]
    },
    {
     "name": "stderr",
     "output_type": "stream",
     "text": [
      "Feature extracting: 100%|██████████| 391/391 [00:05<00:00, 69.11it/s]\n",
      "Test Epoch: [54/500] Acc@1:61.93% Acc@5:96.54%: 100%|██████████| 79/79 [00:02<00:00, 36.26it/s]\n",
      "Train Epoch: [55/500] Loss: 1.5334: 100%|██████████| 390/390 [00:36<00:00, 10.72it/s]\n"
     ]
    },
    {
     "name": "stdout",
     "output_type": "stream",
     "text": [
      "8.623950232230926e-05\n",
      "tensor(1.5341)\n"
     ]
    },
    {
     "name": "stderr",
     "output_type": "stream",
     "text": [
      "Feature extracting: 100%|██████████| 391/391 [00:05<00:00, 68.39it/s]\n",
      "Test Epoch: [55/500] Acc@1:62.74% Acc@5:96.63%: 100%|██████████| 79/79 [00:02<00:00, 38.40it/s]\n",
      "Train Epoch: [56/500] Loss: 1.5264: 100%|██████████| 390/390 [00:36<00:00, 10.71it/s]\n"
     ]
    },
    {
     "name": "stdout",
     "output_type": "stream",
     "text": [
      "8.827218128303071e-05\n",
      "tensor(1.5268)\n"
     ]
    },
    {
     "name": "stderr",
     "output_type": "stream",
     "text": [
      "Feature extracting: 100%|██████████| 391/391 [00:05<00:00, 68.86it/s]\n",
      "Test Epoch: [56/500] Acc@1:62.51% Acc@5:96.34%: 100%|██████████| 79/79 [00:02<00:00, 38.13it/s]\n",
      "Train Epoch: [57/500] Loss: 1.5173: 100%|██████████| 390/390 [00:36<00:00, 10.70it/s]\n"
     ]
    },
    {
     "name": "stdout",
     "output_type": "stream",
     "text": [
      "9.032283508386775e-05\n",
      "tensor(1.5178)\n"
     ]
    },
    {
     "name": "stderr",
     "output_type": "stream",
     "text": [
      "Feature extracting: 100%|██████████| 391/391 [00:05<00:00, 67.44it/s]\n",
      "Test Epoch: [57/500] Acc@1:62.14% Acc@5:96.45%: 100%|██████████| 79/79 [00:02<00:00, 38.28it/s]\n",
      "Train Epoch: [58/500] Loss: 1.5047: 100%|██████████| 390/390 [00:36<00:00, 10.68it/s]\n"
     ]
    },
    {
     "name": "stdout",
     "output_type": "stream",
     "text": [
      "9.239056420953725e-05\n",
      "tensor(1.5053)\n"
     ]
    },
    {
     "name": "stderr",
     "output_type": "stream",
     "text": [
      "Feature extracting: 100%|██████████| 391/391 [00:05<00:00, 68.65it/s]\n",
      "Test Epoch: [58/500] Acc@1:62.84% Acc@5:96.61%: 100%|██████████| 79/79 [00:02<00:00, 38.10it/s]\n",
      "Train Epoch: [59/500] Loss: 1.5109: 100%|██████████| 390/390 [00:36<00:00, 10.69it/s]\n"
     ]
    },
    {
     "name": "stdout",
     "output_type": "stream",
     "text": [
      "9.447446165469835e-05\n",
      "tensor(1.5106)\n"
     ]
    },
    {
     "name": "stderr",
     "output_type": "stream",
     "text": [
      "Feature extracting: 100%|██████████| 391/391 [00:05<00:00, 68.56it/s]\n",
      "Test Epoch: [59/500] Acc@1:62.44% Acc@5:96.68%: 100%|██████████| 79/79 [00:02<00:00, 38.04it/s]\n",
      "Train Epoch: [60/500] Loss: 1.5019: 100%|██████████| 390/390 [00:36<00:00, 10.69it/s]\n"
     ]
    },
    {
     "name": "stdout",
     "output_type": "stream",
     "text": [
      "9.657361332180832e-05\n",
      "tensor(1.5024)\n"
     ]
    },
    {
     "name": "stderr",
     "output_type": "stream",
     "text": [
      "Feature extracting: 100%|██████████| 391/391 [00:05<00:00, 68.77it/s]\n",
      "Test Epoch: [60/500] Acc@1:63.63% Acc@5:96.67%: 100%|██████████| 79/79 [00:02<00:00, 38.03it/s]\n",
      "Train Epoch: [61/500] Loss: 1.4686: 100%|██████████| 390/390 [00:36<00:00, 10.69it/s]\n"
     ]
    },
    {
     "name": "stdout",
     "output_type": "stream",
     "text": [
      "9.868709842208984e-05\n",
      "tensor(1.4703)\n"
     ]
    },
    {
     "name": "stderr",
     "output_type": "stream",
     "text": [
      "Feature extracting: 100%|██████████| 391/391 [00:05<00:00, 68.52it/s]\n",
      "Test Epoch: [61/500] Acc@1:63.65% Acc@5:96.97%: 100%|██████████| 79/79 [00:02<00:00, 37.65it/s]\n",
      "Train Epoch: [62/500] Loss: 1.4752: 100%|██████████| 390/390 [00:36<00:00, 10.66it/s]\n"
     ]
    },
    {
     "name": "stdout",
     "output_type": "stream",
     "text": [
      "0.00010081398987943309\n",
      "tensor(1.4750)\n"
     ]
    },
    {
     "name": "stderr",
     "output_type": "stream",
     "text": [
      "Feature extracting: 100%|██████████| 391/391 [00:05<00:00, 68.16it/s]\n",
      "Test Epoch: [62/500] Acc@1:63.36% Acc@5:96.93%: 100%|██████████| 79/79 [00:02<00:00, 38.04it/s]\n",
      "Train Epoch: [63/500] Loss: 1.4567: 100%|██████████| 390/390 [00:36<00:00, 10.68it/s]\n"
     ]
    },
    {
     "name": "stdout",
     "output_type": "stream",
     "text": [
      "0.00010295335473705592\n",
      "tensor(1.4577)\n"
     ]
    },
    {
     "name": "stderr",
     "output_type": "stream",
     "text": [
      "Feature extracting: 100%|██████████| 391/391 [00:05<00:00, 67.84it/s]\n",
      "Test Epoch: [63/500] Acc@1:63.95% Acc@5:96.94%: 100%|██████████| 79/79 [00:02<00:00, 38.59it/s]\n",
      "Train Epoch: [64/500] Loss: 1.4573: 100%|██████████| 390/390 [00:36<00:00, 10.71it/s]\n"
     ]
    },
    {
     "name": "stdout",
     "output_type": "stream",
     "text": [
      "0.0001051042545667436\n",
      "tensor(1.4574)\n"
     ]
    },
    {
     "name": "stderr",
     "output_type": "stream",
     "text": [
      "Feature extracting: 100%|██████████| 391/391 [00:05<00:00, 68.46it/s]\n",
      "Test Epoch: [64/500] Acc@1:63.65% Acc@5:96.94%: 100%|██████████| 79/79 [00:02<00:00, 38.24it/s]\n",
      "Train Epoch: [65/500] Loss: 1.4256: 100%|██████████| 390/390 [00:36<00:00, 10.71it/s]\n"
     ]
    },
    {
     "name": "stdout",
     "output_type": "stream",
     "text": [
      "0.00010726574588048828\n",
      "tensor(1.4271)\n"
     ]
    },
    {
     "name": "stderr",
     "output_type": "stream",
     "text": [
      "Feature extracting: 100%|██████████| 391/391 [00:05<00:00, 68.30it/s]\n",
      "Test Epoch: [65/500] Acc@1:64.02% Acc@5:97.03%: 100%|██████████| 79/79 [00:02<00:00, 38.28it/s]\n",
      "Train Epoch: [66/500] Loss: 1.4402: 100%|██████████| 390/390 [00:36<00:00, 10.69it/s]\n"
     ]
    },
    {
     "name": "stdout",
     "output_type": "stream",
     "text": [
      "0.00010943688054434854\n",
      "tensor(1.4395)\n"
     ]
    },
    {
     "name": "stderr",
     "output_type": "stream",
     "text": [
      "Feature extracting: 100%|██████████| 391/391 [00:05<00:00, 68.94it/s]\n",
      "Test Epoch: [66/500] Acc@1:63.29% Acc@5:96.95%: 100%|██████████| 79/79 [00:02<00:00, 36.98it/s]\n",
      "Train Epoch: [67/500] Loss: 1.4335: 100%|██████████| 390/390 [00:36<00:00, 10.70it/s]\n"
     ]
    },
    {
     "name": "stdout",
     "output_type": "stream",
     "text": [
      "0.00011161670619434607\n",
      "tensor(1.4338)\n"
     ]
    },
    {
     "name": "stderr",
     "output_type": "stream",
     "text": [
      "Feature extracting: 100%|██████████| 391/391 [00:05<00:00, 68.25it/s]\n",
      "Test Epoch: [67/500] Acc@1:63.91% Acc@5:96.88%: 100%|██████████| 79/79 [00:02<00:00, 38.15it/s]\n",
      "Train Epoch: [68/500] Loss: 1.4251: 100%|██████████| 390/390 [00:36<00:00, 10.69it/s]\n"
     ]
    },
    {
     "name": "stdout",
     "output_type": "stream",
     "text": [
      "0.00011380426665421861\n",
      "tensor(1.4255)\n"
     ]
    },
    {
     "name": "stderr",
     "output_type": "stream",
     "text": [
      "Feature extracting: 100%|██████████| 391/391 [00:05<00:00, 68.60it/s]\n",
      "Test Epoch: [68/500] Acc@1:64.20% Acc@5:97.01%: 100%|██████████| 79/79 [00:02<00:00, 38.61it/s]\n",
      "Train Epoch: [69/500] Loss: 1.4125: 100%|██████████| 390/390 [00:36<00:00, 10.70it/s]\n"
     ]
    },
    {
     "name": "stdout",
     "output_type": "stream",
     "text": [
      "0.00011599860235484457\n",
      "tensor(1.4131)\n"
     ]
    },
    {
     "name": "stderr",
     "output_type": "stream",
     "text": [
      "Feature extracting: 100%|██████████| 391/391 [00:05<00:00, 68.61it/s]\n",
      "Test Epoch: [69/500] Acc@1:64.14% Acc@5:96.79%: 100%|██████████| 79/79 [00:02<00:00, 37.46it/s]\n",
      "Train Epoch: [70/500] Loss: 1.4068: 100%|██████████| 390/390 [00:36<00:00, 10.70it/s]\n"
     ]
    },
    {
     "name": "stdout",
     "output_type": "stream",
     "text": [
      "0.00011819875075515632\n",
      "tensor(1.4071)\n"
     ]
    },
    {
     "name": "stderr",
     "output_type": "stream",
     "text": [
      "Feature extracting: 100%|██████████| 391/391 [00:05<00:00, 68.67it/s]\n",
      "Test Epoch: [70/500] Acc@1:64.57% Acc@5:97.02%: 100%|██████████| 79/79 [00:02<00:00, 37.47it/s]\n",
      "Train Epoch: [71/500] Loss: 1.4002: 100%|██████████| 390/390 [00:36<00:00, 10.73it/s]\n"
     ]
    },
    {
     "name": "stdout",
     "output_type": "stream",
     "text": [
      "0.00012040374676435679\n",
      "tensor(1.4006)\n"
     ]
    },
    {
     "name": "stderr",
     "output_type": "stream",
     "text": [
      "Feature extracting: 100%|██████████| 391/391 [00:05<00:00, 67.94it/s]\n",
      "Test Epoch: [71/500] Acc@1:64.49% Acc@5:97.16%: 100%|██████████| 79/79 [00:02<00:00, 37.74it/s]\n",
      "Train Epoch: [72/500] Loss: 1.3941: 100%|██████████| 390/390 [00:36<00:00, 10.67it/s]\n"
     ]
    },
    {
     "name": "stdout",
     "output_type": "stream",
     "text": [
      "0.0001226126231652548\n",
      "tensor(1.3944)\n"
     ]
    },
    {
     "name": "stderr",
     "output_type": "stream",
     "text": [
      "Feature extracting: 100%|██████████| 391/391 [00:05<00:00, 68.73it/s]\n",
      "Test Epoch: [72/500] Acc@1:64.62% Acc@5:97.06%: 100%|██████████| 79/79 [00:02<00:00, 38.11it/s]\n",
      "Train Epoch: [73/500] Loss: 1.3940: 100%|██████████| 390/390 [00:36<00:00, 10.69it/s]\n"
     ]
    },
    {
     "name": "stdout",
     "output_type": "stream",
     "text": [
      "0.0001248244110385329\n",
      "tensor(1.3940)\n"
     ]
    },
    {
     "name": "stderr",
     "output_type": "stream",
     "text": [
      "Feature extracting: 100%|██████████| 391/391 [00:05<00:00, 68.50it/s]\n",
      "Test Epoch: [73/500] Acc@1:64.24% Acc@5:97.04%: 100%|██████████| 79/79 [00:02<00:00, 38.71it/s]\n",
      "Train Epoch: [74/500] Loss: 1.3764: 100%|██████████| 390/390 [00:36<00:00, 10.67it/s]\n"
     ]
    },
    {
     "name": "stdout",
     "output_type": "stream",
     "text": [
      "0.00012703814018776206\n",
      "tensor(1.3772)\n"
     ]
    },
    {
     "name": "stderr",
     "output_type": "stream",
     "text": [
      "Feature extracting: 100%|██████████| 391/391 [00:05<00:00, 68.40it/s]\n",
      "Test Epoch: [74/500] Acc@1:64.68% Acc@5:97.04%: 100%|██████████| 79/79 [00:02<00:00, 38.04it/s]\n",
      "Train Epoch: [75/500] Loss: 1.3604: 100%|██████████| 390/390 [00:36<00:00, 10.69it/s]\n"
     ]
    },
    {
     "name": "stdout",
     "output_type": "stream",
     "text": [
      "0.00012925283956497614\n",
      "tensor(1.3613)\n"
     ]
    },
    {
     "name": "stderr",
     "output_type": "stream",
     "text": [
      "Feature extracting: 100%|██████████| 391/391 [00:05<00:00, 68.93it/s]\n",
      "Test Epoch: [75/500] Acc@1:65.22% Acc@5:97.14%: 100%|██████████| 79/79 [00:02<00:00, 38.69it/s]\n",
      "Train Epoch: [76/500] Loss: 1.3527: 100%|██████████| 390/390 [00:36<00:00, 10.70it/s]\n"
     ]
    },
    {
     "name": "stdout",
     "output_type": "stream",
     "text": [
      "0.0001314675376966206\n",
      "tensor(1.3532)\n"
     ]
    },
    {
     "name": "stderr",
     "output_type": "stream",
     "text": [
      "Feature extracting: 100%|██████████| 391/391 [00:05<00:00, 68.93it/s]\n",
      "Test Epoch: [76/500] Acc@1:65.98% Acc@5:97.21%: 100%|██████████| 79/79 [00:02<00:00, 38.65it/s]\n",
      "Train Epoch: [77/500] Loss: 1.3577: 100%|██████████| 390/390 [00:36<00:00, 10.73it/s]\n"
     ]
    },
    {
     "name": "stdout",
     "output_type": "stream",
     "text": [
      "0.00013368126310968716\n",
      "tensor(1.3575)\n"
     ]
    },
    {
     "name": "stderr",
     "output_type": "stream",
     "text": [
      "Feature extracting: 100%|██████████| 391/391 [00:05<00:00, 68.38it/s]\n",
      "Test Epoch: [77/500] Acc@1:65.44% Acc@5:97.10%: 100%|██████████| 79/79 [00:02<00:00, 38.50it/s]\n",
      "Train Epoch: [78/500] Loss: 1.3546: 100%|██████████| 390/390 [00:36<00:00, 10.69it/s]\n"
     ]
    },
    {
     "name": "stdout",
     "output_type": "stream",
     "text": [
      "0.00013589304475784873\n",
      "tensor(1.3547)\n"
     ]
    },
    {
     "name": "stderr",
     "output_type": "stream",
     "text": [
      "Feature extracting: 100%|██████████| 391/391 [00:05<00:00, 68.32it/s]\n",
      "Test Epoch: [78/500] Acc@1:65.19% Acc@5:97.20%: 100%|██████████| 79/79 [00:02<00:00, 37.99it/s]\n",
      "Train Epoch: [79/500] Loss: 1.3269: 100%|██████████| 390/390 [00:36<00:00, 10.67it/s]\n"
     ]
    },
    {
     "name": "stdout",
     "output_type": "stream",
     "text": [
      "0.00013810191244740681\n",
      "tensor(1.3283)\n"
     ]
    },
    {
     "name": "stderr",
     "output_type": "stream",
     "text": [
      "Feature extracting: 100%|██████████| 391/391 [00:05<00:00, 68.86it/s]\n",
      "Test Epoch: [79/500] Acc@1:65.39% Acc@5:97.22%: 100%|██████████| 79/79 [00:02<00:00, 36.42it/s]\n",
      "Train Epoch: [80/500] Loss: 1.3418: 100%|██████████| 390/390 [00:36<00:00, 10.72it/s]\n"
     ]
    },
    {
     "name": "stdout",
     "output_type": "stream",
     "text": [
      "0.00014030689726286517\n",
      "tensor(1.3412)\n"
     ]
    },
    {
     "name": "stderr",
     "output_type": "stream",
     "text": [
      "Feature extracting: 100%|██████████| 391/391 [00:05<00:00, 68.61it/s]\n",
      "Test Epoch: [80/500] Acc@1:64.86% Acc@5:97.14%: 100%|██████████| 79/79 [00:02<00:00, 38.20it/s]\n",
      "Train Epoch: [81/500] Loss: 1.3277: 100%|██████████| 390/390 [00:36<00:00, 10.64it/s]\n"
     ]
    },
    {
     "name": "stdout",
     "output_type": "stream",
     "text": [
      "0.00014250703199194267\n",
      "tensor(1.3283)\n"
     ]
    },
    {
     "name": "stderr",
     "output_type": "stream",
     "text": [
      "Feature extracting: 100%|██████████| 391/391 [00:05<00:00, 68.24it/s]\n",
      "Test Epoch: [81/500] Acc@1:65.72% Acc@5:97.26%: 100%|██████████| 79/79 [00:02<00:00, 38.09it/s]\n",
      "Train Epoch: [82/500] Loss: 1.3358: 100%|██████████| 390/390 [00:36<00:00, 10.71it/s]\n"
     ]
    },
    {
     "name": "stdout",
     "output_type": "stream",
     "text": [
      "0.00014470135154983924\n",
      "tensor(1.3354)\n"
     ]
    },
    {
     "name": "stderr",
     "output_type": "stream",
     "text": [
      "Feature extracting: 100%|██████████| 391/391 [00:05<00:00, 68.26it/s]\n",
      "Test Epoch: [82/500] Acc@1:65.92% Acc@5:97.48%: 100%|██████████| 79/79 [00:02<00:00, 37.91it/s]\n",
      "Train Epoch: [83/500] Loss: 1.3212: 100%|██████████| 390/390 [00:36<00:00, 10.71it/s]\n"
     ]
    },
    {
     "name": "stdout",
     "output_type": "stream",
     "text": [
      "0.00014688889340256812\n",
      "tensor(1.3219)\n"
     ]
    },
    {
     "name": "stderr",
     "output_type": "stream",
     "text": [
      "Feature extracting: 100%|██████████| 391/391 [00:05<00:00, 69.04it/s]\n",
      "Test Epoch: [83/500] Acc@1:65.82% Acc@5:97.24%: 100%|██████████| 79/79 [00:02<00:00, 38.23it/s]\n",
      "Train Epoch: [84/500] Loss: 1.3251: 100%|██████████| 390/390 [00:36<00:00, 10.69it/s]\n"
     ]
    },
    {
     "name": "stdout",
     "output_type": "stream",
     "text": [
      "0.0001490686979891698\n",
      "tensor(1.3249)\n"
     ]
    },
    {
     "name": "stderr",
     "output_type": "stream",
     "text": [
      "Feature extracting: 100%|██████████| 391/391 [00:05<00:00, 69.10it/s]\n",
      "Test Epoch: [84/500] Acc@1:66.20% Acc@5:97.40%: 100%|██████████| 79/79 [00:02<00:00, 37.82it/s]\n",
      "Train Epoch: [85/500] Loss: 1.3079: 100%|██████████| 390/390 [00:36<00:00, 10.71it/s]\n"
     ]
    },
    {
     "name": "stdout",
     "output_type": "stream",
     "text": [
      "0.00015123980914262135\n",
      "tensor(1.3088)\n"
     ]
    },
    {
     "name": "stderr",
     "output_type": "stream",
     "text": [
      "Feature extracting: 100%|██████████| 391/391 [00:05<00:00, 68.48it/s]\n",
      "Test Epoch: [85/500] Acc@1:65.87% Acc@5:97.18%: 100%|██████████| 79/79 [00:02<00:00, 38.03it/s]\n",
      "Train Epoch: [86/500] Loss: 1.3060: 100%|██████████| 390/390 [00:36<00:00, 10.66it/s]\n"
     ]
    },
    {
     "name": "stdout",
     "output_type": "stream",
     "text": [
      "0.0001534012745092573\n",
      "tensor(1.3061)\n"
     ]
    },
    {
     "name": "stderr",
     "output_type": "stream",
     "text": [
      "Feature extracting: 100%|██████████| 391/391 [00:05<00:00, 68.47it/s]\n",
      "Test Epoch: [86/500] Acc@1:65.81% Acc@5:97.40%: 100%|██████████| 79/79 [00:02<00:00, 38.37it/s]\n",
      "Train Epoch: [87/500] Loss: 1.3030: 100%|██████████| 390/390 [00:36<00:00, 10.70it/s]\n"
     ]
    },
    {
     "name": "stdout",
     "output_type": "stream",
     "text": [
      "0.00015555214596651783\n",
      "tensor(1.3031)\n"
     ]
    },
    {
     "name": "stderr",
     "output_type": "stream",
     "text": [
      "Feature extracting: 100%|██████████| 391/391 [00:05<00:00, 68.21it/s]\n",
      "Test Epoch: [87/500] Acc@1:65.83% Acc@5:97.26%: 100%|██████████| 79/79 [00:02<00:00, 38.43it/s]\n",
      "Train Epoch: [88/500] Loss: 1.3052: 100%|██████████| 390/390 [00:36<00:00, 10.71it/s]\n"
     ]
    },
    {
     "name": "stdout",
     "output_type": "stream",
     "text": [
      "0.00015769148003884066\n",
      "tensor(1.3051)\n"
     ]
    },
    {
     "name": "stderr",
     "output_type": "stream",
     "text": [
      "Feature extracting: 100%|██████████| 391/391 [00:05<00:00, 68.87it/s]\n",
      "Test Epoch: [88/500] Acc@1:65.97% Acc@5:97.40%: 100%|██████████| 79/79 [00:02<00:00, 38.48it/s]\n",
      "Train Epoch: [89/500] Loss: 1.2851: 100%|██████████| 390/390 [00:36<00:00, 10.71it/s]\n"
     ]
    },
    {
     "name": "stdout",
     "output_type": "stream",
     "text": [
      "0.00015981833831151497\n",
      "tensor(1.2861)\n"
     ]
    },
    {
     "name": "stderr",
     "output_type": "stream",
     "text": [
      "Feature extracting: 100%|██████████| 391/391 [00:05<00:00, 68.98it/s]\n",
      "Test Epoch: [89/500] Acc@1:65.97% Acc@5:97.51%: 100%|██████████| 79/79 [00:02<00:00, 37.57it/s]\n",
      "Train Epoch: [90/500] Loss: 1.2613: 100%|██████████| 390/390 [00:36<00:00, 10.67it/s]\n"
     ]
    },
    {
     "name": "stdout",
     "output_type": "stream",
     "text": [
      "0.0001619317878423149\n",
      "tensor(1.2625)\n"
     ]
    },
    {
     "name": "stderr",
     "output_type": "stream",
     "text": [
      "Feature extracting: 100%|██████████| 391/391 [00:05<00:00, 68.68it/s]\n",
      "Test Epoch: [90/500] Acc@1:66.65% Acc@5:97.51%: 100%|██████████| 79/79 [00:02<00:00, 38.08it/s]\n",
      "Train Epoch: [91/500] Loss: 1.2687: 100%|██████████| 390/390 [00:36<00:00, 10.68it/s]\n"
     ]
    },
    {
     "name": "stdout",
     "output_type": "stream",
     "text": [
      "0.00016403090157073323\n",
      "tensor(1.2684)\n"
     ]
    },
    {
     "name": "stderr",
     "output_type": "stream",
     "text": [
      "Feature extracting: 100%|██████████| 391/391 [00:05<00:00, 68.75it/s]\n",
      "Test Epoch: [91/500] Acc@1:66.54% Acc@5:97.42%: 100%|██████████| 79/79 [00:02<00:00, 38.31it/s]\n",
      "Train Epoch: [92/500] Loss: 1.2639: 100%|██████████| 390/390 [00:36<00:00, 10.67it/s]\n"
     ]
    },
    {
     "name": "stdout",
     "output_type": "stream",
     "text": [
      "0.00016611475872463436\n",
      "tensor(1.2641)\n"
     ]
    },
    {
     "name": "stderr",
     "output_type": "stream",
     "text": [
      "Feature extracting: 100%|██████████| 391/391 [00:05<00:00, 67.81it/s]\n",
      "Test Epoch: [92/500] Acc@1:66.77% Acc@5:97.46%: 100%|██████████| 79/79 [00:02<00:00, 37.30it/s]\n",
      "Train Epoch: [93/500] Loss: 1.2604: 100%|██████████| 390/390 [00:36<00:00, 10.71it/s]\n"
     ]
    },
    {
     "name": "stdout",
     "output_type": "stream",
     "text": [
      "0.00016818244522414923\n",
      "tensor(1.2605)\n"
     ]
    },
    {
     "name": "stderr",
     "output_type": "stream",
     "text": [
      "Feature extracting: 100%|██████████| 391/391 [00:05<00:00, 68.90it/s]\n",
      "Test Epoch: [93/500] Acc@1:67.02% Acc@5:97.44%: 100%|██████████| 79/79 [00:02<00:00, 37.90it/s]\n",
      "Train Epoch: [94/500] Loss: 1.2751: 100%|██████████| 390/390 [00:36<00:00, 10.70it/s]\n"
     ]
    },
    {
     "name": "stdout",
     "output_type": "stream",
     "text": [
      "0.0001702330540826348\n",
      "tensor(1.2744)\n"
     ]
    },
    {
     "name": "stderr",
     "output_type": "stream",
     "text": [
      "Feature extracting: 100%|██████████| 391/391 [00:05<00:00, 68.36it/s]\n",
      "Test Epoch: [94/500] Acc@1:67.00% Acc@5:97.47%: 100%|██████████| 79/79 [00:02<00:00, 38.22it/s]\n",
      "Train Epoch: [95/500] Loss: 1.2600: 100%|██████████| 390/390 [00:36<00:00, 10.69it/s]\n"
     ]
    },
    {
     "name": "stdout",
     "output_type": "stream",
     "text": [
      "0.00017226568580452182\n",
      "tensor(1.2607)\n"
     ]
    },
    {
     "name": "stderr",
     "output_type": "stream",
     "text": [
      "Feature extracting: 100%|██████████| 391/391 [00:05<00:00, 68.83it/s]\n",
      "Test Epoch: [95/500] Acc@1:67.13% Acc@5:97.38%: 100%|██████████| 79/79 [00:02<00:00, 38.20it/s]\n",
      "Train Epoch: [96/500] Loss: 1.2548: 100%|██████████| 390/390 [00:36<00:00, 10.70it/s]\n"
     ]
    },
    {
     "name": "stdout",
     "output_type": "stream",
     "text": [
      "0.00017427944877987706\n",
      "tensor(1.2551)\n"
     ]
    },
    {
     "name": "stderr",
     "output_type": "stream",
     "text": [
      "Feature extracting: 100%|██████████| 391/391 [00:05<00:00, 67.86it/s]\n",
      "Test Epoch: [96/500] Acc@1:67.06% Acc@5:97.58%: 100%|██████████| 79/79 [00:02<00:00, 38.46it/s]\n",
      "Train Epoch: [97/500] Loss: 1.2417: 100%|██████████| 390/390 [00:36<00:00, 10.70it/s]\n"
     ]
    },
    {
     "name": "stdout",
     "output_type": "stream",
     "text": [
      "0.00017627345967550595\n",
      "tensor(1.2424)\n"
     ]
    },
    {
     "name": "stderr",
     "output_type": "stream",
     "text": [
      "Feature extracting: 100%|██████████| 391/391 [00:05<00:00, 67.88it/s]\n",
      "Test Epoch: [97/500] Acc@1:67.17% Acc@5:97.68%: 100%|██████████| 79/79 [00:02<00:00, 38.31it/s]\n",
      "Train Epoch: [98/500] Loss: 1.2411: 100%|██████████| 390/390 [00:36<00:00, 10.69it/s]\n"
     ]
    },
    {
     "name": "stdout",
     "output_type": "stream",
     "text": [
      "0.00017824684382242506\n",
      "tensor(1.2411)\n"
     ]
    },
    {
     "name": "stderr",
     "output_type": "stream",
     "text": [
      "Feature extracting: 100%|██████████| 391/391 [00:05<00:00, 68.47it/s]\n",
      "Test Epoch: [98/500] Acc@1:67.13% Acc@5:97.43%: 100%|██████████| 79/79 [00:02<00:00, 38.35it/s]\n",
      "Train Epoch: [99/500] Loss: 1.2313: 100%|██████████| 390/390 [00:36<00:00, 10.68it/s]\n"
     ]
    },
    {
     "name": "stdout",
     "output_type": "stream",
     "text": [
      "0.00018019873559953415\n",
      "tensor(1.2318)\n"
     ]
    },
    {
     "name": "stderr",
     "output_type": "stream",
     "text": [
      "Feature extracting: 100%|██████████| 391/391 [00:05<00:00, 68.55it/s]\n",
      "Test Epoch: [99/500] Acc@1:66.49% Acc@5:97.58%: 100%|██████████| 79/79 [00:02<00:00, 38.02it/s]\n",
      "Train Epoch: [100/500] Loss: 1.2397: 100%|██████████| 390/390 [00:36<00:00, 10.67it/s]\n"
     ]
    },
    {
     "name": "stdout",
     "output_type": "stream",
     "text": [
      "0.00018212827881331877\n",
      "tensor(1.2393)\n"
     ]
    },
    {
     "name": "stderr",
     "output_type": "stream",
     "text": [
      "Feature extracting: 100%|██████████| 391/391 [00:05<00:00, 67.87it/s]\n",
      "Test Epoch: [100/500] Acc@1:66.93% Acc@5:97.61%: 100%|██████████| 79/79 [00:02<00:00, 38.14it/s]\n",
      "Train Epoch: [101/500] Loss: 1.2236: 100%|██████████| 390/390 [00:36<00:00, 10.68it/s]\n"
     ]
    },
    {
     "name": "stdout",
     "output_type": "stream",
     "text": [
      "0.00018403462707341833\n",
      "tensor(1.2244)\n"
     ]
    },
    {
     "name": "stderr",
     "output_type": "stream",
     "text": [
      "Feature extracting: 100%|██████████| 391/391 [00:05<00:00, 68.41it/s]\n",
      "Test Epoch: [101/500] Acc@1:66.99% Acc@5:97.42%: 100%|██████████| 79/79 [00:02<00:00, 37.34it/s]\n",
      "Train Epoch: [102/500] Loss: 1.2264: 100%|██████████| 390/390 [00:36<00:00, 10.70it/s]\n"
     ]
    },
    {
     "name": "stdout",
     "output_type": "stream",
     "text": [
      "0.00018591694416389328\n",
      "tensor(1.2263)\n"
     ]
    },
    {
     "name": "stderr",
     "output_type": "stream",
     "text": [
      "Feature extracting: 100%|██████████| 391/391 [00:05<00:00, 68.78it/s]\n",
      "Test Epoch: [102/500] Acc@1:67.09% Acc@5:97.63%: 100%|██████████| 79/79 [00:02<00:00, 38.21it/s]\n",
      "Train Epoch: [103/500] Loss: 1.2199: 100%|██████████| 390/390 [00:36<00:00, 10.69it/s]\n"
     ]
    },
    {
     "name": "stdout",
     "output_type": "stream",
     "text": [
      "0.0001877744044100296\n",
      "tensor(1.2203)\n"
     ]
    },
    {
     "name": "stderr",
     "output_type": "stream",
     "text": [
      "Feature extracting: 100%|██████████| 391/391 [00:05<00:00, 68.45it/s]\n",
      "Test Epoch: [103/500] Acc@1:67.63% Acc@5:97.59%: 100%|██████████| 79/79 [00:02<00:00, 38.48it/s]\n",
      "Train Epoch: [104/500] Loss: 1.2184: 100%|██████████| 390/390 [00:36<00:00, 10.74it/s]\n"
     ]
    },
    {
     "name": "stdout",
     "output_type": "stream",
     "text": [
      "0.0001896061930405195\n",
      "tensor(1.2185)\n"
     ]
    },
    {
     "name": "stderr",
     "output_type": "stream",
     "text": [
      "Feature extracting: 100%|██████████| 391/391 [00:05<00:00, 69.01it/s]\n",
      "Test Epoch: [104/500] Acc@1:68.47% Acc@5:97.61%: 100%|██████████| 79/79 [00:02<00:00, 38.03it/s]\n",
      "Train Epoch: [105/500] Loss: 1.2130: 100%|██████████| 390/390 [00:36<00:00, 10.72it/s]\n"
     ]
    },
    {
     "name": "stdout",
     "output_type": "stream",
     "text": [
      "0.0001914115065448593\n",
      "tensor(1.2133)\n"
     ]
    },
    {
     "name": "stderr",
     "output_type": "stream",
     "text": [
      "Feature extracting: 100%|██████████| 391/391 [00:05<00:00, 68.88it/s]\n",
      "Test Epoch: [105/500] Acc@1:67.62% Acc@5:97.76%: 100%|██████████| 79/79 [00:02<00:00, 38.45it/s]\n",
      "Train Epoch: [106/500] Loss: 1.2056: 100%|██████████| 390/390 [00:36<00:00, 10.68it/s]\n"
     ]
    },
    {
     "name": "stdout",
     "output_type": "stream",
     "text": [
      "0.00019318955302580768\n",
      "tensor(1.2060)\n"
     ]
    },
    {
     "name": "stderr",
     "output_type": "stream",
     "text": [
      "Feature extracting: 100%|██████████| 391/391 [00:05<00:00, 68.54it/s]\n",
      "Test Epoch: [106/500] Acc@1:67.69% Acc@5:97.74%: 100%|██████████| 79/79 [00:02<00:00, 38.49it/s]\n",
      "Train Epoch: [107/500] Loss: 1.1938: 100%|██████████| 390/390 [00:36<00:00, 10.68it/s]\n"
     ]
    },
    {
     "name": "stdout",
     "output_type": "stream",
     "text": [
      "0.00019493955254674974\n",
      "tensor(1.1944)\n"
     ]
    },
    {
     "name": "stderr",
     "output_type": "stream",
     "text": [
      "Feature extracting: 100%|██████████| 391/391 [00:05<00:00, 68.68it/s]\n",
      "Test Epoch: [107/500] Acc@1:68.21% Acc@5:97.82%: 100%|██████████| 79/79 [00:02<00:00, 37.15it/s]\n",
      "Train Epoch: [108/500] Loss: 1.1882: 100%|██████████| 390/390 [00:36<00:00, 10.69it/s]\n"
     ]
    },
    {
     "name": "stdout",
     "output_type": "stream",
     "text": [
      "0.00019666073747381493\n",
      "tensor(1.1885)\n"
     ]
    },
    {
     "name": "stderr",
     "output_type": "stream",
     "text": [
      "Feature extracting: 100%|██████████| 391/391 [00:05<00:00, 68.50it/s]\n",
      "Test Epoch: [108/500] Acc@1:67.56% Acc@5:97.66%: 100%|██████████| 79/79 [00:02<00:00, 38.18it/s]\n",
      "Train Epoch: [109/500] Loss: 1.1843: 100%|██████████| 390/390 [00:36<00:00, 10.70it/s]\n"
     ]
    },
    {
     "name": "stdout",
     "output_type": "stream",
     "text": [
      "0.00019835235281259788\n",
      "tensor(1.1845)\n"
     ]
    },
    {
     "name": "stderr",
     "output_type": "stream",
     "text": [
      "Feature extracting: 100%|██████████| 391/391 [00:05<00:00, 68.51it/s]\n",
      "Test Epoch: [109/500] Acc@1:67.49% Acc@5:97.69%: 100%|██████████| 79/79 [00:02<00:00, 38.41it/s]\n",
      "Train Epoch: [110/500] Loss: 1.1826: 100%|██████████| 390/390 [00:36<00:00, 10.70it/s]\n"
     ]
    },
    {
     "name": "stdout",
     "output_type": "stream",
     "text": [
      "0.0002000136565393354\n",
      "tensor(1.1827)\n"
     ]
    },
    {
     "name": "stderr",
     "output_type": "stream",
     "text": [
      "Feature extracting: 100%|██████████| 391/391 [00:05<00:00, 67.77it/s]\n",
      "Test Epoch: [110/500] Acc@1:67.32% Acc@5:97.73%: 100%|██████████| 79/79 [00:02<00:00, 38.48it/s]\n",
      "Train Epoch: [111/500] Loss: 1.1743: 100%|██████████| 390/390 [00:36<00:00, 10.67it/s]\n"
     ]
    },
    {
     "name": "stdout",
     "output_type": "stream",
     "text": [
      "0.00020164391992639374\n",
      "tensor(1.1747)\n"
     ]
    },
    {
     "name": "stderr",
     "output_type": "stream",
     "text": [
      "Feature extracting: 100%|██████████| 391/391 [00:05<00:00, 68.16it/s]\n",
      "Test Epoch: [111/500] Acc@1:68.12% Acc@5:97.85%: 100%|██████████| 79/79 [00:02<00:00, 38.55it/s]\n",
      "Train Epoch: [112/500] Loss: 1.1694: 100%|██████████| 390/390 [00:36<00:00, 10.71it/s]\n"
     ]
    },
    {
     "name": "stdout",
     "output_type": "stream",
     "text": [
      "0.00020324242786192343\n",
      "tensor(1.1697)\n"
     ]
    },
    {
     "name": "stderr",
     "output_type": "stream",
     "text": [
      "Feature extracting: 100%|██████████| 391/391 [00:05<00:00, 68.81it/s]\n",
      "Test Epoch: [112/500] Acc@1:67.80% Acc@5:97.69%: 100%|██████████| 79/79 [00:02<00:00, 38.80it/s]\n",
      "Train Epoch: [113/500] Loss: 1.1691: 100%|██████████| 390/390 [00:36<00:00, 10.69it/s]\n"
     ]
    },
    {
     "name": "stdout",
     "output_type": "stream",
     "text": [
      "0.0002048084791635418\n",
      "tensor(1.1691)\n"
     ]
    },
    {
     "name": "stderr",
     "output_type": "stream",
     "text": [
      "Feature extracting: 100%|██████████| 391/391 [00:05<00:00, 68.67it/s]\n",
      "Test Epoch: [113/500] Acc@1:68.18% Acc@5:97.80%: 100%|██████████| 79/79 [00:02<00:00, 38.08it/s]\n",
      "Train Epoch: [114/500] Loss: 1.1710: 100%|██████████| 390/390 [00:36<00:00, 10.70it/s]\n"
     ]
    },
    {
     "name": "stdout",
     "output_type": "stream",
     "text": [
      "0.00020634138688590528\n",
      "tensor(1.1709)\n"
     ]
    },
    {
     "name": "stderr",
     "output_type": "stream",
     "text": [
      "Feature extracting: 100%|██████████| 391/391 [00:05<00:00, 68.53it/s]\n",
      "Test Epoch: [114/500] Acc@1:68.06% Acc@5:97.79%: 100%|██████████| 79/79 [00:02<00:00, 37.75it/s]\n",
      "Train Epoch: [115/500] Loss: 1.1653: 100%|██████████| 390/390 [00:36<00:00, 10.67it/s]\n"
     ]
    },
    {
     "name": "stdout",
     "output_type": "stream",
     "text": [
      "0.00020784047862203644\n",
      "tensor(1.1656)\n"
     ]
    },
    {
     "name": "stderr",
     "output_type": "stream",
     "text": [
      "Feature extracting: 100%|██████████| 391/391 [00:05<00:00, 68.32it/s]\n",
      "Test Epoch: [115/500] Acc@1:68.23% Acc@5:97.49%: 100%|██████████| 79/79 [00:02<00:00, 38.00it/s]\n",
      "Train Epoch: [116/500] Loss: 1.1656: 100%|██████████| 390/390 [00:36<00:00, 10.66it/s]\n"
     ]
    },
    {
     "name": "stdout",
     "output_type": "stream",
     "text": [
      "0.0002093050967982743\n",
      "tensor(1.1656)\n"
     ]
    },
    {
     "name": "stderr",
     "output_type": "stream",
     "text": [
      "Feature extracting: 100%|██████████| 391/391 [00:05<00:00, 68.04it/s]\n",
      "Test Epoch: [116/500] Acc@1:68.87% Acc@5:97.79%: 100%|██████████| 79/79 [00:02<00:00, 37.94it/s]\n",
      "Train Epoch: [117/500] Loss: 1.1444: 100%|██████████| 390/390 [00:36<00:00, 10.70it/s]\n"
     ]
    },
    {
     "name": "stdout",
     "output_type": "stream",
     "text": [
      "0.0002107345989627175\n",
      "tensor(1.1455)\n"
     ]
    },
    {
     "name": "stderr",
     "output_type": "stream",
     "text": [
      "Feature extracting: 100%|██████████| 391/391 [00:05<00:00, 67.97it/s]\n",
      "Test Epoch: [117/500] Acc@1:68.17% Acc@5:97.74%: 100%|██████████| 79/79 [00:02<00:00, 38.05it/s]\n",
      "Train Epoch: [118/500] Loss: 1.1480: 100%|██████████| 390/390 [00:36<00:00, 10.66it/s]\n"
     ]
    },
    {
     "name": "stdout",
     "output_type": "stream",
     "text": [
      "0.00021212835806703459\n",
      "tensor(1.1478)\n"
     ]
    },
    {
     "name": "stderr",
     "output_type": "stream",
     "text": [
      "Feature extracting: 100%|██████████| 391/391 [00:05<00:00, 68.25it/s]\n",
      "Test Epoch: [118/500] Acc@1:68.52% Acc@5:97.92%: 100%|██████████| 79/79 [00:02<00:00, 38.61it/s]\n",
      "Train Epoch: [119/500] Loss: 1.1411: 100%|██████████| 390/390 [00:36<00:00, 10.65it/s]\n"
     ]
    },
    {
     "name": "stdout",
     "output_type": "stream",
     "text": [
      "0.00021348576274151773\n",
      "tensor(1.1414)\n"
     ]
    },
    {
     "name": "stderr",
     "output_type": "stream",
     "text": [
      "Feature extracting: 100%|██████████| 391/391 [00:05<00:00, 68.82it/s]\n",
      "Test Epoch: [119/500] Acc@1:68.68% Acc@5:97.74%: 100%|██████████| 79/79 [00:02<00:00, 38.38it/s]\n",
      "Train Epoch: [120/500] Loss: 1.1245: 100%|██████████| 390/390 [00:36<00:00, 10.68it/s]\n"
     ]
    },
    {
     "name": "stdout",
     "output_type": "stream",
     "text": [
      "0.00021480621756325856\n",
      "tensor(1.1253)\n"
     ]
    },
    {
     "name": "stderr",
     "output_type": "stream",
     "text": [
      "Feature extracting: 100%|██████████| 391/391 [00:05<00:00, 68.24it/s]\n",
      "Test Epoch: [120/500] Acc@1:68.54% Acc@5:97.83%: 100%|██████████| 79/79 [00:02<00:00, 37.94it/s]\n",
      "Train Epoch: [121/500] Loss: 1.1366: 100%|██████████| 390/390 [00:36<00:00, 10.69it/s]\n"
     ]
    },
    {
     "name": "stdout",
     "output_type": "stream",
     "text": [
      "0.00021608914331732956\n",
      "tensor(1.1361)\n"
     ]
    },
    {
     "name": "stderr",
     "output_type": "stream",
     "text": [
      "Feature extracting: 100%|██████████| 391/391 [00:05<00:00, 68.56it/s]\n",
      "Test Epoch: [121/500] Acc@1:68.76% Acc@5:97.87%: 100%|██████████| 79/79 [00:02<00:00, 37.97it/s]\n",
      "Train Epoch: [122/500] Loss: 1.1255: 100%|██████████| 390/390 [00:36<00:00, 10.72it/s]\n"
     ]
    },
    {
     "name": "stdout",
     "output_type": "stream",
     "text": [
      "0.00021733397725085533\n",
      "tensor(1.1261)\n"
     ]
    },
    {
     "name": "stderr",
     "output_type": "stream",
     "text": [
      "Feature extracting: 100%|██████████| 391/391 [00:05<00:00, 68.28it/s]\n",
      "Test Epoch: [122/500] Acc@1:69.29% Acc@5:97.89%: 100%|██████████| 79/79 [00:02<00:00, 38.09it/s]\n",
      "Train Epoch: [123/500] Loss: 1.1240: 100%|██████████| 390/390 [00:36<00:00, 10.70it/s]\n"
     ]
    },
    {
     "name": "stdout",
     "output_type": "stream",
     "text": [
      "0.00021854017331986316\n",
      "tensor(1.1241)\n"
     ]
    },
    {
     "name": "stderr",
     "output_type": "stream",
     "text": [
      "Feature extracting: 100%|██████████| 391/391 [00:05<00:00, 68.27it/s]\n",
      "Test Epoch: [123/500] Acc@1:68.99% Acc@5:98.06%: 100%|██████████| 79/79 [00:02<00:00, 38.06it/s]\n",
      "Train Epoch: [124/500] Loss: 1.1315: 100%|██████████| 390/390 [00:36<00:00, 10.66it/s]\n"
     ]
    },
    {
     "name": "stdout",
     "output_type": "stream",
     "text": [
      "0.00021970720242880405\n",
      "tensor(1.1311)\n"
     ]
    },
    {
     "name": "stderr",
     "output_type": "stream",
     "text": [
      "Feature extracting: 100%|██████████| 391/391 [00:05<00:00, 68.79it/s]\n",
      "Test Epoch: [124/500] Acc@1:69.21% Acc@5:97.95%: 100%|██████████| 79/79 [00:02<00:00, 38.78it/s]\n",
      "Train Epoch: [125/500] Loss: 1.1153: 100%|██████████| 390/390 [00:36<00:00, 10.70it/s]\n"
     ]
    },
    {
     "name": "stdout",
     "output_type": "stream",
     "text": [
      "0.00022083455266263966\n",
      "tensor(1.1161)\n"
     ]
    },
    {
     "name": "stderr",
     "output_type": "stream",
     "text": [
      "Feature extracting: 100%|██████████| 391/391 [00:05<00:00, 68.97it/s]\n",
      "Test Epoch: [125/500] Acc@1:69.08% Acc@5:97.85%: 100%|██████████| 79/79 [00:02<00:00, 38.42it/s]\n",
      "Train Epoch: [126/500] Loss: 1.1278: 100%|██████████| 390/390 [00:36<00:00, 10.66it/s]\n"
     ]
    },
    {
     "name": "stdout",
     "output_type": "stream",
     "text": [
      "0.00022192172951139254\n",
      "tensor(1.1272)\n"
     ]
    },
    {
     "name": "stderr",
     "output_type": "stream",
     "text": [
      "Feature extracting: 100%|██████████| 391/391 [00:05<00:00, 68.75it/s]\n",
      "Test Epoch: [126/500] Acc@1:69.54% Acc@5:98.08%: 100%|██████████| 79/79 [00:02<00:00, 38.46it/s]\n",
      "Train Epoch: [127/500] Loss: 1.1110: 100%|██████████| 390/390 [00:36<00:00, 10.70it/s]\n"
     ]
    },
    {
     "name": "stdout",
     "output_type": "stream",
     "text": [
      "0.00022296825608706216\n",
      "tensor(1.1118)\n"
     ]
    },
    {
     "name": "stderr",
     "output_type": "stream",
     "text": [
      "Feature extracting: 100%|██████████| 391/391 [00:05<00:00, 68.29it/s]\n",
      "Test Epoch: [127/500] Acc@1:69.79% Acc@5:97.95%: 100%|██████████| 79/79 [00:02<00:00, 38.22it/s]\n",
      "Train Epoch: [128/500] Loss: 1.1079: 100%|██████████| 390/390 [00:36<00:00, 10.71it/s]\n"
     ]
    },
    {
     "name": "stdout",
     "output_type": "stream",
     "text": [
      "0.0002239736733328109\n",
      "tensor(1.1081)\n"
     ]
    },
    {
     "name": "stderr",
     "output_type": "stream",
     "text": [
      "Feature extracting: 100%|██████████| 391/391 [00:05<00:00, 68.38it/s]\n",
      "Test Epoch: [128/500] Acc@1:69.16% Acc@5:98.03%: 100%|██████████| 79/79 [00:02<00:00, 37.59it/s]\n",
      "Train Epoch: [129/500] Loss: 1.0966: 100%|██████████| 390/390 [00:36<00:00, 10.68it/s]\n"
     ]
    },
    {
     "name": "stdout",
     "output_type": "stream",
     "text": [
      "0.0002249375402243283\n",
      "tensor(1.0972)\n"
     ]
    },
    {
     "name": "stderr",
     "output_type": "stream",
     "text": [
      "Feature extracting: 100%|██████████| 391/391 [00:05<00:00, 68.64it/s]\n",
      "Test Epoch: [129/500] Acc@1:69.04% Acc@5:97.98%: 100%|██████████| 79/79 [00:02<00:00, 37.99it/s]\n",
      "Train Epoch: [130/500] Loss: 1.0920: 100%|██████████| 390/390 [00:36<00:00, 10.69it/s]\n"
     ]
    },
    {
     "name": "stdout",
     "output_type": "stream",
     "text": [
      "0.0002258594339632857\n",
      "tensor(1.0922)\n"
     ]
    },
    {
     "name": "stderr",
     "output_type": "stream",
     "text": [
      "Feature extracting: 100%|██████████| 391/391 [00:05<00:00, 68.85it/s]\n",
      "Test Epoch: [130/500] Acc@1:69.70% Acc@5:98.17%: 100%|██████████| 79/79 [00:02<00:00, 38.00it/s]\n",
      "Train Epoch: [131/500] Loss: 1.0813: 100%|██████████| 390/390 [00:36<00:00, 10.66it/s]\n"
     ]
    },
    {
     "name": "stdout",
     "output_type": "stream",
     "text": [
      "0.00022673895016279576\n",
      "tensor(1.0819)\n"
     ]
    },
    {
     "name": "stderr",
     "output_type": "stream",
     "text": [
      "Feature extracting: 100%|██████████| 391/391 [00:05<00:00, 68.93it/s]\n",
      "Test Epoch: [131/500] Acc@1:69.70% Acc@5:97.92%: 100%|██████████| 79/79 [00:02<00:00, 38.01it/s]\n",
      "Train Epoch: [132/500] Loss: 1.0824: 100%|██████████| 390/390 [00:36<00:00, 10.71it/s]\n"
     ]
    },
    {
     "name": "stdout",
     "output_type": "stream",
     "text": [
      "0.00022757570302479595\n",
      "tensor(1.0823)\n"
     ]
    },
    {
     "name": "stderr",
     "output_type": "stream",
     "text": [
      "Feature extracting: 100%|██████████| 391/391 [00:05<00:00, 68.44it/s]\n",
      "Test Epoch: [132/500] Acc@1:69.98% Acc@5:98.18%: 100%|██████████| 79/79 [00:02<00:00, 37.92it/s]\n",
      "Train Epoch: [133/500] Loss: 1.0893: 100%|██████████| 390/390 [00:36<00:00, 10.70it/s]\n"
     ]
    },
    {
     "name": "stdout",
     "output_type": "stream",
     "text": [
      "0.00022836932550927827\n",
      "tensor(1.0889)\n"
     ]
    },
    {
     "name": "stderr",
     "output_type": "stream",
     "text": [
      "Feature extracting: 100%|██████████| 391/391 [00:05<00:00, 68.77it/s]\n",
      "Test Epoch: [133/500] Acc@1:69.60% Acc@5:98.02%: 100%|██████████| 79/79 [00:02<00:00, 38.34it/s]\n",
      "Train Epoch: [134/500] Loss: 1.0775: 100%|██████████| 390/390 [00:36<00:00, 10.69it/s]\n"
     ]
    },
    {
     "name": "stdout",
     "output_type": "stream",
     "text": [
      "0.00022911946949529053\n",
      "tensor(1.0780)\n"
     ]
    },
    {
     "name": "stderr",
     "output_type": "stream",
     "text": [
      "Feature extracting: 100%|██████████| 391/391 [00:05<00:00, 68.59it/s]\n",
      "Test Epoch: [134/500] Acc@1:69.51% Acc@5:98.13%: 100%|██████████| 79/79 [00:02<00:00, 37.84it/s]\n",
      "Train Epoch: [135/500] Loss: 1.0685: 100%|██████████| 390/390 [00:36<00:00, 10.71it/s]\n"
     ]
    },
    {
     "name": "stdout",
     "output_type": "stream",
     "text": [
      "0.00022982580593363893\n",
      "tensor(1.0690)\n"
     ]
    },
    {
     "name": "stderr",
     "output_type": "stream",
     "text": [
      "Feature extracting: 100%|██████████| 391/391 [00:05<00:00, 68.10it/s]\n",
      "Test Epoch: [135/500] Acc@1:69.71% Acc@5:98.01%: 100%|██████████| 79/79 [00:02<00:00, 38.38it/s]\n",
      "Train Epoch: [136/500] Loss: 1.0716: 100%|██████████| 390/390 [00:36<00:00, 10.69it/s]\n"
     ]
    },
    {
     "name": "stdout",
     "output_type": "stream",
     "text": [
      "0.0002304880249912249\n",
      "tensor(1.0714)\n"
     ]
    },
    {
     "name": "stderr",
     "output_type": "stream",
     "text": [
      "Feature extracting: 100%|██████████| 391/391 [00:05<00:00, 68.06it/s]\n",
      "Test Epoch: [136/500] Acc@1:69.55% Acc@5:97.73%: 100%|██████████| 79/79 [00:02<00:00, 37.55it/s]\n",
      "Train Epoch: [137/500] Loss: 1.0646: 100%|██████████| 390/390 [00:36<00:00, 10.68it/s]\n"
     ]
    },
    {
     "name": "stdout",
     "output_type": "stream",
     "text": [
      "0.0002311058361869527\n",
      "tensor(1.0649)\n"
     ]
    },
    {
     "name": "stderr",
     "output_type": "stream",
     "text": [
      "Feature extracting: 100%|██████████| 391/391 [00:05<00:00, 68.30it/s]\n",
      "Test Epoch: [137/500] Acc@1:70.55% Acc@5:97.95%: 100%|██████████| 79/79 [00:02<00:00, 38.57it/s]\n",
      "Train Epoch: [138/500] Loss: 1.0606: 100%|██████████| 390/390 [00:36<00:00, 10.70it/s]\n"
     ]
    },
    {
     "name": "stdout",
     "output_type": "stream",
     "text": [
      "0.00023167896851914837\n",
      "tensor(1.0608)\n"
     ]
    },
    {
     "name": "stderr",
     "output_type": "stream",
     "text": [
      "Feature extracting: 100%|██████████| 391/391 [00:05<00:00, 69.27it/s]\n",
      "Test Epoch: [138/500] Acc@1:70.45% Acc@5:98.23%: 100%|██████████| 79/79 [00:02<00:00, 37.85it/s]\n",
      "Train Epoch: [139/500] Loss: 1.0573: 100%|██████████| 390/390 [00:36<00:00, 10.68it/s]\n"
     ]
    },
    {
     "name": "stdout",
     "output_type": "stream",
     "text": [
      "0.00023220717058443425\n",
      "tensor(1.0574)\n"
     ]
    },
    {
     "name": "stderr",
     "output_type": "stream",
     "text": [
      "Feature extracting: 100%|██████████| 391/391 [00:05<00:00, 67.33it/s]\n",
      "Test Epoch: [139/500] Acc@1:70.15% Acc@5:97.94%: 100%|██████████| 79/79 [00:02<00:00, 38.55it/s]\n",
      "Train Epoch: [140/500] Loss: 1.0637: 100%|██████████| 390/390 [00:36<00:00, 10.66it/s]\n"
     ]
    },
    {
     "name": "stdout",
     "output_type": "stream",
     "text": [
      "0.00023269021068800645\n",
      "tensor(1.0634)\n"
     ]
    },
    {
     "name": "stderr",
     "output_type": "stream",
     "text": [
      "Feature extracting: 100%|██████████| 391/391 [00:05<00:00, 68.24it/s]\n",
      "Test Epoch: [140/500] Acc@1:69.89% Acc@5:97.97%: 100%|██████████| 79/79 [00:02<00:00, 38.30it/s]\n",
      "Train Epoch: [141/500] Loss: 1.0491: 100%|██████████| 390/390 [00:36<00:00, 10.72it/s]\n"
     ]
    },
    {
     "name": "stdout",
     "output_type": "stream",
     "text": [
      "0.00023312787694526734\n",
      "tensor(1.0498)\n"
     ]
    },
    {
     "name": "stderr",
     "output_type": "stream",
     "text": [
      "Feature extracting: 100%|██████████| 391/391 [00:05<00:00, 69.19it/s]\n",
      "Test Epoch: [141/500] Acc@1:70.42% Acc@5:98.14%: 100%|██████████| 79/79 [00:02<00:00, 38.02it/s]\n",
      "Train Epoch: [142/500] Loss: 1.0530: 100%|██████████| 390/390 [00:36<00:00, 10.67it/s]\n"
     ]
    },
    {
     "name": "stdout",
     "output_type": "stream",
     "text": [
      "0.00023351997737476826\n",
      "tensor(1.0528)\n"
     ]
    },
    {
     "name": "stderr",
     "output_type": "stream",
     "text": [
      "Feature extracting: 100%|██████████| 391/391 [00:05<00:00, 68.78it/s]\n",
      "Test Epoch: [142/500] Acc@1:69.81% Acc@5:97.95%: 100%|██████████| 79/79 [00:02<00:00, 37.29it/s]\n",
      "Train Epoch: [143/500] Loss: 1.0466: 100%|██████████| 390/390 [00:36<00:00, 10.70it/s]\n"
     ]
    },
    {
     "name": "stdout",
     "output_type": "stream",
     "text": [
      "0.00023386633998242194\n",
      "tensor(1.0469)\n"
     ]
    },
    {
     "name": "stderr",
     "output_type": "stream",
     "text": [
      "Feature extracting: 100%|██████████| 391/391 [00:05<00:00, 68.67it/s]\n",
      "Test Epoch: [143/500] Acc@1:69.91% Acc@5:98.10%: 100%|██████████| 79/79 [00:02<00:00, 37.90it/s]\n",
      "Train Epoch: [144/500] Loss: 1.0447: 100%|██████████| 390/390 [00:36<00:00, 10.66it/s]\n"
     ]
    },
    {
     "name": "stdout",
     "output_type": "stream",
     "text": [
      "0.00023416681283694728\n",
      "tensor(1.0448)\n"
     ]
    },
    {
     "name": "stderr",
     "output_type": "stream",
     "text": [
      "Feature extracting: 100%|██████████| 391/391 [00:05<00:00, 68.13it/s]\n",
      "Test Epoch: [144/500] Acc@1:70.28% Acc@5:98.07%: 100%|██████████| 79/79 [00:02<00:00, 37.86it/s]\n",
      "Train Epoch: [145/500] Loss: 1.0451: 100%|██████████| 390/390 [00:36<00:00, 10.67it/s]\n"
     ]
    },
    {
     "name": "stdout",
     "output_type": "stream",
     "text": [
      "0.00023442126413651372\n",
      "tensor(1.0450)\n"
     ]
    },
    {
     "name": "stderr",
     "output_type": "stream",
     "text": [
      "Feature extracting: 100%|██████████| 391/391 [00:05<00:00, 68.71it/s]\n",
      "Test Epoch: [145/500] Acc@1:70.88% Acc@5:98.03%: 100%|██████████| 79/79 [00:02<00:00, 38.48it/s]\n",
      "Train Epoch: [146/500] Loss: 1.0320: 100%|██████████| 390/390 [00:36<00:00, 10.65it/s]\n"
     ]
    },
    {
     "name": "stdout",
     "output_type": "stream",
     "text": [
      "0.00023462958226655583\n",
      "tensor(1.0326)\n"
     ]
    },
    {
     "name": "stderr",
     "output_type": "stream",
     "text": [
      "Feature extracting: 100%|██████████| 391/391 [00:05<00:00, 68.66it/s]\n",
      "Test Epoch: [146/500] Acc@1:70.54% Acc@5:98.01%: 100%|██████████| 79/79 [00:02<00:00, 38.01it/s]\n",
      "Train Epoch: [147/500] Loss: 1.0266: 100%|██████████| 390/390 [00:36<00:00, 10.66it/s]\n"
     ]
    },
    {
     "name": "stdout",
     "output_type": "stream",
     "text": [
      "0.00023479167584873297\n",
      "tensor(1.0269)\n"
     ]
    },
    {
     "name": "stderr",
     "output_type": "stream",
     "text": [
      "Feature extracting: 100%|██████████| 391/391 [00:05<00:00, 67.80it/s]\n",
      "Test Epoch: [147/500] Acc@1:70.48% Acc@5:98.03%: 100%|██████████| 79/79 [00:02<00:00, 36.89it/s]\n",
      "Train Epoch: [148/500] Loss: 1.0356: 100%|██████████| 390/390 [00:36<00:00, 10.69it/s]\n"
     ]
    },
    {
     "name": "stdout",
     "output_type": "stream",
     "text": [
      "0.00023490747378101195\n",
      "tensor(1.0351)\n"
     ]
    },
    {
     "name": "stderr",
     "output_type": "stream",
     "text": [
      "Feature extracting: 100%|██████████| 391/391 [00:05<00:00, 68.71it/s]\n",
      "Test Epoch: [148/500] Acc@1:70.86% Acc@5:98.12%: 100%|██████████| 79/79 [00:02<00:00, 38.52it/s]\n",
      "Train Epoch: [149/500] Loss: 1.0241: 100%|██████████| 390/390 [00:36<00:00, 10.67it/s]\n"
     ]
    },
    {
     "name": "stdout",
     "output_type": "stream",
     "text": [
      "0.00023497692526885605\n",
      "tensor(1.0247)\n"
     ]
    },
    {
     "name": "stderr",
     "output_type": "stream",
     "text": [
      "Feature extracting: 100%|██████████| 391/391 [00:05<00:00, 68.93it/s]\n",
      "Test Epoch: [149/500] Acc@1:70.96% Acc@5:98.15%: 100%|██████████| 79/79 [00:02<00:00, 37.76it/s]\n",
      "Train Epoch: [150/500] Loss: 1.0125: 100%|██████████| 390/390 [00:36<00:00, 10.68it/s]\n"
     ]
    },
    {
     "name": "stdout",
     "output_type": "stream",
     "text": [
      "0.00023499999996888014\n",
      "tensor(1.0131)\n"
     ]
    },
    {
     "name": "stderr",
     "output_type": "stream",
     "text": [
      "Feature extracting: 100%|██████████| 391/391 [00:05<00:00, 68.42it/s]\n",
      "Test Epoch: [150/500] Acc@1:70.87% Acc@5:98.11%: 100%|██████████| 79/79 [00:02<00:00, 38.34it/s]\n",
      "Train Epoch: [151/500] Loss: 1.0182: 100%|██████████| 390/390 [00:36<00:00, 10.67it/s]\n"
     ]
    },
    {
     "name": "stdout",
     "output_type": "stream",
     "text": [
      "0.0002349952423931086\n",
      "tensor(1.0180)\n"
     ]
    },
    {
     "name": "stderr",
     "output_type": "stream",
     "text": [
      "Feature extracting: 100%|██████████| 391/391 [00:05<00:00, 68.49it/s]\n",
      "Test Epoch: [151/500] Acc@1:70.95% Acc@5:98.08%: 100%|██████████| 79/79 [00:02<00:00, 37.40it/s]\n",
      "Train Epoch: [152/500] Loss: 1.0292: 100%|██████████| 390/390 [00:36<00:00, 10.68it/s]\n"
     ]
    },
    {
     "name": "stdout",
     "output_type": "stream",
     "text": [
      "0.000234981018595468\n",
      "tensor(1.0286)\n"
     ]
    },
    {
     "name": "stderr",
     "output_type": "stream",
     "text": [
      "Feature extracting: 100%|██████████| 391/391 [00:05<00:00, 68.88it/s]\n",
      "Test Epoch: [152/500] Acc@1:71.11% Acc@5:98.11%: 100%|██████████| 79/79 [00:02<00:00, 38.94it/s]\n",
      "Train Epoch: [153/500] Loss: 1.0116: 100%|██████████| 390/390 [00:36<00:00, 10.70it/s]\n"
     ]
    },
    {
     "name": "stdout",
     "output_type": "stream",
     "text": [
      "0.00023495732972193646\n",
      "tensor(1.0124)\n"
     ]
    },
    {
     "name": "stderr",
     "output_type": "stream",
     "text": [
      "Feature extracting: 100%|██████████| 391/391 [00:05<00:00, 69.09it/s]\n",
      "Test Epoch: [153/500] Acc@1:71.14% Acc@5:98.23%: 100%|██████████| 79/79 [00:02<00:00, 37.45it/s]\n",
      "Train Epoch: [154/500] Loss: 1.0079: 100%|██████████| 390/390 [00:36<00:00, 10.70it/s]\n"
     ]
    },
    {
     "name": "stdout",
     "output_type": "stream",
     "text": [
      "0.000234924177681071\n",
      "tensor(1.0081)\n"
     ]
    },
    {
     "name": "stderr",
     "output_type": "stream",
     "text": [
      "Feature extracting: 100%|██████████| 391/391 [00:05<00:00, 68.87it/s]\n",
      "Test Epoch: [154/500] Acc@1:71.24% Acc@5:98.22%: 100%|██████████| 79/79 [00:02<00:00, 38.09it/s]\n",
      "Train Epoch: [155/500] Loss: 1.0059: 100%|██████████| 390/390 [00:36<00:00, 10.66it/s]\n"
     ]
    },
    {
     "name": "stdout",
     "output_type": "stream",
     "text": [
      "0.0002348815651438539\n",
      "tensor(1.0060)\n"
     ]
    },
    {
     "name": "stderr",
     "output_type": "stream",
     "text": [
      "Feature extracting: 100%|██████████| 391/391 [00:05<00:00, 69.26it/s]\n",
      "Test Epoch: [155/500] Acc@1:71.54% Acc@5:98.30%: 100%|██████████| 79/79 [00:02<00:00, 38.34it/s]\n",
      "Train Epoch: [156/500] Loss: 0.9940: 100%|██████████| 390/390 [00:36<00:00, 10.68it/s]\n"
     ]
    },
    {
     "name": "stdout",
     "output_type": "stream",
     "text": [
      "0.00023482949554347755\n",
      "tensor(0.9946)\n"
     ]
    },
    {
     "name": "stderr",
     "output_type": "stream",
     "text": [
      "Feature extracting: 100%|██████████| 391/391 [00:05<00:00, 68.82it/s]\n",
      "Test Epoch: [156/500] Acc@1:71.88% Acc@5:98.23%: 100%|██████████| 79/79 [00:02<00:00, 37.70it/s]\n",
      "Train Epoch: [157/500] Loss: 0.9864: 100%|██████████| 390/390 [00:36<00:00, 10.72it/s]\n"
     ]
    },
    {
     "name": "stdout",
     "output_type": "stream",
     "text": [
      "0.00023476797307506766\n",
      "tensor(0.9868)\n"
     ]
    },
    {
     "name": "stderr",
     "output_type": "stream",
     "text": [
      "Feature extracting: 100%|██████████| 391/391 [00:05<00:00, 68.42it/s]\n",
      "Test Epoch: [157/500] Acc@1:71.89% Acc@5:98.34%: 100%|██████████| 79/79 [00:02<00:00, 37.16it/s]\n",
      "Train Epoch: [158/500] Loss: 0.9913: 100%|██████████| 390/390 [00:36<00:00, 10.69it/s]\n"
     ]
    },
    {
     "name": "stdout",
     "output_type": "stream",
     "text": [
      "0.00023469700269534554\n",
      "tensor(0.9911)\n"
     ]
    },
    {
     "name": "stderr",
     "output_type": "stream",
     "text": [
      "Feature extracting: 100%|██████████| 391/391 [00:05<00:00, 68.66it/s]\n",
      "Test Epoch: [158/500] Acc@1:71.66% Acc@5:98.14%: 100%|██████████| 79/79 [00:02<00:00, 37.53it/s]\n",
      "Train Epoch: [159/500] Loss: 0.9936: 100%|██████████| 390/390 [00:36<00:00, 10.69it/s]\n"
     ]
    },
    {
     "name": "stdout",
     "output_type": "stream",
     "text": [
      "0.00023461659012222836\n",
      "tensor(0.9935)\n"
     ]
    },
    {
     "name": "stderr",
     "output_type": "stream",
     "text": [
      "Feature extracting: 100%|██████████| 391/391 [00:05<00:00, 68.75it/s]\n",
      "Test Epoch: [159/500] Acc@1:71.65% Acc@5:98.37%: 100%|██████████| 79/79 [00:02<00:00, 37.80it/s]\n",
      "Train Epoch: [160/500] Loss: 0.9892: 100%|██████████| 390/390 [00:36<00:00, 10.69it/s]\n"
     ]
    },
    {
     "name": "stdout",
     "output_type": "stream",
     "text": [
      "0.00023452674183436893\n",
      "tensor(0.9894)\n"
     ]
    },
    {
     "name": "stderr",
     "output_type": "stream",
     "text": [
      "Feature extracting: 100%|██████████| 391/391 [00:05<00:00, 68.81it/s]\n",
      "Test Epoch: [160/500] Acc@1:71.52% Acc@5:98.43%: 100%|██████████| 79/79 [00:02<00:00, 37.64it/s]\n",
      "Train Epoch: [161/500] Loss: 0.9761: 100%|██████████| 390/390 [00:36<00:00, 10.67it/s]\n"
     ]
    },
    {
     "name": "stdout",
     "output_type": "stream",
     "text": [
      "0.00023442746507063334\n",
      "tensor(0.9768)\n"
     ]
    },
    {
     "name": "stderr",
     "output_type": "stream",
     "text": [
      "Feature extracting: 100%|██████████| 391/391 [00:05<00:00, 67.86it/s]\n",
      "Test Epoch: [161/500] Acc@1:72.08% Acc@5:98.33%: 100%|██████████| 79/79 [00:02<00:00, 37.27it/s]\n",
      "Train Epoch: [162/500] Loss: 0.9794: 100%|██████████| 390/390 [00:36<00:00, 10.71it/s]\n"
     ]
    },
    {
     "name": "stdout",
     "output_type": "stream",
     "text": [
      "0.000234318767829518\n",
      "tensor(0.9793)\n"
     ]
    },
    {
     "name": "stderr",
     "output_type": "stream",
     "text": [
      "Feature extracting: 100%|██████████| 391/391 [00:05<00:00, 68.73it/s]\n",
      "Test Epoch: [162/500] Acc@1:71.92% Acc@5:98.46%: 100%|██████████| 79/79 [00:02<00:00, 37.65it/s]\n",
      "Train Epoch: [163/500] Loss: 0.9886: 100%|██████████| 390/390 [00:36<00:00, 10.72it/s]\n"
     ]
    },
    {
     "name": "stdout",
     "output_type": "stream",
     "text": [
      "0.00023420065886850508\n",
      "tensor(0.9881)\n"
     ]
    },
    {
     "name": "stderr",
     "output_type": "stream",
     "text": [
      "Feature extracting: 100%|██████████| 391/391 [00:05<00:00, 69.18it/s]\n",
      "Test Epoch: [163/500] Acc@1:72.51% Acc@5:98.47%: 100%|██████████| 79/79 [00:02<00:00, 36.95it/s]\n",
      "Train Epoch: [164/500] Loss: 0.9823: 100%|██████████| 390/390 [00:36<00:00, 10.69it/s]\n"
     ]
    },
    {
     "name": "stdout",
     "output_type": "stream",
     "text": [
      "0.00023407314770335698\n",
      "tensor(0.9826)\n"
     ]
    },
    {
     "name": "stderr",
     "output_type": "stream",
     "text": [
      "Feature extracting: 100%|██████████| 391/391 [00:05<00:00, 68.00it/s]\n",
      "Test Epoch: [164/500] Acc@1:72.15% Acc@5:98.31%: 100%|██████████| 79/79 [00:02<00:00, 38.20it/s]\n",
      "Train Epoch: [165/500] Loss: 0.9760: 100%|██████████| 390/390 [00:36<00:00, 10.68it/s]\n"
     ]
    },
    {
     "name": "stdout",
     "output_type": "stream",
     "text": [
      "0.00023393624460734967\n",
      "tensor(0.9763)\n"
     ]
    },
    {
     "name": "stderr",
     "output_type": "stream",
     "text": [
      "Feature extracting: 100%|██████████| 391/391 [00:05<00:00, 69.33it/s]\n",
      "Test Epoch: [165/500] Acc@1:72.60% Acc@5:98.26%: 100%|██████████| 79/79 [00:02<00:00, 38.19it/s]\n",
      "Train Epoch: [166/500] Loss: 0.9647: 100%|██████████| 390/390 [00:36<00:00, 10.69it/s]\n"
     ]
    },
    {
     "name": "stdout",
     "output_type": "stream",
     "text": [
      "0.00023378996061044498\n",
      "tensor(0.9653)\n"
     ]
    },
    {
     "name": "stderr",
     "output_type": "stream",
     "text": [
      "Feature extracting: 100%|██████████| 391/391 [00:05<00:00, 68.56it/s]\n",
      "Test Epoch: [166/500] Acc@1:72.02% Acc@5:98.22%: 100%|██████████| 79/79 [00:02<00:00, 37.66it/s]\n",
      "Train Epoch: [167/500] Loss: 0.9610: 100%|██████████| 390/390 [00:36<00:00, 10.68it/s]\n"
     ]
    },
    {
     "name": "stdout",
     "output_type": "stream",
     "text": [
      "0.00023363430749840207\n",
      "tensor(0.9612)\n"
     ]
    },
    {
     "name": "stderr",
     "output_type": "stream",
     "text": [
      "Feature extracting: 100%|██████████| 391/391 [00:05<00:00, 68.42it/s]\n",
      "Test Epoch: [167/500] Acc@1:72.45% Acc@5:98.36%: 100%|██████████| 79/79 [00:02<00:00, 37.49it/s]\n",
      "Train Epoch: [168/500] Loss: 0.9686: 100%|██████████| 390/390 [00:36<00:00, 10.66it/s]\n"
     ]
    },
    {
     "name": "stdout",
     "output_type": "stream",
     "text": [
      "0.00023346929781182762\n",
      "tensor(0.9682)\n"
     ]
    },
    {
     "name": "stderr",
     "output_type": "stream",
     "text": [
      "Feature extracting: 100%|██████████| 391/391 [00:05<00:00, 68.71it/s]\n",
      "Test Epoch: [168/500] Acc@1:71.87% Acc@5:98.35%: 100%|██████████| 79/79 [00:02<00:00, 37.74it/s]\n",
      "Train Epoch: [169/500] Loss: 0.9625: 100%|██████████| 390/390 [00:36<00:00, 10.67it/s]\n"
     ]
    },
    {
     "name": "stdout",
     "output_type": "stream",
     "text": [
      "0.00023329494484516564\n",
      "tensor(0.9628)\n"
     ]
    },
    {
     "name": "stderr",
     "output_type": "stream",
     "text": [
      "Feature extracting: 100%|██████████| 391/391 [00:05<00:00, 68.19it/s]\n",
      "Test Epoch: [169/500] Acc@1:72.22% Acc@5:98.37%: 100%|██████████| 79/79 [00:02<00:00, 38.33it/s]\n",
      "Train Epoch: [170/500] Loss: 0.9611: 100%|██████████| 390/390 [00:36<00:00, 10.67it/s]\n"
     ]
    },
    {
     "name": "stdout",
     "output_type": "stream",
     "text": [
      "0.0002331112626456264\n",
      "tensor(0.9612)\n"
     ]
    },
    {
     "name": "stderr",
     "output_type": "stream",
     "text": [
      "Feature extracting: 100%|██████████| 391/391 [00:05<00:00, 68.33it/s]\n",
      "Test Epoch: [170/500] Acc@1:72.13% Acc@5:98.27%: 100%|██████████| 79/79 [00:02<00:00, 38.09it/s]\n",
      "Train Epoch: [171/500] Loss: 0.9605: 100%|██████████| 390/390 [00:36<00:00, 10.68it/s]\n"
     ]
    },
    {
     "name": "stdout",
     "output_type": "stream",
     "text": [
      "0.00023291826601205457\n",
      "tensor(0.9605)\n"
     ]
    },
    {
     "name": "stderr",
     "output_type": "stream",
     "text": [
      "Feature extracting: 100%|██████████| 391/391 [00:05<00:00, 68.12it/s]\n",
      "Test Epoch: [171/500] Acc@1:72.84% Acc@5:98.26%: 100%|██████████| 79/79 [00:02<00:00, 38.22it/s]\n",
      "Train Epoch: [172/500] Loss: 0.9525: 100%|██████████| 390/390 [00:36<00:00, 10.68it/s]\n"
     ]
    },
    {
     "name": "stdout",
     "output_type": "stream",
     "text": [
      "0.000232715970493737\n",
      "tensor(0.9529)\n"
     ]
    },
    {
     "name": "stderr",
     "output_type": "stream",
     "text": [
      "Feature extracting: 100%|██████████| 391/391 [00:05<00:00, 68.83it/s]\n",
      "Test Epoch: [172/500] Acc@1:72.25% Acc@5:98.43%: 100%|██████████| 79/79 [00:02<00:00, 37.12it/s]\n",
      "Train Epoch: [173/500] Loss: 0.9493: 100%|██████████| 390/390 [00:36<00:00, 10.67it/s]\n"
     ]
    },
    {
     "name": "stdout",
     "output_type": "stream",
     "text": [
      "0.0002325043923891498\n",
      "tensor(0.9495)\n"
     ]
    },
    {
     "name": "stderr",
     "output_type": "stream",
     "text": [
      "Feature extracting: 100%|██████████| 391/391 [00:05<00:00, 68.97it/s]\n",
      "Test Epoch: [173/500] Acc@1:72.87% Acc@5:98.41%: 100%|██████████| 79/79 [00:02<00:00, 37.65it/s]\n",
      "Train Epoch: [174/500] Loss: 0.9425: 100%|██████████| 390/390 [00:36<00:00, 10.68it/s]\n"
     ]
    },
    {
     "name": "stdout",
     "output_type": "stream",
     "text": [
      "0.0002322835487446455\n",
      "tensor(0.9428)\n"
     ]
    },
    {
     "name": "stderr",
     "output_type": "stream",
     "text": [
      "Feature extracting: 100%|██████████| 391/391 [00:05<00:00, 68.49it/s]\n",
      "Test Epoch: [174/500] Acc@1:72.92% Acc@5:98.50%: 100%|██████████| 79/79 [00:02<00:00, 37.43it/s]\n",
      "Train Epoch: [175/500] Loss: 0.9320: 100%|██████████| 390/390 [00:36<00:00, 10.70it/s]\n"
     ]
    },
    {
     "name": "stdout",
     "output_type": "stream",
     "text": [
      "0.00023205345735307929\n",
      "tensor(0.9325)\n"
     ]
    },
    {
     "name": "stderr",
     "output_type": "stream",
     "text": [
      "Feature extracting: 100%|██████████| 391/391 [00:05<00:00, 68.29it/s]\n",
      "Test Epoch: [175/500] Acc@1:72.33% Acc@5:98.40%: 100%|██████████| 79/79 [00:02<00:00, 37.97it/s]\n",
      "Train Epoch: [176/500] Loss: 0.9363: 100%|██████████| 390/390 [00:36<00:00, 10.68it/s]\n"
     ]
    },
    {
     "name": "stdout",
     "output_type": "stream",
     "text": [
      "0.0002318141367523758\n",
      "tensor(0.9361)\n"
     ]
    },
    {
     "name": "stderr",
     "output_type": "stream",
     "text": [
      "Feature extracting: 100%|██████████| 391/391 [00:05<00:00, 68.85it/s]\n",
      "Test Epoch: [176/500] Acc@1:72.82% Acc@5:98.37%: 100%|██████████| 79/79 [00:02<00:00, 37.90it/s]\n",
      "Train Epoch: [177/500] Loss: 0.9334: 100%|██████████| 390/390 [00:36<00:00, 10.69it/s]\n"
     ]
    },
    {
     "name": "stdout",
     "output_type": "stream",
     "text": [
      "0.00023156560622403542\n",
      "tensor(0.9335)\n"
     ]
    },
    {
     "name": "stderr",
     "output_type": "stream",
     "text": [
      "Feature extracting: 100%|██████████| 391/391 [00:05<00:00, 68.35it/s]\n",
      "Test Epoch: [177/500] Acc@1:72.89% Acc@5:98.46%: 100%|██████████| 79/79 [00:02<00:00, 38.34it/s]\n",
      "Train Epoch: [178/500] Loss: 0.9386: 100%|██████████| 390/390 [00:36<00:00, 10.66it/s]\n"
     ]
    },
    {
     "name": "stdout",
     "output_type": "stream",
     "text": [
      "0.0002313078857915808\n",
      "tensor(0.9383)\n"
     ]
    },
    {
     "name": "stderr",
     "output_type": "stream",
     "text": [
      "Feature extracting: 100%|██████████| 391/391 [00:05<00:00, 68.61it/s]\n",
      "Test Epoch: [178/500] Acc@1:73.46% Acc@5:98.41%: 100%|██████████| 79/79 [00:02<00:00, 37.61it/s]\n",
      "Train Epoch: [179/500] Loss: 0.9461: 100%|██████████| 390/390 [00:36<00:00, 10.68it/s]\n"
     ]
    },
    {
     "name": "stdout",
     "output_type": "stream",
     "text": [
      "0.0002310409962189437\n",
      "tensor(0.9457)\n"
     ]
    },
    {
     "name": "stderr",
     "output_type": "stream",
     "text": [
      "Feature extracting: 100%|██████████| 391/391 [00:05<00:00, 68.94it/s]\n",
      "Test Epoch: [179/500] Acc@1:73.14% Acc@5:98.49%: 100%|██████████| 79/79 [00:02<00:00, 37.74it/s]\n",
      "Train Epoch: [180/500] Loss: 0.9346: 100%|██████████| 390/390 [00:36<00:00, 10.63it/s]\n"
     ]
    },
    {
     "name": "stdout",
     "output_type": "stream",
     "text": [
      "0.00023076495900879198\n",
      "tensor(0.9352)\n"
     ]
    },
    {
     "name": "stderr",
     "output_type": "stream",
     "text": [
      "Feature extracting: 100%|██████████| 391/391 [00:05<00:00, 68.36it/s]\n",
      "Test Epoch: [180/500] Acc@1:72.84% Acc@5:98.52%: 100%|██████████| 79/79 [00:02<00:00, 38.43it/s]\n",
      "Train Epoch: [181/500] Loss: 0.9304: 100%|██████████| 390/390 [00:36<00:00, 10.67it/s]\n"
     ]
    },
    {
     "name": "stdout",
     "output_type": "stream",
     "text": [
      "0.00023047979640079727\n",
      "tensor(0.9306)\n"
     ]
    },
    {
     "name": "stderr",
     "output_type": "stream",
     "text": [
      "Feature extracting: 100%|██████████| 391/391 [00:05<00:00, 68.62it/s]\n",
      "Test Epoch: [181/500] Acc@1:73.27% Acc@5:98.47%: 100%|██████████| 79/79 [00:02<00:00, 38.47it/s]\n",
      "Train Epoch: [182/500] Loss: 0.9287: 100%|██████████| 390/390 [00:36<00:00, 10.70it/s]\n"
     ]
    },
    {
     "name": "stdout",
     "output_type": "stream",
     "text": [
      "0.00023018553136984308\n",
      "tensor(0.9288)\n"
     ]
    },
    {
     "name": "stderr",
     "output_type": "stream",
     "text": [
      "Feature extracting: 100%|██████████| 391/391 [00:05<00:00, 68.15it/s]\n",
      "Test Epoch: [182/500] Acc@1:73.16% Acc@5:98.40%: 100%|██████████| 79/79 [00:02<00:00, 38.70it/s]\n",
      "Train Epoch: [183/500] Loss: 0.9247: 100%|██████████| 390/390 [00:36<00:00, 10.69it/s]\n"
     ]
    },
    {
     "name": "stdout",
     "output_type": "stream",
     "text": [
      "0.0002298821876241739\n",
      "tensor(0.9249)\n"
     ]
    },
    {
     "name": "stderr",
     "output_type": "stream",
     "text": [
      "Feature extracting: 100%|██████████| 391/391 [00:05<00:00, 68.48it/s]\n",
      "Test Epoch: [183/500] Acc@1:72.95% Acc@5:98.42%: 100%|██████████| 79/79 [00:02<00:00, 37.76it/s]\n",
      "Train Epoch: [184/500] Loss: 0.9281: 100%|██████████| 390/390 [00:36<00:00, 10.69it/s]\n"
     ]
    },
    {
     "name": "stdout",
     "output_type": "stream",
     "text": [
      "0.00022956978960348494\n",
      "tensor(0.9279)\n"
     ]
    },
    {
     "name": "stderr",
     "output_type": "stream",
     "text": [
      "Feature extracting: 100%|██████████| 391/391 [00:05<00:00, 69.27it/s]\n",
      "Test Epoch: [184/500] Acc@1:73.40% Acc@5:98.37%: 100%|██████████| 79/79 [00:02<00:00, 37.92it/s]\n",
      "Train Epoch: [185/500] Loss: 0.9327: 100%|██████████| 390/390 [00:36<00:00, 10.67it/s]\n"
     ]
    },
    {
     "name": "stdout",
     "output_type": "stream",
     "text": [
      "0.00022924836247695317\n",
      "tensor(0.9325)\n"
     ]
    },
    {
     "name": "stderr",
     "output_type": "stream",
     "text": [
      "Feature extracting: 100%|██████████| 391/391 [00:05<00:00, 68.72it/s]\n",
      "Test Epoch: [185/500] Acc@1:73.64% Acc@5:98.54%: 100%|██████████| 79/79 [00:02<00:00, 37.83it/s]\n",
      "Train Epoch: [186/500] Loss: 0.9221: 100%|██████████| 390/390 [00:36<00:00, 10.71it/s]\n"
     ]
    },
    {
     "name": "stdout",
     "output_type": "stream",
     "text": [
      "0.0002289179321412095\n",
      "tensor(0.9227)\n"
     ]
    },
    {
     "name": "stderr",
     "output_type": "stream",
     "text": [
      "Feature extracting: 100%|██████████| 391/391 [00:05<00:00, 68.40it/s]\n",
      "Test Epoch: [186/500] Acc@1:73.32% Acc@5:98.42%: 100%|██████████| 79/79 [00:02<00:00, 38.36it/s]\n",
      "Train Epoch: [187/500] Loss: 0.9239: 100%|██████████| 390/390 [00:36<00:00, 10.67it/s]\n"
     ]
    },
    {
     "name": "stdout",
     "output_type": "stream",
     "text": [
      "0.00022857852521825228\n",
      "tensor(0.9238)\n"
     ]
    },
    {
     "name": "stderr",
     "output_type": "stream",
     "text": [
      "Feature extracting: 100%|██████████| 391/391 [00:05<00:00, 68.76it/s]\n",
      "Test Epoch: [187/500] Acc@1:73.27% Acc@5:98.43%: 100%|██████████| 79/79 [00:02<00:00, 38.36it/s]\n",
      "Train Epoch: [188/500] Loss: 0.9219: 100%|██████████| 390/390 [00:36<00:00, 10.66it/s]\n"
     ]
    },
    {
     "name": "stdout",
     "output_type": "stream",
     "text": [
      "0.00022823016905330253\n",
      "tensor(0.9220)\n"
     ]
    },
    {
     "name": "stderr",
     "output_type": "stream",
     "text": [
      "Feature extracting: 100%|██████████| 391/391 [00:05<00:00, 68.85it/s]\n",
      "Test Epoch: [188/500] Acc@1:73.39% Acc@5:98.42%: 100%|██████████| 79/79 [00:02<00:00, 38.05it/s]\n",
      "Train Epoch: [189/500] Loss: 0.9127: 100%|██████████| 390/390 [00:36<00:00, 10.69it/s]\n"
     ]
    },
    {
     "name": "stdout",
     "output_type": "stream",
     "text": [
      "0.00022787289171260063\n",
      "tensor(0.9132)\n"
     ]
    },
    {
     "name": "stderr",
     "output_type": "stream",
     "text": [
      "Feature extracting: 100%|██████████| 391/391 [00:05<00:00, 68.86it/s]\n",
      "Test Epoch: [189/500] Acc@1:73.54% Acc@5:98.54%: 100%|██████████| 79/79 [00:02<00:00, 38.09it/s]\n",
      "Train Epoch: [190/500] Loss: 0.9038: 100%|██████████| 390/390 [00:36<00:00, 10.65it/s]\n"
     ]
    },
    {
     "name": "stdout",
     "output_type": "stream",
     "text": [
      "0.0002275067219811453\n",
      "tensor(0.9042)\n"
     ]
    },
    {
     "name": "stderr",
     "output_type": "stream",
     "text": [
      "Feature extracting: 100%|██████████| 391/391 [00:05<00:00, 68.74it/s]\n",
      "Test Epoch: [190/500] Acc@1:73.71% Acc@5:98.65%: 100%|██████████| 79/79 [00:02<00:00, 38.44it/s]\n",
      "Train Epoch: [191/500] Loss: 0.9079: 100%|██████████| 390/390 [00:36<00:00, 10.71it/s]\n"
     ]
    },
    {
     "name": "stdout",
     "output_type": "stream",
     "text": [
      "0.00022713168936037436\n",
      "tensor(0.9078)\n"
     ]
    },
    {
     "name": "stderr",
     "output_type": "stream",
     "text": [
      "Feature extracting: 100%|██████████| 391/391 [00:05<00:00, 68.51it/s]\n",
      "Test Epoch: [191/500] Acc@1:74.11% Acc@5:98.54%: 100%|██████████| 79/79 [00:02<00:00, 38.30it/s]\n",
      "Train Epoch: [192/500] Loss: 0.9009: 100%|██████████| 390/390 [00:36<00:00, 10.70it/s]\n"
     ]
    },
    {
     "name": "stdout",
     "output_type": "stream",
     "text": [
      "0.00022674782406578776\n",
      "tensor(0.9013)\n"
     ]
    },
    {
     "name": "stderr",
     "output_type": "stream",
     "text": [
      "Feature extracting: 100%|██████████| 391/391 [00:05<00:00, 68.52it/s]\n",
      "Test Epoch: [192/500] Acc@1:73.57% Acc@5:98.50%: 100%|██████████| 79/79 [00:02<00:00, 37.79it/s]\n",
      "Train Epoch: [193/500] Loss: 0.9144: 100%|██████████| 390/390 [00:36<00:00, 10.66it/s]\n"
     ]
    },
    {
     "name": "stdout",
     "output_type": "stream",
     "text": [
      "0.00022635515702451345\n",
      "tensor(0.9138)\n"
     ]
    },
    {
     "name": "stderr",
     "output_type": "stream",
     "text": [
      "Feature extracting: 100%|██████████| 391/391 [00:05<00:00, 68.78it/s]\n",
      "Test Epoch: [193/500] Acc@1:73.41% Acc@5:98.55%: 100%|██████████| 79/79 [00:02<00:00, 38.34it/s]\n",
      "Train Epoch: [194/500] Loss: 0.9054: 100%|██████████| 390/390 [00:36<00:00, 10.68it/s]\n"
     ]
    },
    {
     "name": "stdout",
     "output_type": "stream",
     "text": [
      "0.0002259537198728154\n",
      "tensor(0.9058)\n"
     ]
    },
    {
     "name": "stderr",
     "output_type": "stream",
     "text": [
      "Feature extracting: 100%|██████████| 391/391 [00:05<00:00, 67.96it/s]\n",
      "Test Epoch: [194/500] Acc@1:73.32% Acc@5:98.55%: 100%|██████████| 79/79 [00:02<00:00, 37.70it/s]\n",
      "Train Epoch: [195/500] Loss: 0.8977: 100%|██████████| 390/390 [00:36<00:00, 10.67it/s]\n"
     ]
    },
    {
     "name": "stdout",
     "output_type": "stream",
     "text": [
      "0.0002255435449535448\n",
      "tensor(0.8981)\n"
     ]
    },
    {
     "name": "stderr",
     "output_type": "stream",
     "text": [
      "Feature extracting: 100%|██████████| 391/391 [00:05<00:00, 68.51it/s]\n",
      "Test Epoch: [195/500] Acc@1:73.41% Acc@5:98.56%: 100%|██████████| 79/79 [00:02<00:00, 37.81it/s]\n",
      "Train Epoch: [196/500] Loss: 0.9063: 100%|██████████| 390/390 [00:36<00:00, 10.68it/s]\n"
     ]
    },
    {
     "name": "stdout",
     "output_type": "stream",
     "text": [
      "0.0002251246653135345\n",
      "tensor(0.9059)\n"
     ]
    },
    {
     "name": "stderr",
     "output_type": "stream",
     "text": [
      "Feature extracting: 100%|██████████| 391/391 [00:05<00:00, 68.77it/s]\n",
      "Test Epoch: [196/500] Acc@1:73.75% Acc@5:98.56%: 100%|██████████| 79/79 [00:02<00:00, 38.26it/s]\n",
      "Train Epoch: [197/500] Loss: 0.8829: 100%|██████████| 390/390 [00:36<00:00, 10.71it/s]\n"
     ]
    },
    {
     "name": "stdout",
     "output_type": "stream",
     "text": [
      "0.00022469711470093605\n",
      "tensor(0.8840)\n"
     ]
    },
    {
     "name": "stderr",
     "output_type": "stream",
     "text": [
      "Feature extracting: 100%|██████████| 391/391 [00:05<00:00, 68.86it/s]\n",
      "Test Epoch: [197/500] Acc@1:73.75% Acc@5:98.44%: 100%|██████████| 79/79 [00:02<00:00, 38.16it/s]\n",
      "Train Epoch: [198/500] Loss: 0.8984: 100%|██████████| 390/390 [00:36<00:00, 10.69it/s]\n"
     ]
    },
    {
     "name": "stdout",
     "output_type": "stream",
     "text": [
      "0.00022426092756250114\n",
      "tensor(0.8977)\n"
     ]
    },
    {
     "name": "stderr",
     "output_type": "stream",
     "text": [
      "Feature extracting: 100%|██████████| 391/391 [00:05<00:00, 69.05it/s]\n",
      "Test Epoch: [198/500] Acc@1:74.04% Acc@5:98.51%: 100%|██████████| 79/79 [00:02<00:00, 37.96it/s]\n",
      "Train Epoch: [199/500] Loss: 0.8960: 100%|██████████| 390/390 [00:36<00:00, 10.68it/s]\n"
     ]
    },
    {
     "name": "stdout",
     "output_type": "stream",
     "text": [
      "0.00022381613904080613\n",
      "tensor(0.8961)\n"
     ]
    },
    {
     "name": "stderr",
     "output_type": "stream",
     "text": [
      "Feature extracting: 100%|██████████| 391/391 [00:05<00:00, 68.66it/s]\n",
      "Test Epoch: [199/500] Acc@1:73.78% Acc@5:98.42%: 100%|██████████| 79/79 [00:02<00:00, 37.68it/s]\n",
      "Train Epoch: [200/500] Loss: 0.8982: 100%|██████████| 390/390 [00:36<00:00, 10.69it/s]\n"
     ]
    },
    {
     "name": "stdout",
     "output_type": "stream",
     "text": [
      "0.00022336278497142055\n",
      "tensor(0.8981)\n"
     ]
    },
    {
     "name": "stderr",
     "output_type": "stream",
     "text": [
      "Feature extracting: 100%|██████████| 391/391 [00:05<00:00, 68.78it/s]\n",
      "Test Epoch: [200/500] Acc@1:74.49% Acc@5:98.58%: 100%|██████████| 79/79 [00:02<00:00, 38.09it/s]\n",
      "Train Epoch: [201/500] Loss: 0.8923: 100%|██████████| 390/390 [00:36<00:00, 10.71it/s]\n"
     ]
    },
    {
     "name": "stdout",
     "output_type": "stream",
     "text": [
      "0.00022290090188002023\n",
      "tensor(0.8926)\n"
     ]
    },
    {
     "name": "stderr",
     "output_type": "stream",
     "text": [
      "Feature extracting: 100%|██████████| 391/391 [00:05<00:00, 68.34it/s]\n",
      "Test Epoch: [201/500] Acc@1:74.14% Acc@5:98.43%: 100%|██████████| 79/79 [00:02<00:00, 38.21it/s]\n",
      "Train Epoch: [202/500] Loss: 0.8877: 100%|██████████| 390/390 [00:36<00:00, 10.67it/s]\n"
     ]
    },
    {
     "name": "stdout",
     "output_type": "stream",
     "text": [
      "0.00022243052697944416\n",
      "tensor(0.8879)\n"
     ]
    },
    {
     "name": "stderr",
     "output_type": "stream",
     "text": [
      "Feature extracting: 100%|██████████| 391/391 [00:05<00:00, 68.40it/s]\n",
      "Test Epoch: [202/500] Acc@1:73.72% Acc@5:98.50%: 100%|██████████| 79/79 [00:02<00:00, 37.76it/s]\n",
      "Train Epoch: [203/500] Loss: 0.8729: 100%|██████████| 390/390 [00:36<00:00, 10.69it/s]\n"
     ]
    },
    {
     "name": "stdout",
     "output_type": "stream",
     "text": [
      "0.00022195169816669656\n",
      "tensor(0.8736)\n"
     ]
    },
    {
     "name": "stderr",
     "output_type": "stream",
     "text": [
      "Feature extracting: 100%|██████████| 391/391 [00:05<00:00, 68.20it/s]\n",
      "Test Epoch: [203/500] Acc@1:74.43% Acc@5:98.55%: 100%|██████████| 79/79 [00:02<00:00, 37.90it/s]\n",
      "Train Epoch: [204/500] Loss: 0.8861: 100%|██████████| 390/390 [00:36<00:00, 10.66it/s]\n"
     ]
    },
    {
     "name": "stdout",
     "output_type": "stream",
     "text": [
      "0.00022146445401989364\n",
      "tensor(0.8855)\n"
     ]
    },
    {
     "name": "stderr",
     "output_type": "stream",
     "text": [
      "Feature extracting: 100%|██████████| 391/391 [00:05<00:00, 68.25it/s]\n",
      "Test Epoch: [204/500] Acc@1:74.00% Acc@5:98.60%: 100%|██████████| 79/79 [00:02<00:00, 37.62it/s]\n",
      "Train Epoch: [205/500] Loss: 0.8819: 100%|██████████| 390/390 [00:36<00:00, 10.69it/s]\n"
     ]
    },
    {
     "name": "stdout",
     "output_type": "stream",
     "text": [
      "0.0002209688337951553\n",
      "tensor(0.8820)\n"
     ]
    },
    {
     "name": "stderr",
     "output_type": "stream",
     "text": [
      "Feature extracting: 100%|██████████| 391/391 [00:05<00:00, 68.46it/s]\n",
      "Test Epoch: [205/500] Acc@1:74.12% Acc@5:98.55%: 100%|██████████| 79/79 [00:02<00:00, 37.94it/s]\n",
      "Train Epoch: [206/500] Loss: 0.8825: 100%|██████████| 390/390 [00:36<00:00, 10.72it/s]\n"
     ]
    },
    {
     "name": "stdout",
     "output_type": "stream",
     "text": [
      "0.00022046487742344238\n",
      "tensor(0.8825)\n"
     ]
    },
    {
     "name": "stderr",
     "output_type": "stream",
     "text": [
      "Feature extracting: 100%|██████████| 391/391 [00:05<00:00, 68.68it/s]\n",
      "Test Epoch: [206/500] Acc@1:74.43% Acc@5:98.67%: 100%|██████████| 79/79 [00:02<00:00, 39.00it/s]\n",
      "Train Epoch: [207/500] Loss: 0.8732: 100%|██████████| 390/390 [00:36<00:00, 10.67it/s]\n"
     ]
    },
    {
     "name": "stdout",
     "output_type": "stream",
     "text": [
      "0.0002199526255073397\n",
      "tensor(0.8736)\n"
     ]
    },
    {
     "name": "stderr",
     "output_type": "stream",
     "text": [
      "Feature extracting: 100%|██████████| 391/391 [00:05<00:00, 68.29it/s]\n",
      "Test Epoch: [207/500] Acc@1:74.47% Acc@5:98.66%: 100%|██████████| 79/79 [00:02<00:00, 37.36it/s]\n",
      "Train Epoch: [208/500] Loss: 0.8793: 100%|██████████| 390/390 [00:36<00:00, 10.69it/s]\n"
     ]
    },
    {
     "name": "stdout",
     "output_type": "stream",
     "text": [
      "0.0002194321193177845\n",
      "tensor(0.8790)\n"
     ]
    },
    {
     "name": "stderr",
     "output_type": "stream",
     "text": [
      "Feature extracting: 100%|██████████| 391/391 [00:05<00:00, 68.30it/s]\n",
      "Test Epoch: [208/500] Acc@1:74.40% Acc@5:98.49%: 100%|██████████| 79/79 [00:02<00:00, 37.63it/s]\n",
      "Train Epoch: [209/500] Loss: 0.8701: 100%|██████████| 390/390 [00:36<00:00, 10.70it/s]\n"
     ]
    },
    {
     "name": "stdout",
     "output_type": "stream",
     "text": [
      "0.0002189034007907416\n",
      "tensor(0.8705)\n"
     ]
    },
    {
     "name": "stderr",
     "output_type": "stream",
     "text": [
      "Feature extracting: 100%|██████████| 391/391 [00:05<00:00, 68.43it/s]\n",
      "Test Epoch: [209/500] Acc@1:74.79% Acc@5:98.62%: 100%|██████████| 79/79 [00:02<00:00, 38.38it/s]\n",
      "Train Epoch: [210/500] Loss: 0.8697: 100%|██████████| 390/390 [00:36<00:00, 10.70it/s]\n"
     ]
    },
    {
     "name": "stdout",
     "output_type": "stream",
     "text": [
      "0.00021836651252382463\n",
      "tensor(0.8697)\n"
     ]
    },
    {
     "name": "stderr",
     "output_type": "stream",
     "text": [
      "Feature extracting: 100%|██████████| 391/391 [00:05<00:00, 68.51it/s]\n",
      "Test Epoch: [210/500] Acc@1:74.50% Acc@5:98.48%: 100%|██████████| 79/79 [00:02<00:00, 37.59it/s]\n",
      "Train Epoch: [211/500] Loss: 0.8733: 100%|██████████| 390/390 [00:36<00:00, 10.70it/s]\n"
     ]
    },
    {
     "name": "stdout",
     "output_type": "stream",
     "text": [
      "0.00021782149777286398\n",
      "tensor(0.8731)\n"
     ]
    },
    {
     "name": "stderr",
     "output_type": "stream",
     "text": [
      "Feature extracting: 100%|██████████| 391/391 [00:05<00:00, 68.60it/s]\n",
      "Test Epoch: [211/500] Acc@1:74.29% Acc@5:98.55%: 100%|██████████| 79/79 [00:02<00:00, 36.77it/s]\n",
      "Train Epoch: [212/500] Loss: 0.8623: 100%|██████████| 390/390 [00:36<00:00, 10.66it/s]\n"
     ]
    },
    {
     "name": "stdout",
     "output_type": "stream",
     "text": [
      "0.00021726840044842188\n",
      "tensor(0.8628)\n"
     ]
    },
    {
     "name": "stderr",
     "output_type": "stream",
     "text": [
      "Feature extracting: 100%|██████████| 391/391 [00:05<00:00, 68.60it/s]\n",
      "Test Epoch: [212/500] Acc@1:74.28% Acc@5:98.61%: 100%|██████████| 79/79 [00:02<00:00, 37.95it/s]\n",
      "Train Epoch: [213/500] Loss: 0.8535: 100%|██████████| 390/390 [00:36<00:00, 10.69it/s]\n"
     ]
    },
    {
     "name": "stdout",
     "output_type": "stream",
     "text": [
      "0.0002167072651122545\n",
      "tensor(0.8540)\n"
     ]
    },
    {
     "name": "stderr",
     "output_type": "stream",
     "text": [
      "Feature extracting: 100%|██████████| 391/391 [00:05<00:00, 68.37it/s]\n",
      "Test Epoch: [213/500] Acc@1:74.53% Acc@5:98.71%: 100%|██████████| 79/79 [00:02<00:00, 37.72it/s]\n",
      "Train Epoch: [214/500] Loss: 0.8687: 100%|██████████| 390/390 [00:36<00:00, 10.67it/s]\n"
     ]
    },
    {
     "name": "stdout",
     "output_type": "stream",
     "text": [
      "0.00021613813697372186\n",
      "tensor(0.8680)\n"
     ]
    },
    {
     "name": "stderr",
     "output_type": "stream",
     "text": [
      "Feature extracting: 100%|██████████| 391/391 [00:05<00:00, 68.25it/s]\n",
      "Test Epoch: [214/500] Acc@1:74.45% Acc@5:98.62%: 100%|██████████| 79/79 [00:02<00:00, 37.39it/s]\n",
      "Train Epoch: [215/500] Loss: 0.8568: 100%|██████████| 390/390 [00:36<00:00, 10.68it/s]\n"
     ]
    },
    {
     "name": "stdout",
     "output_type": "stream",
     "text": [
      "0.00021556106188614532\n",
      "tensor(0.8574)\n"
     ]
    },
    {
     "name": "stderr",
     "output_type": "stream",
     "text": [
      "Feature extracting: 100%|██████████| 391/391 [00:05<00:00, 68.58it/s]\n",
      "Test Epoch: [215/500] Acc@1:75.15% Acc@5:98.65%: 100%|██████████| 79/79 [00:02<00:00, 38.21it/s]\n",
      "Train Epoch: [216/500] Loss: 0.8602: 100%|██████████| 390/390 [00:36<00:00, 10.71it/s]\n"
     ]
    },
    {
     "name": "stdout",
     "output_type": "stream",
     "text": [
      "0.00021497608634311335\n",
      "tensor(0.8601)\n"
     ]
    },
    {
     "name": "stderr",
     "output_type": "stream",
     "text": [
      "Feature extracting: 100%|██████████| 391/391 [00:05<00:00, 68.80it/s]\n",
      "Test Epoch: [216/500] Acc@1:74.76% Acc@5:98.55%: 100%|██████████| 79/79 [00:02<00:00, 37.35it/s]\n",
      "Train Epoch: [217/500] Loss: 0.8543: 100%|██████████| 390/390 [00:36<00:00, 10.67it/s]\n"
     ]
    },
    {
     "name": "stdout",
     "output_type": "stream",
     "text": [
      "0.0002143832574747356\n",
      "tensor(0.8546)\n"
     ]
    },
    {
     "name": "stderr",
     "output_type": "stream",
     "text": [
      "Feature extracting: 100%|██████████| 391/391 [00:05<00:00, 68.50it/s]\n",
      "Test Epoch: [217/500] Acc@1:74.86% Acc@5:98.52%: 100%|██████████| 79/79 [00:02<00:00, 38.32it/s]\n",
      "Train Epoch: [218/500] Loss: 0.8592: 100%|██████████| 390/390 [00:36<00:00, 10.67it/s]\n"
     ]
    },
    {
     "name": "stdout",
     "output_type": "stream",
     "text": [
      "0.00021378262304384572\n",
      "tensor(0.8589)\n"
     ]
    },
    {
     "name": "stderr",
     "output_type": "stream",
     "text": [
      "Feature extracting: 100%|██████████| 391/391 [00:05<00:00, 68.28it/s]\n",
      "Test Epoch: [218/500] Acc@1:74.63% Acc@5:98.75%: 100%|██████████| 79/79 [00:02<00:00, 37.80it/s]\n",
      "Train Epoch: [219/500] Loss: 0.8548: 100%|██████████| 390/390 [00:36<00:00, 10.68it/s]\n"
     ]
    },
    {
     "name": "stdout",
     "output_type": "stream",
     "text": [
      "0.00021317423144215323\n",
      "tensor(0.8550)\n"
     ]
    },
    {
     "name": "stderr",
     "output_type": "stream",
     "text": [
      "Feature extracting: 100%|██████████| 391/391 [00:05<00:00, 68.72it/s]\n",
      "Test Epoch: [219/500] Acc@1:74.54% Acc@5:98.61%: 100%|██████████| 79/79 [00:02<00:00, 38.16it/s]\n",
      "Train Epoch: [220/500] Loss: 0.8569: 100%|██████████| 390/390 [00:36<00:00, 10.69it/s]\n"
     ]
    },
    {
     "name": "stdout",
     "output_type": "stream",
     "text": [
      "0.0002125581316863449\n",
      "tensor(0.8568)\n"
     ]
    },
    {
     "name": "stderr",
     "output_type": "stream",
     "text": [
      "Feature extracting: 100%|██████████| 391/391 [00:05<00:00, 68.66it/s]\n",
      "Test Epoch: [220/500] Acc@1:74.73% Acc@5:98.65%: 100%|██████████| 79/79 [00:02<00:00, 35.87it/s]\n",
      "Train Epoch: [221/500] Loss: 0.8567: 100%|██████████| 390/390 [00:36<00:00, 10.69it/s]\n"
     ]
    },
    {
     "name": "stdout",
     "output_type": "stream",
     "text": [
      "0.0002119343734141352\n",
      "tensor(0.8567)\n"
     ]
    },
    {
     "name": "stderr",
     "output_type": "stream",
     "text": [
      "Feature extracting: 100%|██████████| 391/391 [00:05<00:00, 68.52it/s]\n",
      "Test Epoch: [221/500] Acc@1:74.95% Acc@5:98.61%: 100%|██████████| 79/79 [00:02<00:00, 37.78it/s]\n",
      "Train Epoch: [222/500] Loss: 0.8530: 100%|██████████| 390/390 [00:36<00:00, 10.67it/s]\n"
     ]
    },
    {
     "name": "stdout",
     "output_type": "stream",
     "text": [
      "0.0002113030068802675\n",
      "tensor(0.8532)\n"
     ]
    },
    {
     "name": "stderr",
     "output_type": "stream",
     "text": [
      "Feature extracting: 100%|██████████| 391/391 [00:05<00:00, 68.16it/s]\n",
      "Test Epoch: [222/500] Acc@1:74.57% Acc@5:98.65%: 100%|██████████| 79/79 [00:02<00:00, 38.27it/s]\n",
      "Train Epoch: [223/500] Loss: 0.8430: 100%|██████████| 390/390 [00:36<00:00, 10.70it/s]\n"
     ]
    },
    {
     "name": "stdout",
     "output_type": "stream",
     "text": [
      "0.00021066408295246489\n",
      "tensor(0.8435)\n"
     ]
    },
    {
     "name": "stderr",
     "output_type": "stream",
     "text": [
      "Feature extracting: 100%|██████████| 391/391 [00:05<00:00, 68.29it/s]\n",
      "Test Epoch: [223/500] Acc@1:75.12% Acc@5:98.73%: 100%|██████████| 79/79 [00:02<00:00, 37.55it/s]\n",
      "Train Epoch: [224/500] Loss: 0.8476: 100%|██████████| 390/390 [00:36<00:00, 10.64it/s]\n"
     ]
    },
    {
     "name": "stdout",
     "output_type": "stream",
     "text": [
      "0.00021001765310733206\n",
      "tensor(0.8474)\n"
     ]
    },
    {
     "name": "stderr",
     "output_type": "stream",
     "text": [
      "Feature extracting: 100%|██████████| 391/391 [00:05<00:00, 68.33it/s]\n",
      "Test Epoch: [224/500] Acc@1:74.97% Acc@5:98.58%: 100%|██████████| 79/79 [00:02<00:00, 37.95it/s]\n",
      "Train Epoch: [225/500] Loss: 0.8445: 100%|██████████| 390/390 [00:36<00:00, 10.65it/s]\n"
     ]
    },
    {
     "name": "stdout",
     "output_type": "stream",
     "text": [
      "0.00020936376942620787\n",
      "tensor(0.8446)\n"
     ]
    },
    {
     "name": "stderr",
     "output_type": "stream",
     "text": [
      "Feature extracting: 100%|██████████| 391/391 [00:05<00:00, 68.45it/s]\n",
      "Test Epoch: [225/500] Acc@1:74.48% Acc@5:98.46%: 100%|██████████| 79/79 [00:02<00:00, 37.92it/s]\n",
      "Train Epoch: [226/500] Loss: 0.8341: 100%|██████████| 390/390 [00:36<00:00, 10.68it/s]\n"
     ]
    },
    {
     "name": "stdout",
     "output_type": "stream",
     "text": [
      "0.0002087024845909693\n",
      "tensor(0.8346)\n"
     ]
    },
    {
     "name": "stderr",
     "output_type": "stream",
     "text": [
      "Feature extracting: 100%|██████████| 391/391 [00:05<00:00, 68.68it/s]\n",
      "Test Epoch: [226/500] Acc@1:75.42% Acc@5:98.58%: 100%|██████████| 79/79 [00:02<00:00, 37.48it/s]\n",
      "Train Epoch: [227/500] Loss: 0.8372: 100%|██████████| 390/390 [00:36<00:00, 10.72it/s]\n"
     ]
    },
    {
     "name": "stdout",
     "output_type": "stream",
     "text": [
      "0.00020803385187978695\n",
      "tensor(0.8370)\n"
     ]
    },
    {
     "name": "stderr",
     "output_type": "stream",
     "text": [
      "Feature extracting: 100%|██████████| 391/391 [00:05<00:00, 68.57it/s]\n",
      "Test Epoch: [227/500] Acc@1:74.72% Acc@5:98.59%: 100%|██████████| 79/79 [00:02<00:00, 37.81it/s]\n",
      "Train Epoch: [228/500] Loss: 0.8319: 100%|██████████| 390/390 [00:36<00:00, 10.70it/s]\n"
     ]
    },
    {
     "name": "stdout",
     "output_type": "stream",
     "text": [
      "0.00020735792516283255\n",
      "tensor(0.8322)\n"
     ]
    },
    {
     "name": "stderr",
     "output_type": "stream",
     "text": [
      "Feature extracting: 100%|██████████| 391/391 [00:05<00:00, 68.25it/s]\n",
      "Test Epoch: [228/500] Acc@1:74.61% Acc@5:98.48%: 100%|██████████| 79/79 [00:02<00:00, 38.75it/s]\n",
      "Train Epoch: [229/500] Loss: 0.8400: 100%|██████████| 390/390 [00:36<00:00, 10.67it/s]\n"
     ]
    },
    {
     "name": "stdout",
     "output_type": "stream",
     "text": [
      "0.00020667475889793888\n",
      "tensor(0.8396)\n"
     ]
    },
    {
     "name": "stderr",
     "output_type": "stream",
     "text": [
      "Feature extracting: 100%|██████████| 391/391 [00:05<00:00, 68.56it/s]\n",
      "Test Epoch: [229/500] Acc@1:74.39% Acc@5:98.51%: 100%|██████████| 79/79 [00:02<00:00, 37.90it/s]\n",
      "Train Epoch: [230/500] Loss: 0.8382: 100%|██████████| 390/390 [00:36<00:00, 10.66it/s]\n"
     ]
    },
    {
     "name": "stdout",
     "output_type": "stream",
     "text": [
      "0.00020598440812621212\n",
      "tensor(0.8383)\n"
     ]
    },
    {
     "name": "stderr",
     "output_type": "stream",
     "text": [
      "Feature extracting: 100%|██████████| 391/391 [00:05<00:00, 67.84it/s]\n",
      "Test Epoch: [230/500] Acc@1:75.36% Acc@5:98.62%: 100%|██████████| 79/79 [00:02<00:00, 38.08it/s]\n",
      "Train Epoch: [231/500] Loss: 0.8315: 100%|██████████| 390/390 [00:36<00:00, 10.68it/s]\n"
     ]
    },
    {
     "name": "stdout",
     "output_type": "stream",
     "text": [
      "0.00020528692846759727\n",
      "tensor(0.8318)\n"
     ]
    },
    {
     "name": "stderr",
     "output_type": "stream",
     "text": [
      "Feature extracting: 100%|██████████| 391/391 [00:05<00:00, 68.48it/s]\n",
      "Test Epoch: [231/500] Acc@1:75.58% Acc@5:98.54%: 100%|██████████| 79/79 [00:02<00:00, 37.78it/s]\n",
      "Train Epoch: [232/500] Loss: 0.8309: 100%|██████████| 390/390 [00:36<00:00, 10.69it/s]\n"
     ]
    },
    {
     "name": "stdout",
     "output_type": "stream",
     "text": [
      "0.00020458237611639714\n",
      "tensor(0.8309)\n"
     ]
    },
    {
     "name": "stderr",
     "output_type": "stream",
     "text": [
      "Feature extracting: 100%|██████████| 391/391 [00:05<00:00, 68.08it/s]\n",
      "Test Epoch: [232/500] Acc@1:75.23% Acc@5:98.56%: 100%|██████████| 79/79 [00:02<00:00, 38.31it/s]\n",
      "Train Epoch: [233/500] Loss: 0.8354: 100%|██████████| 390/390 [00:36<00:00, 10.72it/s]\n"
     ]
    },
    {
     "name": "stdout",
     "output_type": "stream",
     "text": [
      "0.00020387080783674483\n",
      "tensor(0.8352)\n"
     ]
    },
    {
     "name": "stderr",
     "output_type": "stream",
     "text": [
      "Feature extracting: 100%|██████████| 391/391 [00:05<00:00, 68.33it/s]\n",
      "Test Epoch: [233/500] Acc@1:75.17% Acc@5:98.68%: 100%|██████████| 79/79 [00:02<00:00, 38.37it/s]\n",
      "Train Epoch: [234/500] Loss: 0.8241: 100%|██████████| 390/390 [00:36<00:00, 10.69it/s]\n"
     ]
    },
    {
     "name": "stdout",
     "output_type": "stream",
     "text": [
      "0.00020315228095803026\n",
      "tensor(0.8246)\n"
     ]
    },
    {
     "name": "stderr",
     "output_type": "stream",
     "text": [
      "Feature extracting: 100%|██████████| 391/391 [00:05<00:00, 67.76it/s]\n",
      "Test Epoch: [234/500] Acc@1:75.54% Acc@5:98.65%: 100%|██████████| 79/79 [00:02<00:00, 37.90it/s]\n",
      "Train Epoch: [235/500] Loss: 0.8123: 100%|██████████| 390/390 [00:36<00:00, 10.69it/s]\n"
     ]
    },
    {
     "name": "stdout",
     "output_type": "stream",
     "text": [
      "0.0002024268533702814\n",
      "tensor(0.8129)\n"
     ]
    },
    {
     "name": "stderr",
     "output_type": "stream",
     "text": [
      "Feature extracting: 100%|██████████| 391/391 [00:05<00:00, 68.66it/s]\n",
      "Test Epoch: [235/500] Acc@1:75.24% Acc@5:98.67%: 100%|██████████| 79/79 [00:02<00:00, 38.63it/s]\n",
      "Train Epoch: [236/500] Loss: 0.8162: 100%|██████████| 390/390 [00:36<00:00, 10.68it/s]\n"
     ]
    },
    {
     "name": "stdout",
     "output_type": "stream",
     "text": [
      "0.00020169458351950036\n",
      "tensor(0.8161)\n"
     ]
    },
    {
     "name": "stderr",
     "output_type": "stream",
     "text": [
      "Feature extracting: 100%|██████████| 391/391 [00:05<00:00, 68.97it/s]\n",
      "Test Epoch: [236/500] Acc@1:75.14% Acc@5:98.56%: 100%|██████████| 79/79 [00:02<00:00, 38.28it/s]\n",
      "Train Epoch: [237/500] Loss: 0.8235: 100%|██████████| 390/390 [00:36<00:00, 10.70it/s]\n"
     ]
    },
    {
     "name": "stdout",
     "output_type": "stream",
     "text": [
      "0.00020095553040295417\n",
      "tensor(0.8231)\n"
     ]
    },
    {
     "name": "stderr",
     "output_type": "stream",
     "text": [
      "Feature extracting: 100%|██████████| 391/391 [00:05<00:00, 68.33it/s]\n",
      "Test Epoch: [237/500] Acc@1:76.04% Acc@5:98.62%: 100%|██████████| 79/79 [00:02<00:00, 38.64it/s]\n",
      "Train Epoch: [238/500] Loss: 0.8243: 100%|██████████| 390/390 [00:36<00:00, 10.70it/s]\n"
     ]
    },
    {
     "name": "stdout",
     "output_type": "stream",
     "text": [
      "0.00020020975356442174\n",
      "tensor(0.8242)\n"
     ]
    },
    {
     "name": "stderr",
     "output_type": "stream",
     "text": [
      "Feature extracting: 100%|██████████| 391/391 [00:05<00:00, 68.80it/s]\n",
      "Test Epoch: [238/500] Acc@1:76.06% Acc@5:98.74%: 100%|██████████| 79/79 [00:02<00:00, 37.71it/s]\n",
      "Train Epoch: [239/500] Loss: 0.8232: 100%|██████████| 390/390 [00:36<00:00, 10.71it/s]\n"
     ]
    },
    {
     "name": "stdout",
     "output_type": "stream",
     "text": [
      "0.00019945731308939653\n",
      "tensor(0.8232)\n"
     ]
    },
    {
     "name": "stderr",
     "output_type": "stream",
     "text": [
      "Feature extracting: 100%|██████████| 391/391 [00:05<00:00, 68.57it/s]\n",
      "Test Epoch: [239/500] Acc@1:75.40% Acc@5:98.68%: 100%|██████████| 79/79 [00:02<00:00, 38.14it/s]\n",
      "Train Epoch: [240/500] Loss: 0.8147: 100%|██████████| 390/390 [00:36<00:00, 10.69it/s]\n"
     ]
    },
    {
     "name": "stdout",
     "output_type": "stream",
     "text": [
      "0.00019869826960024558\n",
      "tensor(0.8151)\n"
     ]
    },
    {
     "name": "stderr",
     "output_type": "stream",
     "text": [
      "Feature extracting: 100%|██████████| 391/391 [00:05<00:00, 68.91it/s]\n",
      "Test Epoch: [240/500] Acc@1:75.29% Acc@5:98.81%: 100%|██████████| 79/79 [00:02<00:00, 38.06it/s]\n",
      "Train Epoch: [241/500] Loss: 0.8200: 100%|██████████| 390/390 [00:36<00:00, 10.65it/s]\n"
     ]
    },
    {
     "name": "stdout",
     "output_type": "stream",
     "text": [
      "0.0001979326842513254\n",
      "tensor(0.8198)\n"
     ]
    },
    {
     "name": "stderr",
     "output_type": "stream",
     "text": [
      "Feature extracting: 100%|██████████| 391/391 [00:05<00:00, 67.73it/s]\n",
      "Test Epoch: [241/500] Acc@1:75.41% Acc@5:98.64%: 100%|██████████| 79/79 [00:02<00:00, 38.21it/s]\n",
      "Train Epoch: [242/500] Loss: 0.8190: 100%|██████████| 390/390 [00:36<00:00, 10.68it/s]\n"
     ]
    },
    {
     "name": "stdout",
     "output_type": "stream",
     "text": [
      "0.0001971606187240547\n",
      "tensor(0.8191)\n"
     ]
    },
    {
     "name": "stderr",
     "output_type": "stream",
     "text": [
      "Feature extracting: 100%|██████████| 391/391 [00:05<00:00, 68.51it/s]\n",
      "Test Epoch: [242/500] Acc@1:75.68% Acc@5:98.56%: 100%|██████████| 79/79 [00:02<00:00, 38.29it/s]\n",
      "Train Epoch: [243/500] Loss: 0.8126: 100%|██████████| 390/390 [00:36<00:00, 10.69it/s]\n"
     ]
    },
    {
     "name": "stdout",
     "output_type": "stream",
     "text": [
      "0.000196382135221945\n",
      "tensor(0.8129)\n"
     ]
    },
    {
     "name": "stderr",
     "output_type": "stream",
     "text": [
      "Feature extracting: 100%|██████████| 391/391 [00:05<00:00, 68.76it/s]\n",
      "Test Epoch: [243/500] Acc@1:75.38% Acc@5:98.63%: 100%|██████████| 79/79 [00:02<00:00, 38.42it/s]\n",
      "Train Epoch: [244/500] Loss: 0.8097: 100%|██████████| 390/390 [00:36<00:00, 10.68it/s]\n"
     ]
    },
    {
     "name": "stdout",
     "output_type": "stream",
     "text": [
      "0.0001955972964655891\n",
      "tensor(0.8099)\n"
     ]
    },
    {
     "name": "stderr",
     "output_type": "stream",
     "text": [
      "Feature extracting: 100%|██████████| 391/391 [00:05<00:00, 68.73it/s]\n",
      "Test Epoch: [244/500] Acc@1:75.19% Acc@5:98.51%: 100%|██████████| 79/79 [00:02<00:00, 37.96it/s]\n",
      "Train Epoch: [245/500] Loss: 0.8114: 100%|██████████| 390/390 [00:36<00:00, 10.67it/s]\n"
     ]
    },
    {
     "name": "stdout",
     "output_type": "stream",
     "text": [
      "0.0001948061656876077\n",
      "tensor(0.8113)\n"
     ]
    },
    {
     "name": "stderr",
     "output_type": "stream",
     "text": [
      "Feature extracting: 100%|██████████| 391/391 [00:05<00:00, 68.31it/s]\n",
      "Test Epoch: [245/500] Acc@1:75.40% Acc@5:98.60%: 100%|██████████| 79/79 [00:02<00:00, 38.24it/s]\n",
      "Train Epoch: [246/500] Loss: 0.8102: 100%|██████████| 390/390 [00:36<00:00, 10.68it/s]\n"
     ]
    },
    {
     "name": "stdout",
     "output_type": "stream",
     "text": [
      "0.00019400880662755497\n",
      "tensor(0.8102)\n"
     ]
    },
    {
     "name": "stderr",
     "output_type": "stream",
     "text": [
      "Feature extracting: 100%|██████████| 391/391 [00:05<00:00, 68.77it/s]\n",
      "Test Epoch: [246/500] Acc@1:75.41% Acc@5:98.53%: 100%|██████████| 79/79 [00:02<00:00, 38.57it/s]\n",
      "Train Epoch: [247/500] Loss: 0.8071: 100%|██████████| 390/390 [00:36<00:00, 10.68it/s]\n"
     ]
    },
    {
     "name": "stdout",
     "output_type": "stream",
     "text": [
      "0.00019320528352678314\n",
      "tensor(0.8072)\n"
     ]
    },
    {
     "name": "stderr",
     "output_type": "stream",
     "text": [
      "Feature extracting: 100%|██████████| 391/391 [00:05<00:00, 68.10it/s]\n",
      "Test Epoch: [247/500] Acc@1:75.30% Acc@5:98.64%: 100%|██████████| 79/79 [00:02<00:00, 37.50it/s]\n",
      "Train Epoch: [248/500] Loss: 0.7978: 100%|██████████| 390/390 [00:36<00:00, 10.70it/s]\n"
     ]
    },
    {
     "name": "stdout",
     "output_type": "stream",
     "text": [
      "0.00019239566112326683\n",
      "tensor(0.7982)\n"
     ]
    },
    {
     "name": "stderr",
     "output_type": "stream",
     "text": [
      "Feature extracting: 100%|██████████| 391/391 [00:05<00:00, 68.92it/s]\n",
      "Test Epoch: [248/500] Acc@1:75.51% Acc@5:98.60%: 100%|██████████| 79/79 [00:02<00:00, 38.15it/s]\n",
      "Train Epoch: [249/500] Loss: 0.8050: 100%|██████████| 390/390 [00:36<00:00, 10.67it/s]\n"
     ]
    },
    {
     "name": "stdout",
     "output_type": "stream",
     "text": [
      "0.00019158000464638715\n",
      "tensor(0.8047)\n"
     ]
    },
    {
     "name": "stderr",
     "output_type": "stream",
     "text": [
      "Feature extracting: 100%|██████████| 391/391 [00:05<00:00, 68.29it/s]\n",
      "Test Epoch: [249/500] Acc@1:75.95% Acc@5:98.71%: 100%|██████████| 79/79 [00:02<00:00, 38.01it/s]\n",
      "Train Epoch: [250/500] Loss: 0.8127: 100%|██████████| 390/390 [00:36<00:00, 10.67it/s]\n"
     ]
    },
    {
     "name": "stdout",
     "output_type": "stream",
     "text": [
      "0.00019075837981167638\n",
      "tensor(0.8123)\n"
     ]
    },
    {
     "name": "stderr",
     "output_type": "stream",
     "text": [
      "Feature extracting: 100%|██████████| 391/391 [00:05<00:00, 68.38it/s]\n",
      "Test Epoch: [250/500] Acc@1:75.55% Acc@5:98.61%: 100%|██████████| 79/79 [00:02<00:00, 37.15it/s]\n",
      "Train Epoch: [251/500] Loss: 0.7942: 100%|██████████| 390/390 [00:36<00:00, 10.69it/s]\n"
     ]
    },
    {
     "name": "stdout",
     "output_type": "stream",
     "text": [
      "0.00018993085281552343\n",
      "tensor(0.7951)\n"
     ]
    },
    {
     "name": "stderr",
     "output_type": "stream",
     "text": [
      "Feature extracting: 100%|██████████| 391/391 [00:05<00:00, 68.49it/s]\n",
      "Test Epoch: [251/500] Acc@1:75.69% Acc@5:98.64%: 100%|██████████| 79/79 [00:02<00:00, 38.36it/s]\n",
      "Train Epoch: [252/500] Loss: 0.7996: 100%|██████████| 390/390 [00:36<00:00, 10.69it/s]\n"
     ]
    },
    {
     "name": "stdout",
     "output_type": "stream",
     "text": [
      "0.00018909749032984053\n",
      "tensor(0.7994)\n"
     ]
    },
    {
     "name": "stderr",
     "output_type": "stream",
     "text": [
      "Feature extracting: 100%|██████████| 391/391 [00:05<00:00, 68.78it/s]\n",
      "Test Epoch: [252/500] Acc@1:76.08% Acc@5:98.72%: 100%|██████████| 79/79 [00:02<00:00, 38.22it/s]\n",
      "Train Epoch: [253/500] Loss: 0.8014: 100%|██████████| 390/390 [00:36<00:00, 10.68it/s]\n"
     ]
    },
    {
     "name": "stdout",
     "output_type": "stream",
     "text": [
      "0.00018825835949669154\n",
      "tensor(0.8013)\n"
     ]
    },
    {
     "name": "stderr",
     "output_type": "stream",
     "text": [
      "Feature extracting: 100%|██████████| 391/391 [00:05<00:00, 68.76it/s]\n",
      "Test Epoch: [253/500] Acc@1:75.37% Acc@5:98.63%: 100%|██████████| 79/79 [00:02<00:00, 35.97it/s]\n",
      "Train Epoch: [254/500] Loss: 0.8087: 100%|██████████| 390/390 [00:36<00:00, 10.70it/s]\n"
     ]
    },
    {
     "name": "stdout",
     "output_type": "stream",
     "text": [
      "0.0001874135279228828\n",
      "tensor(0.8083)\n"
     ]
    },
    {
     "name": "stderr",
     "output_type": "stream",
     "text": [
      "Feature extracting: 100%|██████████| 391/391 [00:05<00:00, 68.27it/s]\n",
      "Test Epoch: [254/500] Acc@1:75.92% Acc@5:98.62%: 100%|██████████| 79/79 [00:02<00:00, 38.42it/s]\n",
      "Train Epoch: [255/500] Loss: 0.8018: 100%|██████████| 390/390 [00:36<00:00, 10.69it/s]\n"
     ]
    },
    {
     "name": "stdout",
     "output_type": "stream",
     "text": [
      "0.0001865630636745158\n",
      "tensor(0.8021)\n"
     ]
    },
    {
     "name": "stderr",
     "output_type": "stream",
     "text": [
      "Feature extracting: 100%|██████████| 391/391 [00:05<00:00, 68.96it/s]\n",
      "Test Epoch: [255/500] Acc@1:75.84% Acc@5:98.67%: 100%|██████████| 79/79 [00:02<00:00, 38.13it/s]\n",
      "Train Epoch: [256/500] Loss: 0.7862: 100%|██████████| 390/390 [00:36<00:00, 10.67it/s]\n"
     ]
    },
    {
     "name": "stdout",
     "output_type": "stream",
     "text": [
      "0.0001857070352715034\n",
      "tensor(0.7870)\n"
     ]
    },
    {
     "name": "stderr",
     "output_type": "stream",
     "text": [
      "Feature extracting: 100%|██████████| 391/391 [00:05<00:00, 68.35it/s]\n",
      "Test Epoch: [256/500] Acc@1:75.51% Acc@5:98.86%: 100%|██████████| 79/79 [00:02<00:00, 37.21it/s]\n",
      "Train Epoch: [257/500] Loss: 0.7796:  29%|██▉       | 115/390 [00:11<00:24, 11.02it/s]"
     ]
    }
   ],
   "source": [
    "# Train SimCLR\n",
    "import numpy as np\n",
    "   \n",
    "# Feature dim for latent vector, Temperature used in softmax, Top k most similar images used to predict the label\n",
    "feature_dim, temp, k = 128, [0.1], 200\n",
    "# Number of images in each mini-batch, Number of sweeps over the dataset to train\n",
    "batch_size=128\n",
    "#Coarse setting\n",
    "#Fine setting\n",
    "lr_start = 2.5e-5\n",
    "lr_end =0.0158\n",
    "max_lrvalue=2.35e-04 #Rule of Thumb is peaklr (from lambdalr test)*3/8\n",
    "temp0 = 0.1 #contrastive loss temperature setting\n",
    "schedulertype='onecyclelr' #'lambdalr' for testing range of training or 'onecyclelr' for actual training\n",
    "if schedulertype=='lambdalr':\n",
    "    epochs=10\n",
    "    #epochs=10 #coarserg recommend 10 epochs, finerg recommend 100 epochs \n",
    "elif schedulertype=='onecyclelr':\n",
    "    epochs=500\n",
    "    #epochs=3\n",
    "else:\n",
    "    print('choose valid option for scheduler')\n",
    "smoothfactor=0.95 #Smooth Factor for smoothing contrastive loss    \n",
    "IterationStr='It1'\n",
    "loadmodel=0 #loadmodel=0 From scratch or loadmodel=1 Continue from presaved model \n",
    "pathtosave='/home/umaiyal/CS5260Project/results/Simclr_vit_RAdamv2'+schedulertype+'/'+IterationStr+'/'\n",
    "save_name_pre = '{}_{}_{}_{}_{}'.format(feature_dim, temp0, k, batch_size, epochs)\n",
    "csvfilename=pathtosave+'{}_statistics.csv'.format(save_name_pre)\n",
    "modelfilename=pathtosave+'{}_model.pth'.format(save_name_pre)\n",
    "\n",
    "# data prepare\n",
    "train_data = CIFAR10Pair(root='data', train=True, transform=train_transform, download=True)\n",
    "train_loader = DataLoader(train_data, batch_size=batch_size, shuffle=True, num_workers=16, pin_memory=True,\n",
    "                          drop_last=True)\n",
    "memory_data = CIFAR10Pair(root='data', train=True, transform=test_transform, download=True)\n",
    "memory_loader = DataLoader(memory_data, batch_size=batch_size, shuffle=False, num_workers=16, pin_memory=True)\n",
    "test_data = CIFAR10Pair(root='data', train=False, transform=test_transform, download=True)\n",
    "test_loader = DataLoader(test_data, batch_size=batch_size, shuffle=False, num_workers=16, pin_memory=True)\n",
    "\n",
    "import torch\n",
    "torch.cuda.is_available()\n",
    "torch.cuda.set_device(2)\n",
    "\n",
    "# model setup and optimizer config\n",
    "model = ViT().cuda()\n",
    "\n",
    "flops, params = profile(model, inputs=(torch.randn(1, 3, 32, 32).cuda(),))\n",
    "flops, params = clever_format([flops, params])\n",
    "print('# Model Params: {} FLOPs: {}'.format(params, flops))\n",
    "\n",
    "optimizer = optim.RAdam(model.parameters(), lr=1.0)\n",
    "#optimizer=optim.Adam(model.parameters(),lr=1.0)\n",
    "\n",
    "#exponentially increase learning rate from low to high\n",
    "def lrs(batch):\n",
    "   low = math.log2(lr_start)\n",
    "   high = math.log2(lr_end)\n",
    "   return 2**(low+(high-low)*batch/len(train_loader)/epochs)\n",
    "   \n",
    "if schedulertype=='lambdalr':\n",
    "   scheduler = torch.optim.lr_scheduler.LambdaLR(optimizer, lrs)\n",
    "elif schedulertype=='onecyclelr':\n",
    "   div_factorvalue=10#round(max_lrvalue/2.0e-5) \n",
    "   scheduler = torch.optim.lr_scheduler.OneCycleLR(optimizer,div_factor=div_factorvalue,max_lr=max_lrvalue,total_steps=len(train_loader)*epochs,epochs=epochs)\n",
    "else:\n",
    "   print('choose valid option for scheduler')\n",
    "\n",
    "if loadmodel==1:\n",
    "   checkpoint=torch.load(modelfilename)\n",
    "   model.load_state_dict(checkpoint['model_state_dict'],strict=False)\n",
    "   model.to(device)\n",
    "   optimizer.load_state_dict(checkpoint['optimizer_state_dict'])\n",
    "   scheduler.load_state_dict(checkpoint['scheduler_state_dict'])\n",
    "   startepoch=checkpoint['epoch']+1\n",
    "   best_acc=checkpoint['best_acc']\n",
    "\n",
    "   print(startepoch)\n",
    "else:     \n",
    "   startepoch=1\n",
    "   best_acc=0\n",
    "   \n",
    "\n",
    "c = len(memory_data.classes)\n",
    "\n",
    "if not os.path.exists(pathtosave):\n",
    "   os.makedirs(pathtosave)\n",
    "\n",
    "train_loss_epoch=torch.zeros(epochs)\n",
    "smooth_loss_epoch=torch.zeros(epochs)\n",
    "test_acc_1_epoch=torch.zeros(epochs)\n",
    "test_acc_5_epoch=torch.zeros(epochs)\n",
    "lr_epoch=torch.zeros(epochs)\n",
    "\n",
    "if loadmodel==1:\n",
    "\n",
    "   df=pd.read_csv(csvfilename)\n",
    "   temp=pd.to_numeric(df.iloc[0:startepoch-1,1]).apply(np.array)\n",
    "   train_loss_epoch[0:temp.size]=torch.tensor(temp)\n",
    "   train_loss_list=temp.tolist()\n",
    "   temp=pd.to_numeric(df.iloc[0:startepoch-1,2]).apply(np.array)\n",
    "   test_acc_1_epoch[0:temp.size]=torch.tensor(temp)\n",
    "   test_acc_1_list=temp.tolist()\n",
    "   temp=pd.to_numeric(df.iloc[0:startepoch-1,3]).apply(np.array)\n",
    "   test_acc_5_epoch[0:temp.size]=torch.tensor(temp)\n",
    "   test_acc_5_list=temp.tolist()\n",
    "   temp=pd.to_numeric(df.iloc[0:startepoch-1,4]).apply(np.array)\n",
    "   smooth_loss_epoch[0:temp.size]=torch.tensor(temp)\n",
    "   smooth_loss_list=temp.tolist()\n",
    "   temp=pd.to_numeric(df.iloc[0:startepoch-1,5]).apply(np.array)\n",
    "   lr_epoch[0:temp.size]=torch.tensor(temp)\n",
    "   lr_list=temp.tolist()\n",
    "   results = {'train_loss': train_loss_list, 'test_acc@1': test_acc_1_list, 'test_acc@5': test_acc_5_list, 'smooth_loss': smooth_loss_list, 'lr_epoch': lr_list}\n",
    "\n",
    "else:\n",
    "   results = {'train_loss': [], 'test_acc@1': [], 'test_acc@5': [], 'smooth_loss': [], 'lr_epoch': []}\n",
    "\n",
    "\n",
    "for epoch in range(startepoch, epochs + 1):\n",
    "    train_loss = train(model, train_loader, optimizer, scheduler, temp0)\n",
    "    train_loss_epoch[epoch-1]=train_loss\n",
    "    if epoch>1:\n",
    "       smooth_loss=float(train_loss_epoch[epoch-1]*smoothfactor+smooth_loss_epoch[epoch-2]*(1.0-smoothfactor))\n",
    "    else:\n",
    "       smooth_loss=train_loss\n",
    "    smooth_loss_epoch[epoch-1]=torch.tensor(smooth_loss)\n",
    "\n",
    "\n",
    "    print(optimizer.param_groups[0]['lr'])\n",
    "    print(smooth_loss_epoch[epoch-1])\n",
    "    lr_epoch[epoch-1]=float(optimizer.param_groups[0]['lr'])\n",
    "   \n",
    "        \n",
    "    results['train_loss'].append(train_loss)\n",
    "    test_acc_1, test_acc_5 = test(model, memory_loader, test_loader, temp0)\n",
    "    results['test_acc@1'].append(test_acc_1)\n",
    "    results['test_acc@5'].append(test_acc_5)\n",
    "    results['smooth_loss'].append(smooth_loss)\n",
    "    results['lr_epoch'].append(optimizer.param_groups[0]['lr'])\n",
    "    # save statistics\n",
    "    data_frame = pd.DataFrame(data=results, index=range(1, epoch + 1))\n",
    "    data_frame.to_csv(csvfilename, index_label='epoch')\n",
    "    if test_acc_1 > best_acc:\n",
    "        best_acc = test_acc_1\n",
    "        torch.save({'epoch':epoch,'model_state_dict':model.state_dict(),'optimizer_state_dict':optimizer.state_dict(),'scheduler_state_dict':scheduler.state_dict(),'best_acc':best_acc}, modelfilename)\n",
    "    test_acc_1_epoch[epoch-1]=test_acc_1\n",
    "    test_acc_5_epoch[epoch-1]=test_acc_5\n",
    "    \n",
    "minloss_loc=torch.argmin(smooth_loss_epoch)\n",
    "minloss_loclr=lr_epoch[minloss_loc]\n",
    "print(f'lr corresponding to minloss={minloss_loclr}');\n",
    "print(f'suggested maxlr={minloss_loclr*3/8}');\n",
    "print(f'suggested minlr={minloss_loclr*3/80}');"
   ]
  },
  {
   "cell_type": "code",
   "execution_count": null,
   "metadata": {
    "id": "Kc2fmSbpO0Po"
   },
   "outputs": [],
   "source": [
    "import matplotlib.pyplot as plt\n",
    "import pandas as pd\n",
    "\n",
    "df=pd.read_csv(csvfilename)\n",
    "\n",
    "f1=plt.figure()\n",
    "plt.semilogx(df['lr_epoch'],df['smooth_loss'])  \n",
    "plt.xlabel('learning rate')\n",
    "plt.ylabel('smoothed trg epoch loss')\n",
    "plt.show()\n",
    "\n",
    "f2=plt.figure()\n",
    "plt.plot(df['test_acc@1'])\n",
    "plt.title('Sim CLR with RAdam')\n",
    "plt.xlabel('epoch number')\n",
    "plt.ylabel('epoch Test Accuracy')\n",
    "plt.show()"
   ]
  }
 ],
 "metadata": {
  "accelerator": "GPU",
  "colab": {
   "background_execution": "on",
   "collapsed_sections": [],
   "name": "simclr_convnext_500_RAdamonecycle.ipynb",
   "provenance": []
  },
  "kernelspec": {
   "display_name": "Python 3",
   "language": "python",
   "name": "python3"
  },
  "language_info": {
   "codemirror_mode": {
    "name": "ipython",
    "version": 3
   },
   "file_extension": ".py",
   "mimetype": "text/x-python",
   "name": "python",
   "nbconvert_exporter": "python",
   "pygments_lexer": "ipython3",
   "version": "3.7.10"
  }
 },
 "nbformat": 4,
 "nbformat_minor": 1
}
