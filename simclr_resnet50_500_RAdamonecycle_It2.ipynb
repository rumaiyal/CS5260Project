{
  "cells": [
    {
      "cell_type": "markdown",
      "metadata": {
        "id": "HptO0CSwNjie"
      },
      "source": [
        "# Contrastive Learning on CIFAR10 using ConvNext Backbone"
      ]
    },
    {
      "cell_type": "markdown",
      "metadata": {
        "id": "vXC8nEmxOMN6"
      },
      "source": [
        "First, we import the dataset and define transformation operations on it. We apply random transformation on images (crop + flip + colorjitter + grayscale)."
      ]
    },
    {
      "cell_type": "code",
      "source": [
        "gpu_info = !nvidia-smi\n",
        "gpu_info = '\\n'.join(gpu_info)\n",
        "if gpu_info.find('failed') >= 0:\n",
        "  print('Not connected to a GPU')\n",
        "else:\n",
        "  print(gpu_info)"
      ],
      "metadata": {
        "colab": {
          "base_uri": "https://localhost:8080/"
        },
        "id": "Ue-tll4otCg8",
        "outputId": "8b5e2c1b-953b-4a50-a07f-4426503ec1a8"
      },
      "execution_count": null,
      "outputs": [
        {
          "output_type": "stream",
          "name": "stdout",
          "text": [
            "Fri Apr 29 10:06:28 2022       \n",
            "+-----------------------------------------------------------------------------+\n",
            "| NVIDIA-SMI 460.32.03    Driver Version: 460.32.03    CUDA Version: 11.2     |\n",
            "|-------------------------------+----------------------+----------------------+\n",
            "| GPU  Name        Persistence-M| Bus-Id        Disp.A | Volatile Uncorr. ECC |\n",
            "| Fan  Temp  Perf  Pwr:Usage/Cap|         Memory-Usage | GPU-Util  Compute M. |\n",
            "|                               |                      |               MIG M. |\n",
            "|===============================+======================+======================|\n",
            "|   0  Tesla V100-SXM2...  Off  | 00000000:00:04.0 Off |                    0 |\n",
            "| N/A   34C    P0    25W / 300W |      0MiB / 16160MiB |      0%      Default |\n",
            "|                               |                      |                  N/A |\n",
            "+-------------------------------+----------------------+----------------------+\n",
            "                                                                               \n",
            "+-----------------------------------------------------------------------------+\n",
            "| Processes:                                                                  |\n",
            "|  GPU   GI   CI        PID   Type   Process name                  GPU Memory |\n",
            "|        ID   ID                                                   Usage      |\n",
            "|=============================================================================|\n",
            "|  No running processes found                                                 |\n",
            "+-----------------------------------------------------------------------------+\n"
          ]
        }
      ]
    },
    {
      "cell_type": "code",
      "source": [
        "from google.colab import drive\n",
        "drive.mount('/content/drive')"
      ],
      "metadata": {
        "colab": {
          "base_uri": "https://localhost:8080/"
        },
        "id": "BpLKlmPItTHQ",
        "outputId": "e93fb292-ca17-4cdb-c265-1132a5f0a9b0"
      },
      "execution_count": null,
      "outputs": [
        {
          "output_type": "stream",
          "name": "stdout",
          "text": [
            "Drive already mounted at /content/drive; to attempt to forcibly remount, call drive.mount(\"/content/drive\", force_remount=True).\n"
          ]
        }
      ]
    },
    {
      "cell_type": "code",
      "execution_count": null,
      "metadata": {
        "id": "c61bUj3dVpYD"
      },
      "outputs": [],
      "source": [
        "from PIL import Image\n",
        "from torchvision import transforms\n",
        "from torchvision.datasets import CIFAR10\n",
        "import torch\n",
        "\n",
        "class CIFAR10Pair(CIFAR10):\n",
        "    \"\"\"CIFAR10 Dataset.\n",
        "    \"\"\"\n",
        "\n",
        "    def __getitem__(self, index):\n",
        "        img, target = self.data[index], self.targets[index]\n",
        "        img = Image.fromarray(img)\n",
        "\n",
        "        if self.transform is not None:\n",
        "            pos_1 = self.transform(img)\n",
        "            pos_2 = self.transform(img)\n",
        "\n",
        "        if self.target_transform is not None:\n",
        "            target = self.target_transform(target)\n",
        "\n",
        "        return pos_1, pos_2, target\n",
        "\n",
        "\n",
        "train_transform = transforms.Compose([\n",
        "    transforms.RandomResizedCrop(32),\n",
        "    transforms.RandomHorizontalFlip(p=0.5),\n",
        "    transforms.RandomApply([transforms.ColorJitter(0.4, 0.4, 0.4, 0.1)], p=0.8),\n",
        "    transforms.RandomGrayscale(p=0.2),\n",
        "    transforms.ToTensor(),\n",
        "    transforms.Normalize([0.4914, 0.4822, 0.4465], [0.2023, 0.1994, 0.2010])])\n",
        "\n",
        "test_transform = transforms.Compose([\n",
        "    transforms.ToTensor(),\n",
        "    transforms.Normalize([0.4914, 0.4822, 0.4465], [0.2023, 0.1994, 0.2010])])"
      ]
    },
    {
      "cell_type": "markdown",
      "metadata": {
        "id": "ct01fnfSNHuT"
      },
      "source": [
        "We use commonly used ResNet-50 as ConvNet encoders for simplicity in the original paper. The task 1 is to set encoder and projection head. The parameters are adapted from the original paper."
      ]
    },
    {
      "cell_type": "code",
      "execution_count": null,
      "metadata": {
        "id": "ZbjYxzrgG6rO"
      },
      "outputs": [],
      "source": [
        "import torch\n",
        "import torch.nn as nn\n",
        "import torch.nn.functional as F\n",
        "from torchvision.models.resnet import resnet50\n",
        "\n",
        "\n",
        "class Model(nn.Module):\n",
        "    def __init__(self, feature_dim=128):\n",
        "        super(Model, self).__init__()\n",
        "\n",
        "        self.f = []\n",
        "        for name, module in resnet50().named_children():\n",
        "            if name == 'conv1':\n",
        "                module = nn.Conv2d(3, 64, kernel_size=3, stride=1, padding=1, bias=False)\n",
        "            if not isinstance(module, nn.Linear) and not isinstance(module, nn.MaxPool2d):\n",
        "                self.f.append(module)\n",
        "        # ----------------------------------------------------------------------\n",
        "        # START OF YOUR CODE\n",
        "        # ----------------------------------------------------------------------\n",
        "        # Task 1\n",
        "        # set a neural network base encoder self.f\n",
        "        # hint: nn.Sequential\n",
        "        # Reference : https://github.com/leftthomas/SimCLR/blob/master/model.py\n",
        "        self.f = nn.Sequential(*self.f)\n",
        "\n",
        "\n",
        "        # set a small neural network projection head\n",
        "        # Dense-> Relu-> Dense (2-layer MLP to project the representation to a 128-dimensional latent space and \n",
        "        # the representation is 2048-dimensional here)\n",
        "        # Reference : https://github.com/leftthomas/SimCLR/blob/master/model.py\n",
        "        self.g = nn.Sequential(nn.Linear(2048, 512, bias=False), nn.BatchNorm1d(512),\n",
        "                               nn.ReLU(inplace=True), nn.Linear(512, feature_dim, bias=True))\n",
        "     \n",
        "\n",
        "        \n",
        "        # ----------------------------------------------------------------------\n",
        "        # END OF YOUR CODE\n",
        "        # ----------------------------------------------------------------------\n",
        "    def forward(self, x):\n",
        "        x = self.f(x)\n",
        "        feature = torch.flatten(x, start_dim=1)\n",
        "        out = self.g(feature)\n",
        "        return F.normalize(feature, dim=-1), F.normalize(out, dim=-1)\n"
      ]
    },
    {
      "cell_type": "markdown",
      "metadata": {
        "id": "PPM5hsulQ74i"
      },
      "source": [
        "We train encoder network and projection head to maximize agreement using a contrastive loss. The default epoch is 1 for time efficiency while it could takes about 10 minutes to run for one epoch in google colab. The task 2 is to calculate the contrastive loss.\n",
        "To evaluate the influence of temperature value for contrastive loss, we run this training process 3 times with different temperature value (0.1,0.5 and 1.0)."
      ]
    },
    {
      "cell_type": "code",
      "execution_count": null,
      "metadata": {
        "colab": {
          "base_uri": "https://localhost:8080/"
        },
        "id": "w7FrLDw2HAWN",
        "outputId": "28857ea7-5c36-49f4-93a5-791e0f828bc1"
      },
      "outputs": [
        {
          "output_type": "stream",
          "name": "stdout",
          "text": [
            "Requirement already satisfied: thop in /usr/local/lib/python3.7/dist-packages (0.0.31.post2005241907)\n",
            "Requirement already satisfied: torch>=1.0.0 in /usr/local/lib/python3.7/dist-packages (from thop) (1.11.0+cu113)\n",
            "Requirement already satisfied: typing-extensions in /usr/local/lib/python3.7/dist-packages (from torch>=1.0.0->thop) (4.2.0)\n"
          ]
        }
      ],
      "source": [
        "import argparse\n",
        "import os\n",
        "\n",
        "import numpy as np\n",
        "import pandas as pd\n",
        "import torch\n",
        "import torch.optim as optim\n",
        "!pip install thop\n",
        "from thop import profile, clever_format\n",
        "from torch.utils.data import DataLoader\n",
        "from tqdm import tqdm\n",
        "\n",
        "\n",
        "import math\n",
        "\n",
        "def contrastive_loss(out_1, out_2, temperature):\n",
        "\n",
        "    # ------------------------------------------------------------------\n",
        "    # START OF YOUR CODE\n",
        "    # ------------------------------------------------------------------\n",
        "    # Task2: implement contrastive loss function and return loss variable\n",
        "    # hint: loss formula could refer to the slides\n",
        "    # input: out_1, out_2，temperature\n",
        "    # output: loss variable\n",
        "\n",
        "    out = torch.cat([out_1, out_2], dim=0)\n",
        "    # [2*B, 2*B]\n",
        "    sim_matrix = torch.exp(torch.mm(out, out.t().contiguous()) / temperature)\n",
        "    mask = (torch.ones_like(sim_matrix) - torch.eye(2 * batch_size, device=sim_matrix.device)).bool()\n",
        "    # [2*B, 2*B-1]\n",
        "    sim_matrix = sim_matrix.masked_select(mask).view(2 * batch_size, -1)\n",
        "\n",
        "    # compute loss\n",
        "    pos_sim = torch.exp(torch.sum(out_1 * out_2, dim=-1) / temperature)\n",
        "    # [2*B]\n",
        "    pos_sim = torch.cat([pos_sim, pos_sim], dim=0)\n",
        "    loss = (- torch.log(pos_sim / sim_matrix.sum(dim=-1))).mean() \n",
        "\n",
        "    # ------------------------------------------------------------------\n",
        "    # END OF YOUR CODE\n",
        "    # ------------------------------------------------------------------\n",
        "\n",
        "    return loss\n",
        "\n",
        "# train for one epoch to learn unique features\n",
        "def train(net, data_loader, train_optimizer, train_scheduler, temperature):\n",
        "    net.train()\n",
        "    total_loss, total_num, train_bar = 0.0, 0, tqdm(data_loader)\n",
        "    for pos_1, pos_2, target in train_bar:\n",
        "        pos_1, pos_2 = pos_1.cuda(non_blocking=True), pos_2.cuda(non_blocking=True)\n",
        "        feature_1, out_1 = net(pos_1)\n",
        "        feature_2, out_2 = net(pos_2)\n",
        "\n",
        "        loss = contrastive_loss(out_1, out_2, temperature)\n",
        "\n",
        "        train_optimizer.zero_grad()\n",
        "        loss.backward()\n",
        "        train_optimizer.step()\n",
        "        train_scheduler.step()\n",
        "\n",
        "        total_num += batch_size\n",
        "        total_loss += loss.item() * batch_size\n",
        "        train_bar.set_description('Train Epoch: [{}/{}] Loss: {:.4f}'.format(epoch, epochs, total_loss / total_num))\n",
        "\n",
        "    return total_loss / total_num\n",
        "\n",
        "\n",
        "# test for one epoch, use weighted knn to find the most similar images' label to assign the test image\n",
        "def test(net, memory_data_loader, test_data_loader, temperature):\n",
        "    net.eval()\n",
        "    total_top1, total_top5, total_num, feature_bank = 0.0, 0.0, 0, []\n",
        "    with torch.no_grad():\n",
        "        # generate feature bank\n",
        "        for data, _, target in tqdm(memory_data_loader, desc='Feature extracting'):\n",
        "            feature, out = net(data.cuda(non_blocking=True))\n",
        "            feature_bank.append(feature)\n",
        "        # [D, N]\n",
        "        feature_bank = torch.cat(feature_bank, dim=0).t().contiguous()\n",
        "        # [N]\n",
        "        feature_labels = torch.tensor(memory_data_loader.dataset.targets, device=feature_bank.device)\n",
        "        # loop test data to predict the label by weighted knn search\n",
        "        test_bar = tqdm(test_data_loader)\n",
        "        for data, _, target in test_bar:\n",
        "            data, target = data.cuda(non_blocking=True), target.cuda(non_blocking=True)\n",
        "            feature, out = net(data)\n",
        "\n",
        "            total_num += data.size(0)\n",
        "            # compute cos similarity between each feature vector and feature bank ---> [B, N]\n",
        "            sim_matrix = torch.mm(feature, feature_bank)\n",
        "            # [B, K]\n",
        "            sim_weight, sim_indices = sim_matrix.topk(k=k, dim=-1)\n",
        "            # [B, K]\n",
        "            sim_labels = torch.gather(feature_labels.expand(data.size(0), -1), dim=-1, index=sim_indices)\n",
        "            sim_weight = (sim_weight / temperature).exp()\n",
        "\n",
        "            # counts for each class\n",
        "            one_hot_label = torch.zeros(data.size(0) * k, c, device=sim_labels.device)\n",
        "            # [B*K, C]\n",
        "            one_hot_label = one_hot_label.scatter(dim=-1, index=sim_labels.view(-1, 1), value=1.0)\n",
        "            # weighted score ---> [B, C]\n",
        "            pred_scores = torch.sum(one_hot_label.view(data.size(0), -1, c) * sim_weight.unsqueeze(dim=-1), dim=1)\n",
        "\n",
        "            pred_labels = pred_scores.argsort(dim=-1, descending=True)\n",
        "            total_top1 += torch.sum((pred_labels[:, :1] == target.unsqueeze(dim=-1)).any(dim=-1).float()).item()\n",
        "            total_top5 += torch.sum((pred_labels[:, :5] == target.unsqueeze(dim=-1)).any(dim=-1).float()).item()\n",
        "            test_bar.set_description('Test Epoch: [{}/{}] Acc@1:{:.2f}% Acc@5:{:.2f}%'\n",
        "                                     .format(epoch, epochs, total_top1 / total_num * 100, total_top5 / total_num * 100))\n",
        "\n",
        "    return total_top1 / total_num * 100, total_top5 / total_num * 100"
      ]
    },
    {
      "cell_type": "code",
      "execution_count": null,
      "metadata": {
        "id": "5nhS6egtxDk8"
      },
      "outputs": [],
      "source": [
        "device = 'cuda' if torch.cuda.is_available() else 'cpu'"
      ]
    },
    {
      "cell_type": "code",
      "execution_count": null,
      "metadata": {
        "colab": {
          "base_uri": "https://localhost:8080/"
        },
        "id": "BCIhOUGGxT93",
        "outputId": "a727b80a-6713-430d-d8cb-c3e1bb61c489"
      },
      "outputs": [
        {
          "metadata": {
            "tags": null
          },
          "name": "stdout",
          "output_type": "stream",
          "text": [
            "Files already downloaded and verified\n"
          ]
        },
        {
          "metadata": {
            "tags": null
          },
          "name": "stderr",
          "output_type": "stream",
          "text": [
            "/usr/local/lib/python3.7/dist-packages/torch/utils/data/dataloader.py:490: UserWarning: This DataLoader will create 16 worker processes in total. Our suggested max number of worker in current system is 8, which is smaller than what this DataLoader is going to create. Please be aware that excessive worker creation might get DataLoader running slow or even freeze, lower the worker number to avoid potential slowness/freeze if necessary.\n",
            "  cpuset_checked))\n"
          ]
        },
        {
          "metadata": {
            "tags": null
          },
          "name": "stdout",
          "output_type": "stream",
          "text": [
            "Files already downloaded and verified\n",
            "Files already downloaded and verified\n"
          ]
        },
        {
          "metadata": {
            "tags": null
          },
          "name": "stderr",
          "output_type": "stream",
          "text": [
            "/usr/local/lib/python3.7/dist-packages/thop/vision/basic_hooks.py:92: UserWarning: __floordiv__ is deprecated, and its behavior will change in a future version of pytorch. It currently rounds toward 0 (like the 'trunc' function NOT 'floor'). This results in incorrect rounding for negative values. To keep the current behavior, use torch.div(a, b, rounding_mode='trunc'), or for actual floor division, use torch.div(a, b, rounding_mode='floor').\n",
            "  kernel = torch.DoubleTensor([*(x[0].shape[2:])]) // torch.DoubleTensor(list((m.output_size,))).squeeze()\n"
          ]
        },
        {
          "metadata": {
            "tags": null
          },
          "name": "stdout",
          "output_type": "stream",
          "text": [
            "[INFO] Register count_convNd() for <class 'torch.nn.modules.conv.Conv2d'>.\n",
            "[INFO] Register count_bn() for <class 'torch.nn.modules.batchnorm.BatchNorm2d'>.\n",
            "[INFO] Register zero_ops() for <class 'torch.nn.modules.activation.ReLU'>.\n",
            "\u001b[91m[WARN] Cannot find rule for <class 'torch.nn.modules.container.Sequential'>. Treat it as zero Macs and zero Params.\u001b[00m\n",
            "\u001b[91m[WARN] Cannot find rule for <class 'torchvision.models.resnet.Bottleneck'>. Treat it as zero Macs and zero Params.\u001b[00m\n",
            "[INFO] Register count_adap_avgpool() for <class 'torch.nn.modules.pooling.AdaptiveAvgPool2d'>.\n",
            "[INFO] Register count_linear() for <class 'torch.nn.modules.linear.Linear'>.\n",
            "[INFO] Register count_bn() for <class 'torch.nn.modules.batchnorm.BatchNorm1d'>.\n",
            "\u001b[91m[WARN] Cannot find rule for <class '__main__.Model'>. Treat it as zero Macs and zero Params.\u001b[00m\n",
            "# Model Params: 24.62M FLOPs: 1.31G\n"
          ]
        },
        {
          "metadata": {
            "tags": null
          },
          "name": "stderr",
          "output_type": "stream",
          "text": [
            "Train Epoch: [1/500] Loss: 4.6588: 100%|██████████| 390/390 [01:45<00:00,  3.68it/s]\n"
          ]
        },
        {
          "metadata": {
            "tags": null
          },
          "name": "stdout",
          "output_type": "stream",
          "text": [
            "0.010009869581038305\n",
            "tensor(4.6588)\n"
          ]
        },
        {
          "metadata": {
            "tags": null
          },
          "name": "stderr",
          "output_type": "stream",
          "text": [
            "Feature extracting: 100%|██████████| 391/391 [00:15<00:00, 26.02it/s]\n",
            "Test Epoch: [1/500] Acc@1:42.58% Acc@5:90.29%: 100%|██████████| 79/79 [00:04<00:00, 19.17it/s]\n",
            "Train Epoch: [2/500] Loss: 3.8199: 100%|██████████| 390/390 [01:45<00:00,  3.69it/s]\n"
          ]
        },
        {
          "metadata": {
            "tags": null
          },
          "name": "stdout",
          "output_type": "stream",
          "text": [
            "0.010039473994880796\n",
            "tensor(3.8618)\n"
          ]
        },
        {
          "metadata": {
            "tags": null
          },
          "name": "stderr",
          "output_type": "stream",
          "text": [
            "Feature extracting: 100%|██████████| 391/391 [00:14<00:00, 26.09it/s]\n",
            "Test Epoch: [2/500] Acc@1:45.55% Acc@5:91.66%: 100%|██████████| 79/79 [00:04<00:00, 19.29it/s]\n",
            "Train Epoch: [3/500] Loss: 3.1493: 100%|██████████| 390/390 [01:45<00:00,  3.70it/s]\n"
          ]
        },
        {
          "metadata": {
            "tags": null
          },
          "name": "stdout",
          "output_type": "stream",
          "text": [
            "0.010088800255609168\n",
            "tensor(3.1850)\n"
          ]
        },
        {
          "metadata": {
            "tags": null
          },
          "name": "stderr",
          "output_type": "stream",
          "text": [
            "Feature extracting: 100%|██████████| 391/391 [00:15<00:00, 25.87it/s]\n",
            "Test Epoch: [3/500] Acc@1:51.10% Acc@5:93.57%: 100%|██████████| 79/79 [00:04<00:00, 19.43it/s]\n",
            "Train Epoch: [4/500] Loss: 2.6784: 100%|██████████| 390/390 [01:45<00:00,  3.70it/s]\n"
          ]
        },
        {
          "metadata": {
            "tags": null
          },
          "name": "stdout",
          "output_type": "stream",
          "text": [
            "0.010157826726355554\n",
            "tensor(2.7038)\n"
          ]
        },
        {
          "metadata": {
            "tags": null
          },
          "name": "stderr",
          "output_type": "stream",
          "text": [
            "Feature extracting: 100%|██████████| 391/391 [00:15<00:00, 25.93it/s]\n",
            "Test Epoch: [4/500] Acc@1:55.21% Acc@5:95.01%: 100%|██████████| 79/79 [00:04<00:00, 19.11it/s]\n",
            "Train Epoch: [5/500] Loss: 2.3592: 100%|██████████| 390/390 [01:45<00:00,  3.70it/s]\n"
          ]
        },
        {
          "metadata": {
            "tags": null
          },
          "name": "stdout",
          "output_type": "stream",
          "text": [
            "0.010246523128793386\n",
            "tensor(2.3765)\n"
          ]
        },
        {
          "metadata": {
            "tags": null
          },
          "name": "stderr",
          "output_type": "stream",
          "text": [
            "Feature extracting: 100%|██████████| 391/391 [00:15<00:00, 25.93it/s]\n",
            "Test Epoch: [5/500] Acc@1:56.87% Acc@5:95.26%: 100%|██████████| 79/79 [00:04<00:00, 19.25it/s]\n",
            "Train Epoch: [6/500] Loss: 2.1921: 100%|██████████| 390/390 [01:45<00:00,  3.69it/s]\n"
          ]
        },
        {
          "metadata": {
            "tags": null
          },
          "name": "stdout",
          "output_type": "stream",
          "text": [
            "0.01035485055641909\n",
            "tensor(2.2013)\n"
          ]
        },
        {
          "metadata": {
            "tags": null
          },
          "name": "stderr",
          "output_type": "stream",
          "text": [
            "Feature extracting: 100%|██████████| 391/391 [00:15<00:00, 25.85it/s]\n",
            "Test Epoch: [6/500] Acc@1:58.60% Acc@5:95.99%: 100%|██████████| 79/79 [00:04<00:00, 19.11it/s]\n",
            "Train Epoch: [7/500] Loss: 2.0394: 100%|██████████| 390/390 [01:45<00:00,  3.70it/s]\n"
          ]
        },
        {
          "metadata": {
            "tags": null
          },
          "name": "stdout",
          "output_type": "stream",
          "text": [
            "0.010482761491618156\n",
            "tensor(2.0475)\n"
          ]
        },
        {
          "metadata": {
            "tags": null
          },
          "name": "stderr",
          "output_type": "stream",
          "text": [
            "Feature extracting: 100%|██████████| 391/391 [00:15<00:00, 25.93it/s]\n",
            "Test Epoch: [7/500] Acc@1:59.90% Acc@5:96.37%: 100%|██████████| 79/79 [00:04<00:00, 19.30it/s]\n",
            "Train Epoch: [8/500] Loss: 1.9254: 100%|██████████| 390/390 [01:45<00:00,  3.70it/s]\n"
          ]
        },
        {
          "metadata": {
            "tags": null
          },
          "name": "stdout",
          "output_type": "stream",
          "text": [
            "0.010630199826508785\n",
            "tensor(1.9315)\n"
          ]
        },
        {
          "metadata": {
            "tags": null
          },
          "name": "stderr",
          "output_type": "stream",
          "text": [
            "Feature extracting: 100%|██████████| 391/391 [00:15<00:00, 25.91it/s]\n",
            "Test Epoch: [8/500] Acc@1:61.71% Acc@5:96.63%: 100%|██████████| 79/79 [00:04<00:00, 19.34it/s]\n",
            "Train Epoch: [9/500] Loss: 1.8244: 100%|██████████| 390/390 [01:45<00:00,  3.69it/s]\n"
          ]
        },
        {
          "metadata": {
            "tags": null
          },
          "name": "stdout",
          "output_type": "stream",
          "text": [
            "0.010797100887553437\n",
            "tensor(1.8298)\n"
          ]
        },
        {
          "metadata": {
            "tags": null
          },
          "name": "stderr",
          "output_type": "stream",
          "text": [
            "Feature extracting: 100%|██████████| 391/391 [00:15<00:00, 25.91it/s]\n",
            "Test Epoch: [9/500] Acc@1:61.29% Acc@5:96.40%: 100%|██████████| 79/79 [00:04<00:00, 19.44it/s]\n",
            "Train Epoch: [10/500] Loss: 1.7558: 100%|██████████| 390/390 [01:45<00:00,  3.70it/s]\n"
          ]
        },
        {
          "metadata": {
            "tags": null
          },
          "name": "stdout",
          "output_type": "stream",
          "text": [
            "0.010983391463927808\n",
            "tensor(1.7595)\n"
          ]
        },
        {
          "metadata": {
            "tags": null
          },
          "name": "stderr",
          "output_type": "stream",
          "text": [
            "Feature extracting: 100%|██████████| 391/391 [00:15<00:00, 26.05it/s]\n",
            "Test Epoch: [10/500] Acc@1:62.93% Acc@5:96.91%: 100%|██████████| 79/79 [00:04<00:00, 19.34it/s]\n",
            "Train Epoch: [11/500] Loss: 1.6814: 100%|██████████| 390/390 [01:45<00:00,  3.70it/s]\n"
          ]
        },
        {
          "metadata": {
            "tags": null
          },
          "name": "stdout",
          "output_type": "stream",
          "text": [
            "0.011188989839634567\n",
            "tensor(1.6853)\n"
          ]
        },
        {
          "metadata": {
            "tags": null
          },
          "name": "stderr",
          "output_type": "stream",
          "text": [
            "Feature extracting: 100%|██████████| 391/391 [00:15<00:00, 25.96it/s]\n",
            "Test Epoch: [11/500] Acc@1:63.60% Acc@5:97.12%: 100%|██████████| 79/79 [00:04<00:00, 19.28it/s]\n",
            "Train Epoch: [12/500] Loss: 1.6371: 100%|██████████| 390/390 [01:45<00:00,  3.71it/s]\n"
          ]
        },
        {
          "metadata": {
            "tags": null
          },
          "name": "stdout",
          "output_type": "stream",
          "text": [
            "0.011413805829347895\n",
            "tensor(1.6396)\n"
          ]
        },
        {
          "metadata": {
            "tags": null
          },
          "name": "stderr",
          "output_type": "stream",
          "text": [
            "Feature extracting: 100%|██████████| 391/391 [00:15<00:00, 25.98it/s]\n",
            "Test Epoch: [12/500] Acc@1:63.57% Acc@5:96.78%: 100%|██████████| 79/79 [00:04<00:00, 18.98it/s]\n",
            "Train Epoch: [13/500] Loss: 1.5774: 100%|██████████| 390/390 [01:45<00:00,  3.69it/s]\n"
          ]
        },
        {
          "metadata": {
            "tags": null
          },
          "name": "stdout",
          "output_type": "stream",
          "text": [
            "0.011657740817973147\n",
            "tensor(1.5805)\n"
          ]
        },
        {
          "metadata": {
            "tags": null
          },
          "name": "stderr",
          "output_type": "stream",
          "text": [
            "Feature extracting: 100%|██████████| 391/391 [00:15<00:00, 25.93it/s]\n",
            "Test Epoch: [13/500] Acc@1:64.08% Acc@5:97.28%: 100%|██████████| 79/79 [00:04<00:00, 18.76it/s]\n",
            "Train Epoch: [14/500] Loss: 1.5356: 100%|██████████| 390/390 [01:45<00:00,  3.70it/s]\n"
          ]
        },
        {
          "metadata": {
            "tags": null
          },
          "name": "stdout",
          "output_type": "stream",
          "text": [
            "0.011920687803904192\n",
            "tensor(1.5378)\n"
          ]
        },
        {
          "metadata": {
            "tags": null
          },
          "name": "stderr",
          "output_type": "stream",
          "text": [
            "Feature extracting: 100%|██████████| 391/391 [00:15<00:00, 26.04it/s]\n",
            "Test Epoch: [14/500] Acc@1:65.41% Acc@5:97.26%: 100%|██████████| 79/79 [00:04<00:00, 19.15it/s]\n",
            "Train Epoch: [15/500] Loss: 1.4978: 100%|██████████| 390/390 [01:45<00:00,  3.69it/s]\n"
          ]
        },
        {
          "metadata": {
            "tags": null
          },
          "name": "stdout",
          "output_type": "stream",
          "text": [
            "0.012202531445959439\n",
            "tensor(1.4998)\n"
          ]
        },
        {
          "metadata": {
            "tags": null
          },
          "name": "stderr",
          "output_type": "stream",
          "text": [
            "Feature extracting: 100%|██████████| 391/391 [00:15<00:00, 25.79it/s]\n",
            "Test Epoch: [15/500] Acc@1:65.95% Acc@5:97.44%: 100%|██████████| 79/79 [00:04<00:00, 19.26it/s]\n",
            "Train Epoch: [16/500] Loss: 1.4374: 100%|██████████| 390/390 [01:45<00:00,  3.70it/s]\n"
          ]
        },
        {
          "metadata": {
            "tags": null
          },
          "name": "stdout",
          "output_type": "stream",
          "text": [
            "0.012503148113975945\n",
            "tensor(1.4405)\n"
          ]
        },
        {
          "metadata": {
            "tags": null
          },
          "name": "stderr",
          "output_type": "stream",
          "text": [
            "Feature extracting: 100%|██████████| 391/391 [00:15<00:00, 25.94it/s]\n",
            "Test Epoch: [16/500] Acc@1:66.70% Acc@5:97.44%: 100%|██████████| 79/79 [00:04<00:00, 19.24it/s]\n",
            "Train Epoch: [17/500] Loss: 1.4217: 100%|██████████| 390/390 [01:45<00:00,  3.70it/s]\n"
          ]
        },
        {
          "metadata": {
            "tags": null
          },
          "name": "stdout",
          "output_type": "stream",
          "text": [
            "0.012822405943039655\n",
            "tensor(1.4226)\n"
          ]
        },
        {
          "metadata": {
            "tags": null
          },
          "name": "stderr",
          "output_type": "stream",
          "text": [
            "Feature extracting: 100%|██████████| 391/391 [00:15<00:00, 25.94it/s]\n",
            "Test Epoch: [17/500] Acc@1:66.84% Acc@5:97.58%: 100%|██████████| 79/79 [00:04<00:00, 18.88it/s]\n",
            "Train Epoch: [18/500] Loss: 1.3791: 100%|██████████| 390/390 [01:45<00:00,  3.71it/s]\n"
          ]
        },
        {
          "metadata": {
            "tags": null
          },
          "name": "stdout",
          "output_type": "stream",
          "text": [
            "0.013160164891327639\n",
            "tensor(1.3813)\n"
          ]
        },
        {
          "metadata": {
            "tags": null
          },
          "name": "stderr",
          "output_type": "stream",
          "text": [
            "Feature extracting: 100%|██████████| 391/391 [00:15<00:00, 26.01it/s]\n",
            "Test Epoch: [18/500] Acc@1:66.87% Acc@5:97.66%: 100%|██████████| 79/79 [00:04<00:00, 19.10it/s]\n",
            "Train Epoch: [19/500] Loss: 1.3639: 100%|██████████| 390/390 [01:45<00:00,  3.71it/s]\n"
          ]
        },
        {
          "metadata": {
            "tags": null
          },
          "name": "stdout",
          "output_type": "stream",
          "text": [
            "0.01351627680153715\n",
            "tensor(1.3648)\n"
          ]
        },
        {
          "metadata": {
            "tags": null
          },
          "name": "stderr",
          "output_type": "stream",
          "text": [
            "Feature extracting: 100%|██████████| 391/391 [00:15<00:00, 26.06it/s]\n",
            "Test Epoch: [19/500] Acc@1:66.82% Acc@5:97.68%: 100%|██████████| 79/79 [00:04<00:00, 19.33it/s]\n",
            "Train Epoch: [20/500] Loss: 1.3408: 100%|██████████| 390/390 [01:45<00:00,  3.70it/s]\n"
          ]
        },
        {
          "metadata": {
            "tags": null
          },
          "name": "stdout",
          "output_type": "stream",
          "text": [
            "0.013890585465874586\n",
            "tensor(1.3420)\n"
          ]
        },
        {
          "metadata": {
            "tags": null
          },
          "name": "stderr",
          "output_type": "stream",
          "text": [
            "Feature extracting: 100%|██████████| 391/391 [00:15<00:00, 25.88it/s]\n",
            "Test Epoch: [20/500] Acc@1:67.50% Acc@5:97.94%: 100%|██████████| 79/79 [00:04<00:00, 19.38it/s]\n",
            "Train Epoch: [21/500] Loss: 1.3307: 100%|██████████| 390/390 [01:45<00:00,  3.70it/s]\n"
          ]
        },
        {
          "metadata": {
            "tags": null
          },
          "name": "stdout",
          "output_type": "stream",
          "text": [
            "0.014282926694575648\n",
            "tensor(1.3313)\n"
          ]
        },
        {
          "metadata": {
            "tags": null
          },
          "name": "stderr",
          "output_type": "stream",
          "text": [
            "Feature extracting: 100%|██████████| 391/391 [00:15<00:00, 25.96it/s]\n",
            "Test Epoch: [21/500] Acc@1:67.01% Acc@5:97.62%: 100%|██████████| 79/79 [00:04<00:00, 19.32it/s]\n",
            "Train Epoch: [22/500] Loss: 1.2923: 100%|██████████| 390/390 [01:44<00:00,  3.71it/s]\n"
          ]
        },
        {
          "metadata": {
            "tags": null
          },
          "name": "stdout",
          "output_type": "stream",
          "text": [
            "0.014693128387926968\n",
            "tensor(1.2943)\n"
          ]
        },
        {
          "metadata": {
            "tags": null
          },
          "name": "stderr",
          "output_type": "stream",
          "text": [
            "Feature extracting: 100%|██████████| 391/391 [00:15<00:00, 25.98it/s]\n",
            "Test Epoch: [22/500] Acc@1:67.04% Acc@5:97.58%: 100%|██████████| 79/79 [00:04<00:00, 19.31it/s]\n",
            "Train Epoch: [23/500] Loss: 1.2750: 100%|██████████| 390/390 [01:45<00:00,  3.71it/s]\n"
          ]
        },
        {
          "metadata": {
            "tags": null
          },
          "name": "stdout",
          "output_type": "stream",
          "text": [
            "0.015121010611757219\n",
            "tensor(1.2760)\n"
          ]
        },
        {
          "metadata": {
            "tags": null
          },
          "name": "stderr",
          "output_type": "stream",
          "text": [
            "Feature extracting: 100%|██████████| 391/391 [00:15<00:00, 25.90it/s]\n",
            "Test Epoch: [23/500] Acc@1:67.78% Acc@5:97.71%: 100%|██████████| 79/79 [00:04<00:00, 19.40it/s]\n",
            "Train Epoch: [24/500] Loss: 1.2582: 100%|██████████| 390/390 [01:45<00:00,  3.71it/s]\n"
          ]
        },
        {
          "metadata": {
            "tags": null
          },
          "name": "stdout",
          "output_type": "stream",
          "text": [
            "0.015566385676364966\n",
            "tensor(1.2590)\n"
          ]
        },
        {
          "metadata": {
            "tags": null
          },
          "name": "stderr",
          "output_type": "stream",
          "text": [
            "Feature extracting: 100%|██████████| 391/391 [00:15<00:00, 25.94it/s]\n",
            "Test Epoch: [24/500] Acc@1:68.72% Acc@5:97.95%: 100%|██████████| 79/79 [00:04<00:00, 19.34it/s]\n",
            "Train Epoch: [25/500] Loss: 1.2418: 100%|██████████| 390/390 [01:45<00:00,  3.70it/s]\n"
          ]
        },
        {
          "metadata": {
            "tags": null
          },
          "name": "stdout",
          "output_type": "stream",
          "text": [
            "0.01602905821884827\n",
            "tensor(1.2426)\n"
          ]
        },
        {
          "metadata": {
            "tags": null
          },
          "name": "stderr",
          "output_type": "stream",
          "text": [
            "Feature extracting: 100%|██████████| 391/391 [00:15<00:00, 26.03it/s]\n",
            "Test Epoch: [25/500] Acc@1:68.75% Acc@5:98.04%: 100%|██████████| 79/79 [00:04<00:00, 19.11it/s]\n",
            "Train Epoch: [26/500] Loss: 1.2295: 100%|██████████| 390/390 [01:45<00:00,  3.71it/s]\n"
          ]
        },
        {
          "metadata": {
            "tags": null
          },
          "name": "stdout",
          "output_type": "stream",
          "text": [
            "0.016508825288800405\n",
            "tensor(1.2302)\n"
          ]
        },
        {
          "metadata": {
            "tags": null
          },
          "name": "stderr",
          "output_type": "stream",
          "text": [
            "Feature extracting: 100%|██████████| 391/391 [00:15<00:00, 26.06it/s]\n",
            "Test Epoch: [26/500] Acc@1:69.53% Acc@5:98.00%: 100%|██████████| 79/79 [00:04<00:00, 19.45it/s]\n",
            "Train Epoch: [27/500] Loss: 1.2132: 100%|██████████| 390/390 [01:45<00:00,  3.71it/s]\n"
          ]
        },
        {
          "metadata": {
            "tags": null
          },
          "name": "stdout",
          "output_type": "stream",
          "text": [
            "0.017005476437333494\n",
            "tensor(1.2140)\n"
          ]
        },
        {
          "metadata": {
            "tags": null
          },
          "name": "stderr",
          "output_type": "stream",
          "text": [
            "Feature extracting: 100%|██████████| 391/391 [00:15<00:00, 25.96it/s]\n",
            "Test Epoch: [27/500] Acc@1:68.97% Acc@5:97.94%: 100%|██████████| 79/79 [00:04<00:00, 19.61it/s]\n",
            "Train Epoch: [28/500] Loss: 1.1944: 100%|██████████| 390/390 [01:45<00:00,  3.71it/s]\n"
          ]
        },
        {
          "metadata": {
            "tags": null
          },
          "name": "stdout",
          "output_type": "stream",
          "text": [
            "0.017518793809391642\n",
            "tensor(1.1953)\n"
          ]
        },
        {
          "metadata": {
            "tags": null
          },
          "name": "stderr",
          "output_type": "stream",
          "text": [
            "Feature extracting: 100%|██████████| 391/391 [00:15<00:00, 25.99it/s]\n",
            "Test Epoch: [28/500] Acc@1:69.16% Acc@5:97.94%: 100%|██████████| 79/79 [00:04<00:00, 19.45it/s]\n",
            "Train Epoch: [29/500] Loss: 1.1786: 100%|██████████| 390/390 [01:45<00:00,  3.71it/s]\n"
          ]
        },
        {
          "metadata": {
            "tags": null
          },
          "name": "stdout",
          "output_type": "stream",
          "text": [
            "0.018048552239312537\n",
            "tensor(1.1794)\n"
          ]
        },
        {
          "metadata": {
            "tags": null
          },
          "name": "stderr",
          "output_type": "stream",
          "text": [
            "Feature extracting: 100%|██████████| 391/391 [00:15<00:00, 25.87it/s]\n",
            "Test Epoch: [29/500] Acc@1:69.72% Acc@5:98.13%: 100%|██████████| 79/79 [00:04<00:00, 19.30it/s]\n",
            "Train Epoch: [30/500] Loss: 1.1606: 100%|██████████| 390/390 [01:45<00:00,  3.70it/s]\n"
          ]
        },
        {
          "metadata": {
            "tags": null
          },
          "name": "stdout",
          "output_type": "stream",
          "text": [
            "0.018594519349595967\n",
            "tensor(1.1615)\n"
          ]
        },
        {
          "metadata": {
            "tags": null
          },
          "name": "stderr",
          "output_type": "stream",
          "text": [
            "Feature extracting: 100%|██████████| 391/391 [00:15<00:00, 26.04it/s]\n",
            "Test Epoch: [30/500] Acc@1:69.28% Acc@5:97.84%: 100%|██████████| 79/79 [00:04<00:00, 18.94it/s]\n",
            "Train Epoch: [31/500] Loss: 1.1563: 100%|██████████| 390/390 [01:45<00:00,  3.70it/s]\n"
          ]
        },
        {
          "metadata": {
            "tags": null
          },
          "name": "stdout",
          "output_type": "stream",
          "text": [
            "0.019156455652835747\n",
            "tensor(1.1565)\n"
          ]
        },
        {
          "metadata": {
            "tags": null
          },
          "name": "stderr",
          "output_type": "stream",
          "text": [
            "Feature extracting: 100%|██████████| 391/391 [00:15<00:00, 25.93it/s]\n",
            "Test Epoch: [31/500] Acc@1:69.68% Acc@5:98.12%: 100%|██████████| 79/79 [00:04<00:00, 19.03it/s]\n",
            "Train Epoch: [32/500] Loss: 1.1415: 100%|██████████| 390/390 [01:45<00:00,  3.71it/s]\n"
          ]
        },
        {
          "metadata": {
            "tags": null
          },
          "name": "stdout",
          "output_type": "stream",
          "text": [
            "0.0197341146567704\n",
            "tensor(1.1423)\n"
          ]
        },
        {
          "metadata": {
            "tags": null
          },
          "name": "stderr",
          "output_type": "stream",
          "text": [
            "Feature extracting: 100%|██████████| 391/391 [00:15<00:00, 26.06it/s]\n",
            "Test Epoch: [32/500] Acc@1:69.78% Acc@5:97.96%: 100%|██████████| 79/79 [00:04<00:00, 19.13it/s]\n",
            "Train Epoch: [33/500] Loss: 1.1308: 100%|██████████| 390/390 [01:45<00:00,  3.70it/s]\n"
          ]
        },
        {
          "metadata": {
            "tags": null
          },
          "name": "stdout",
          "output_type": "stream",
          "text": [
            "0.020327242972406484\n",
            "tensor(1.1314)\n"
          ]
        },
        {
          "output_type": "stream",
          "name": "stderr",
          "text": [
            "Feature extracting: 100%|██████████| 391/391 [00:15<00:00, 25.94it/s]\n",
            "Test Epoch: [33/500] Acc@1:70.21% Acc@5:98.04%: 100%|██████████| 79/79 [00:04<00:00, 19.14it/s]\n",
            "Train Epoch: [34/500] Loss: 1.1093: 100%|██████████| 390/390 [01:45<00:00,  3.71it/s]\n"
          ]
        },
        {
          "output_type": "stream",
          "name": "stdout",
          "text": [
            "0.020935580425167258\n",
            "tensor(1.1104)\n"
          ]
        },
        {
          "output_type": "stream",
          "name": "stderr",
          "text": [
            "Feature extracting: 100%|██████████| 391/391 [00:15<00:00, 26.00it/s]\n",
            "Test Epoch: [34/500] Acc@1:69.88% Acc@5:98.07%: 100%|██████████| 79/79 [00:04<00:00, 19.19it/s]\n",
            "Train Epoch: [35/500] Loss: 1.0943: 100%|██████████| 390/390 [01:45<00:00,  3.70it/s]\n"
          ]
        },
        {
          "output_type": "stream",
          "name": "stdout",
          "text": [
            "0.021558860169017688\n",
            "tensor(1.0951)\n"
          ]
        },
        {
          "output_type": "stream",
          "name": "stderr",
          "text": [
            "Feature extracting: 100%|██████████| 391/391 [00:15<00:00, 25.95it/s]\n",
            "Test Epoch: [35/500] Acc@1:70.20% Acc@5:98.00%: 100%|██████████| 79/79 [00:04<00:00, 19.26it/s]\n",
            "Train Epoch: [36/500] Loss: 1.0975: 100%|██████████| 390/390 [01:45<00:00,  3.71it/s]\n"
          ]
        },
        {
          "output_type": "stream",
          "name": "stdout",
          "text": [
            "0.02219680880351589\n",
            "tensor(1.0974)\n"
          ]
        },
        {
          "output_type": "stream",
          "name": "stderr",
          "text": [
            "Feature extracting: 100%|██████████| 391/391 [00:15<00:00, 25.98it/s]\n",
            "Test Epoch: [36/500] Acc@1:70.11% Acc@5:98.11%: 100%|██████████| 79/79 [00:04<00:00, 19.35it/s]\n",
            "Train Epoch: [37/500] Loss: 1.0790: 100%|██████████| 390/390 [01:45<00:00,  3.70it/s]\n"
          ]
        },
        {
          "output_type": "stream",
          "name": "stdout",
          "text": [
            "0.022849146493739828\n",
            "tensor(1.0799)\n"
          ]
        },
        {
          "output_type": "stream",
          "name": "stderr",
          "text": [
            "Feature extracting: 100%|██████████| 391/391 [00:14<00:00, 26.11it/s]\n",
            "Test Epoch: [37/500] Acc@1:70.86% Acc@5:98.31%: 100%|██████████| 79/79 [00:04<00:00, 19.22it/s]\n",
            "Train Epoch: [38/500] Loss: 1.0790: 100%|██████████| 390/390 [01:45<00:00,  3.71it/s]\n"
          ]
        },
        {
          "output_type": "stream",
          "name": "stdout",
          "text": [
            "0.02351558709303625\n",
            "tensor(1.0790)\n"
          ]
        },
        {
          "output_type": "stream",
          "name": "stderr",
          "text": [
            "Feature extracting: 100%|██████████| 391/391 [00:15<00:00, 26.06it/s]\n",
            "Test Epoch: [38/500] Acc@1:70.15% Acc@5:98.20%: 100%|██████████| 79/79 [00:04<00:00, 19.07it/s]\n",
            "Train Epoch: [39/500] Loss: 1.0679: 100%|██████████| 390/390 [01:45<00:00,  3.71it/s]\n"
          ]
        },
        {
          "output_type": "stream",
          "name": "stdout",
          "text": [
            "0.024195838268538383\n",
            "tensor(1.0685)\n"
          ]
        },
        {
          "output_type": "stream",
          "name": "stderr",
          "text": [
            "Feature extracting: 100%|██████████| 391/391 [00:15<00:00, 25.92it/s]\n",
            "Test Epoch: [39/500] Acc@1:70.31% Acc@5:98.25%: 100%|██████████| 79/79 [00:04<00:00, 19.38it/s]\n",
            "Train Epoch: [40/500] Loss: 1.0572: 100%|██████████| 390/390 [01:45<00:00,  3.71it/s]\n"
          ]
        },
        {
          "output_type": "stream",
          "name": "stdout",
          "text": [
            "0.02488960162939724\n",
            "tensor(1.0577)\n"
          ]
        },
        {
          "output_type": "stream",
          "name": "stderr",
          "text": [
            "Feature extracting: 100%|██████████| 391/391 [00:15<00:00, 26.01it/s]\n",
            "Test Epoch: [40/500] Acc@1:71.14% Acc@5:98.11%: 100%|██████████| 79/79 [00:04<00:00, 19.30it/s]\n",
            "Train Epoch: [41/500] Loss: 1.0403: 100%|██████████| 390/390 [01:45<00:00,  3.71it/s]\n"
          ]
        },
        {
          "output_type": "stream",
          "name": "stdout",
          "text": [
            "0.025596572857670058\n",
            "tensor(1.0412)\n"
          ]
        },
        {
          "output_type": "stream",
          "name": "stderr",
          "text": [
            "Feature extracting: 100%|██████████| 391/391 [00:15<00:00, 26.03it/s]\n",
            "Test Epoch: [41/500] Acc@1:71.26% Acc@5:98.32%: 100%|██████████| 79/79 [00:04<00:00, 19.26it/s]\n",
            "Train Epoch: [42/500] Loss: 1.0357: 100%|██████████| 390/390 [01:45<00:00,  3.70it/s]\n"
          ]
        },
        {
          "output_type": "stream",
          "name": "stdout",
          "text": [
            "0.026316441841808896\n",
            "tensor(1.0360)\n"
          ]
        },
        {
          "output_type": "stream",
          "name": "stderr",
          "text": [
            "Feature extracting: 100%|██████████| 391/391 [00:15<00:00, 25.84it/s]\n",
            "Test Epoch: [42/500] Acc@1:71.36% Acc@5:98.37%: 100%|██████████| 79/79 [00:04<00:00, 19.07it/s]\n",
            "Train Epoch: [43/500] Loss: 1.0117: 100%|██████████| 390/390 [01:45<00:00,  3.69it/s]\n"
          ]
        },
        {
          "output_type": "stream",
          "name": "stdout",
          "text": [
            "0.02704889281269035\n",
            "tensor(1.0129)\n"
          ]
        },
        {
          "output_type": "stream",
          "name": "stderr",
          "text": [
            "Feature extracting: 100%|██████████| 391/391 [00:15<00:00, 25.91it/s]\n",
            "Test Epoch: [43/500] Acc@1:71.32% Acc@5:98.30%: 100%|██████████| 79/79 [00:04<00:00, 19.24it/s]\n",
            "Train Epoch: [44/500] Loss: 1.0179: 100%|██████████| 390/390 [01:45<00:00,  3.70it/s]\n"
          ]
        },
        {
          "output_type": "stream",
          "name": "stdout",
          "text": [
            "0.027793604482127185\n",
            "tensor(1.0177)\n"
          ]
        },
        {
          "output_type": "stream",
          "name": "stderr",
          "text": [
            "Feature extracting: 100%|██████████| 391/391 [00:15<00:00, 25.94it/s]\n",
            "Test Epoch: [44/500] Acc@1:71.11% Acc@5:98.27%: 100%|██████████| 79/79 [00:04<00:00, 19.29it/s]\n",
            "Train Epoch: [45/500] Loss: 1.0064: 100%|██████████| 390/390 [01:45<00:00,  3.71it/s]\n"
          ]
        },
        {
          "output_type": "stream",
          "name": "stdout",
          "text": [
            "0.02855025018380064\n",
            "tensor(1.0069)\n"
          ]
        },
        {
          "output_type": "stream",
          "name": "stderr",
          "text": [
            "Feature extracting: 100%|██████████| 391/391 [00:15<00:00, 25.96it/s]\n",
            "Test Epoch: [45/500] Acc@1:71.23% Acc@5:98.34%: 100%|██████████| 79/79 [00:04<00:00, 18.95it/s]\n",
            "Train Epoch: [46/500] Loss: 1.0005: 100%|██████████| 390/390 [01:45<00:00,  3.70it/s]\n"
          ]
        },
        {
          "output_type": "stream",
          "name": "stdout",
          "text": [
            "0.029318498016552036\n",
            "tensor(1.0009)\n"
          ]
        },
        {
          "output_type": "stream",
          "name": "stderr",
          "text": [
            "Feature extracting: 100%|██████████| 391/391 [00:15<00:00, 25.97it/s]\n",
            "Test Epoch: [46/500] Acc@1:71.76% Acc@5:98.31%: 100%|██████████| 79/79 [00:04<00:00, 19.40it/s]\n",
            "Train Epoch: [47/500] Loss: 0.9877: 100%|██████████| 390/390 [01:45<00:00,  3.70it/s]\n"
          ]
        },
        {
          "output_type": "stream",
          "name": "stdout",
          "text": [
            "0.030098010989970614\n",
            "tensor(0.9884)\n"
          ]
        },
        {
          "output_type": "stream",
          "name": "stderr",
          "text": [
            "Feature extracting: 100%|██████████| 391/391 [00:15<00:00, 25.85it/s]\n",
            "Test Epoch: [47/500] Acc@1:70.99% Acc@5:98.13%: 100%|██████████| 79/79 [00:04<00:00, 19.36it/s]\n",
            "Train Epoch: [48/500] Loss: 0.9998: 100%|██████████| 390/390 [01:44<00:00,  3.72it/s]\n"
          ]
        },
        {
          "output_type": "stream",
          "name": "stdout",
          "text": [
            "0.03088844717221359\n",
            "tensor(0.9992)\n"
          ]
        },
        {
          "output_type": "stream",
          "name": "stderr",
          "text": [
            "Feature extracting: 100%|██████████| 391/391 [00:15<00:00, 26.00it/s]\n",
            "Test Epoch: [48/500] Acc@1:72.16% Acc@5:98.45%: 100%|██████████| 79/79 [00:04<00:00, 19.08it/s]\n",
            "Train Epoch: [49/500] Loss: 0.9730: 100%|██████████| 390/390 [01:45<00:00,  3.70it/s]\n"
          ]
        },
        {
          "output_type": "stream",
          "name": "stdout",
          "text": [
            "0.031689459839994064\n",
            "tensor(0.9743)\n"
          ]
        },
        {
          "output_type": "stream",
          "name": "stderr",
          "text": [
            "Feature extracting: 100%|██████████| 391/391 [00:15<00:00, 25.94it/s]\n",
            "Test Epoch: [49/500] Acc@1:71.43% Acc@5:98.27%: 100%|██████████| 79/79 [00:04<00:00, 19.40it/s]\n",
            "Train Epoch: [50/500] Loss: 0.9804: 100%|██████████| 390/390 [01:45<00:00,  3.70it/s]\n"
          ]
        },
        {
          "output_type": "stream",
          "name": "stdout",
          "text": [
            "0.03250069763067036\n",
            "tensor(0.9801)\n"
          ]
        },
        {
          "output_type": "stream",
          "name": "stderr",
          "text": [
            "Feature extracting: 100%|██████████| 391/391 [00:15<00:00, 25.95it/s]\n",
            "Test Epoch: [50/500] Acc@1:71.74% Acc@5:98.23%: 100%|██████████| 79/79 [00:04<00:00, 19.32it/s]\n",
            "Train Epoch: [51/500] Loss: 0.9611: 100%|██████████| 390/390 [01:45<00:00,  3.70it/s]\n"
          ]
        },
        {
          "output_type": "stream",
          "name": "stdout",
          "text": [
            "0.033321804696370624\n",
            "tensor(0.9621)\n"
          ]
        },
        {
          "output_type": "stream",
          "name": "stderr",
          "text": [
            "Feature extracting: 100%|██████████| 391/391 [00:15<00:00, 25.93it/s]\n",
            "Test Epoch: [51/500] Acc@1:71.73% Acc@5:98.41%: 100%|██████████| 79/79 [00:04<00:00, 19.37it/s]\n",
            "Train Epoch: [52/500] Loss: 0.9652: 100%|██████████| 390/390 [01:45<00:00,  3.70it/s]\n"
          ]
        },
        {
          "output_type": "stream",
          "name": "stdout",
          "text": [
            "0.034152420860084826\n",
            "tensor(0.9651)\n"
          ]
        },
        {
          "output_type": "stream",
          "name": "stderr",
          "text": [
            "Feature extracting: 100%|██████████| 391/391 [00:15<00:00, 25.99it/s]\n",
            "Test Epoch: [52/500] Acc@1:71.91% Acc@5:98.33%: 100%|██████████| 79/79 [00:04<00:00, 19.15it/s]\n",
            "Train Epoch: [53/500] Loss: 0.9371: 100%|██████████| 390/390 [01:45<00:00,  3.70it/s]\n"
          ]
        },
        {
          "output_type": "stream",
          "name": "stdout",
          "text": [
            "0.03499218177365565\n",
            "tensor(0.9385)\n"
          ]
        },
        {
          "output_type": "stream",
          "name": "stderr",
          "text": [
            "Feature extracting: 100%|██████████| 391/391 [00:15<00:00, 26.01it/s]\n",
            "Test Epoch: [53/500] Acc@1:72.37% Acc@5:98.32%: 100%|██████████| 79/79 [00:04<00:00, 19.18it/s]\n",
            "Train Epoch: [54/500] Loss: 0.9345: 100%|██████████| 390/390 [01:45<00:00,  3.70it/s]\n"
          ]
        },
        {
          "output_type": "stream",
          "name": "stdout",
          "text": [
            "0.03584071907759913\n",
            "tensor(0.9347)\n"
          ]
        },
        {
          "output_type": "stream",
          "name": "stderr",
          "text": [
            "Feature extracting: 100%|██████████| 391/391 [00:15<00:00, 25.98it/s]\n",
            "Test Epoch: [54/500] Acc@1:72.25% Acc@5:98.38%: 100%|██████████| 79/79 [00:04<00:00, 18.89it/s]\n",
            "Train Epoch: [55/500] Loss: 0.9429: 100%|██████████| 390/390 [01:45<00:00,  3.71it/s]\n"
          ]
        },
        {
          "output_type": "stream",
          "name": "stdout",
          "text": [
            "0.03669766056268478\n",
            "tensor(0.9425)\n"
          ]
        },
        {
          "output_type": "stream",
          "name": "stderr",
          "text": [
            "Feature extracting: 100%|██████████| 391/391 [00:15<00:00, 25.95it/s]\n",
            "Test Epoch: [55/500] Acc@1:72.69% Acc@5:98.23%: 100%|██████████| 79/79 [00:04<00:00, 19.11it/s]\n",
            "Train Epoch: [56/500] Loss: 0.9341: 100%|██████████| 390/390 [01:45<00:00,  3.70it/s]\n"
          ]
        },
        {
          "output_type": "stream",
          "name": "stdout",
          "text": [
            "0.03756263033320456\n",
            "tensor(0.9345)\n"
          ]
        },
        {
          "output_type": "stream",
          "name": "stderr",
          "text": [
            "Feature extracting: 100%|██████████| 391/391 [00:15<00:00, 25.94it/s]\n",
            "Test Epoch: [56/500] Acc@1:72.78% Acc@5:98.31%: 100%|██████████| 79/79 [00:04<00:00, 19.15it/s]\n",
            "Train Epoch: [57/500] Loss: 0.9298: 100%|██████████| 390/390 [01:45<00:00,  3.70it/s]\n"
          ]
        },
        {
          "output_type": "stream",
          "name": "stdout",
          "text": [
            "0.03843524897185861\n",
            "tensor(0.9300)\n"
          ]
        },
        {
          "output_type": "stream",
          "name": "stderr",
          "text": [
            "Feature extracting: 100%|██████████| 391/391 [00:15<00:00, 25.88it/s]\n",
            "Test Epoch: [57/500] Acc@1:72.32% Acc@5:98.44%: 100%|██████████| 79/79 [00:04<00:00, 19.41it/s]\n",
            "Train Epoch: [58/500] Loss: 0.9252: 100%|██████████| 390/390 [01:45<00:00,  3.71it/s]\n"
          ]
        },
        {
          "output_type": "stream",
          "name": "stdout",
          "text": [
            "0.03931513370618606\n",
            "tensor(0.9255)\n"
          ]
        },
        {
          "output_type": "stream",
          "name": "stderr",
          "text": [
            "Feature extracting: 100%|██████████| 391/391 [00:15<00:00, 26.00it/s]\n",
            "Test Epoch: [58/500] Acc@1:72.14% Acc@5:98.48%: 100%|██████████| 79/79 [00:04<00:00, 19.22it/s]\n",
            "Train Epoch: [59/500] Loss: 0.9119: 100%|██████████| 390/390 [01:45<00:00,  3.70it/s]\n"
          ]
        },
        {
          "output_type": "stream",
          "name": "stdout",
          "text": [
            "0.04020189857646738\n",
            "tensor(0.9125)\n"
          ]
        },
        {
          "output_type": "stream",
          "name": "stderr",
          "text": [
            "Feature extracting: 100%|██████████| 391/391 [00:15<00:00, 25.99it/s]\n",
            "Test Epoch: [59/500] Acc@1:73.12% Acc@5:98.41%: 100%|██████████| 79/79 [00:04<00:00, 19.04it/s]\n",
            "Train Epoch: [60/500] Loss: 0.9119: 100%|██████████| 390/390 [01:45<00:00,  3.69it/s]\n"
          ]
        },
        {
          "output_type": "stream",
          "name": "stdout",
          "text": [
            "0.04109515460502482\n",
            "tensor(0.9119)\n"
          ]
        },
        {
          "output_type": "stream",
          "name": "stderr",
          "text": [
            "Feature extracting: 100%|██████████| 391/391 [00:15<00:00, 25.93it/s]\n",
            "Test Epoch: [60/500] Acc@1:73.21% Acc@5:98.42%: 100%|██████████| 79/79 [00:04<00:00, 19.07it/s]\n",
            "Train Epoch: [61/500] Loss: 0.9028: 100%|██████████| 390/390 [01:45<00:00,  3.69it/s]\n"
          ]
        },
        {
          "output_type": "stream",
          "name": "stdout",
          "text": [
            "0.041994509966846734\n",
            "tensor(0.9033)\n"
          ]
        },
        {
          "output_type": "stream",
          "name": "stderr",
          "text": [
            "Feature extracting: 100%|██████████| 391/391 [00:15<00:00, 25.94it/s]\n",
            "Test Epoch: [61/500] Acc@1:72.96% Acc@5:98.36%: 100%|██████████| 79/79 [00:04<00:00, 18.96it/s]\n",
            "Train Epoch: [62/500] Loss: 0.9007: 100%|██████████| 390/390 [01:45<00:00,  3.70it/s]\n"
          ]
        },
        {
          "output_type": "stream",
          "name": "stdout",
          "text": [
            "0.042899570161460884\n",
            "tensor(0.9008)\n"
          ]
        },
        {
          "output_type": "stream",
          "name": "stderr",
          "text": [
            "Feature extracting: 100%|██████████| 391/391 [00:15<00:00, 25.90it/s]\n",
            "Test Epoch: [62/500] Acc@1:72.89% Acc@5:98.43%: 100%|██████████| 79/79 [00:04<00:00, 19.30it/s]\n",
            "Train Epoch: [63/500] Loss: 0.9041: 100%|██████████| 390/390 [01:45<00:00,  3.70it/s]\n"
          ]
        },
        {
          "output_type": "stream",
          "name": "stdout",
          "text": [
            "0.04380993818598124\n",
            "tensor(0.9039)\n"
          ]
        },
        {
          "output_type": "stream",
          "name": "stderr",
          "text": [
            "Feature extracting: 100%|██████████| 391/391 [00:15<00:00, 25.96it/s]\n",
            "Test Epoch: [63/500] Acc@1:73.20% Acc@5:98.35%: 100%|██████████| 79/79 [00:04<00:00, 19.32it/s]\n",
            "Train Epoch: [64/500] Loss: 0.8954: 100%|██████████| 390/390 [01:45<00:00,  3.70it/s]\n"
          ]
        },
        {
          "output_type": "stream",
          "name": "stdout",
          "text": [
            "0.044725214709252586\n",
            "tensor(0.8959)\n"
          ]
        },
        {
          "output_type": "stream",
          "name": "stderr",
          "text": [
            "Feature extracting: 100%|██████████| 391/391 [00:15<00:00, 26.00it/s]\n",
            "Test Epoch: [64/500] Acc@1:72.80% Acc@5:98.35%: 100%|██████████| 79/79 [00:04<00:00, 19.15it/s]\n",
            "Train Epoch: [65/500] Loss: 0.8959: 100%|██████████| 390/390 [01:45<00:00,  3.70it/s]\n"
          ]
        },
        {
          "output_type": "stream",
          "name": "stdout",
          "text": [
            "0.045644998247016295\n",
            "tensor(0.8959)\n"
          ]
        },
        {
          "output_type": "stream",
          "name": "stderr",
          "text": [
            "Feature extracting: 100%|██████████| 391/391 [00:15<00:00, 25.97it/s]\n",
            "Test Epoch: [65/500] Acc@1:73.17% Acc@5:98.39%: 100%|██████████| 79/79 [00:04<00:00, 19.04it/s]\n",
            "Train Epoch: [66/500] Loss: 0.8778: 100%|██████████| 390/390 [01:45<00:00,  3.71it/s]\n"
          ]
        },
        {
          "output_type": "stream",
          "name": "stdout",
          "text": [
            "0.04656888533802065\n",
            "tensor(0.8787)\n"
          ]
        },
        {
          "output_type": "stream",
          "name": "stderr",
          "text": [
            "Feature extracting: 100%|██████████| 391/391 [00:15<00:00, 25.97it/s]\n",
            "Test Epoch: [66/500] Acc@1:72.89% Acc@5:98.67%: 100%|██████████| 79/79 [00:04<00:00, 19.34it/s]\n",
            "Train Epoch: [67/500] Loss: 0.8868: 100%|██████████| 390/390 [01:45<00:00,  3.71it/s]\n"
          ]
        },
        {
          "output_type": "stream",
          "name": "stdout",
          "text": [
            "0.04749647072099833\n",
            "tensor(0.8864)\n"
          ]
        },
        {
          "output_type": "stream",
          "name": "stderr",
          "text": [
            "Feature extracting: 100%|██████████| 391/391 [00:15<00:00, 26.00it/s]\n",
            "Test Epoch: [67/500] Acc@1:73.33% Acc@5:98.57%: 100%|██████████| 79/79 [00:04<00:00, 18.81it/s]\n",
            "Train Epoch: [68/500] Loss: 0.8633: 100%|██████████| 390/390 [01:45<00:00,  3.71it/s]\n"
          ]
        },
        {
          "output_type": "stream",
          "name": "stdout",
          "text": [
            "0.04842734751243345\n",
            "tensor(0.8644)\n"
          ]
        },
        {
          "output_type": "stream",
          "name": "stderr",
          "text": [
            "Feature extracting: 100%|██████████| 391/391 [00:15<00:00, 25.96it/s]\n",
            "Test Epoch: [68/500] Acc@1:72.97% Acc@5:98.43%: 100%|██████████| 79/79 [00:04<00:00, 19.22it/s]\n",
            "Train Epoch: [69/500] Loss: 0.8645: 100%|██████████| 390/390 [01:45<00:00,  3.70it/s]\n"
          ]
        },
        {
          "output_type": "stream",
          "name": "stdout",
          "text": [
            "0.04936110738504025\n",
            "tensor(0.8645)\n"
          ]
        },
        {
          "output_type": "stream",
          "name": "stderr",
          "text": [
            "Feature extracting: 100%|██████████| 391/391 [00:15<00:00, 26.04it/s]\n",
            "Test Epoch: [69/500] Acc@1:72.86% Acc@5:98.41%: 100%|██████████| 79/79 [00:04<00:00, 19.17it/s]\n",
            "Train Epoch: [70/500] Loss: 0.8676: 100%|██████████| 390/390 [01:45<00:00,  3.70it/s]\n"
          ]
        },
        {
          "output_type": "stream",
          "name": "stdout",
          "text": [
            "0.05029734074687503\n",
            "tensor(0.8675)\n"
          ]
        },
        {
          "output_type": "stream",
          "name": "stderr",
          "text": [
            "Feature extracting: 100%|██████████| 391/391 [00:15<00:00, 25.99it/s]\n",
            "Test Epoch: [70/500] Acc@1:74.01% Acc@5:98.44%: 100%|██████████| 79/79 [00:04<00:00, 18.99it/s]\n",
            "Train Epoch: [71/500] Loss: 0.8540: 100%|██████████| 390/390 [01:45<00:00,  3.69it/s]\n"
          ]
        },
        {
          "output_type": "stream",
          "name": "stdout",
          "text": [
            "0.05123563692100289\n",
            "tensor(0.8547)\n"
          ]
        },
        {
          "output_type": "stream",
          "name": "stderr",
          "text": [
            "Feature extracting: 100%|██████████| 391/391 [00:15<00:00, 25.90it/s]\n",
            "Test Epoch: [71/500] Acc@1:73.80% Acc@5:98.45%: 100%|██████████| 79/79 [00:04<00:00, 18.86it/s]\n",
            "Train Epoch: [72/500] Loss: 0.8655: 100%|██████████| 390/390 [01:45<00:00,  3.70it/s]\n"
          ]
        },
        {
          "output_type": "stream",
          "name": "stdout",
          "text": [
            "0.052175584325640345\n",
            "tensor(0.8650)\n"
          ]
        },
        {
          "output_type": "stream",
          "name": "stderr",
          "text": [
            "Feature extracting: 100%|██████████| 391/391 [00:15<00:00, 25.96it/s]\n",
            "Test Epoch: [72/500] Acc@1:73.08% Acc@5:98.44%: 100%|██████████| 79/79 [00:04<00:00, 19.22it/s]\n",
            "Train Epoch: [73/500] Loss: 0.8550: 100%|██████████| 390/390 [01:45<00:00,  3.71it/s]\n"
          ]
        },
        {
          "output_type": "stream",
          "name": "stdout",
          "text": [
            "0.053116770654694855\n",
            "tensor(0.8555)\n"
          ]
        },
        {
          "output_type": "stream",
          "name": "stderr",
          "text": [
            "Feature extracting: 100%|██████████| 391/391 [00:15<00:00, 26.04it/s]\n",
            "Test Epoch: [73/500] Acc@1:73.56% Acc@5:98.57%: 100%|██████████| 79/79 [00:04<00:00, 19.27it/s]\n",
            "Train Epoch: [74/500] Loss: 0.8537: 100%|██████████| 390/390 [01:45<00:00,  3.71it/s]\n"
          ]
        },
        {
          "output_type": "stream",
          "name": "stdout",
          "text": [
            "0.05405878305862215\n",
            "tensor(0.8538)\n"
          ]
        },
        {
          "output_type": "stream",
          "name": "stderr",
          "text": [
            "Feature extracting: 100%|██████████| 391/391 [00:15<00:00, 25.96it/s]\n",
            "Test Epoch: [74/500] Acc@1:73.87% Acc@5:98.57%: 100%|██████████| 79/79 [00:04<00:00, 19.19it/s]\n",
            "Train Epoch: [75/500] Loss: 0.8467: 100%|██████████| 390/390 [01:45<00:00,  3.71it/s]\n"
          ]
        },
        {
          "output_type": "stream",
          "name": "stdout",
          "text": [
            "0.05500120832552176\n",
            "tensor(0.8471)\n"
          ]
        },
        {
          "output_type": "stream",
          "name": "stderr",
          "text": [
            "Feature extracting: 100%|██████████| 391/391 [00:15<00:00, 26.01it/s]\n",
            "Test Epoch: [75/500] Acc@1:73.82% Acc@5:98.54%: 100%|██████████| 79/79 [00:04<00:00, 19.41it/s]\n",
            "Train Epoch: [76/500] Loss: 0.8434: 100%|██████████| 390/390 [01:45<00:00,  3.71it/s]\n"
          ]
        },
        {
          "output_type": "stream",
          "name": "stdout",
          "text": [
            "0.055943633062391744\n",
            "tensor(0.8436)\n"
          ]
        },
        {
          "output_type": "stream",
          "name": "stderr",
          "text": [
            "Feature extracting: 100%|██████████| 391/391 [00:15<00:00, 25.99it/s]\n",
            "Test Epoch: [76/500] Acc@1:74.12% Acc@5:98.64%: 100%|██████████| 79/79 [00:04<00:00, 19.36it/s]\n",
            "Train Epoch: [77/500] Loss: 0.8392: 100%|██████████| 390/390 [01:45<00:00,  3.71it/s]\n"
          ]
        },
        {
          "output_type": "stream",
          "name": "stdout",
          "text": [
            "0.05688564387646263\n",
            "tensor(0.8394)\n"
          ]
        },
        {
          "output_type": "stream",
          "name": "stderr",
          "text": [
            "Feature extracting: 100%|██████████| 391/391 [00:15<00:00, 25.93it/s]\n",
            "Test Epoch: [77/500] Acc@1:74.23% Acc@5:98.51%: 100%|██████████| 79/79 [00:04<00:00, 19.47it/s]\n",
            "Train Epoch: [78/500] Loss: 0.8414: 100%|██████████| 390/390 [01:44<00:00,  3.72it/s]\n"
          ]
        },
        {
          "output_type": "stream",
          "name": "stdout",
          "text": [
            "0.05782682755653138\n",
            "tensor(0.8413)\n"
          ]
        },
        {
          "output_type": "stream",
          "name": "stderr",
          "text": [
            "Feature extracting: 100%|██████████| 391/391 [00:14<00:00, 26.08it/s]\n",
            "Test Epoch: [78/500] Acc@1:74.11% Acc@5:98.71%: 100%|██████████| 79/79 [00:04<00:00, 19.02it/s]\n",
            "Train Epoch: [79/500] Loss: 0.8317: 100%|██████████| 390/390 [01:45<00:00,  3.71it/s]\n"
          ]
        },
        {
          "output_type": "stream",
          "name": "stdout",
          "text": [
            "0.058766771254215665\n",
            "tensor(0.8322)\n"
          ]
        },
        {
          "output_type": "stream",
          "name": "stderr",
          "text": [
            "Feature extracting: 100%|██████████| 391/391 [00:15<00:00, 26.03it/s]\n",
            "Test Epoch: [79/500] Acc@1:74.22% Acc@5:98.53%: 100%|██████████| 79/79 [00:04<00:00, 19.15it/s]\n",
            "Train Epoch: [80/500] Loss: 0.8318: 100%|██████████| 390/390 [01:45<00:00,  3.71it/s]\n"
          ]
        },
        {
          "output_type": "stream",
          "name": "stdout",
          "text": [
            "0.059705062665049005\n",
            "tensor(0.8319)\n"
          ]
        },
        {
          "output_type": "stream",
          "name": "stderr",
          "text": [
            "Feature extracting: 100%|██████████| 391/391 [00:15<00:00, 26.04it/s]\n",
            "Test Epoch: [80/500] Acc@1:74.79% Acc@5:98.53%: 100%|██████████| 79/79 [00:04<00:00, 19.21it/s]\n",
            "Train Epoch: [81/500] Loss: 0.8223: 100%|██████████| 390/390 [01:45<00:00,  3.71it/s]\n"
          ]
        },
        {
          "output_type": "stream",
          "name": "stdout",
          "text": [
            "0.060641290209337305\n",
            "tensor(0.8228)\n"
          ]
        },
        {
          "output_type": "stream",
          "name": "stderr",
          "text": [
            "Feature extracting: 100%|██████████| 391/391 [00:15<00:00, 25.95it/s]\n",
            "Test Epoch: [81/500] Acc@1:74.13% Acc@5:98.49%: 100%|██████████| 79/79 [00:04<00:00, 19.33it/s]\n",
            "Train Epoch: [82/500] Loss: 0.8137: 100%|██████████| 390/390 [01:45<00:00,  3.71it/s]\n"
          ]
        },
        {
          "output_type": "stream",
          "name": "stdout",
          "text": [
            "0.06157504321269755\n",
            "tensor(0.8142)\n"
          ]
        },
        {
          "output_type": "stream",
          "name": "stderr",
          "text": [
            "Feature extracting: 100%|██████████| 391/391 [00:15<00:00, 25.87it/s]\n",
            "Test Epoch: [82/500] Acc@1:74.66% Acc@5:98.60%: 100%|██████████| 79/79 [00:04<00:00, 19.61it/s]\n",
            "Train Epoch: [83/500] Loss: 0.8074: 100%|██████████| 390/390 [01:44<00:00,  3.72it/s]\n"
          ]
        },
        {
          "output_type": "stream",
          "name": "stdout",
          "text": [
            "0.06250591208619921\n",
            "tensor(0.8078)\n"
          ]
        },
        {
          "output_type": "stream",
          "name": "stderr",
          "text": [
            "Feature extracting: 100%|██████████| 391/391 [00:15<00:00, 26.05it/s]\n",
            "Test Epoch: [83/500] Acc@1:74.57% Acc@5:98.69%: 100%|██████████| 79/79 [00:04<00:00, 19.33it/s]\n",
            "Train Epoch: [84/500] Loss: 0.8156: 100%|██████████| 390/390 [01:45<00:00,  3.71it/s]\n"
          ]
        },
        {
          "output_type": "stream",
          "name": "stdout",
          "text": [
            "0.0634334885060297\n",
            "tensor(0.8152)\n"
          ]
        },
        {
          "output_type": "stream",
          "name": "stderr",
          "text": [
            "Feature extracting: 100%|██████████| 391/391 [00:15<00:00, 26.00it/s]\n",
            "Test Epoch: [84/500] Acc@1:73.89% Acc@5:98.50%: 100%|██████████| 79/79 [00:04<00:00, 19.56it/s]\n",
            "Train Epoch: [85/500] Loss: 0.8097: 100%|██████████| 390/390 [01:45<00:00,  3.71it/s]\n"
          ]
        },
        {
          "output_type": "stream",
          "name": "stdout",
          "text": [
            "0.06435736559260483\n",
            "tensor(0.8100)\n"
          ]
        },
        {
          "output_type": "stream",
          "name": "stderr",
          "text": [
            "Feature extracting: 100%|██████████| 391/391 [00:15<00:00, 25.96it/s]\n",
            "Test Epoch: [85/500] Acc@1:74.19% Acc@5:98.56%: 100%|██████████| 79/79 [00:04<00:00, 18.73it/s]\n",
            "Train Epoch: [86/500] Loss: 0.8024: 100%|██████████| 390/390 [01:45<00:00,  3.71it/s]\n"
          ]
        },
        {
          "output_type": "stream",
          "name": "stdout",
          "text": [
            "0.06527713808904566\n",
            "tensor(0.8027)\n"
          ]
        },
        {
          "output_type": "stream",
          "name": "stderr",
          "text": [
            "Feature extracting: 100%|██████████| 391/391 [00:15<00:00, 25.90it/s]\n",
            "Test Epoch: [86/500] Acc@1:74.53% Acc@5:98.61%: 100%|██████████| 79/79 [00:04<00:00, 19.14it/s]\n",
            "Train Epoch: [87/500] Loss: 0.7988: 100%|██████████| 390/390 [01:45<00:00,  3.71it/s]\n"
          ]
        },
        {
          "output_type": "stream",
          "name": "stdout",
          "text": [
            "0.06619240253894376\n",
            "tensor(0.7990)\n"
          ]
        },
        {
          "output_type": "stream",
          "name": "stderr",
          "text": [
            "Feature extracting: 100%|██████████| 391/391 [00:15<00:00, 26.01it/s]\n",
            "Test Epoch: [87/500] Acc@1:75.12% Acc@5:98.61%: 100%|██████████| 79/79 [00:04<00:00, 19.28it/s]\n",
            "Train Epoch: [88/500] Loss: 0.7947: 100%|██████████| 390/390 [01:45<00:00,  3.70it/s]\n"
          ]
        },
        {
          "output_type": "stream",
          "name": "stdout",
          "text": [
            "0.06710275746333647\n",
            "tensor(0.7949)\n"
          ]
        },
        {
          "output_type": "stream",
          "name": "stderr",
          "text": [
            "Feature extracting: 100%|██████████| 391/391 [00:15<00:00, 26.01it/s]\n",
            "Test Epoch: [88/500] Acc@1:75.01% Acc@5:98.48%: 100%|██████████| 79/79 [00:04<00:00, 19.32it/s]\n",
            "Train Epoch: [89/500] Loss: 0.7924: 100%|██████████| 390/390 [01:45<00:00,  3.71it/s]\n"
          ]
        },
        {
          "output_type": "stream",
          "name": "stdout",
          "text": [
            "0.06800780353681488\n",
            "tensor(0.7925)\n"
          ]
        },
        {
          "output_type": "stream",
          "name": "stderr",
          "text": [
            "Feature extracting: 100%|██████████| 391/391 [00:15<00:00, 25.98it/s]\n",
            "Test Epoch: [89/500] Acc@1:74.76% Acc@5:98.64%: 100%|██████████| 79/79 [00:04<00:00, 19.21it/s]\n",
            "Train Epoch: [90/500] Loss: 0.8018: 100%|██████████| 390/390 [01:45<00:00,  3.70it/s]\n"
          ]
        },
        {
          "output_type": "stream",
          "name": "stdout",
          "text": [
            "0.06890714376268721\n",
            "tensor(0.8013)\n"
          ]
        },
        {
          "output_type": "stream",
          "name": "stderr",
          "text": [
            "Feature extracting: 100%|██████████| 391/391 [00:15<00:00, 26.05it/s]\n",
            "Test Epoch: [90/500] Acc@1:75.05% Acc@5:98.57%: 100%|██████████| 79/79 [00:04<00:00, 19.24it/s]\n",
            "Train Epoch: [91/500] Loss: 0.7862: 100%|██████████| 390/390 [01:44<00:00,  3.72it/s]\n"
          ]
        },
        {
          "output_type": "stream",
          "name": "stdout",
          "text": [
            "0.06980038364712053\n",
            "tensor(0.7870)\n"
          ]
        },
        {
          "output_type": "stream",
          "name": "stderr",
          "text": [
            "Feature extracting: 100%|██████████| 391/391 [00:15<00:00, 25.87it/s]\n",
            "Test Epoch: [91/500] Acc@1:74.96% Acc@5:98.56%: 100%|██████████| 79/79 [00:04<00:00, 19.31it/s]\n",
            "Train Epoch: [92/500] Loss: 0.7766: 100%|██████████| 390/390 [01:45<00:00,  3.70it/s]\n"
          ]
        },
        {
          "output_type": "stream",
          "name": "stdout",
          "text": [
            "0.07068713137218484\n",
            "tensor(0.7771)\n"
          ]
        },
        {
          "output_type": "stream",
          "name": "stderr",
          "text": [
            "Feature extracting: 100%|██████████| 391/391 [00:15<00:00, 25.92it/s]\n",
            "Test Epoch: [92/500] Acc@1:75.12% Acc@5:98.65%: 100%|██████████| 79/79 [00:04<00:00, 18.98it/s]\n",
            "Train Epoch: [93/500] Loss: 0.7867: 100%|██████████| 390/390 [01:45<00:00,  3.71it/s]\n"
          ]
        },
        {
          "output_type": "stream",
          "name": "stdout",
          "text": [
            "0.07156699796772308\n",
            "tensor(0.7862)\n"
          ]
        },
        {
          "output_type": "stream",
          "name": "stderr",
          "text": [
            "Feature extracting: 100%|██████████| 391/391 [00:15<00:00, 25.91it/s]\n",
            "Test Epoch: [93/500] Acc@1:75.52% Acc@5:98.71%: 100%|██████████| 79/79 [00:04<00:00, 19.03it/s]\n",
            "Train Epoch: [94/500] Loss: 0.7820: 100%|██████████| 390/390 [01:45<00:00,  3.71it/s]\n"
          ]
        },
        {
          "output_type": "stream",
          "name": "stdout",
          "text": [
            "0.07243959748197226\n",
            "tensor(0.7822)\n"
          ]
        },
        {
          "output_type": "stream",
          "name": "stderr",
          "text": [
            "Feature extracting: 100%|██████████| 391/391 [00:15<00:00, 26.04it/s]\n",
            "Test Epoch: [94/500] Acc@1:75.16% Acc@5:98.70%: 100%|██████████| 79/79 [00:04<00:00, 19.05it/s]\n",
            "Train Epoch: [95/500] Loss: 0.7824: 100%|██████████| 390/390 [01:45<00:00,  3.71it/s]\n"
          ]
        },
        {
          "output_type": "stream",
          "name": "stdout",
          "text": [
            "0.07330454715086035\n",
            "tensor(0.7824)\n"
          ]
        },
        {
          "output_type": "stream",
          "name": "stderr",
          "text": [
            "Feature extracting: 100%|██████████| 391/391 [00:15<00:00, 25.88it/s]\n",
            "Test Epoch: [95/500] Acc@1:74.84% Acc@5:98.80%: 100%|██████████| 79/79 [00:04<00:00, 19.16it/s]\n",
            "Train Epoch: [96/500] Loss: 0.7810: 100%|██████████| 390/390 [01:44<00:00,  3.72it/s]\n"
          ]
        },
        {
          "output_type": "stream",
          "name": "stdout",
          "text": [
            "0.07416146756590514\n",
            "tensor(0.7811)\n"
          ]
        },
        {
          "output_type": "stream",
          "name": "stderr",
          "text": [
            "Feature extracting: 100%|██████████| 391/391 [00:15<00:00, 25.93it/s]\n",
            "Test Epoch: [96/500] Acc@1:75.47% Acc@5:98.77%: 100%|██████████| 79/79 [00:04<00:00, 19.43it/s]\n",
            "Train Epoch: [97/500] Loss: 0.7753: 100%|██████████| 390/390 [01:45<00:00,  3.70it/s]\n"
          ]
        },
        {
          "output_type": "stream",
          "name": "stdout",
          "text": [
            "0.07500998284064084\n",
            "tensor(0.7756)\n"
          ]
        },
        {
          "output_type": "stream",
          "name": "stderr",
          "text": [
            "Feature extracting: 100%|██████████| 391/391 [00:15<00:00, 25.96it/s]\n",
            "Test Epoch: [97/500] Acc@1:74.98% Acc@5:98.70%: 100%|██████████| 79/79 [00:04<00:00, 18.80it/s]\n",
            "Train Epoch: [98/500] Loss: 0.7678: 100%|██████████| 390/390 [01:45<00:00,  3.70it/s]\n"
          ]
        },
        {
          "output_type": "stream",
          "name": "stdout",
          "text": [
            "0.07584972077550003\n",
            "tensor(0.7682)\n"
          ]
        },
        {
          "output_type": "stream",
          "name": "stderr",
          "text": [
            "Feature extracting: 100%|██████████| 391/391 [00:15<00:00, 25.90it/s]\n",
            "Test Epoch: [98/500] Acc@1:75.71% Acc@5:98.79%: 100%|██████████| 79/79 [00:04<00:00, 19.28it/s]\n",
            "Train Epoch: [99/500] Loss: 0.7698: 100%|██████████| 390/390 [01:45<00:00,  3.70it/s]\n"
          ]
        },
        {
          "output_type": "stream",
          "name": "stdout",
          "text": [
            "0.07668031302107836\n",
            "tensor(0.7698)\n"
          ]
        },
        {
          "output_type": "stream",
          "name": "stderr",
          "text": [
            "Feature extracting: 100%|██████████| 391/391 [00:15<00:00, 26.00it/s]\n",
            "Test Epoch: [99/500] Acc@1:75.71% Acc@5:98.69%: 100%|██████████| 79/79 [00:04<00:00, 19.01it/s]\n",
            "Train Epoch: [100/500] Loss: 0.7618: 100%|██████████| 390/390 [01:45<00:00,  3.71it/s]\n"
          ]
        },
        {
          "output_type": "stream",
          "name": "stdout",
          "text": [
            "0.07750139523971013\n",
            "tensor(0.7622)\n"
          ]
        },
        {
          "output_type": "stream",
          "name": "stderr",
          "text": [
            "Feature extracting: 100%|██████████| 391/391 [00:15<00:00, 26.00it/s]\n",
            "Test Epoch: [100/500] Acc@1:75.82% Acc@5:98.74%: 100%|██████████| 79/79 [00:04<00:00, 19.36it/s]\n",
            "Train Epoch: [101/500] Loss: 0.7613: 100%|██████████| 390/390 [01:45<00:00,  3.71it/s]\n"
          ]
        },
        {
          "output_type": "stream",
          "name": "stdout",
          "text": [
            "0.0783126072652844\n",
            "tensor(0.7613)\n"
          ]
        },
        {
          "output_type": "stream",
          "name": "stderr",
          "text": [
            "Feature extracting: 100%|██████████| 391/391 [00:15<00:00, 26.04it/s]\n",
            "Test Epoch: [101/500] Acc@1:75.76% Acc@5:98.84%: 100%|██████████| 79/79 [00:04<00:00, 19.44it/s]\n",
            "Train Epoch: [102/500] Loss: 0.7577: 100%|██████████| 390/390 [01:44<00:00,  3.72it/s]\n"
          ]
        },
        {
          "output_type": "stream",
          "name": "stdout",
          "text": [
            "0.07911359326123119\n",
            "tensor(0.7579)\n"
          ]
        },
        {
          "output_type": "stream",
          "name": "stderr",
          "text": [
            "Feature extracting: 100%|██████████| 391/391 [00:15<00:00, 25.98it/s]\n",
            "Test Epoch: [102/500] Acc@1:76.38% Acc@5:98.75%: 100%|██████████| 79/79 [00:04<00:00, 19.24it/s]\n",
            "Train Epoch: [103/500] Loss: 0.7559: 100%|██████████| 390/390 [01:45<00:00,  3.70it/s]\n"
          ]
        },
        {
          "output_type": "stream",
          "name": "stdout",
          "text": [
            "0.07990400187660834\n",
            "tensor(0.7560)\n"
          ]
        },
        {
          "output_type": "stream",
          "name": "stderr",
          "text": [
            "Feature extracting: 100%|██████████| 391/391 [00:15<00:00, 25.89it/s]\n",
            "Test Epoch: [103/500] Acc@1:74.89% Acc@5:98.74%: 100%|██████████| 79/79 [00:04<00:00, 19.09it/s]\n",
            "Train Epoch: [104/500] Loss: 0.7507: 100%|██████████| 390/390 [01:44<00:00,  3.71it/s]\n"
          ]
        },
        {
          "output_type": "stream",
          "name": "stdout",
          "text": [
            "0.08068348640022108\n",
            "tensor(0.7509)\n"
          ]
        },
        {
          "output_type": "stream",
          "name": "stderr",
          "text": [
            "Feature extracting: 100%|██████████| 391/391 [00:15<00:00, 25.96it/s]\n",
            "Test Epoch: [104/500] Acc@1:75.67% Acc@5:98.67%: 100%|██████████| 79/79 [00:04<00:00, 19.17it/s]\n",
            "Train Epoch: [105/500] Loss: 0.7483: 100%|██████████| 390/390 [01:45<00:00,  3.71it/s]\n"
          ]
        },
        {
          "output_type": "stream",
          "name": "stdout",
          "text": [
            "0.08145170491270609\n",
            "tensor(0.7484)\n"
          ]
        },
        {
          "output_type": "stream",
          "name": "stderr",
          "text": [
            "Feature extracting: 100%|██████████| 391/391 [00:15<00:00, 25.97it/s]\n",
            "Test Epoch: [105/500] Acc@1:75.66% Acc@5:98.73%: 100%|██████████| 79/79 [00:04<00:00, 19.01it/s]\n",
            "Train Epoch: [106/500] Loss: 0.7479: 100%|██████████| 390/390 [01:45<00:00,  3.70it/s]\n"
          ]
        },
        {
          "output_type": "stream",
          "name": "stdout",
          "text": [
            "0.08220832043651392\n",
            "tensor(0.7480)\n"
          ]
        },
        {
          "output_type": "stream",
          "name": "stderr",
          "text": [
            "Feature extracting: 100%|██████████| 391/391 [00:15<00:00, 25.86it/s]\n",
            "Test Epoch: [106/500] Acc@1:76.09% Acc@5:98.77%: 100%|██████████| 79/79 [00:04<00:00, 19.08it/s]\n",
            "Train Epoch: [107/500] Loss: 0.7468: 100%|██████████| 390/390 [01:45<00:00,  3.71it/s]\n"
          ]
        },
        {
          "output_type": "stream",
          "name": "stdout",
          "text": [
            "0.0829530010837233\n",
            "tensor(0.7468)\n"
          ]
        },
        {
          "output_type": "stream",
          "name": "stderr",
          "text": [
            "Feature extracting: 100%|██████████| 391/391 [00:15<00:00, 25.86it/s]\n",
            "Test Epoch: [107/500] Acc@1:75.86% Acc@5:98.77%: 100%|██████████| 79/79 [00:04<00:00, 19.09it/s]\n",
            "Train Epoch: [108/500] Loss: 0.7480: 100%|██████████| 390/390 [01:45<00:00,  3.71it/s]\n"
          ]
        },
        {
          "output_type": "stream",
          "name": "stdout",
          "text": [
            "0.08368542020162338\n",
            "tensor(0.7479)\n"
          ]
        },
        {
          "output_type": "stream",
          "name": "stderr",
          "text": [
            "Feature extracting: 100%|██████████| 391/391 [00:15<00:00, 25.93it/s]\n",
            "Test Epoch: [108/500] Acc@1:76.66% Acc@5:98.83%: 100%|██████████| 79/79 [00:04<00:00, 18.79it/s]\n",
            "Train Epoch: [109/500] Loss: 0.7394: 100%|██████████| 390/390 [01:45<00:00,  3.70it/s]\n"
          ]
        },
        {
          "output_type": "stream",
          "name": "stdout",
          "text": [
            "0.0844052565159991\n",
            "tensor(0.7398)\n"
          ]
        },
        {
          "output_type": "stream",
          "name": "stderr",
          "text": [
            "Feature extracting: 100%|██████████| 391/391 [00:15<00:00, 25.98it/s]\n",
            "Test Epoch: [109/500] Acc@1:76.29% Acc@5:98.68%: 100%|██████████| 79/79 [00:04<00:00, 19.07it/s]\n",
            "Train Epoch: [110/500] Loss: 0.7298: 100%|██████████| 390/390 [01:44<00:00,  3.71it/s]\n"
          ]
        },
        {
          "output_type": "stream",
          "name": "stdout",
          "text": [
            "0.08511219427205761\n",
            "tensor(0.7303)\n"
          ]
        },
        {
          "output_type": "stream",
          "name": "stderr",
          "text": [
            "Feature extracting: 100%|██████████| 391/391 [00:15<00:00, 26.02it/s]\n",
            "Test Epoch: [110/500] Acc@1:76.63% Acc@5:98.77%: 100%|██████████| 79/79 [00:04<00:00, 19.23it/s]\n",
            "Train Epoch: [111/500] Loss: 0.7347: 100%|██████████| 390/390 [01:45<00:00,  3.71it/s]\n"
          ]
        },
        {
          "output_type": "stream",
          "name": "stdout",
          "text": [
            "0.08580592337293351\n",
            "tensor(0.7345)\n"
          ]
        },
        {
          "output_type": "stream",
          "name": "stderr",
          "text": [
            "Feature extracting: 100%|██████████| 391/391 [00:15<00:00, 25.95it/s]\n",
            "Test Epoch: [111/500] Acc@1:76.36% Acc@5:98.73%: 100%|██████████| 79/79 [00:04<00:00, 18.97it/s]\n",
            "Train Epoch: [112/500] Loss: 0.7338: 100%|██████████| 390/390 [01:45<00:00,  3.71it/s]\n"
          ]
        },
        {
          "output_type": "stream",
          "name": "stdout",
          "text": [
            "0.0864861395157121\n",
            "tensor(0.7339)\n"
          ]
        },
        {
          "output_type": "stream",
          "name": "stderr",
          "text": [
            "Feature extracting: 100%|██████████| 391/391 [00:15<00:00, 26.03it/s]\n",
            "Test Epoch: [112/500] Acc@1:76.56% Acc@5:98.96%: 100%|██████████| 79/79 [00:04<00:00, 19.17it/s]\n",
            "Train Epoch: [113/500] Loss: 0.7344: 100%|██████████| 390/390 [01:44<00:00,  3.72it/s]\n"
          ]
        },
        {
          "output_type": "stream",
          "name": "stdout",
          "text": [
            "0.08715254432491142\n",
            "tensor(0.7344)\n"
          ]
        },
        {
          "output_type": "stream",
          "name": "stderr",
          "text": [
            "Feature extracting: 100%|██████████| 391/391 [00:15<00:00, 25.90it/s]\n",
            "Test Epoch: [113/500] Acc@1:76.10% Acc@5:98.82%: 100%|██████████| 79/79 [00:04<00:00, 18.89it/s]\n",
            "Train Epoch: [114/500] Loss: 0.7293: 100%|██████████| 390/390 [01:45<00:00,  3.71it/s]\n"
          ]
        },
        {
          "output_type": "stream",
          "name": "stdout",
          "text": [
            "0.08780484548336395\n",
            "tensor(0.7296)\n"
          ]
        },
        {
          "output_type": "stream",
          "name": "stderr",
          "text": [
            "Feature extracting: 100%|██████████| 391/391 [00:15<00:00, 26.00it/s]\n",
            "Test Epoch: [114/500] Acc@1:76.80% Acc@5:98.74%: 100%|██████████| 79/79 [00:04<00:00, 19.04it/s]\n",
            "Train Epoch: [115/500] Loss: 0.7187: 100%|██████████| 390/390 [01:45<00:00,  3.71it/s]\n"
          ]
        },
        {
          "output_type": "stream",
          "name": "stdout",
          "text": [
            "0.08844275686044105\n",
            "tensor(0.7192)\n"
          ]
        },
        {
          "output_type": "stream",
          "name": "stderr",
          "text": [
            "Feature extracting: 100%|██████████| 391/391 [00:15<00:00, 25.93it/s]\n",
            "Test Epoch: [115/500] Acc@1:76.63% Acc@5:98.80%: 100%|██████████| 79/79 [00:04<00:00, 19.33it/s]\n",
            "Train Epoch: [116/500] Loss: 0.7223: 100%|██████████| 390/390 [01:45<00:00,  3.71it/s]\n"
          ]
        },
        {
          "output_type": "stream",
          "name": "stdout",
          "text": [
            "0.08906599863756354\n",
            "tensor(0.7222)\n"
          ]
        },
        {
          "output_type": "stream",
          "name": "stderr",
          "text": [
            "Feature extracting: 100%|██████████| 391/391 [00:15<00:00, 25.95it/s]\n",
            "Test Epoch: [116/500] Acc@1:76.39% Acc@5:98.90%: 100%|██████████| 79/79 [00:04<00:00, 19.13it/s]\n",
            "Train Epoch: [117/500] Loss: 0.7206: 100%|██████████| 390/390 [01:45<00:00,  3.71it/s]\n"
          ]
        },
        {
          "output_type": "stream",
          "name": "stdout",
          "text": [
            "0.08967429743094363\n",
            "tensor(0.7207)\n"
          ]
        },
        {
          "output_type": "stream",
          "name": "stderr",
          "text": [
            "Feature extracting: 100%|██████████| 391/391 [00:15<00:00, 25.89it/s]\n",
            "Test Epoch: [117/500] Acc@1:76.79% Acc@5:98.89%: 100%|██████████| 79/79 [00:04<00:00, 19.08it/s]\n",
            "Train Epoch: [118/500] Loss: 0.7178: 100%|██████████| 390/390 [01:45<00:00,  3.71it/s]\n"
          ]
        },
        {
          "output_type": "stream",
          "name": "stdout",
          "text": [
            "0.09026738641150409\n",
            "tensor(0.7179)\n"
          ]
        },
        {
          "output_type": "stream",
          "name": "stderr",
          "text": [
            "Feature extracting: 100%|██████████| 391/391 [00:15<00:00, 25.92it/s]\n",
            "Test Epoch: [118/500] Acc@1:76.63% Acc@5:98.91%: 100%|██████████| 79/79 [00:04<00:00, 19.08it/s]\n",
            "Train Epoch: [119/500] Loss: 0.7173: 100%|██████████| 390/390 [01:45<00:00,  3.70it/s]\n"
          ]
        },
        {
          "output_type": "stream",
          "name": "stdout",
          "text": [
            "0.09084500542192245\n",
            "tensor(0.7174)\n"
          ]
        },
        {
          "output_type": "stream",
          "name": "stderr",
          "text": [
            "Feature extracting: 100%|██████████| 391/391 [00:15<00:00, 25.93it/s]\n",
            "Test Epoch: [119/500] Acc@1:77.02% Acc@5:98.80%: 100%|██████████| 79/79 [00:04<00:00, 19.03it/s]\n",
            "Train Epoch: [120/500] Loss: 0.7126: 100%|██████████| 390/390 [01:45<00:00,  3.70it/s]\n"
          ]
        },
        {
          "output_type": "stream",
          "name": "stdout",
          "text": [
            "0.09140690109074834\n",
            "tensor(0.7128)\n"
          ]
        },
        {
          "output_type": "stream",
          "name": "stderr",
          "text": [
            "Feature extracting: 100%|██████████| 391/391 [00:15<00:00, 25.87it/s]\n",
            "Test Epoch: [120/500] Acc@1:76.70% Acc@5:98.83%: 100%|██████████| 79/79 [00:04<00:00, 19.12it/s]\n",
            "Train Epoch: [121/500] Loss: 0.7033: 100%|██████████| 390/390 [01:45<00:00,  3.70it/s]\n"
          ]
        },
        {
          "output_type": "stream",
          "name": "stdout",
          "text": [
            "0.0919528269435445\n",
            "tensor(0.7038)\n"
          ]
        },
        {
          "output_type": "stream",
          "name": "stderr",
          "text": [
            "Feature extracting: 100%|██████████| 391/391 [00:15<00:00, 25.93it/s]\n",
            "Test Epoch: [121/500] Acc@1:77.43% Acc@5:98.83%: 100%|██████████| 79/79 [00:04<00:00, 19.08it/s]\n",
            "Train Epoch: [122/500] Loss: 0.7130: 100%|██████████| 390/390 [01:45<00:00,  3.70it/s]\n"
          ]
        },
        {
          "output_type": "stream",
          "name": "stdout",
          "text": [
            "0.09248254351100227\n",
            "tensor(0.7125)\n"
          ]
        },
        {
          "output_type": "stream",
          "name": "stderr",
          "text": [
            "Feature extracting: 100%|██████████| 391/391 [00:15<00:00, 25.98it/s]\n",
            "Test Epoch: [122/500] Acc@1:77.83% Acc@5:98.86%: 100%|██████████| 79/79 [00:04<00:00, 18.99it/s]\n",
            "Train Epoch: [123/500] Loss: 0.7003: 100%|██████████| 390/390 [01:45<00:00,  3.70it/s]\n"
          ]
        },
        {
          "output_type": "stream",
          "name": "stdout",
          "text": [
            "0.09299581843398433\n",
            "tensor(0.7009)\n"
          ]
        },
        {
          "output_type": "stream",
          "name": "stderr",
          "text": [
            "Feature extracting: 100%|██████████| 391/391 [00:15<00:00, 25.85it/s]\n",
            "Test Epoch: [123/500] Acc@1:77.51% Acc@5:98.87%: 100%|██████████| 79/79 [00:04<00:00, 19.27it/s]\n",
            "Train Epoch: [124/500] Loss: 0.7057: 100%|██████████| 390/390 [01:45<00:00,  3.71it/s]\n"
          ]
        },
        {
          "output_type": "stream",
          "name": "stdout",
          "text": [
            "0.09349242656544854\n",
            "tensor(0.7055)\n"
          ]
        },
        {
          "output_type": "stream",
          "name": "stderr",
          "text": [
            "Feature extracting: 100%|██████████| 391/391 [00:15<00:00, 25.94it/s]\n",
            "Test Epoch: [124/500] Acc@1:77.03% Acc@5:98.82%: 100%|██████████| 79/79 [00:04<00:00, 18.71it/s]\n",
            "Train Epoch: [125/500] Loss: 0.6950: 100%|██████████| 390/390 [01:45<00:00,  3.69it/s]\n"
          ]
        },
        {
          "output_type": "stream",
          "name": "stdout",
          "text": [
            "0.09397215006920837\n",
            "tensor(0.6955)\n"
          ]
        },
        {
          "output_type": "stream",
          "name": "stderr",
          "text": [
            "Feature extracting: 100%|██████████| 391/391 [00:15<00:00, 25.92it/s]\n",
            "Test Epoch: [125/500] Acc@1:77.92% Acc@5:98.81%: 100%|██████████| 79/79 [00:04<00:00, 19.00it/s]\n",
            "Train Epoch: [126/500] Loss: 0.6884: 100%|██████████| 390/390 [01:45<00:00,  3.69it/s]\n"
          ]
        },
        {
          "output_type": "stream",
          "name": "stdout",
          "text": [
            "0.09443477851548619\n",
            "tensor(0.6888)\n"
          ]
        },
        {
          "output_type": "stream",
          "name": "stderr",
          "text": [
            "Feature extracting: 100%|██████████| 391/391 [00:15<00:00, 25.92it/s]\n",
            "Test Epoch: [126/500] Acc@1:77.56% Acc@5:98.82%: 100%|██████████| 79/79 [00:04<00:00, 19.13it/s]\n",
            "Train Epoch: [127/500] Loss: 0.7000: 100%|██████████| 390/390 [01:45<00:00,  3.70it/s]\n"
          ]
        },
        {
          "output_type": "stream",
          "name": "stdout",
          "text": [
            "0.09488010897321796\n",
            "tensor(0.6994)\n"
          ]
        },
        {
          "output_type": "stream",
          "name": "stderr",
          "text": [
            "Feature extracting: 100%|██████████| 391/391 [00:15<00:00, 25.93it/s]\n",
            "Test Epoch: [127/500] Acc@1:77.71% Acc@5:98.98%: 100%|██████████| 79/79 [00:04<00:00, 18.88it/s]\n",
            "Train Epoch: [128/500] Loss: 0.6895: 100%|██████████| 390/390 [01:45<00:00,  3.70it/s]\n"
          ]
        },
        {
          "output_type": "stream",
          "name": "stdout",
          "text": [
            "0.09530794609906848\n",
            "tensor(0.6900)\n"
          ]
        },
        {
          "output_type": "stream",
          "name": "stderr",
          "text": [
            "Feature extracting: 100%|██████████| 391/391 [00:15<00:00, 25.93it/s]\n",
            "Test Epoch: [128/500] Acc@1:78.00% Acc@5:98.93%: 100%|██████████| 79/79 [00:04<00:00, 18.90it/s]\n",
            "Train Epoch: [129/500] Loss: 0.6994: 100%|██████████| 390/390 [01:45<00:00,  3.70it/s]\n"
          ]
        },
        {
          "output_type": "stream",
          "name": "stdout",
          "text": [
            "0.09571810222311844\n",
            "tensor(0.6989)\n"
          ]
        },
        {
          "output_type": "stream",
          "name": "stderr",
          "text": [
            "Feature extracting: 100%|██████████| 391/391 [00:15<00:00, 25.86it/s]\n",
            "Test Epoch: [129/500] Acc@1:77.36% Acc@5:98.91%: 100%|██████████| 79/79 [00:04<00:00, 18.72it/s]\n",
            "Train Epoch: [130/500] Loss: 0.6848: 100%|██████████| 390/390 [01:45<00:00,  3.69it/s]\n"
          ]
        },
        {
          "output_type": "stream",
          "name": "stdout",
          "text": [
            "0.09611039743118542\n",
            "tensor(0.6855)\n"
          ]
        },
        {
          "output_type": "stream",
          "name": "stderr",
          "text": [
            "Feature extracting: 100%|██████████| 391/391 [00:15<00:00, 25.88it/s]\n",
            "Test Epoch: [130/500] Acc@1:77.71% Acc@5:98.77%: 100%|██████████| 79/79 [00:04<00:00, 18.92it/s]\n",
            "Train Epoch: [131/500] Loss: 0.6832: 100%|██████████| 390/390 [01:45<00:00,  3.70it/s]\n"
          ]
        },
        {
          "output_type": "stream",
          "name": "stdout",
          "text": [
            "0.09648465964374288\n",
            "tensor(0.6834)\n"
          ]
        },
        {
          "output_type": "stream",
          "name": "stderr",
          "text": [
            "Feature extracting: 100%|██████████| 391/391 [00:15<00:00, 25.86it/s]\n",
            "Test Epoch: [131/500] Acc@1:78.02% Acc@5:98.91%: 100%|██████████| 79/79 [00:04<00:00, 18.95it/s]\n",
            "Train Epoch: [132/500] Loss: 0.6818: 100%|██████████| 390/390 [01:45<00:00,  3.69it/s]\n"
          ]
        },
        {
          "output_type": "stream",
          "name": "stdout",
          "text": [
            "0.09684072469140254\n",
            "tensor(0.6818)\n"
          ]
        },
        {
          "output_type": "stream",
          "name": "stderr",
          "text": [
            "Feature extracting: 100%|██████████| 391/391 [00:15<00:00, 25.84it/s]\n",
            "Test Epoch: [132/500] Acc@1:78.19% Acc@5:98.91%: 100%|██████████| 79/79 [00:04<00:00, 18.85it/s]\n",
            "Train Epoch: [133/500] Loss: 0.6814: 100%|██████████| 390/390 [01:45<00:00,  3.70it/s]\n"
          ]
        },
        {
          "output_type": "stream",
          "name": "stdout",
          "text": [
            "0.09717843638692693\n",
            "tensor(0.6815)\n"
          ]
        },
        {
          "output_type": "stream",
          "name": "stderr",
          "text": [
            "Feature extracting: 100%|██████████| 391/391 [00:15<00:00, 25.90it/s]\n",
            "Test Epoch: [133/500] Acc@1:78.05% Acc@5:98.92%: 100%|██████████| 79/79 [00:04<00:00, 19.04it/s]\n",
            "Train Epoch: [134/500] Loss: 0.6709: 100%|██████████| 390/390 [01:45<00:00,  3.70it/s]\n"
          ]
        },
        {
          "output_type": "stream",
          "name": "stdout",
          "text": [
            "0.09749764659374066\n",
            "tensor(0.6715)\n"
          ]
        },
        {
          "output_type": "stream",
          "name": "stderr",
          "text": [
            "Feature extracting: 100%|██████████| 391/391 [00:15<00:00, 25.90it/s]\n",
            "Test Epoch: [134/500] Acc@1:78.62% Acc@5:99.03%: 100%|██████████| 79/79 [00:04<00:00, 18.99it/s]\n",
            "Train Epoch: [135/500] Loss: 0.6759: 100%|██████████| 390/390 [01:45<00:00,  3.71it/s]\n"
          ]
        },
        {
          "output_type": "stream",
          "name": "stdout",
          "text": [
            "0.09779821529091019\n",
            "tensor(0.6757)\n"
          ]
        },
        {
          "output_type": "stream",
          "name": "stderr",
          "text": [
            "Feature extracting: 100%|██████████| 391/391 [00:15<00:00, 25.96it/s]\n",
            "Test Epoch: [135/500] Acc@1:77.94% Acc@5:98.95%: 100%|██████████| 79/79 [00:04<00:00, 18.94it/s]\n",
            "Train Epoch: [136/500] Loss: 0.6794: 100%|██████████| 390/390 [01:45<00:00,  3.70it/s]\n"
          ]
        },
        {
          "output_type": "stream",
          "name": "stdout",
          "text": [
            "0.0980800106345638\n",
            "tensor(0.6792)\n"
          ]
        },
        {
          "output_type": "stream",
          "name": "stderr",
          "text": [
            "Feature extracting: 100%|██████████| 391/391 [00:15<00:00, 25.80it/s]\n",
            "Test Epoch: [136/500] Acc@1:77.66% Acc@5:98.94%: 100%|██████████| 79/79 [00:04<00:00, 18.99it/s]\n",
            "Train Epoch: [137/500] Loss: 0.6724: 100%|██████████| 390/390 [01:45<00:00,  3.71it/s]\n"
          ]
        },
        {
          "output_type": "stream",
          "name": "stdout",
          "text": [
            "0.09834290901572455\n",
            "tensor(0.6727)\n"
          ]
        },
        {
          "output_type": "stream",
          "name": "stderr",
          "text": [
            "Feature extracting: 100%|██████████| 391/391 [00:15<00:00, 25.86it/s]\n",
            "Test Epoch: [137/500] Acc@1:78.57% Acc@5:98.89%: 100%|██████████| 79/79 [00:04<00:00, 19.11it/s]\n",
            "Train Epoch: [138/500] Loss: 0.6640: 100%|██████████| 390/390 [01:45<00:00,  3.70it/s]\n"
          ]
        },
        {
          "output_type": "stream",
          "name": "stdout",
          "text": [
            "0.09858679511453122\n",
            "tensor(0.6645)\n"
          ]
        },
        {
          "output_type": "stream",
          "name": "stderr",
          "text": [
            "Feature extracting: 100%|██████████| 391/391 [00:15<00:00, 25.87it/s]\n",
            "Test Epoch: [138/500] Acc@1:77.82% Acc@5:98.95%: 100%|██████████| 79/79 [00:04<00:00, 18.99it/s]\n",
            "Train Epoch: [139/500] Loss: 0.6688: 100%|██████████| 390/390 [01:45<00:00,  3.69it/s]\n"
          ]
        },
        {
          "output_type": "stream",
          "name": "stdout",
          "text": [
            "0.09881156195082309\n",
            "tensor(0.6686)\n"
          ]
        },
        {
          "output_type": "stream",
          "name": "stderr",
          "text": [
            "Feature extracting: 100%|██████████| 391/391 [00:15<00:00, 25.88it/s]\n",
            "Test Epoch: [139/500] Acc@1:77.88% Acc@5:98.90%: 100%|██████████| 79/79 [00:04<00:00, 18.97it/s]\n",
            "Train Epoch: [140/500] Loss: 0.6669: 100%|██████████| 390/390 [01:45<00:00,  3.69it/s]\n"
          ]
        },
        {
          "output_type": "stream",
          "name": "stdout",
          "text": [
            "0.09901711093106659\n",
            "tensor(0.6670)\n"
          ]
        },
        {
          "output_type": "stream",
          "name": "stderr",
          "text": [
            "Feature extracting: 100%|██████████| 391/391 [00:15<00:00, 25.83it/s]\n",
            "Test Epoch: [140/500] Acc@1:78.26% Acc@5:98.96%: 100%|██████████| 79/79 [00:04<00:00, 19.03it/s]\n",
            "Train Epoch: [141/500] Loss: 0.6644: 100%|██████████| 390/390 [01:45<00:00,  3.69it/s]\n"
          ]
        },
        {
          "output_type": "stream",
          "name": "stdout",
          "text": [
            "0.09920335189160313\n",
            "tensor(0.6645)\n"
          ]
        },
        {
          "output_type": "stream",
          "name": "stderr",
          "text": [
            "Feature extracting: 100%|██████████| 391/391 [00:15<00:00, 25.90it/s]\n",
            "Test Epoch: [141/500] Acc@1:78.34% Acc@5:98.91%: 100%|██████████| 79/79 [00:04<00:00, 18.86it/s]\n",
            "Train Epoch: [142/500] Loss: 0.6703: 100%|██████████| 390/390 [01:45<00:00,  3.70it/s]\n"
          ]
        },
        {
          "output_type": "stream",
          "name": "stdout",
          "text": [
            "0.09937020313819928\n",
            "tensor(0.6700)\n"
          ]
        },
        {
          "output_type": "stream",
          "name": "stderr",
          "text": [
            "Feature extracting: 100%|██████████| 391/391 [00:15<00:00, 25.86it/s]\n",
            "Test Epoch: [142/500] Acc@1:78.28% Acc@5:98.99%: 100%|██████████| 79/79 [00:04<00:00, 19.16it/s]\n",
            "Train Epoch: [143/500] Loss: 0.6572: 100%|██████████| 390/390 [01:45<00:00,  3.70it/s]\n"
          ]
        },
        {
          "output_type": "stream",
          "name": "stdout",
          "text": [
            "0.09951759148188169\n",
            "tensor(0.6578)\n"
          ]
        },
        {
          "output_type": "stream",
          "name": "stderr",
          "text": [
            "Feature extracting: 100%|██████████| 391/391 [00:15<00:00, 25.95it/s]\n",
            "Test Epoch: [143/500] Acc@1:78.31% Acc@5:98.93%: 100%|██████████| 79/79 [00:04<00:00, 18.94it/s]\n",
            "Train Epoch: [144/500] Loss: 0.6565: 100%|██████████| 390/390 [01:45<00:00,  3.70it/s]\n"
          ]
        },
        {
          "output_type": "stream",
          "name": "stdout",
          "text": [
            "0.09964545227104141\n",
            "tensor(0.6566)\n"
          ]
        },
        {
          "output_type": "stream",
          "name": "stderr",
          "text": [
            "Feature extracting: 100%|██████████| 391/391 [00:15<00:00, 25.92it/s]\n",
            "Test Epoch: [144/500] Acc@1:78.85% Acc@5:99.05%: 100%|██████████| 79/79 [00:04<00:00, 18.96it/s]\n",
            "Train Epoch: [145/500] Loss: 0.6473: 100%|██████████| 390/390 [01:45<00:00,  3.70it/s]\n"
          ]
        },
        {
          "output_type": "stream",
          "name": "stdout",
          "text": [
            "0.09975372941979307\n",
            "tensor(0.6478)\n"
          ]
        },
        {
          "output_type": "stream",
          "name": "stderr",
          "text": [
            "Feature extracting: 100%|██████████| 391/391 [00:15<00:00, 25.83it/s]\n",
            "Test Epoch: [145/500] Acc@1:78.61% Acc@5:98.96%: 100%|██████████| 79/79 [00:04<00:00, 18.89it/s]\n",
            "Train Epoch: [146/500] Loss: 0.6514: 100%|██████████| 390/390 [01:45<00:00,  3.69it/s]\n"
          ]
        },
        {
          "output_type": "stream",
          "name": "stdout",
          "text": [
            "0.09984237543257696\n",
            "tensor(0.6512)\n"
          ]
        },
        {
          "output_type": "stream",
          "name": "stderr",
          "text": [
            "Feature extracting: 100%|██████████| 391/391 [00:15<00:00, 25.86it/s]\n",
            "Test Epoch: [146/500] Acc@1:78.44% Acc@5:98.93%: 100%|██████████| 79/79 [00:04<00:00, 18.80it/s]\n",
            "Train Epoch: [147/500] Loss: 0.6484: 100%|██████████| 390/390 [01:45<00:00,  3.69it/s]\n"
          ]
        },
        {
          "output_type": "stream",
          "name": "stdout",
          "text": [
            "0.09991135142499276\n",
            "tensor(0.6486)\n"
          ]
        },
        {
          "output_type": "stream",
          "name": "stderr",
          "text": [
            "Feature extracting: 100%|██████████| 391/391 [00:15<00:00, 25.89it/s]\n",
            "Test Epoch: [147/500] Acc@1:78.19% Acc@5:98.90%: 100%|██████████| 79/79 [00:04<00:00, 19.08it/s]\n",
            "Train Epoch: [148/500] Loss: 0.6572: 100%|██████████| 390/390 [01:45<00:00,  3.69it/s]\n"
          ]
        },
        {
          "output_type": "stream",
          "name": "stdout",
          "text": [
            "0.09996062714085616\n",
            "tensor(0.6568)\n"
          ]
        },
        {
          "output_type": "stream",
          "name": "stderr",
          "text": [
            "Feature extracting: 100%|██████████| 391/391 [00:15<00:00, 25.88it/s]\n",
            "Test Epoch: [148/500] Acc@1:78.07% Acc@5:98.95%: 100%|██████████| 79/79 [00:04<00:00, 18.56it/s]\n",
            "Train Epoch: [149/500] Loss: 0.6476: 100%|██████████| 390/390 [01:45<00:00,  3.69it/s]\n"
          ]
        },
        {
          "output_type": "stream",
          "name": "stdout",
          "text": [
            "0.09999018096547066\n",
            "tensor(0.6481)\n"
          ]
        },
        {
          "output_type": "stream",
          "name": "stderr",
          "text": [
            "Feature extracting: 100%|██████████| 391/391 [00:15<00:00, 25.86it/s]\n",
            "Test Epoch: [149/500] Acc@1:78.78% Acc@5:98.97%: 100%|██████████| 79/79 [00:04<00:00, 19.00it/s]\n",
            "Train Epoch: [150/500] Loss: 0.6530: 100%|██████████| 390/390 [01:45<00:00,  3.69it/s]\n"
          ]
        },
        {
          "output_type": "stream",
          "name": "stdout",
          "text": [
            "0.09999999998675752\n",
            "tensor(0.6528)\n"
          ]
        },
        {
          "output_type": "stream",
          "name": "stderr",
          "text": [
            "Feature extracting: 100%|██████████| 391/391 [00:15<00:00, 25.88it/s]\n",
            "Test Epoch: [150/500] Acc@1:78.54% Acc@5:98.98%: 100%|██████████| 79/79 [00:04<00:00, 18.81it/s]\n",
            "Train Epoch: [151/500] Loss: 0.6457: 100%|██████████| 390/390 [01:45<00:00,  3.69it/s]\n"
          ]
        },
        {
          "output_type": "stream",
          "name": "stdout",
          "text": [
            "0.09999797548642919\n",
            "tensor(0.6460)\n"
          ]
        },
        {
          "output_type": "stream",
          "name": "stderr",
          "text": [
            "Feature extracting: 100%|██████████| 391/391 [00:15<00:00, 25.80it/s]\n",
            "Test Epoch: [151/500] Acc@1:78.83% Acc@5:98.90%: 100%|██████████| 79/79 [00:04<00:00, 18.54it/s]\n",
            "Train Epoch: [152/500] Loss: 0.6456: 100%|██████████| 390/390 [01:45<00:00,  3.69it/s]\n"
          ]
        },
        {
          "output_type": "stream",
          "name": "stdout",
          "text": [
            "0.09999192280658213\n",
            "tensor(0.6456)\n"
          ]
        },
        {
          "output_type": "stream",
          "name": "stderr",
          "text": [
            "Feature extracting: 100%|██████████| 391/391 [00:15<00:00, 25.78it/s]\n",
            "Test Epoch: [152/500] Acc@1:79.09% Acc@5:99.05%: 100%|██████████| 79/79 [00:04<00:00, 19.00it/s]\n",
            "Train Epoch: [153/500] Loss: 0.6382: 100%|██████████| 390/390 [01:45<00:00,  3.69it/s]\n"
          ]
        },
        {
          "output_type": "stream",
          "name": "stdout",
          "text": [
            "0.09998184243486659\n",
            "tensor(0.6386)\n"
          ]
        },
        {
          "output_type": "stream",
          "name": "stderr",
          "text": [
            "Feature extracting: 100%|██████████| 391/391 [00:15<00:00, 25.93it/s]\n",
            "Test Epoch: [153/500] Acc@1:78.88% Acc@5:98.97%: 100%|██████████| 79/79 [00:04<00:00, 18.71it/s]\n",
            "Train Epoch: [154/500] Loss: 0.6325: 100%|██████████| 390/390 [01:45<00:00,  3.69it/s]\n"
          ]
        },
        {
          "output_type": "stream",
          "name": "stdout",
          "text": [
            "0.09996773518343448\n",
            "tensor(0.6328)\n"
          ]
        },
        {
          "output_type": "stream",
          "name": "stderr",
          "text": [
            "Feature extracting: 100%|██████████| 391/391 [00:15<00:00, 25.80it/s]\n",
            "Test Epoch: [154/500] Acc@1:79.27% Acc@5:98.96%: 100%|██████████| 79/79 [00:04<00:00, 18.85it/s]\n",
            "Train Epoch: [155/500] Loss: 0.6329: 100%|██████████| 390/390 [01:45<00:00,  3.69it/s]\n"
          ]
        },
        {
          "output_type": "stream",
          "name": "stdout",
          "text": [
            "0.09994960218887401\n",
            "tensor(0.6329)\n"
          ]
        },
        {
          "output_type": "stream",
          "name": "stderr",
          "text": [
            "Feature extracting: 100%|██████████| 391/391 [00:15<00:00, 25.85it/s]\n",
            "Test Epoch: [155/500] Acc@1:79.02% Acc@5:98.95%: 100%|██████████| 79/79 [00:04<00:00, 18.76it/s]\n",
            "Train Epoch: [156/500] Loss: 0.6367: 100%|██████████| 390/390 [01:45<00:00,  3.69it/s]\n"
          ]
        },
        {
          "output_type": "stream",
          "name": "stdout",
          "text": [
            "0.09992744491211812\n",
            "tensor(0.6365)\n"
          ]
        },
        {
          "output_type": "stream",
          "name": "stderr",
          "text": [
            "Feature extracting: 100%|██████████| 391/391 [00:15<00:00, 25.95it/s]\n",
            "Test Epoch: [156/500] Acc@1:79.24% Acc@5:99.05%: 100%|██████████| 79/79 [00:04<00:00, 18.87it/s]\n",
            "Train Epoch: [157/500] Loss: 0.6340: 100%|██████████| 390/390 [01:45<00:00,  3.69it/s]\n"
          ]
        },
        {
          "output_type": "stream",
          "name": "stdout",
          "text": [
            "0.09990126513832667\n",
            "tensor(0.6342)\n"
          ]
        },
        {
          "output_type": "stream",
          "name": "stderr",
          "text": [
            "Feature extracting: 100%|██████████| 391/391 [00:15<00:00, 25.75it/s]\n",
            "Test Epoch: [157/500] Acc@1:78.49% Acc@5:98.85%: 100%|██████████| 79/79 [00:04<00:00, 18.86it/s]\n",
            "Train Epoch: [158/500] Loss: 0.6289: 100%|██████████| 390/390 [01:45<00:00,  3.69it/s]\n"
          ]
        },
        {
          "output_type": "stream",
          "name": "stdout",
          "text": [
            "0.0998710649767428\n",
            "tensor(0.6292)\n"
          ]
        },
        {
          "output_type": "stream",
          "name": "stderr",
          "text": [
            "Feature extracting: 100%|██████████| 391/391 [00:15<00:00, 25.95it/s]\n",
            "Test Epoch: [158/500] Acc@1:79.37% Acc@5:99.03%: 100%|██████████| 79/79 [00:04<00:00, 18.73it/s]\n",
            "Train Epoch: [159/500] Loss: 0.6226: 100%|██████████| 390/390 [01:45<00:00,  3.69it/s]\n"
          ]
        },
        {
          "output_type": "stream",
          "name": "stdout",
          "text": [
            "0.09983684686052272\n",
            "tensor(0.6229)\n"
          ]
        },
        {
          "output_type": "stream",
          "name": "stderr",
          "text": [
            "Feature extracting: 100%|██████████| 391/391 [00:15<00:00, 25.86it/s]\n",
            "Test Epoch: [159/500] Acc@1:79.03% Acc@5:98.97%: 100%|██████████| 79/79 [00:04<00:00, 18.66it/s]\n",
            "Train Epoch: [160/500] Loss: 0.6194: 100%|██████████| 390/390 [01:45<00:00,  3.70it/s]\n"
          ]
        },
        {
          "output_type": "stream",
          "name": "stdout",
          "text": [
            "0.09979861354653997\n",
            "tensor(0.6196)\n"
          ]
        },
        {
          "output_type": "stream",
          "name": "stderr",
          "text": [
            "Feature extracting: 100%|██████████| 391/391 [00:15<00:00, 25.77it/s]\n",
            "Test Epoch: [160/500] Acc@1:79.17% Acc@5:99.02%: 100%|██████████| 79/79 [00:04<00:00, 18.43it/s]\n",
            "Train Epoch: [161/500] Loss: 0.6263: 100%|██████████| 390/390 [01:45<00:00,  3.69it/s]\n"
          ]
        },
        {
          "output_type": "stream",
          "name": "stdout",
          "text": [
            "0.09975636811516313\n",
            "tensor(0.6260)\n"
          ]
        },
        {
          "output_type": "stream",
          "name": "stderr",
          "text": [
            "Feature extracting: 100%|██████████| 391/391 [00:15<00:00, 25.92it/s]\n",
            "Test Epoch: [161/500] Acc@1:79.11% Acc@5:99.01%: 100%|██████████| 79/79 [00:04<00:00, 18.82it/s]\n",
            "Train Epoch: [162/500] Loss: 0.6274: 100%|██████████| 390/390 [01:45<00:00,  3.71it/s]\n"
          ]
        },
        {
          "output_type": "stream",
          "name": "stdout",
          "text": [
            "0.09971011397000767\n",
            "tensor(0.6273)\n"
          ]
        },
        {
          "output_type": "stream",
          "name": "stderr",
          "text": [
            "Feature extracting: 100%|██████████| 391/391 [00:15<00:00, 25.88it/s]\n",
            "Test Epoch: [162/500] Acc@1:79.58% Acc@5:98.96%: 100%|██████████| 79/79 [00:04<00:00, 18.87it/s]\n",
            "Train Epoch: [163/500] Loss: 0.6146: 100%|██████████| 390/390 [01:45<00:00,  3.70it/s]\n"
          ]
        },
        {
          "output_type": "stream",
          "name": "stdout",
          "text": [
            "0.09965985483766175\n",
            "tensor(0.6152)\n"
          ]
        },
        {
          "output_type": "stream",
          "name": "stderr",
          "text": [
            "Feature extracting: 100%|██████████| 391/391 [00:15<00:00, 25.88it/s]\n",
            "Test Epoch: [163/500] Acc@1:79.37% Acc@5:99.05%: 100%|██████████| 79/79 [00:04<00:00, 18.95it/s]\n",
            "Train Epoch: [164/500] Loss: 0.6257: 100%|██████████| 390/390 [01:45<00:00,  3.70it/s]\n"
          ]
        },
        {
          "output_type": "stream",
          "name": "stdout",
          "text": [
            "0.09960559476738597\n",
            "tensor(0.6252)\n"
          ]
        },
        {
          "output_type": "stream",
          "name": "stderr",
          "text": [
            "Feature extracting: 100%|██████████| 391/391 [00:15<00:00, 25.83it/s]\n",
            "Test Epoch: [164/500] Acc@1:79.60% Acc@5:99.05%: 100%|██████████| 79/79 [00:04<00:00, 18.87it/s]\n",
            "Train Epoch: [165/500] Loss: 0.6149: 100%|██████████| 390/390 [01:45<00:00,  3.70it/s]\n"
          ]
        },
        {
          "output_type": "stream",
          "name": "stdout",
          "text": [
            "0.0995473381307871\n",
            "tensor(0.6154)\n"
          ]
        },
        {
          "output_type": "stream",
          "name": "stderr",
          "text": [
            "Feature extracting: 100%|██████████| 391/391 [00:15<00:00, 25.83it/s]\n",
            "Test Epoch: [165/500] Acc@1:79.22% Acc@5:99.14%: 100%|██████████| 79/79 [00:04<00:00, 18.79it/s]\n",
            "Train Epoch: [166/500] Loss: 0.6132: 100%|██████████| 390/390 [01:45<00:00,  3.70it/s]\n"
          ]
        },
        {
          "output_type": "stream",
          "name": "stdout",
          "text": [
            "0.09948508962146596\n",
            "tensor(0.6133)\n"
          ]
        },
        {
          "output_type": "stream",
          "name": "stderr",
          "text": [
            "Feature extracting: 100%|██████████| 391/391 [00:15<00:00, 25.87it/s]\n",
            "Test Epoch: [166/500] Acc@1:79.15% Acc@5:99.03%: 100%|██████████| 79/79 [00:04<00:00, 19.01it/s]\n",
            "Train Epoch: [167/500] Loss: 0.6149: 100%|██████████| 390/390 [01:45<00:00,  3.70it/s]\n"
          ]
        },
        {
          "output_type": "stream",
          "name": "stdout",
          "text": [
            "0.0994188542546392\n",
            "tensor(0.6148)\n"
          ]
        },
        {
          "output_type": "stream",
          "name": "stderr",
          "text": [
            "Feature extracting: 100%|██████████| 391/391 [00:15<00:00, 25.94it/s]\n",
            "Test Epoch: [167/500] Acc@1:78.91% Acc@5:98.93%: 100%|██████████| 79/79 [00:04<00:00, 18.79it/s]\n",
            "Train Epoch: [168/500] Loss: 0.6119: 100%|██████████| 390/390 [01:45<00:00,  3.70it/s]\n"
          ]
        },
        {
          "output_type": "stream",
          "name": "stdout",
          "text": [
            "0.09934863736673516\n",
            "tensor(0.6121)\n"
          ]
        },
        {
          "output_type": "stream",
          "name": "stderr",
          "text": [
            "Feature extracting: 100%|██████████| 391/391 [00:15<00:00, 25.80it/s]\n",
            "Test Epoch: [168/500] Acc@1:79.73% Acc@5:99.08%: 100%|██████████| 79/79 [00:04<00:00, 18.69it/s]\n",
            "Train Epoch: [169/500] Loss: 0.6010: 100%|██████████| 390/390 [01:45<00:00,  3.69it/s]\n"
          ]
        },
        {
          "output_type": "stream",
          "name": "stdout",
          "text": [
            "0.09927444461496411\n",
            "tensor(0.6015)\n"
          ]
        },
        {
          "output_type": "stream",
          "name": "stderr",
          "text": [
            "Feature extracting: 100%|██████████| 391/391 [00:15<00:00, 25.93it/s]\n",
            "Test Epoch: [169/500] Acc@1:79.79% Acc@5:99.04%: 100%|██████████| 79/79 [00:04<00:00, 18.79it/s]\n",
            "Train Epoch: [170/500] Loss: 0.6123: 100%|██████████| 390/390 [01:45<00:00,  3.69it/s]\n"
          ]
        },
        {
          "output_type": "stream",
          "name": "stdout",
          "text": [
            "0.09919628197686231\n",
            "tensor(0.6118)\n"
          ]
        },
        {
          "output_type": "stream",
          "name": "stderr",
          "text": [
            "Feature extracting: 100%|██████████| 391/391 [00:15<00:00, 25.82it/s]\n",
            "Test Epoch: [170/500] Acc@1:79.58% Acc@5:99.14%: 100%|██████████| 79/79 [00:04<00:00, 18.80it/s]\n",
            "Train Epoch: [171/500] Loss: 0.6087: 100%|██████████| 390/390 [01:45<00:00,  3.70it/s]\n"
          ]
        },
        {
          "output_type": "stream",
          "name": "stdout",
          "text": [
            "0.09911415574981047\n",
            "tensor(0.6089)\n"
          ]
        },
        {
          "output_type": "stream",
          "name": "stderr",
          "text": [
            "Feature extracting: 100%|██████████| 391/391 [00:15<00:00, 25.83it/s]\n",
            "Test Epoch: [171/500] Acc@1:79.47% Acc@5:98.98%: 100%|██████████| 79/79 [00:04<00:00, 18.81it/s]\n",
            "Train Epoch: [172/500] Loss: 0.6044: 100%|██████████| 390/390 [01:45<00:00,  3.69it/s]\n"
          ]
        },
        {
          "output_type": "stream",
          "name": "stdout",
          "text": [
            "0.09902807255052638\n",
            "tensor(0.6046)\n"
          ]
        },
        {
          "output_type": "stream",
          "name": "stderr",
          "text": [
            "Feature extracting: 100%|██████████| 391/391 [00:15<00:00, 25.79it/s]\n",
            "Test Epoch: [172/500] Acc@1:79.26% Acc@5:99.06%: 100%|██████████| 79/79 [00:04<00:00, 18.79it/s]\n",
            "Train Epoch: [173/500] Loss: 0.6041: 100%|██████████| 390/390 [01:45<00:00,  3.70it/s]\n"
          ]
        },
        {
          "output_type": "stream",
          "name": "stdout",
          "text": [
            "0.09893803931453185\n",
            "tensor(0.6041)\n"
          ]
        },
        {
          "output_type": "stream",
          "name": "stderr",
          "text": [
            "Feature extracting: 100%|██████████| 391/391 [00:15<00:00, 25.86it/s]\n",
            "Test Epoch: [173/500] Acc@1:80.03% Acc@5:99.11%: 100%|██████████| 79/79 [00:04<00:00, 18.15it/s]\n",
            "Train Epoch: [174/500] Loss: 0.5886: 100%|██████████| 390/390 [01:45<00:00,  3.68it/s]\n"
          ]
        },
        {
          "output_type": "stream",
          "name": "stdout",
          "text": [
            "0.09884406329559384\n",
            "tensor(0.5893)\n"
          ]
        },
        {
          "output_type": "stream",
          "name": "stderr",
          "text": [
            "Feature extracting: 100%|██████████| 391/391 [00:15<00:00, 25.77it/s]\n",
            "Test Epoch: [174/500] Acc@1:80.04% Acc@5:99.18%: 100%|██████████| 79/79 [00:04<00:00, 18.69it/s]\n",
            "Train Epoch: [175/500] Loss: 0.6018: 100%|██████████| 390/390 [01:45<00:00,  3.69it/s]\n"
          ]
        },
        {
          "output_type": "stream",
          "name": "stdout",
          "text": [
            "0.09874615206514013\n",
            "tensor(0.6011)\n"
          ]
        },
        {
          "output_type": "stream",
          "name": "stderr",
          "text": [
            "Feature extracting: 100%|██████████| 391/391 [00:15<00:00, 25.83it/s]\n",
            "Test Epoch: [175/500] Acc@1:79.63% Acc@5:99.18%: 100%|██████████| 79/79 [00:04<00:00, 18.72it/s]\n",
            "Train Epoch: [176/500] Loss: 0.6001: 100%|██████████| 390/390 [01:45<00:00,  3.70it/s]\n"
          ]
        },
        {
          "output_type": "stream",
          "name": "stdout",
          "text": [
            "0.09864431351164929\n",
            "tensor(0.6001)\n"
          ]
        },
        {
          "output_type": "stream",
          "name": "stderr",
          "text": [
            "Feature extracting: 100%|██████████| 391/391 [00:15<00:00, 25.81it/s]\n",
            "Test Epoch: [176/500] Acc@1:79.55% Acc@5:99.03%: 100%|██████████| 79/79 [00:04<00:00, 18.88it/s]\n",
            "Train Epoch: [177/500] Loss: 0.6043: 100%|██████████| 390/390 [01:45<00:00,  3.70it/s]\n"
          ]
        },
        {
          "output_type": "stream",
          "name": "stdout",
          "text": [
            "0.09853855584001509\n",
            "tensor(0.6041)\n"
          ]
        },
        {
          "output_type": "stream",
          "name": "stderr",
          "text": [
            "Feature extracting: 100%|██████████| 391/391 [00:15<00:00, 25.82it/s]\n",
            "Test Epoch: [177/500] Acc@1:79.68% Acc@5:99.05%: 100%|██████████| 79/79 [00:04<00:00, 18.88it/s]\n",
            "Train Epoch: [178/500] Loss: 0.5929: 100%|██████████| 390/390 [01:45<00:00,  3.69it/s]\n"
          ]
        },
        {
          "output_type": "stream",
          "name": "stdout",
          "text": [
            "0.09842888757088546\n",
            "tensor(0.5934)\n"
          ]
        },
        {
          "output_type": "stream",
          "name": "stderr",
          "text": [
            "Feature extracting: 100%|██████████| 391/391 [00:15<00:00, 25.85it/s]\n",
            "Test Epoch: [178/500] Acc@1:79.93% Acc@5:99.09%: 100%|██████████| 79/79 [00:04<00:00, 18.78it/s]\n",
            "Train Epoch: [179/500] Loss: 0.5883: 100%|██████████| 390/390 [01:45<00:00,  3.71it/s]\n"
          ]
        },
        {
          "output_type": "stream",
          "name": "stdout",
          "text": [
            "0.09831531753997605\n",
            "tensor(0.5886)\n"
          ]
        },
        {
          "output_type": "stream",
          "name": "stderr",
          "text": [
            "Feature extracting: 100%|██████████| 391/391 [00:15<00:00, 25.81it/s]\n",
            "Test Epoch: [179/500] Acc@1:79.85% Acc@5:99.15%: 100%|██████████| 79/79 [00:04<00:00, 18.61it/s]\n",
            "Train Epoch: [180/500] Loss: 0.5894: 100%|██████████| 390/390 [01:45<00:00,  3.70it/s]\n"
          ]
        },
        {
          "output_type": "stream",
          "name": "stdout",
          "text": [
            "0.0981978548973583\n",
            "tensor(0.5893)\n"
          ]
        },
        {
          "output_type": "stream",
          "name": "stderr",
          "text": [
            "Feature extracting: 100%|██████████| 391/391 [00:15<00:00, 25.83it/s]\n",
            "Test Epoch: [180/500] Acc@1:79.94% Acc@5:99.05%: 100%|██████████| 79/79 [00:04<00:00, 18.65it/s]\n",
            "Train Epoch: [181/500] Loss: 0.5901: 100%|██████████| 390/390 [01:45<00:00,  3.69it/s]\n"
          ]
        },
        {
          "output_type": "stream",
          "name": "stdout",
          "text": [
            "0.09807650910672225\n",
            "tensor(0.5901)\n"
          ]
        },
        {
          "output_type": "stream",
          "name": "stderr",
          "text": [
            "Feature extracting: 100%|██████████| 391/391 [00:15<00:00, 25.77it/s]\n",
            "Test Epoch: [181/500] Acc@1:80.00% Acc@5:99.06%: 100%|██████████| 79/79 [00:04<00:00, 18.54it/s]\n",
            "Train Epoch: [182/500] Loss: 0.5847: 100%|██████████| 390/390 [01:45<00:00,  3.68it/s]\n"
          ]
        },
        {
          "output_type": "stream",
          "name": "stdout",
          "text": [
            "0.09795128994461409\n",
            "tensor(0.5849)\n"
          ]
        },
        {
          "output_type": "stream",
          "name": "stderr",
          "text": [
            "Feature extracting: 100%|██████████| 391/391 [00:15<00:00, 25.72it/s]\n",
            "Test Epoch: [182/500] Acc@1:79.75% Acc@5:99.12%: 100%|██████████| 79/79 [00:04<00:00, 18.82it/s]\n",
            "Train Epoch: [183/500] Loss: 0.5928: 100%|██████████| 390/390 [01:45<00:00,  3.69it/s]\n"
          ]
        },
        {
          "output_type": "stream",
          "name": "stdout",
          "text": [
            "0.09782220749964847\n",
            "tensor(0.5925)\n"
          ]
        },
        {
          "output_type": "stream",
          "name": "stderr",
          "text": [
            "Feature extracting: 100%|██████████| 391/391 [00:15<00:00, 25.76it/s]\n",
            "Test Epoch: [183/500] Acc@1:79.92% Acc@5:99.21%: 100%|██████████| 79/79 [00:04<00:00, 18.86it/s]\n",
            "Train Epoch: [184/500] Loss: 0.5907: 100%|██████████| 390/390 [01:45<00:00,  3.69it/s]\n"
          ]
        },
        {
          "output_type": "stream",
          "name": "stdout",
          "text": [
            "0.09768927217169573\n",
            "tensor(0.5908)\n"
          ]
        },
        {
          "output_type": "stream",
          "name": "stderr",
          "text": [
            "Feature extracting: 100%|██████████| 391/391 [00:15<00:00, 25.83it/s]\n",
            "Test Epoch: [184/500] Acc@1:79.50% Acc@5:99.08%: 100%|██████████| 79/79 [00:04<00:00, 18.74it/s]\n",
            "Train Epoch: [185/500] Loss: 0.5846: 100%|██████████| 390/390 [01:45<00:00,  3.70it/s]\n"
          ]
        },
        {
          "output_type": "stream",
          "name": "stdout",
          "text": [
            "0.09755249467104392\n",
            "tensor(0.5849)\n"
          ]
        },
        {
          "output_type": "stream",
          "name": "stderr",
          "text": [
            "Feature extracting: 100%|██████████| 391/391 [00:15<00:00, 25.85it/s]\n",
            "Test Epoch: [185/500] Acc@1:80.45% Acc@5:99.16%: 100%|██████████| 79/79 [00:04<00:00, 18.62it/s]\n",
            "Train Epoch: [186/500] Loss: 0.5784: 100%|██████████| 390/390 [01:45<00:00,  3.70it/s]\n"
          ]
        },
        {
          "output_type": "stream",
          "name": "stdout",
          "text": [
            "0.09741188601753596\n",
            "tensor(0.5788)\n"
          ]
        },
        {
          "output_type": "stream",
          "name": "stderr",
          "text": [
            "Feature extracting: 100%|██████████| 391/391 [00:15<00:00, 25.80it/s]\n",
            "Test Epoch: [186/500] Acc@1:80.16% Acc@5:99.14%: 100%|██████████| 79/79 [00:04<00:00, 18.81it/s]\n",
            "Train Epoch: [187/500] Loss: 0.5775: 100%|██████████| 390/390 [01:45<00:00,  3.71it/s]\n"
          ]
        },
        {
          "output_type": "stream",
          "name": "stdout",
          "text": [
            "0.09726745753968183\n",
            "tensor(0.5776)\n"
          ]
        },
        {
          "output_type": "stream",
          "name": "stderr",
          "text": [
            "Feature extracting: 100%|██████████| 391/391 [00:15<00:00, 25.89it/s]\n",
            "Test Epoch: [187/500] Acc@1:80.12% Acc@5:99.05%: 100%|██████████| 79/79 [00:04<00:00, 18.83it/s]\n",
            "Train Epoch: [188/500] Loss: 0.5785: 100%|██████████| 390/390 [01:45<00:00,  3.70it/s]\n"
          ]
        },
        {
          "output_type": "stream",
          "name": "stdout",
          "text": [
            "0.09711922087374576\n",
            "tensor(0.5785)\n"
          ]
        },
        {
          "output_type": "stream",
          "name": "stderr",
          "text": [
            "Feature extracting: 100%|██████████| 391/391 [00:15<00:00, 25.85it/s]\n",
            "Test Epoch: [188/500] Acc@1:79.61% Acc@5:99.11%: 100%|██████████| 79/79 [00:04<00:00, 18.52it/s]\n",
            "Train Epoch: [189/500] Loss: 0.5757: 100%|██████████| 390/390 [01:45<00:00,  3.70it/s]\n"
          ]
        },
        {
          "output_type": "stream",
          "name": "stdout",
          "text": [
            "0.09696718796280879\n",
            "tensor(0.5759)\n"
          ]
        },
        {
          "output_type": "stream",
          "name": "stderr",
          "text": [
            "Feature extracting: 100%|██████████| 391/391 [00:15<00:00, 25.84it/s]\n",
            "Test Epoch: [189/500] Acc@1:79.65% Acc@5:98.97%: 100%|██████████| 79/79 [00:04<00:00, 19.00it/s]\n",
            "Train Epoch: [190/500] Loss: 0.5790: 100%|██████████| 390/390 [01:45<00:00,  3.70it/s]\n"
          ]
        },
        {
          "output_type": "stream",
          "name": "stdout",
          "text": [
            "0.09681137105580652\n",
            "tensor(0.5788)\n"
          ]
        },
        {
          "output_type": "stream",
          "name": "stderr",
          "text": [
            "Feature extracting: 100%|██████████| 391/391 [00:15<00:00, 25.89it/s]\n",
            "Test Epoch: [190/500] Acc@1:80.68% Acc@5:99.20%: 100%|██████████| 79/79 [00:04<00:00, 18.68it/s]\n",
            "Train Epoch: [191/500] Loss: 0.5780: 100%|██████████| 390/390 [01:45<00:00,  3.70it/s]\n"
          ]
        },
        {
          "output_type": "stream",
          "name": "stdout",
          "text": [
            "0.09665178270654229\n",
            "tensor(0.5781)\n"
          ]
        },
        {
          "output_type": "stream",
          "name": "stderr",
          "text": [
            "Feature extracting: 100%|██████████| 391/391 [00:15<00:00, 25.86it/s]\n",
            "Test Epoch: [191/500] Acc@1:80.27% Acc@5:99.07%: 100%|██████████| 79/79 [00:04<00:00, 19.03it/s]\n",
            "Train Epoch: [192/500] Loss: 0.5628: 100%|██████████| 390/390 [01:45<00:00,  3.70it/s]\n"
          ]
        },
        {
          "output_type": "stream",
          "name": "stdout",
          "text": [
            "0.09648843577267566\n",
            "tensor(0.5636)\n"
          ]
        },
        {
          "output_type": "stream",
          "name": "stderr",
          "text": [
            "Feature extracting: 100%|██████████| 391/391 [00:15<00:00, 25.94it/s]\n",
            "Test Epoch: [192/500] Acc@1:80.72% Acc@5:99.16%: 100%|██████████| 79/79 [00:04<00:00, 18.90it/s]\n",
            "Train Epoch: [193/500] Loss: 0.5683: 100%|██████████| 390/390 [01:45<00:00,  3.70it/s]\n"
          ]
        },
        {
          "output_type": "stream",
          "name": "stdout",
          "text": [
            "0.09632134341468658\n",
            "tensor(0.5681)\n"
          ]
        },
        {
          "output_type": "stream",
          "name": "stderr",
          "text": [
            "Feature extracting: 100%|██████████| 391/391 [00:15<00:00, 25.80it/s]\n",
            "Test Epoch: [193/500] Acc@1:80.52% Acc@5:99.23%: 100%|██████████| 79/79 [00:04<00:00, 18.77it/s]\n",
            "Train Epoch: [194/500] Loss: 0.5699: 100%|██████████| 390/390 [01:45<00:00,  3.70it/s]\n"
          ]
        },
        {
          "output_type": "stream",
          "name": "stdout",
          "text": [
            "0.09615051909481506\n",
            "tensor(0.5698)\n"
          ]
        },
        {
          "output_type": "stream",
          "name": "stderr",
          "text": [
            "Feature extracting: 100%|██████████| 391/391 [00:15<00:00, 25.81it/s]\n",
            "Test Epoch: [194/500] Acc@1:80.08% Acc@5:99.12%: 100%|██████████| 79/79 [00:04<00:00, 18.55it/s]\n",
            "Train Epoch: [195/500] Loss: 0.5718: 100%|██████████| 390/390 [01:45<00:00,  3.70it/s]\n"
          ]
        },
        {
          "output_type": "stream",
          "name": "stdout",
          "text": [
            "0.09597597657597652\n",
            "tensor(0.5717)\n"
          ]
        },
        {
          "output_type": "stream",
          "name": "stderr",
          "text": [
            "Feature extracting: 100%|██████████| 391/391 [00:15<00:00, 25.75it/s]\n",
            "Test Epoch: [195/500] Acc@1:80.53% Acc@5:99.12%: 100%|██████████| 79/79 [00:04<00:00, 18.73it/s]\n",
            "Train Epoch: [196/500] Loss: 0.5642: 100%|██████████| 390/390 [01:45<00:00,  3.69it/s]\n"
          ]
        },
        {
          "output_type": "stream",
          "name": "stdout",
          "text": [
            "0.09579772992065298\n",
            "tensor(0.5646)\n"
          ]
        },
        {
          "output_type": "stream",
          "name": "stderr",
          "text": [
            "Feature extracting: 100%|██████████| 391/391 [00:15<00:00, 25.84it/s]\n",
            "Test Epoch: [196/500] Acc@1:80.32% Acc@5:99.18%: 100%|██████████| 79/79 [00:04<00:00, 18.49it/s]\n",
            "Train Epoch: [197/500] Loss: 0.5733: 100%|██████████| 390/390 [01:45<00:00,  3.69it/s]\n"
          ]
        },
        {
          "output_type": "stream",
          "name": "stdout",
          "text": [
            "0.09561579348976003\n",
            "tensor(0.5728)\n"
          ]
        },
        {
          "output_type": "stream",
          "name": "stderr",
          "text": [
            "Feature extracting: 100%|██████████| 391/391 [00:15<00:00, 25.81it/s]\n",
            "Test Epoch: [197/500] Acc@1:80.55% Acc@5:99.13%: 100%|██████████| 79/79 [00:04<00:00, 18.74it/s]\n",
            "Train Epoch: [198/500] Loss: 0.5723: 100%|██████████| 390/390 [01:45<00:00,  3.69it/s]\n"
          ]
        },
        {
          "output_type": "stream",
          "name": "stdout",
          "text": [
            "0.09543018194148986\n",
            "tensor(0.5724)\n"
          ]
        },
        {
          "output_type": "stream",
          "name": "stderr",
          "text": [
            "Feature extracting: 100%|██████████| 391/391 [00:15<00:00, 25.89it/s]\n",
            "Test Epoch: [198/500] Acc@1:80.25% Acc@5:99.04%: 100%|██████████| 79/79 [00:04<00:00, 18.71it/s]\n",
            "Train Epoch: [199/500] Loss: 0.5634: 100%|██████████| 390/390 [01:45<00:00,  3.68it/s]\n"
          ]
        },
        {
          "output_type": "stream",
          "name": "stdout",
          "text": [
            "0.09524091023013027\n",
            "tensor(0.5638)\n"
          ]
        },
        {
          "output_type": "stream",
          "name": "stderr",
          "text": [
            "Feature extracting: 100%|██████████| 391/391 [00:15<00:00, 25.71it/s]\n",
            "Test Epoch: [199/500] Acc@1:80.36% Acc@5:99.14%: 100%|██████████| 79/79 [00:04<00:00, 18.42it/s]\n",
            "Train Epoch: [200/500] Loss: 0.5642: 100%|██████████| 390/390 [01:45<00:00,  3.69it/s]\n"
          ]
        },
        {
          "output_type": "stream",
          "name": "stdout",
          "text": [
            "0.09504799360485983\n",
            "tensor(0.5642)\n"
          ]
        },
        {
          "output_type": "stream",
          "name": "stderr",
          "text": [
            "Feature extracting: 100%|██████████| 391/391 [00:15<00:00, 25.72it/s]\n",
            "Test Epoch: [200/500] Acc@1:80.51% Acc@5:99.14%: 100%|██████████| 79/79 [00:04<00:00, 18.78it/s]\n",
            "Train Epoch: [201/500] Loss: 0.5590: 100%|██████████| 390/390 [01:45<00:00,  3.70it/s]\n"
          ]
        },
        {
          "output_type": "stream",
          "name": "stdout",
          "text": [
            "0.09485144760851925\n",
            "tensor(0.5593)\n"
          ]
        },
        {
          "output_type": "stream",
          "name": "stderr",
          "text": [
            "Feature extracting: 100%|██████████| 391/391 [00:15<00:00, 25.91it/s]\n",
            "Test Epoch: [201/500] Acc@1:80.81% Acc@5:99.09%: 100%|██████████| 79/79 [00:04<00:00, 18.61it/s]\n",
            "Train Epoch: [202/500] Loss: 0.5604: 100%|██████████| 390/390 [01:45<00:00,  3.69it/s]\n"
          ]
        },
        {
          "output_type": "stream",
          "name": "stdout",
          "text": [
            "0.09465128807635922\n",
            "tensor(0.5604)\n"
          ]
        },
        {
          "output_type": "stream",
          "name": "stderr",
          "text": [
            "Feature extracting: 100%|██████████| 391/391 [00:15<00:00, 25.83it/s]\n",
            "Test Epoch: [202/500] Acc@1:81.14% Acc@5:99.13%: 100%|██████████| 79/79 [00:04<00:00, 18.98it/s]\n",
            "Train Epoch: [203/500] Loss: 0.5618: 100%|██████████| 390/390 [01:45<00:00,  3.68it/s]\n"
          ]
        },
        {
          "output_type": "stream",
          "name": "stdout",
          "text": [
            "0.0944475311347645\n",
            "tensor(0.5617)\n"
          ]
        },
        {
          "output_type": "stream",
          "name": "stderr",
          "text": [
            "Feature extracting: 100%|██████████| 391/391 [00:15<00:00, 25.90it/s]\n",
            "Test Epoch: [203/500] Acc@1:80.74% Acc@5:99.17%: 100%|██████████| 79/79 [00:04<00:00, 18.81it/s]\n",
            "Train Epoch: [204/500] Loss: 0.5620: 100%|██████████| 390/390 [01:45<00:00,  3.70it/s]\n"
          ]
        },
        {
          "output_type": "stream",
          "name": "stdout",
          "text": [
            "0.09424019319995475\n",
            "tensor(0.5620)\n"
          ]
        },
        {
          "output_type": "stream",
          "name": "stderr",
          "text": [
            "Feature extracting: 100%|██████████| 391/391 [00:15<00:00, 25.85it/s]\n",
            "Test Epoch: [204/500] Acc@1:81.07% Acc@5:99.07%: 100%|██████████| 79/79 [00:04<00:00, 18.79it/s]\n",
            "Train Epoch: [205/500] Loss: 0.5629: 100%|██████████| 390/390 [01:45<00:00,  3.70it/s]\n"
          ]
        },
        {
          "output_type": "stream",
          "name": "stdout",
          "text": [
            "0.09402929097666184\n",
            "tensor(0.5629)\n"
          ]
        },
        {
          "output_type": "stream",
          "name": "stderr",
          "text": [
            "Feature extracting: 100%|██████████| 391/391 [00:15<00:00, 25.84it/s]\n",
            "Test Epoch: [205/500] Acc@1:81.06% Acc@5:99.10%: 100%|██████████| 79/79 [00:04<00:00, 18.78it/s]\n",
            "Train Epoch: [206/500] Loss: 0.5482: 100%|██████████| 390/390 [01:45<00:00,  3.69it/s]\n"
          ]
        },
        {
          "output_type": "stream",
          "name": "stdout",
          "text": [
            "0.09381484145678401\n",
            "tensor(0.5489)\n"
          ]
        },
        {
          "output_type": "stream",
          "name": "stderr",
          "text": [
            "Feature extracting: 100%|██████████| 391/391 [00:15<00:00, 25.93it/s]\n",
            "Test Epoch: [206/500] Acc@1:80.95% Acc@5:99.14%: 100%|██████████| 79/79 [00:04<00:00, 18.96it/s]\n",
            "Train Epoch: [207/500] Loss: 0.5493: 100%|██████████| 390/390 [01:45<00:00,  3.70it/s]\n"
          ]
        },
        {
          "output_type": "stream",
          "name": "stdout",
          "text": [
            "0.0935968619180169\n",
            "tensor(0.5493)\n"
          ]
        },
        {
          "output_type": "stream",
          "name": "stderr",
          "text": [
            "Feature extracting: 100%|██████████| 391/391 [00:15<00:00, 25.90it/s]\n",
            "Test Epoch: [207/500] Acc@1:80.61% Acc@5:99.08%: 100%|██████████| 79/79 [00:04<00:00, 18.97it/s]\n",
            "Train Epoch: [208/500] Loss: 0.5559: 100%|██████████| 390/390 [01:45<00:00,  3.70it/s]\n"
          ]
        },
        {
          "output_type": "stream",
          "name": "stdout",
          "text": [
            "0.0933753699224615\n",
            "tensor(0.5556)\n"
          ]
        },
        {
          "output_type": "stream",
          "name": "stderr",
          "text": [
            "Feature extracting: 100%|██████████| 391/391 [00:15<00:00, 25.73it/s]\n",
            "Test Epoch: [208/500] Acc@1:80.71% Acc@5:99.15%: 100%|██████████| 79/79 [00:04<00:00, 18.88it/s]\n",
            "Train Epoch: [209/500] Loss: 0.5507: 100%|██████████| 390/390 [01:45<00:00,  3.70it/s]\n"
          ]
        },
        {
          "output_type": "stream",
          "name": "stdout",
          "text": [
            "0.09315038331520921\n",
            "tensor(0.5509)\n"
          ]
        },
        {
          "output_type": "stream",
          "name": "stderr",
          "text": [
            "Feature extracting: 100%|██████████| 391/391 [00:15<00:00, 25.84it/s]\n",
            "Test Epoch: [209/500] Acc@1:80.61% Acc@5:99.18%: 100%|██████████| 79/79 [00:04<00:00, 18.82it/s]\n",
            "Train Epoch: [210/500] Loss: 0.5488: 100%|██████████| 390/390 [01:45<00:00,  3.70it/s]\n"
          ]
        },
        {
          "output_type": "stream",
          "name": "stdout",
          "text": [
            "0.0929219202229041\n",
            "tensor(0.5489)\n"
          ]
        },
        {
          "output_type": "stream",
          "name": "stderr",
          "text": [
            "Feature extracting: 100%|██████████| 391/391 [00:15<00:00, 25.86it/s]\n",
            "Test Epoch: [210/500] Acc@1:80.80% Acc@5:99.15%: 100%|██████████| 79/79 [00:04<00:00, 18.83it/s]\n",
            "Train Epoch: [211/500] Loss: 0.5462: 100%|██████████| 390/390 [01:45<00:00,  3.71it/s]\n"
          ]
        },
        {
          "output_type": "stream",
          "name": "stdout",
          "text": [
            "0.09268999905228255\n",
            "tensor(0.5464)\n"
          ]
        },
        {
          "output_type": "stream",
          "name": "stderr",
          "text": [
            "Feature extracting: 100%|██████████| 391/391 [00:15<00:00, 25.87it/s]\n",
            "Test Epoch: [211/500] Acc@1:80.77% Acc@5:99.17%: 100%|██████████| 79/79 [00:04<00:00, 18.67it/s]\n",
            "Train Epoch: [212/500] Loss: 0.5498: 100%|██████████| 390/390 [01:45<00:00,  3.69it/s]\n"
          ]
        },
        {
          "output_type": "stream",
          "name": "stdout",
          "text": [
            "0.09245463848869016\n",
            "tensor(0.5496)\n"
          ]
        },
        {
          "output_type": "stream",
          "name": "stderr",
          "text": [
            "Feature extracting: 100%|██████████| 391/391 [00:15<00:00, 25.81it/s]\n",
            "Test Epoch: [212/500] Acc@1:81.11% Acc@5:99.11%: 100%|██████████| 79/79 [00:04<00:00, 18.59it/s]\n",
            "Train Epoch: [213/500] Loss: 0.5480: 100%|██████████| 390/390 [01:45<00:00,  3.69it/s]\n"
          ]
        },
        {
          "output_type": "stream",
          "name": "stdout",
          "text": [
            "0.09221585749457639\n",
            "tensor(0.5481)\n"
          ]
        },
        {
          "output_type": "stream",
          "name": "stderr",
          "text": [
            "Feature extracting: 100%|██████████| 391/391 [00:15<00:00, 25.91it/s]\n",
            "Test Epoch: [213/500] Acc@1:80.54% Acc@5:99.15%: 100%|██████████| 79/79 [00:04<00:00, 18.56it/s]\n",
            "Train Epoch: [214/500] Loss: 0.5516: 100%|██████████| 390/390 [01:45<00:00,  3.71it/s]\n"
          ]
        },
        {
          "output_type": "stream",
          "name": "stdout",
          "text": [
            "0.09197367530796675\n",
            "tensor(0.5515)\n"
          ]
        },
        {
          "output_type": "stream",
          "name": "stderr",
          "text": [
            "Feature extracting: 100%|██████████| 391/391 [00:15<00:00, 25.86it/s]\n",
            "Test Epoch: [214/500] Acc@1:80.93% Acc@5:99.16%: 100%|██████████| 79/79 [00:04<00:00, 18.77it/s]\n",
            "Train Epoch: [215/500] Loss: 0.5453: 100%|██████████| 390/390 [01:45<00:00,  3.70it/s]\n"
          ]
        },
        {
          "output_type": "stream",
          "name": "stdout",
          "text": [
            "0.0917281114409129\n",
            "tensor(0.5456)\n"
          ]
        },
        {
          "output_type": "stream",
          "name": "stderr",
          "text": [
            "Feature extracting: 100%|██████████| 391/391 [00:15<00:00, 25.92it/s]\n",
            "Test Epoch: [215/500] Acc@1:80.85% Acc@5:99.17%: 100%|██████████| 79/79 [00:04<00:00, 18.63it/s]\n",
            "Train Epoch: [216/500] Loss: 0.5407: 100%|██████████| 390/390 [01:45<00:00,  3.70it/s]\n"
          ]
        },
        {
          "output_type": "stream",
          "name": "stdout",
          "text": [
            "0.09147918567792059\n",
            "tensor(0.5410)\n"
          ]
        },
        {
          "output_type": "stream",
          "name": "stderr",
          "text": [
            "Feature extracting: 100%|██████████| 391/391 [00:15<00:00, 25.82it/s]\n",
            "Test Epoch: [216/500] Acc@1:81.46% Acc@5:99.26%: 100%|██████████| 79/79 [00:04<00:00, 18.88it/s]\n",
            "Train Epoch: [217/500] Loss: 0.5424: 100%|██████████| 390/390 [01:45<00:00,  3.70it/s]\n"
          ]
        },
        {
          "output_type": "stream",
          "name": "stdout",
          "text": [
            "0.09122691807435558\n",
            "tensor(0.5423)\n"
          ]
        },
        {
          "output_type": "stream",
          "name": "stderr",
          "text": [
            "Feature extracting: 100%|██████████| 391/391 [00:15<00:00, 25.90it/s]\n",
            "Test Epoch: [217/500] Acc@1:81.09% Acc@5:99.19%: 100%|██████████| 79/79 [00:04<00:00, 18.53it/s]\n",
            "Train Epoch: [218/500] Loss: 0.5449: 100%|██████████| 390/390 [01:45<00:00,  3.70it/s]\n"
          ]
        },
        {
          "output_type": "stream",
          "name": "stdout",
          "text": [
            "0.09097132895482797\n",
            "tensor(0.5448)\n"
          ]
        },
        {
          "output_type": "stream",
          "name": "stderr",
          "text": [
            "Feature extracting: 100%|██████████| 391/391 [00:15<00:00, 25.82it/s]\n",
            "Test Epoch: [218/500] Acc@1:80.73% Acc@5:99.10%: 100%|██████████| 79/79 [00:04<00:00, 18.78it/s]\n",
            "Train Epoch: [219/500] Loss: 0.5493: 100%|██████████| 390/390 [01:45<00:00,  3.70it/s]\n"
          ]
        },
        {
          "output_type": "stream",
          "name": "stdout",
          "text": [
            "0.09071243891155457\n",
            "tensor(0.5490)\n"
          ]
        },
        {
          "output_type": "stream",
          "name": "stderr",
          "text": [
            "Feature extracting: 100%|██████████| 391/391 [00:15<00:00, 25.80it/s]\n",
            "Test Epoch: [219/500] Acc@1:81.16% Acc@5:99.27%: 100%|██████████| 79/79 [00:04<00:00, 18.76it/s]\n",
            "Train Epoch: [220/500] Loss: 0.5493: 100%|██████████| 390/390 [01:45<00:00,  3.69it/s]\n"
          ]
        },
        {
          "output_type": "stream",
          "name": "stdout",
          "text": [
            "0.09045026880269996\n",
            "tensor(0.5493)\n"
          ]
        },
        {
          "output_type": "stream",
          "name": "stderr",
          "text": [
            "Feature extracting: 100%|██████████| 391/391 [00:15<00:00, 25.68it/s]\n",
            "Test Epoch: [220/500] Acc@1:81.04% Acc@5:99.06%: 100%|██████████| 79/79 [00:04<00:00, 18.61it/s]\n",
            "Train Epoch: [221/500] Loss: 0.5396: 100%|██████████| 390/390 [01:45<00:00,  3.69it/s]\n"
          ]
        },
        {
          "output_type": "stream",
          "name": "stdout",
          "text": [
            "0.09018483975069583\n",
            "tensor(0.5400)\n"
          ]
        },
        {
          "output_type": "stream",
          "name": "stderr",
          "text": [
            "Feature extracting: 100%|██████████| 391/391 [00:15<00:00, 25.88it/s]\n",
            "Test Epoch: [221/500] Acc@1:81.45% Acc@5:99.23%: 100%|██████████| 79/79 [00:04<00:00, 18.52it/s]\n",
            "Train Epoch: [222/500] Loss: 0.5398: 100%|██████████| 390/390 [01:45<00:00,  3.69it/s]\n"
          ]
        },
        {
          "output_type": "stream",
          "name": "stdout",
          "text": [
            "0.08991617314053936\n",
            "tensor(0.5398)\n"
          ]
        },
        {
          "output_type": "stream",
          "name": "stderr",
          "text": [
            "Feature extracting: 100%|██████████| 391/391 [00:15<00:00, 25.72it/s]\n",
            "Test Epoch: [222/500] Acc@1:81.28% Acc@5:99.24%: 100%|██████████| 79/79 [00:04<00:00, 18.60it/s]\n",
            "Train Epoch: [223/500] Loss: 0.5400: 100%|██████████| 390/390 [01:45<00:00,  3.69it/s]\n"
          ]
        },
        {
          "output_type": "stream",
          "name": "stdout",
          "text": [
            "0.08964429061807018\n",
            "tensor(0.5400)\n"
          ]
        },
        {
          "output_type": "stream",
          "name": "stderr",
          "text": [
            "Feature extracting: 100%|██████████| 391/391 [00:15<00:00, 25.83it/s]\n",
            "Test Epoch: [223/500] Acc@1:80.97% Acc@5:99.15%: 100%|██████████| 79/79 [00:04<00:00, 18.78it/s]\n",
            "Train Epoch: [224/500] Loss: 0.5386: 100%|██████████| 390/390 [01:45<00:00,  3.69it/s]\n"
          ]
        },
        {
          "output_type": "stream",
          "name": "stdout",
          "text": [
            "0.08936921408822641\n",
            "tensor(0.5387)\n"
          ]
        },
        {
          "output_type": "stream",
          "name": "stderr",
          "text": [
            "Feature extracting: 100%|██████████| 391/391 [00:15<00:00, 25.88it/s]\n",
            "Test Epoch: [224/500] Acc@1:81.46% Acc@5:99.22%: 100%|██████████| 79/79 [00:04<00:00, 18.48it/s]\n",
            "Train Epoch: [225/500] Loss: 0.5412: 100%|██████████| 390/390 [01:45<00:00,  3.69it/s]\n"
          ]
        },
        {
          "output_type": "stream",
          "name": "stdout",
          "text": [
            "0.08909096571327996\n",
            "tensor(0.5411)\n"
          ]
        },
        {
          "output_type": "stream",
          "name": "stderr",
          "text": [
            "Feature extracting: 100%|██████████| 391/391 [00:15<00:00, 25.70it/s]\n",
            "Test Epoch: [225/500] Acc@1:81.21% Acc@5:99.23%: 100%|██████████| 79/79 [00:04<00:00, 18.69it/s]\n",
            "Train Epoch: [226/500] Loss: 0.5311: 100%|██████████| 390/390 [01:45<00:00,  3.69it/s]\n"
          ]
        },
        {
          "output_type": "stream",
          "name": "stdout",
          "text": [
            "0.08880956791105078\n",
            "tensor(0.5316)\n"
          ]
        },
        {
          "output_type": "stream",
          "name": "stderr",
          "text": [
            "Feature extracting: 100%|██████████| 391/391 [00:15<00:00, 25.81it/s]\n",
            "Test Epoch: [226/500] Acc@1:81.21% Acc@5:99.17%: 100%|██████████| 79/79 [00:04<00:00, 18.56it/s]\n",
            "Train Epoch: [227/500] Loss: 0.5434: 100%|██████████| 390/390 [01:45<00:00,  3.69it/s]\n"
          ]
        },
        {
          "output_type": "stream",
          "name": "stdout",
          "text": [
            "0.08852504335310084\n",
            "tensor(0.5428)\n"
          ]
        },
        {
          "output_type": "stream",
          "name": "stderr",
          "text": [
            "Feature extracting: 100%|██████████| 391/391 [00:15<00:00, 25.80it/s]\n",
            "Test Epoch: [227/500] Acc@1:81.32% Acc@5:99.25%: 100%|██████████| 79/79 [00:04<00:00, 18.81it/s]\n",
            "Train Epoch: [228/500] Loss: 0.5218: 100%|██████████| 390/390 [01:45<00:00,  3.71it/s]\n"
          ]
        },
        {
          "output_type": "stream",
          "name": "stdout",
          "text": [
            "0.08823741496290748\n",
            "tensor(0.5228)\n"
          ]
        },
        {
          "output_type": "stream",
          "name": "stderr",
          "text": [
            "Feature extracting: 100%|██████████| 391/391 [00:15<00:00, 25.88it/s]\n",
            "Test Epoch: [228/500] Acc@1:81.29% Acc@5:99.23%: 100%|██████████| 79/79 [00:04<00:00, 18.80it/s]\n",
            "Train Epoch: [229/500] Loss: 0.5267: 100%|██████████| 390/390 [01:45<00:00,  3.70it/s]\n"
          ]
        },
        {
          "output_type": "stream",
          "name": "stdout",
          "text": [
            "0.08794670591401656\n",
            "tensor(0.5265)\n"
          ]
        },
        {
          "output_type": "stream",
          "name": "stderr",
          "text": [
            "Feature extracting: 100%|██████████| 391/391 [00:15<00:00, 25.87it/s]\n",
            "Test Epoch: [229/500] Acc@1:81.06% Acc@5:99.20%: 100%|██████████| 79/79 [00:04<00:00, 18.55it/s]\n",
            "Train Epoch: [230/500] Loss: 0.5282: 100%|██████████| 390/390 [01:45<00:00,  3.70it/s]\n"
          ]
        },
        {
          "output_type": "stream",
          "name": "stdout",
          "text": [
            "0.08765293962817537\n",
            "tensor(0.5281)\n"
          ]
        },
        {
          "output_type": "stream",
          "name": "stderr",
          "text": [
            "Feature extracting: 100%|██████████| 391/391 [00:15<00:00, 25.90it/s]\n",
            "Test Epoch: [230/500] Acc@1:81.43% Acc@5:99.27%: 100%|██████████| 79/79 [00:04<00:00, 18.82it/s]\n",
            "Train Epoch: [231/500] Loss: 0.5263: 100%|██████████| 390/390 [01:45<00:00,  3.70it/s]\n"
          ]
        },
        {
          "output_type": "stream",
          "name": "stdout",
          "text": [
            "0.08735613977344565\n",
            "tensor(0.5264)\n"
          ]
        },
        {
          "output_type": "stream",
          "name": "stderr",
          "text": [
            "Feature extracting: 100%|██████████| 391/391 [00:15<00:00, 25.81it/s]\n",
            "Test Epoch: [231/500] Acc@1:81.02% Acc@5:99.19%: 100%|██████████| 79/79 [00:04<00:00, 18.91it/s]\n",
            "Train Epoch: [232/500] Loss: 0.5208: 100%|██████████| 390/390 [01:45<00:00,  3.70it/s]\n"
          ]
        },
        {
          "output_type": "stream",
          "name": "stdout",
          "text": [
            "0.08705633026229667\n",
            "tensor(0.5211)\n"
          ]
        },
        {
          "output_type": "stream",
          "name": "stderr",
          "text": [
            "Feature extracting: 100%|██████████| 391/391 [00:15<00:00, 25.86it/s]\n",
            "Test Epoch: [232/500] Acc@1:81.74% Acc@5:99.20%: 100%|██████████| 79/79 [00:04<00:00, 18.69it/s]\n",
            "Train Epoch: [233/500] Loss: 0.5245: 100%|██████████| 390/390 [01:45<00:00,  3.70it/s]\n"
          ]
        },
        {
          "output_type": "stream",
          "name": "stdout",
          "text": [
            "0.08675353524967866\n",
            "tensor(0.5243)\n"
          ]
        },
        {
          "output_type": "stream",
          "name": "stderr",
          "text": [
            "Feature extracting: 100%|██████████| 391/391 [00:15<00:00, 25.85it/s]\n",
            "Test Epoch: [233/500] Acc@1:81.35% Acc@5:99.28%: 100%|██████████| 79/79 [00:04<00:00, 18.72it/s]\n",
            "Train Epoch: [234/500] Loss: 0.5232: 100%|██████████| 390/390 [01:45<00:00,  3.70it/s]\n"
          ]
        },
        {
          "output_type": "stream",
          "name": "stdout",
          "text": [
            "0.08644777913107671\n",
            "tensor(0.5233)\n"
          ]
        },
        {
          "output_type": "stream",
          "name": "stderr",
          "text": [
            "Feature extracting: 100%|██████████| 391/391 [00:15<00:00, 25.82it/s]\n",
            "Test Epoch: [234/500] Acc@1:81.44% Acc@5:99.17%: 100%|██████████| 79/79 [00:04<00:00, 18.90it/s]\n",
            "Train Epoch: [235/500] Loss: 0.5161: 100%|██████████| 390/390 [01:45<00:00,  3.70it/s]\n"
          ]
        },
        {
          "output_type": "stream",
          "name": "stdout",
          "text": [
            "0.08613908654054529\n",
            "tensor(0.5165)\n"
          ]
        },
        {
          "output_type": "stream",
          "name": "stderr",
          "text": [
            "Feature extracting: 100%|██████████| 391/391 [00:15<00:00, 25.78it/s]\n",
            "Test Epoch: [235/500] Acc@1:81.65% Acc@5:99.19%: 100%|██████████| 79/79 [00:04<00:00, 18.85it/s]\n",
            "Train Epoch: [236/500] Loss: 0.5209: 100%|██████████| 390/390 [01:45<00:00,  3.70it/s]\n"
          ]
        },
        {
          "output_type": "stream",
          "name": "stdout",
          "text": [
            "0.08582748234872357\n",
            "tensor(0.5207)\n"
          ]
        },
        {
          "output_type": "stream",
          "name": "stderr",
          "text": [
            "Feature extracting: 100%|██████████| 391/391 [00:15<00:00, 25.85it/s]\n",
            "Test Epoch: [236/500] Acc@1:81.86% Acc@5:99.28%: 100%|██████████| 79/79 [00:04<00:00, 18.99it/s]\n",
            "Train Epoch: [237/500] Loss: 0.5232: 100%|██████████| 390/390 [01:45<00:00,  3.70it/s]\n"
          ]
        },
        {
          "output_type": "stream",
          "name": "stdout",
          "text": [
            "0.08551299166083157\n",
            "tensor(0.5230)\n"
          ]
        },
        {
          "output_type": "stream",
          "name": "stderr",
          "text": [
            "Feature extracting: 100%|██████████| 391/391 [00:15<00:00, 25.79it/s]\n",
            "Test Epoch: [237/500] Acc@1:81.13% Acc@5:99.22%: 100%|██████████| 79/79 [00:04<00:00, 18.70it/s]\n",
            "Train Epoch: [238/500] Loss: 0.5155: 100%|██████████| 390/390 [01:45<00:00,  3.70it/s]\n"
          ]
        },
        {
          "output_type": "stream",
          "name": "stdout",
          "text": [
            "0.08519563981464756\n",
            "tensor(0.5159)\n"
          ]
        },
        {
          "output_type": "stream",
          "name": "stderr",
          "text": [
            "Feature extracting: 100%|██████████| 391/391 [00:15<00:00, 25.81it/s]\n",
            "Test Epoch: [238/500] Acc@1:81.68% Acc@5:99.29%: 100%|██████████| 79/79 [00:04<00:00, 18.64it/s]\n",
            "Train Epoch: [239/500] Loss: 0.5156: 100%|██████████| 390/390 [01:45<00:00,  3.70it/s]\n"
          ]
        },
        {
          "output_type": "stream",
          "name": "stdout",
          "text": [
            "0.08487545237846661\n",
            "tensor(0.5156)\n"
          ]
        },
        {
          "output_type": "stream",
          "name": "stderr",
          "text": [
            "Feature extracting: 100%|██████████| 391/391 [00:15<00:00, 25.84it/s]\n",
            "Test Epoch: [239/500] Acc@1:81.67% Acc@5:99.28%: 100%|██████████| 79/79 [00:04<00:00, 18.78it/s]\n",
            "Train Epoch: [240/500] Loss: 0.5230: 100%|██████████| 390/390 [01:45<00:00,  3.70it/s]\n"
          ]
        },
        {
          "output_type": "stream",
          "name": "stdout",
          "text": [
            "0.08455245514904068\n",
            "tensor(0.5227)\n"
          ]
        },
        {
          "output_type": "stream",
          "name": "stderr",
          "text": [
            "Feature extracting: 100%|██████████| 391/391 [00:15<00:00, 25.74it/s]\n",
            "Test Epoch: [240/500] Acc@1:81.73% Acc@5:99.18%: 100%|██████████| 79/79 [00:04<00:00, 18.45it/s]\n",
            "Train Epoch: [241/500] Loss: 0.5193: 100%|██████████| 390/390 [01:45<00:00,  3.70it/s]\n"
          ]
        },
        {
          "output_type": "stream",
          "name": "stdout",
          "text": [
            "0.08422667414950018\n",
            "tensor(0.5195)\n"
          ]
        },
        {
          "output_type": "stream",
          "name": "stderr",
          "text": [
            "Feature extracting: 100%|██████████| 391/391 [00:15<00:00, 25.77it/s]\n",
            "Test Epoch: [241/500] Acc@1:81.53% Acc@5:99.27%: 100%|██████████| 79/79 [00:04<00:00, 18.46it/s]\n",
            "Train Epoch: [242/500] Loss: 0.5201: 100%|██████████| 390/390 [01:45<00:00,  3.70it/s]\n"
          ]
        },
        {
          "output_type": "stream",
          "name": "stdout",
          "text": [
            "0.08389813562725733\n",
            "tensor(0.5201)\n"
          ]
        },
        {
          "output_type": "stream",
          "name": "stderr",
          "text": [
            "Feature extracting: 100%|██████████| 391/391 [00:15<00:00, 25.78it/s]\n",
            "Test Epoch: [242/500] Acc@1:81.29% Acc@5:99.30%: 100%|██████████| 79/79 [00:04<00:00, 18.67it/s]\n",
            "Train Epoch: [243/500] Loss: 0.5171: 100%|██████████| 390/390 [01:45<00:00,  3.69it/s]\n"
          ]
        },
        {
          "output_type": "stream",
          "name": "stdout",
          "text": [
            "0.0835668660518915\n",
            "tensor(0.5172)\n"
          ]
        },
        {
          "output_type": "stream",
          "name": "stderr",
          "text": [
            "Feature extracting: 100%|██████████| 391/391 [00:15<00:00, 25.80it/s]\n",
            "Test Epoch: [243/500] Acc@1:81.61% Acc@5:99.20%: 100%|██████████| 79/79 [00:04<00:00, 18.51it/s]\n",
            "Train Epoch: [244/500] Loss: 0.5203: 100%|██████████| 390/390 [01:45<00:00,  3.70it/s]\n"
          ]
        },
        {
          "output_type": "stream",
          "name": "stdout",
          "text": [
            "0.08323289211301664\n",
            "tensor(0.5202)\n"
          ]
        },
        {
          "output_type": "stream",
          "name": "stderr",
          "text": [
            "Feature extracting: 100%|██████████| 391/391 [00:15<00:00, 25.71it/s]\n",
            "Test Epoch: [244/500] Acc@1:81.62% Acc@5:99.30%: 100%|██████████| 79/79 [00:04<00:00, 18.61it/s]\n",
            "Train Epoch: [245/500] Loss: 0.5190: 100%|██████████| 390/390 [01:45<00:00,  3.70it/s]\n"
          ]
        },
        {
          "output_type": "stream",
          "name": "stdout",
          "text": [
            "0.08289624071813095\n",
            "tensor(0.5190)\n"
          ]
        },
        {
          "output_type": "stream",
          "name": "stderr",
          "text": [
            "Feature extracting: 100%|██████████| 391/391 [00:15<00:00, 25.89it/s]\n",
            "Test Epoch: [245/500] Acc@1:81.84% Acc@5:99.27%: 100%|██████████| 79/79 [00:04<00:00, 18.70it/s]\n",
            "Train Epoch: [246/500] Loss: 0.5135: 100%|██████████| 390/390 [01:45<00:00,  3.70it/s]\n"
          ]
        },
        {
          "output_type": "stream",
          "name": "stdout",
          "text": [
            "0.08255693899044893\n",
            "tensor(0.5138)\n"
          ]
        },
        {
          "output_type": "stream",
          "name": "stderr",
          "text": [
            "Feature extracting: 100%|██████████| 391/391 [00:15<00:00, 25.73it/s]\n",
            "Test Epoch: [246/500] Acc@1:81.44% Acc@5:99.20%: 100%|██████████| 79/79 [00:04<00:00, 18.66it/s]\n",
            "Train Epoch: [247/500] Loss: 0.5102: 100%|██████████| 390/390 [01:45<00:00,  3.69it/s]\n"
          ]
        },
        {
          "output_type": "stream",
          "name": "stdout",
          "text": [
            "0.08221501426671624\n",
            "tensor(0.5103)\n"
          ]
        },
        {
          "output_type": "stream",
          "name": "stderr",
          "text": [
            "Feature extracting: 100%|██████████| 391/391 [00:15<00:00, 25.78it/s]\n",
            "Test Epoch: [247/500] Acc@1:81.97% Acc@5:99.33%: 100%|██████████| 79/79 [00:04<00:00, 18.32it/s]\n",
            "Train Epoch: [248/500] Loss: 0.5079: 100%|██████████| 390/390 [01:45<00:00,  3.69it/s]\n"
          ]
        },
        {
          "output_type": "stream",
          "name": "stdout",
          "text": [
            "0.08187049409500717\n",
            "tensor(0.5080)\n"
          ]
        },
        {
          "output_type": "stream",
          "name": "stderr",
          "text": [
            "Feature extracting: 100%|██████████| 391/391 [00:15<00:00, 25.85it/s]\n",
            "Test Epoch: [248/500] Acc@1:82.15% Acc@5:99.36%: 100%|██████████| 79/79 [00:04<00:00, 18.50it/s]\n",
            "Train Epoch: [249/500] Loss: 0.5062: 100%|██████████| 390/390 [01:45<00:00,  3.70it/s]\n"
          ]
        },
        {
          "output_type": "stream",
          "name": "stdout",
          "text": [
            "0.08152340623250517\n",
            "tensor(0.5063)\n"
          ]
        },
        {
          "output_type": "stream",
          "name": "stderr",
          "text": [
            "Feature extracting: 100%|██████████| 391/391 [00:15<00:00, 25.78it/s]\n",
            "Test Epoch: [249/500] Acc@1:81.92% Acc@5:99.27%: 100%|██████████| 79/79 [00:04<00:00, 18.77it/s]\n",
            "Train Epoch: [250/500] Loss: 0.5084: 100%|██████████| 390/390 [01:45<00:00,  3.71it/s]\n"
          ]
        },
        {
          "output_type": "stream",
          "name": "stdout",
          "text": [
            "0.08117377864326655\n",
            "tensor(0.5083)\n"
          ]
        },
        {
          "output_type": "stream",
          "name": "stderr",
          "text": [
            "Feature extracting: 100%|██████████| 391/391 [00:15<00:00, 25.88it/s]\n",
            "Test Epoch: [250/500] Acc@1:82.11% Acc@5:99.35%: 100%|██████████| 79/79 [00:04<00:00, 18.77it/s]\n",
            "Train Epoch: [251/500] Loss: 0.5075: 100%|██████████| 390/390 [01:45<00:00,  3.69it/s]\n"
          ]
        },
        {
          "output_type": "stream",
          "name": "stdout",
          "text": [
            "0.08082163949596742\n",
            "tensor(0.5075)\n"
          ]
        },
        {
          "output_type": "stream",
          "name": "stderr",
          "text": [
            "Feature extracting: 100%|██████████| 391/391 [00:15<00:00, 25.79it/s]\n",
            "Test Epoch: [251/500] Acc@1:82.01% Acc@5:99.20%: 100%|██████████| 79/79 [00:04<00:00, 18.58it/s]\n",
            "Train Epoch: [252/500] Loss: 0.4974: 100%|██████████| 390/390 [01:45<00:00,  3.69it/s]\n"
          ]
        },
        {
          "output_type": "stream",
          "name": "stdout",
          "text": [
            "0.08046701716163426\n",
            "tensor(0.4979)\n"
          ]
        },
        {
          "output_type": "stream",
          "name": "stderr",
          "text": [
            "Feature extracting: 100%|██████████| 391/391 [00:15<00:00, 25.78it/s]\n",
            "Test Epoch: [252/500] Acc@1:82.10% Acc@5:99.25%: 100%|██████████| 79/79 [00:04<00:00, 18.68it/s]\n",
            "Train Epoch: [253/500] Loss: 0.5075: 100%|██████████| 390/390 [01:45<00:00,  3.70it/s]\n"
          ]
        },
        {
          "output_type": "stream",
          "name": "stdout",
          "text": [
            "0.08010994021135812\n",
            "tensor(0.5070)\n"
          ]
        },
        {
          "output_type": "stream",
          "name": "stderr",
          "text": [
            "Feature extracting: 100%|██████████| 391/391 [00:15<00:00, 25.69it/s]\n",
            "Test Epoch: [253/500] Acc@1:81.72% Acc@5:99.23%: 100%|██████████| 79/79 [00:04<00:00, 18.48it/s]\n",
            "Train Epoch: [254/500] Loss: 0.5099: 100%|██████████| 390/390 [01:45<00:00,  3.69it/s]\n"
          ]
        },
        {
          "output_type": "stream",
          "name": "stdout",
          "text": [
            "0.0797504374139927\n",
            "tensor(0.5098)\n"
          ]
        },
        {
          "output_type": "stream",
          "name": "stderr",
          "text": [
            "Feature extracting: 100%|██████████| 391/391 [00:15<00:00, 25.75it/s]\n",
            "Test Epoch: [254/500] Acc@1:82.38% Acc@5:99.36%: 100%|██████████| 79/79 [00:04<00:00, 18.49it/s]\n",
            "Train Epoch: [255/500] Loss: 0.5021: 100%|██████████| 390/390 [01:45<00:00,  3.68it/s]\n"
          ]
        },
        {
          "output_type": "stream",
          "name": "stdout",
          "text": [
            "0.07938853773383651\n",
            "tensor(0.5025)\n"
          ]
        },
        {
          "output_type": "stream",
          "name": "stderr",
          "text": [
            "Feature extracting: 100%|██████████| 391/391 [00:15<00:00, 25.92it/s]\n",
            "Test Epoch: [255/500] Acc@1:82.10% Acc@5:99.21%: 100%|██████████| 79/79 [00:04<00:00, 18.60it/s]\n",
            "Train Epoch: [256/500] Loss: 0.5017: 100%|██████████| 390/390 [01:45<00:00,  3.69it/s]\n"
          ]
        },
        {
          "output_type": "stream",
          "name": "stdout",
          "text": [
            "0.07902427032829933\n",
            "tensor(0.5018)\n"
          ]
        },
        {
          "output_type": "stream",
          "name": "stderr",
          "text": [
            "Feature extracting: 100%|██████████| 391/391 [00:15<00:00, 25.85it/s]\n",
            "Test Epoch: [256/500] Acc@1:81.79% Acc@5:99.28%: 100%|██████████| 79/79 [00:04<00:00, 18.59it/s]\n",
            "Train Epoch: [257/500] Loss: 0.4989: 100%|██████████| 390/390 [01:45<00:00,  3.70it/s]\n"
          ]
        },
        {
          "output_type": "stream",
          "name": "stdout",
          "text": [
            "0.07865766454555297\n",
            "tensor(0.4991)\n"
          ]
        },
        {
          "output_type": "stream",
          "name": "stderr",
          "text": [
            "Feature extracting: 100%|██████████| 391/391 [00:15<00:00, 25.67it/s]\n",
            "Test Epoch: [257/500] Acc@1:81.89% Acc@5:99.31%: 100%|██████████| 79/79 [00:04<00:00, 18.43it/s]\n",
            "Train Epoch: [258/500] Loss: 0.5036: 100%|██████████| 390/390 [01:45<00:00,  3.70it/s]\n"
          ]
        },
        {
          "output_type": "stream",
          "name": "stdout",
          "text": [
            "0.07828874992216686\n",
            "tensor(0.5033)\n"
          ]
        },
        {
          "output_type": "stream",
          "name": "stderr",
          "text": [
            "Feature extracting: 100%|██████████| 391/391 [00:15<00:00, 25.81it/s]\n",
            "Test Epoch: [258/500] Acc@1:82.31% Acc@5:99.27%: 100%|██████████| 79/79 [00:04<00:00, 18.60it/s]\n",
            "Train Epoch: [259/500] Loss: 0.5011: 100%|██████████| 390/390 [01:45<00:00,  3.69it/s]\n"
          ]
        },
        {
          "output_type": "stream",
          "name": "stdout",
          "text": [
            "0.07791755618072832\n",
            "tensor(0.5012)\n"
          ]
        },
        {
          "output_type": "stream",
          "name": "stderr",
          "text": [
            "Feature extracting: 100%|██████████| 391/391 [00:15<00:00, 25.73it/s]\n",
            "Test Epoch: [259/500] Acc@1:82.34% Acc@5:99.35%: 100%|██████████| 79/79 [00:04<00:00, 18.55it/s]\n",
            "Train Epoch: [260/500] Loss: 0.4970: 100%|██████████| 390/390 [01:45<00:00,  3.69it/s]\n"
          ]
        },
        {
          "output_type": "stream",
          "name": "stdout",
          "text": [
            "0.07754411322744785\n",
            "tensor(0.4972)\n"
          ]
        },
        {
          "output_type": "stream",
          "name": "stderr",
          "text": [
            "Feature extracting: 100%|██████████| 391/391 [00:15<00:00, 25.69it/s]\n",
            "Test Epoch: [260/500] Acc@1:82.41% Acc@5:99.35%: 100%|██████████| 79/79 [00:04<00:00, 18.82it/s]\n",
            "Train Epoch: [261/500] Loss: 0.4942: 100%|██████████| 390/390 [01:45<00:00,  3.70it/s]\n"
          ]
        },
        {
          "output_type": "stream",
          "name": "stdout",
          "text": [
            "0.07716845114974968\n",
            "tensor(0.4944)\n"
          ]
        },
        {
          "output_type": "stream",
          "name": "stderr",
          "text": [
            "Feature extracting: 100%|██████████| 391/391 [00:15<00:00, 25.82it/s]\n",
            "Test Epoch: [261/500] Acc@1:82.41% Acc@5:99.30%: 100%|██████████| 79/79 [00:04<00:00, 18.55it/s]\n",
            "Train Epoch: [262/500] Loss: 0.5000: 100%|██████████| 390/390 [01:45<00:00,  3.69it/s]\n"
          ]
        },
        {
          "output_type": "stream",
          "name": "stdout",
          "text": [
            "0.07679060021384772\n",
            "tensor(0.4998)\n"
          ]
        },
        {
          "output_type": "stream",
          "name": "stderr",
          "text": [
            "Feature extracting: 100%|██████████| 391/391 [00:15<00:00, 25.76it/s]\n",
            "Test Epoch: [262/500] Acc@1:82.21% Acc@5:99.29%: 100%|██████████| 79/79 [00:04<00:00, 18.48it/s]\n",
            "Train Epoch: [263/500] Loss: 0.4961: 100%|██████████| 390/390 [01:45<00:00,  3.69it/s]\n"
          ]
        },
        {
          "output_type": "stream",
          "name": "stdout",
          "text": [
            "0.07641059086230703\n",
            "tensor(0.4963)\n"
          ]
        },
        {
          "output_type": "stream",
          "name": "stderr",
          "text": [
            "Feature extracting: 100%|██████████| 391/391 [00:15<00:00, 25.84it/s]\n",
            "Test Epoch: [263/500] Acc@1:82.27% Acc@5:99.25%: 100%|██████████| 79/79 [00:04<00:00, 18.63it/s]\n",
            "Train Epoch: [264/500] Loss: 0.5004: 100%|██████████| 390/390 [01:45<00:00,  3.69it/s]\n"
          ]
        },
        {
          "output_type": "stream",
          "name": "stdout",
          "text": [
            "0.0760284537115912\n",
            "tensor(0.5002)\n"
          ]
        },
        {
          "output_type": "stream",
          "name": "stderr",
          "text": [
            "Feature extracting: 100%|██████████| 391/391 [00:15<00:00, 25.76it/s]\n",
            "Test Epoch: [264/500] Acc@1:82.42% Acc@5:99.31%: 100%|██████████| 79/79 [00:04<00:00, 18.48it/s]\n",
            "Train Epoch: [265/500] Loss: 0.4989: 100%|██████████| 390/390 [01:45<00:00,  3.69it/s]\n"
          ]
        },
        {
          "output_type": "stream",
          "name": "stdout",
          "text": [
            "0.07564421954959558\n",
            "tensor(0.4989)\n"
          ]
        },
        {
          "output_type": "stream",
          "name": "stderr",
          "text": [
            "Feature extracting: 100%|██████████| 391/391 [00:15<00:00, 25.70it/s]\n",
            "Test Epoch: [265/500] Acc@1:82.29% Acc@5:99.29%: 100%|██████████| 79/79 [00:04<00:00, 18.48it/s]\n",
            "Train Epoch: [266/500] Loss: 0.4993: 100%|██████████| 390/390 [01:45<00:00,  3.69it/s]\n"
          ]
        },
        {
          "output_type": "stream",
          "name": "stdout",
          "text": [
            "0.07525791933316683\n",
            "tensor(0.4993)\n"
          ]
        },
        {
          "output_type": "stream",
          "name": "stderr",
          "text": [
            "Feature extracting: 100%|██████████| 391/391 [00:15<00:00, 25.76it/s]\n",
            "Test Epoch: [266/500] Acc@1:82.34% Acc@5:99.30%: 100%|██████████| 79/79 [00:04<00:00, 18.42it/s]\n",
            "Train Epoch: [267/500] Loss: 0.4985: 100%|██████████| 390/390 [01:45<00:00,  3.69it/s]\n"
          ]
        },
        {
          "output_type": "stream",
          "name": "stdout",
          "text": [
            "0.07486958418560877\n",
            "tensor(0.4986)\n"
          ]
        },
        {
          "output_type": "stream",
          "name": "stderr",
          "text": [
            "Feature extracting: 100%|██████████| 391/391 [00:15<00:00, 25.71it/s]\n",
            "Test Epoch: [267/500] Acc@1:82.28% Acc@5:99.33%: 100%|██████████| 79/79 [00:04<00:00, 18.63it/s]\n",
            "Train Epoch: [268/500] Loss: 0.4920: 100%|██████████| 390/390 [01:45<00:00,  3.70it/s]\n"
          ]
        },
        {
          "output_type": "stream",
          "name": "stdout",
          "text": [
            "0.07447924539417485\n",
            "tensor(0.4923)\n"
          ]
        },
        {
          "output_type": "stream",
          "name": "stderr",
          "text": [
            "Feature extracting: 100%|██████████| 391/391 [00:15<00:00, 25.74it/s]\n",
            "Test Epoch: [268/500] Acc@1:83.03% Acc@5:99.45%: 100%|██████████| 79/79 [00:04<00:00, 18.66it/s]\n",
            "Train Epoch: [269/500] Loss: 0.4890: 100%|██████████| 390/390 [01:45<00:00,  3.69it/s]\n"
          ]
        },
        {
          "output_type": "stream",
          "name": "stdout",
          "text": [
            "0.07408693440754745\n",
            "tensor(0.4892)\n"
          ]
        },
        {
          "output_type": "stream",
          "name": "stderr",
          "text": [
            "Feature extracting: 100%|██████████| 391/391 [00:15<00:00, 25.73it/s]\n",
            "Test Epoch: [269/500] Acc@1:82.69% Acc@5:99.26%: 100%|██████████| 79/79 [00:04<00:00, 18.55it/s]\n",
            "Train Epoch: [270/500] Loss: 0.4938: 100%|██████████| 390/390 [01:45<00:00,  3.69it/s]\n"
          ]
        },
        {
          "output_type": "stream",
          "name": "stdout",
          "text": [
            "0.07369268283330405\n",
            "tensor(0.4935)\n"
          ]
        },
        {
          "output_type": "stream",
          "name": "stderr",
          "text": [
            "Feature extracting: 100%|██████████| 391/391 [00:15<00:00, 25.78it/s]\n",
            "Test Epoch: [270/500] Acc@1:82.48% Acc@5:99.35%: 100%|██████████| 79/79 [00:04<00:00, 18.49it/s]\n",
            "Train Epoch: [271/500] Loss: 0.4906: 100%|██████████| 390/390 [01:45<00:00,  3.69it/s]\n"
          ]
        },
        {
          "output_type": "stream",
          "name": "stdout",
          "text": [
            "0.07329652243537076\n",
            "tensor(0.4907)\n"
          ]
        },
        {
          "output_type": "stream",
          "name": "stderr",
          "text": [
            "Feature extracting: 100%|██████████| 391/391 [00:15<00:00, 25.74it/s]\n",
            "Test Epoch: [271/500] Acc@1:82.49% Acc@5:99.27%: 100%|██████████| 79/79 [00:04<00:00, 18.46it/s]\n",
            "Train Epoch: [272/500] Loss: 0.4891: 100%|██████████| 390/390 [01:45<00:00,  3.69it/s]\n"
          ]
        },
        {
          "output_type": "stream",
          "name": "stdout",
          "text": [
            "0.07289848513146312\n",
            "tensor(0.4892)\n"
          ]
        },
        {
          "output_type": "stream",
          "name": "stderr",
          "text": [
            "Feature extracting: 100%|██████████| 391/391 [00:15<00:00, 25.75it/s]\n",
            "Test Epoch: [272/500] Acc@1:82.76% Acc@5:99.33%: 100%|██████████| 79/79 [00:04<00:00, 18.53it/s]\n",
            "Train Epoch: [273/500] Loss: 0.4833: 100%|██████████| 390/390 [01:45<00:00,  3.69it/s]\n"
          ]
        },
        {
          "output_type": "stream",
          "name": "stdout",
          "text": [
            "0.07249860299051461\n",
            "tensor(0.4836)\n"
          ]
        },
        {
          "output_type": "stream",
          "name": "stderr",
          "text": [
            "Feature extracting: 100%|██████████| 391/391 [00:15<00:00, 25.82it/s]\n",
            "Test Epoch: [273/500] Acc@1:82.53% Acc@5:99.35%: 100%|██████████| 79/79 [00:04<00:00, 18.64it/s]\n",
            "Train Epoch: [274/500] Loss: 0.4907: 100%|██████████| 390/390 [01:45<00:00,  3.69it/s]\n"
          ]
        },
        {
          "output_type": "stream",
          "name": "stdout",
          "text": [
            "0.07209690823009292\n",
            "tensor(0.4904)\n"
          ]
        },
        {
          "output_type": "stream",
          "name": "stderr",
          "text": [
            "Feature extracting: 100%|██████████| 391/391 [00:15<00:00, 25.69it/s]\n",
            "Test Epoch: [274/500] Acc@1:82.82% Acc@5:99.41%: 100%|██████████| 79/79 [00:04<00:00, 18.53it/s]\n",
            "Train Epoch: [275/500] Loss: 0.4809: 100%|██████████| 390/390 [01:45<00:00,  3.69it/s]\n"
          ]
        },
        {
          "output_type": "stream",
          "name": "stdout",
          "text": [
            "0.07169343321380421\n",
            "tensor(0.4814)\n"
          ]
        },
        {
          "output_type": "stream",
          "name": "stderr",
          "text": [
            "Feature extracting: 100%|██████████| 391/391 [00:15<00:00, 25.86it/s]\n",
            "Test Epoch: [275/500] Acc@1:82.73% Acc@5:99.37%: 100%|██████████| 79/79 [00:04<00:00, 18.73it/s]\n",
            "Train Epoch: [276/500] Loss: 0.4875: 100%|██████████| 390/390 [01:45<00:00,  3.70it/s]\n"
          ]
        },
        {
          "output_type": "stream",
          "name": "stdout",
          "text": [
            "0.07128821044868575\n",
            "tensor(0.4872)\n"
          ]
        },
        {
          "output_type": "stream",
          "name": "stderr",
          "text": [
            "Feature extracting: 100%|██████████| 391/391 [00:15<00:00, 25.68it/s]\n",
            "Test Epoch: [276/500] Acc@1:82.75% Acc@5:99.37%: 100%|██████████| 79/79 [00:04<00:00, 18.49it/s]\n",
            "Train Epoch: [277/500] Loss: 0.4829: 100%|██████████| 390/390 [01:45<00:00,  3.69it/s]\n"
          ]
        },
        {
          "output_type": "stream",
          "name": "stdout",
          "text": [
            "0.07088127258258675\n",
            "tensor(0.4831)\n"
          ]
        },
        {
          "output_type": "stream",
          "name": "stderr",
          "text": [
            "Feature extracting: 100%|██████████| 391/391 [00:15<00:00, 25.87it/s]\n",
            "Test Epoch: [277/500] Acc@1:82.85% Acc@5:99.33%: 100%|██████████| 79/79 [00:04<00:00, 18.47it/s]\n",
            "Train Epoch: [278/500] Loss: 0.4863: 100%|██████████| 390/390 [01:45<00:00,  3.70it/s]\n"
          ]
        },
        {
          "output_type": "stream",
          "name": "stdout",
          "text": [
            "0.07047265240153816\n",
            "tensor(0.4861)\n"
          ]
        },
        {
          "output_type": "stream",
          "name": "stderr",
          "text": [
            "Feature extracting: 100%|██████████| 391/391 [00:15<00:00, 25.76it/s]\n",
            "Test Epoch: [278/500] Acc@1:82.74% Acc@5:99.32%: 100%|██████████| 79/79 [00:04<00:00, 18.64it/s]\n",
            "Train Epoch: [279/500] Loss: 0.4826: 100%|██████████| 390/390 [01:45<00:00,  3.70it/s]\n"
          ]
        },
        {
          "output_type": "stream",
          "name": "stdout",
          "text": [
            "0.07006238282711111\n",
            "tensor(0.4828)\n"
          ]
        },
        {
          "output_type": "stream",
          "name": "stderr",
          "text": [
            "Feature extracting: 100%|██████████| 391/391 [00:15<00:00, 25.76it/s]\n",
            "Test Epoch: [279/500] Acc@1:82.65% Acc@5:99.38%: 100%|██████████| 79/79 [00:04<00:00, 18.53it/s]\n",
            "Train Epoch: [280/500] Loss: 0.4778: 100%|██████████| 390/390 [01:45<00:00,  3.69it/s]\n"
          ]
        },
        {
          "output_type": "stream",
          "name": "stdout",
          "text": [
            "0.06965049691376439\n",
            "tensor(0.4781)\n"
          ]
        },
        {
          "output_type": "stream",
          "name": "stderr",
          "text": [
            "Feature extracting: 100%|██████████| 391/391 [00:15<00:00, 25.78it/s]\n",
            "Test Epoch: [280/500] Acc@1:82.77% Acc@5:99.34%: 100%|██████████| 79/79 [00:04<00:00, 18.26it/s]\n",
            "Train Epoch: [281/500] Loss: 0.4836: 100%|██████████| 390/390 [01:45<00:00,  3.70it/s]\n"
          ]
        },
        {
          "output_type": "stream",
          "name": "stdout",
          "text": [
            "0.06923702784618158\n",
            "tensor(0.4833)\n"
          ]
        },
        {
          "output_type": "stream",
          "name": "stderr",
          "text": [
            "Feature extracting: 100%|██████████| 391/391 [00:15<00:00, 25.66it/s]\n",
            "Test Epoch: [281/500] Acc@1:82.43% Acc@5:99.36%: 100%|██████████| 79/79 [00:04<00:00, 18.52it/s]\n",
            "Train Epoch: [282/500] Loss: 0.4873: 100%|██████████| 390/390 [01:45<00:00,  3.68it/s]\n"
          ]
        },
        {
          "output_type": "stream",
          "name": "stdout",
          "text": [
            "0.06882200893659718\n",
            "tensor(0.4871)\n"
          ]
        },
        {
          "output_type": "stream",
          "name": "stderr",
          "text": [
            "Feature extracting: 100%|██████████| 391/391 [00:15<00:00, 25.77it/s]\n",
            "Test Epoch: [282/500] Acc@1:82.74% Acc@5:99.37%: 100%|██████████| 79/79 [00:04<00:00, 18.19it/s]\n",
            "Train Epoch: [283/500] Loss: 0.4806: 100%|██████████| 390/390 [01:45<00:00,  3.69it/s]\n"
          ]
        },
        {
          "output_type": "stream",
          "name": "stdout",
          "text": [
            "0.06840547362211288\n",
            "tensor(0.4809)\n"
          ]
        },
        {
          "output_type": "stream",
          "name": "stderr",
          "text": [
            "Feature extracting: 100%|██████████| 391/391 [00:15<00:00, 25.77it/s]\n",
            "Test Epoch: [283/500] Acc@1:82.70% Acc@5:99.34%: 100%|██████████| 79/79 [00:04<00:00, 18.45it/s]\n",
            "Train Epoch: [284/500] Loss: 0.4819: 100%|██████████| 390/390 [01:45<00:00,  3.69it/s]\n"
          ]
        },
        {
          "output_type": "stream",
          "name": "stdout",
          "text": [
            "0.06798745546200358\n",
            "tensor(0.4818)\n"
          ]
        },
        {
          "output_type": "stream",
          "name": "stderr",
          "text": [
            "Feature extracting: 100%|██████████| 391/391 [00:15<00:00, 25.67it/s]\n",
            "Test Epoch: [284/500] Acc@1:82.54% Acc@5:99.32%: 100%|██████████| 79/79 [00:04<00:00, 18.44it/s]\n",
            "Train Epoch: [285/500] Loss: 0.4834: 100%|██████████| 390/390 [01:46<00:00,  3.67it/s]\n"
          ]
        },
        {
          "output_type": "stream",
          "name": "stdout",
          "text": [
            "0.0675679881350135\n",
            "tensor(0.4833)\n"
          ]
        },
        {
          "output_type": "stream",
          "name": "stderr",
          "text": [
            "Feature extracting: 100%|██████████| 391/391 [00:15<00:00, 25.70it/s]\n",
            "Test Epoch: [285/500] Acc@1:82.44% Acc@5:99.32%: 100%|██████████| 79/79 [00:04<00:00, 18.28it/s]\n",
            "Train Epoch: [286/500] Loss: 0.4774: 100%|██████████| 390/390 [01:46<00:00,  3.67it/s]\n"
          ]
        },
        {
          "output_type": "stream",
          "name": "stdout",
          "text": [
            "0.0671471054366429\n",
            "tensor(0.4777)\n"
          ]
        },
        {
          "output_type": "stream",
          "name": "stderr",
          "text": [
            "Feature extracting: 100%|██████████| 391/391 [00:15<00:00, 25.71it/s]\n",
            "Test Epoch: [286/500] Acc@1:82.65% Acc@5:99.35%: 100%|██████████| 79/79 [00:04<00:00, 18.22it/s]\n",
            "Train Epoch: [287/500] Loss: 0.4738: 100%|██████████| 390/390 [01:46<00:00,  3.67it/s]\n"
          ]
        },
        {
          "output_type": "stream",
          "name": "stdout",
          "text": [
            "0.0667248412764252\n",
            "tensor(0.4740)\n"
          ]
        },
        {
          "output_type": "stream",
          "name": "stderr",
          "text": [
            "Feature extracting: 100%|██████████| 391/391 [00:15<00:00, 24.99it/s]\n",
            "Test Epoch: [287/500] Acc@1:82.82% Acc@5:99.38%: 100%|██████████| 79/79 [00:04<00:00, 18.32it/s]\n",
            "Train Epoch: [288/500] Loss: 0.4784: 100%|██████████| 390/390 [01:45<00:00,  3.68it/s]\n"
          ]
        },
        {
          "output_type": "stream",
          "name": "stdout",
          "text": [
            "0.06630122967519497\n",
            "tensor(0.4782)\n"
          ]
        },
        {
          "output_type": "stream",
          "name": "stderr",
          "text": [
            "Feature extracting: 100%|██████████| 391/391 [00:15<00:00, 25.74it/s]\n",
            "Test Epoch: [288/500] Acc@1:82.54% Acc@5:99.28%: 100%|██████████| 79/79 [00:04<00:00, 18.44it/s]\n",
            "Train Epoch: [289/500] Loss: 0.4723: 100%|██████████| 390/390 [01:45<00:00,  3.69it/s]\n"
          ]
        },
        {
          "output_type": "stream",
          "name": "stdout",
          "text": [
            "0.0658763047623469\n",
            "tensor(0.4726)\n"
          ]
        },
        {
          "output_type": "stream",
          "name": "stderr",
          "text": [
            "Feature extracting: 100%|██████████| 391/391 [00:15<00:00, 25.66it/s]\n",
            "Test Epoch: [289/500] Acc@1:83.06% Acc@5:99.36%: 100%|██████████| 79/79 [00:04<00:00, 18.15it/s]\n",
            "Train Epoch: [290/500] Loss: 0.4763: 100%|██████████| 390/390 [01:45<00:00,  3.68it/s]\n"
          ]
        },
        {
          "output_type": "stream",
          "name": "stdout",
          "text": [
            "0.06545010077308618\n",
            "tensor(0.4761)\n"
          ]
        },
        {
          "output_type": "stream",
          "name": "stderr",
          "text": [
            "Feature extracting: 100%|██████████| 391/391 [00:15<00:00, 25.63it/s]\n",
            "Test Epoch: [290/500] Acc@1:82.81% Acc@5:99.31%: 100%|██████████| 79/79 [00:04<00:00, 18.35it/s]\n",
            "Train Epoch: [291/500] Loss: 0.4728: 100%|██████████| 390/390 [01:45<00:00,  3.69it/s]\n"
          ]
        },
        {
          "output_type": "stream",
          "name": "stdout",
          "text": [
            "0.06502265204567015\n",
            "tensor(0.4730)\n"
          ]
        },
        {
          "output_type": "stream",
          "name": "stderr",
          "text": [
            "Feature extracting: 100%|██████████| 391/391 [00:15<00:00, 25.71it/s]\n",
            "Test Epoch: [291/500] Acc@1:82.58% Acc@5:99.27%: 100%|██████████| 79/79 [00:04<00:00, 18.33it/s]\n",
            "Train Epoch: [292/500] Loss: 0.4772: 100%|██████████| 390/390 [01:45<00:00,  3.69it/s]\n"
          ]
        },
        {
          "output_type": "stream",
          "name": "stdout",
          "text": [
            "0.06459399301864181\n",
            "tensor(0.4770)\n"
          ]
        },
        {
          "output_type": "stream",
          "name": "stderr",
          "text": [
            "Feature extracting: 100%|██████████| 391/391 [00:15<00:00, 25.63it/s]\n",
            "Test Epoch: [292/500] Acc@1:82.85% Acc@5:99.33%: 100%|██████████| 79/79 [00:04<00:00, 18.32it/s]\n",
            "Train Epoch: [293/500] Loss: 0.4728: 100%|██████████| 390/390 [01:45<00:00,  3.68it/s]\n"
          ]
        },
        {
          "output_type": "stream",
          "name": "stdout",
          "text": [
            "0.06416415822805516\n",
            "tensor(0.4730)\n"
          ]
        },
        {
          "output_type": "stream",
          "name": "stderr",
          "text": [
            "Feature extracting: 100%|██████████| 391/391 [00:15<00:00, 25.68it/s]\n",
            "Test Epoch: [293/500] Acc@1:82.68% Acc@5:99.29%: 100%|██████████| 79/79 [00:04<00:00, 18.45it/s]\n",
            "Train Epoch: [294/500] Loss: 0.4783: 100%|██████████| 390/390 [01:45<00:00,  3.68it/s]\n"
          ]
        },
        {
          "output_type": "stream",
          "name": "stdout",
          "text": [
            "0.0637331823046927\n",
            "tensor(0.4780)\n"
          ]
        },
        {
          "output_type": "stream",
          "name": "stderr",
          "text": [
            "Feature extracting: 100%|██████████| 391/391 [00:15<00:00, 25.67it/s]\n",
            "Test Epoch: [294/500] Acc@1:83.03% Acc@5:99.38%: 100%|██████████| 79/79 [00:04<00:00, 18.49it/s]\n",
            "Train Epoch: [295/500] Loss: 0.4694: 100%|██████████| 390/390 [01:45<00:00,  3.68it/s]\n"
          ]
        },
        {
          "output_type": "stream",
          "name": "stdout",
          "text": [
            "0.06330109997127537\n",
            "tensor(0.4698)\n"
          ]
        },
        {
          "output_type": "stream",
          "name": "stderr",
          "text": [
            "Feature extracting: 100%|██████████| 391/391 [00:15<00:00, 25.67it/s]\n",
            "Test Epoch: [295/500] Acc@1:83.02% Acc@5:99.33%: 100%|██████████| 79/79 [00:04<00:00, 18.14it/s]\n",
            "Train Epoch: [296/500] Loss: 0.4684: 100%|██████████| 390/390 [01:45<00:00,  3.69it/s]\n"
          ]
        },
        {
          "output_type": "stream",
          "name": "stdout",
          "text": [
            "0.06286794603966493\n",
            "tensor(0.4685)\n"
          ]
        },
        {
          "output_type": "stream",
          "name": "stderr",
          "text": [
            "Feature extracting: 100%|██████████| 391/391 [00:15<00:00, 25.69it/s]\n",
            "Test Epoch: [296/500] Acc@1:82.91% Acc@5:99.34%: 100%|██████████| 79/79 [00:04<00:00, 18.23it/s]\n",
            "Train Epoch: [297/500] Loss: 0.4751: 100%|██████████| 390/390 [01:45<00:00,  3.68it/s]\n"
          ]
        },
        {
          "output_type": "stream",
          "name": "stdout",
          "text": [
            "0.06243375540805931\n",
            "tensor(0.4748)\n"
          ]
        },
        {
          "output_type": "stream",
          "name": "stderr",
          "text": [
            "Feature extracting: 100%|██████████| 391/391 [00:15<00:00, 25.71it/s]\n",
            "Test Epoch: [297/500] Acc@1:82.95% Acc@5:99.34%: 100%|██████████| 79/79 [00:04<00:00, 18.29it/s]\n",
            "Train Epoch: [298/500] Loss: 0.4694: 100%|██████████| 390/390 [01:45<00:00,  3.69it/s]\n"
          ]
        },
        {
          "output_type": "stream",
          "name": "stdout",
          "text": [
            "0.061998563058180925\n",
            "tensor(0.4697)\n"
          ]
        },
        {
          "output_type": "stream",
          "name": "stderr",
          "text": [
            "Feature extracting: 100%|██████████| 391/391 [00:15<00:00, 25.61it/s]\n",
            "Test Epoch: [298/500] Acc@1:82.72% Acc@5:99.34%: 100%|██████████| 79/79 [00:04<00:00, 18.04it/s]\n",
            "Train Epoch: [299/500] Loss: 0.4644: 100%|██████████| 390/390 [01:45<00:00,  3.68it/s]\n"
          ]
        },
        {
          "output_type": "stream",
          "name": "stdout",
          "text": [
            "0.061562404052458324\n",
            "tensor(0.4647)\n"
          ]
        },
        {
          "output_type": "stream",
          "name": "stderr",
          "text": [
            "Feature extracting: 100%|██████████| 391/391 [00:15<00:00, 25.73it/s]\n",
            "Test Epoch: [299/500] Acc@1:82.94% Acc@5:99.38%: 100%|██████████| 79/79 [00:04<00:00, 18.28it/s]\n",
            "Train Epoch: [300/500] Loss: 0.4720: 100%|██████████| 390/390 [01:45<00:00,  3.68it/s]\n"
          ]
        },
        {
          "output_type": "stream",
          "name": "stdout",
          "text": [
            "0.061125313531201216\n",
            "tensor(0.4716)\n"
          ]
        },
        {
          "output_type": "stream",
          "name": "stderr",
          "text": [
            "Feature extracting: 100%|██████████| 391/391 [00:15<00:00, 25.70it/s]\n",
            "Test Epoch: [300/500] Acc@1:83.01% Acc@5:99.35%: 100%|██████████| 79/79 [00:04<00:00, 18.35it/s]\n",
            "Train Epoch: [301/500] Loss: 0.4650: 100%|██████████| 390/390 [01:45<00:00,  3.68it/s]\n"
          ]
        },
        {
          "output_type": "stream",
          "name": "stdout",
          "text": [
            "0.06068732670976936\n",
            "tensor(0.4653)\n"
          ]
        },
        {
          "output_type": "stream",
          "name": "stderr",
          "text": [
            "Feature extracting: 100%|██████████| 391/391 [00:15<00:00, 25.57it/s]\n",
            "Test Epoch: [301/500] Acc@1:83.26% Acc@5:99.41%: 100%|██████████| 79/79 [00:04<00:00, 18.31it/s]\n",
            "Train Epoch: [302/500] Loss: 0.4618: 100%|██████████| 390/390 [01:45<00:00,  3.68it/s]\n"
          ]
        },
        {
          "output_type": "stream",
          "name": "stdout",
          "text": [
            "0.06024847887573527\n",
            "tensor(0.4620)\n"
          ]
        },
        {
          "output_type": "stream",
          "name": "stderr",
          "text": [
            "Feature extracting: 100%|██████████| 391/391 [00:15<00:00, 25.76it/s]\n",
            "Test Epoch: [302/500] Acc@1:83.39% Acc@5:99.37%: 100%|██████████| 79/79 [00:04<00:00, 18.22it/s]\n",
            "Train Epoch: [303/500] Loss: 0.4614: 100%|██████████| 390/390 [01:45<00:00,  3.68it/s]\n"
          ]
        },
        {
          "output_type": "stream",
          "name": "stdout",
          "text": [
            "0.0598088053860413\n",
            "tensor(0.4614)\n"
          ]
        },
        {
          "output_type": "stream",
          "name": "stderr",
          "text": [
            "Feature extracting: 100%|██████████| 391/391 [00:15<00:00, 25.73it/s]\n",
            "Test Epoch: [303/500] Acc@1:83.02% Acc@5:99.41%: 100%|██████████| 79/79 [00:04<00:00, 18.36it/s]\n",
            "Train Epoch: [304/500] Loss: 0.4639: 100%|██████████| 390/390 [01:45<00:00,  3.68it/s]\n"
          ]
        },
        {
          "output_type": "stream",
          "name": "stdout",
          "text": [
            "0.059368341664150885\n",
            "tensor(0.4637)\n"
          ]
        },
        {
          "output_type": "stream",
          "name": "stderr",
          "text": [
            "Feature extracting: 100%|██████████| 391/391 [00:15<00:00, 25.72it/s]\n",
            "Test Epoch: [304/500] Acc@1:83.08% Acc@5:99.42%: 100%|██████████| 79/79 [00:04<00:00, 18.33it/s]\n",
            "Train Epoch: [305/500] Loss: 0.4645: 100%|██████████| 390/390 [01:45<00:00,  3.69it/s]\n"
          ]
        },
        {
          "output_type": "stream",
          "name": "stdout",
          "text": [
            "0.05892712319719468\n",
            "tensor(0.4645)\n"
          ]
        },
        {
          "output_type": "stream",
          "name": "stderr",
          "text": [
            "Feature extracting: 100%|██████████| 391/391 [00:15<00:00, 25.70it/s]\n",
            "Test Epoch: [305/500] Acc@1:83.11% Acc@5:99.24%: 100%|██████████| 79/79 [00:04<00:00, 18.54it/s]\n",
            "Train Epoch: [306/500] Loss: 0.4597: 100%|██████████| 390/390 [01:45<00:00,  3.68it/s]\n"
          ]
        },
        {
          "output_type": "stream",
          "name": "stdout",
          "text": [
            "0.05848518553311131\n",
            "tensor(0.4600)\n"
          ]
        },
        {
          "output_type": "stream",
          "name": "stderr",
          "text": [
            "Feature extracting: 100%|██████████| 391/391 [00:15<00:00, 25.76it/s]\n",
            "Test Epoch: [306/500] Acc@1:83.14% Acc@5:99.34%: 100%|██████████| 79/79 [00:04<00:00, 18.33it/s]\n",
            "Train Epoch: [307/500] Loss: 0.4603: 100%|██████████| 390/390 [01:46<00:00,  3.68it/s]\n"
          ]
        },
        {
          "output_type": "stream",
          "name": "stdout",
          "text": [
            "0.05804256427778349\n",
            "tensor(0.4603)\n"
          ]
        },
        {
          "output_type": "stream",
          "name": "stderr",
          "text": [
            "Feature extracting: 100%|██████████| 391/391 [00:15<00:00, 25.80it/s]\n",
            "Test Epoch: [307/500] Acc@1:83.23% Acc@5:99.34%: 100%|██████████| 79/79 [00:04<00:00, 18.46it/s]\n",
            "Train Epoch: [308/500] Loss: 0.4522: 100%|██████████| 390/390 [01:45<00:00,  3.69it/s]\n"
          ]
        },
        {
          "output_type": "stream",
          "name": "stdout",
          "text": [
            "0.057599295092169246\n",
            "tensor(0.4526)\n"
          ]
        },
        {
          "output_type": "stream",
          "name": "stderr",
          "text": [
            "Feature extracting: 100%|██████████| 391/391 [00:15<00:00, 25.67it/s]\n",
            "Test Epoch: [308/500] Acc@1:83.44% Acc@5:99.36%: 100%|██████████| 79/79 [00:04<00:00, 18.19it/s]\n",
            "Train Epoch: [309/500] Loss: 0.4649: 100%|██████████| 390/390 [01:45<00:00,  3.68it/s]\n"
          ]
        },
        {
          "output_type": "stream",
          "name": "stdout",
          "text": [
            "0.05715541368942885\n",
            "tensor(0.4643)\n"
          ]
        },
        {
          "output_type": "stream",
          "name": "stderr",
          "text": [
            "Feature extracting: 100%|██████████| 391/391 [00:15<00:00, 25.65it/s]\n",
            "Test Epoch: [309/500] Acc@1:83.12% Acc@5:99.39%: 100%|██████████| 79/79 [00:04<00:00, 18.61it/s]\n",
            "Train Epoch: [310/500] Loss: 0.4671: 100%|██████████| 390/390 [01:46<00:00,  3.68it/s]\n"
          ]
        },
        {
          "output_type": "stream",
          "name": "stdout",
          "text": [
            "0.05671095583204747\n",
            "tensor(0.4670)\n"
          ]
        },
        {
          "output_type": "stream",
          "name": "stderr",
          "text": [
            "Feature extracting: 100%|██████████| 391/391 [00:15<00:00, 25.56it/s]\n",
            "Test Epoch: [310/500] Acc@1:83.29% Acc@5:99.35%: 100%|██████████| 79/79 [00:04<00:00, 18.45it/s]\n",
            "Train Epoch: [311/500] Loss: 0.4599: 100%|██████████| 390/390 [01:46<00:00,  3.68it/s]\n"
          ]
        },
        {
          "output_type": "stream",
          "name": "stdout",
          "text": [
            "0.05626595732895384\n",
            "tensor(0.4602)\n"
          ]
        },
        {
          "output_type": "stream",
          "name": "stderr",
          "text": [
            "Feature extracting: 100%|██████████| 391/391 [00:15<00:00, 25.66it/s]\n",
            "Test Epoch: [311/500] Acc@1:83.39% Acc@5:99.42%: 100%|██████████| 79/79 [00:04<00:00, 18.21it/s]\n",
            "Train Epoch: [312/500] Loss: 0.4545: 100%|██████████| 390/390 [01:45<00:00,  3.69it/s]\n"
          ]
        },
        {
          "output_type": "stream",
          "name": "stdout",
          "text": [
            "0.05582045403263532\n",
            "tensor(0.4548)\n"
          ]
        },
        {
          "output_type": "stream",
          "name": "stderr",
          "text": [
            "Feature extracting: 100%|██████████| 391/391 [00:15<00:00, 25.65it/s]\n",
            "Test Epoch: [312/500] Acc@1:83.05% Acc@5:99.37%: 100%|██████████| 79/79 [00:04<00:00, 18.37it/s]\n",
            "Train Epoch: [313/500] Loss: 0.4581: 100%|██████████| 390/390 [01:45<00:00,  3.68it/s]\n"
          ]
        },
        {
          "output_type": "stream",
          "name": "stdout",
          "text": [
            "0.0553744818362492\n",
            "tensor(0.4580)\n"
          ]
        },
        {
          "output_type": "stream",
          "name": "stderr",
          "text": [
            "Feature extracting: 100%|██████████| 391/391 [00:15<00:00, 25.71it/s]\n",
            "Test Epoch: [313/500] Acc@1:83.35% Acc@5:99.32%: 100%|██████████| 79/79 [00:04<00:00, 18.30it/s]\n",
            "Train Epoch: [314/500] Loss: 0.4578: 100%|██████████| 390/390 [01:45<00:00,  3.68it/s]\n"
          ]
        },
        {
          "output_type": "stream",
          "name": "stdout",
          "text": [
            "0.05492807667073103\n",
            "tensor(0.4578)\n"
          ]
        },
        {
          "output_type": "stream",
          "name": "stderr",
          "text": [
            "Feature extracting: 100%|██████████| 391/391 [00:15<00:00, 25.66it/s]\n",
            "Test Epoch: [314/500] Acc@1:83.09% Acc@5:99.35%: 100%|██████████| 79/79 [00:04<00:00, 18.28it/s]\n",
            "Train Epoch: [315/500] Loss: 0.4510: 100%|██████████| 390/390 [01:45<00:00,  3.68it/s]\n"
          ]
        },
        {
          "output_type": "stream",
          "name": "stdout",
          "text": [
            "0.05448127450189962\n",
            "tensor(0.4514)\n"
          ]
        },
        {
          "output_type": "stream",
          "name": "stderr",
          "text": [
            "Feature extracting: 100%|██████████| 391/391 [00:15<00:00, 25.61it/s]\n",
            "Test Epoch: [315/500] Acc@1:83.27% Acc@5:99.39%: 100%|██████████| 79/79 [00:04<00:00, 18.22it/s]\n",
            "Train Epoch: [316/500] Loss: 0.4526: 100%|██████████| 390/390 [01:45<00:00,  3.68it/s]\n"
          ]
        },
        {
          "output_type": "stream",
          "name": "stdout",
          "text": [
            "0.054034111327559385\n",
            "tensor(0.4525)\n"
          ]
        },
        {
          "output_type": "stream",
          "name": "stderr",
          "text": [
            "Feature extracting: 100%|██████████| 391/391 [00:15<00:00, 25.74it/s]\n",
            "Test Epoch: [316/500] Acc@1:83.48% Acc@5:99.30%: 100%|██████████| 79/79 [00:04<00:00, 18.26it/s]\n",
            "Train Epoch: [317/500] Loss: 0.4498: 100%|██████████| 390/390 [01:45<00:00,  3.68it/s]\n"
          ]
        },
        {
          "output_type": "stream",
          "name": "stdout",
          "text": [
            "0.053586623174600195\n",
            "tensor(0.4500)\n"
          ]
        },
        {
          "output_type": "stream",
          "name": "stderr",
          "text": [
            "Feature extracting: 100%|██████████| 391/391 [00:15<00:00, 24.79it/s]\n",
            "Test Epoch: [317/500] Acc@1:83.32% Acc@5:99.39%: 100%|██████████| 79/79 [00:04<00:00, 18.23it/s]\n",
            "Train Epoch: [318/500] Loss: 0.4514: 100%|██████████| 390/390 [01:45<00:00,  3.68it/s]\n"
          ]
        },
        {
          "output_type": "stream",
          "name": "stdout",
          "text": [
            "0.05313884609609459\n",
            "tensor(0.4513)\n"
          ]
        },
        {
          "output_type": "stream",
          "name": "stderr",
          "text": [
            "Feature extracting: 100%|██████████| 391/391 [00:15<00:00, 25.57it/s]\n",
            "Test Epoch: [318/500] Acc@1:83.47% Acc@5:99.36%: 100%|██████████| 79/79 [00:04<00:00, 18.12it/s]\n",
            "Train Epoch: [319/500] Loss: 0.4532: 100%|██████████| 390/390 [01:45<00:00,  3.69it/s]\n"
          ]
        },
        {
          "output_type": "stream",
          "name": "stdout",
          "text": [
            "0.05269081616839322\n",
            "tensor(0.4531)\n"
          ]
        },
        {
          "output_type": "stream",
          "name": "stderr",
          "text": [
            "Feature extracting: 100%|██████████| 391/391 [00:15<00:00, 25.77it/s]\n",
            "Test Epoch: [319/500] Acc@1:83.28% Acc@5:99.44%: 100%|██████████| 79/79 [00:04<00:00, 18.40it/s]\n",
            "Train Epoch: [320/500] Loss: 0.4475: 100%|██████████| 390/390 [01:45<00:00,  3.69it/s]\n"
          ]
        },
        {
          "output_type": "stream",
          "name": "stdout",
          "text": [
            "0.052242569488218205\n",
            "tensor(0.4478)\n"
          ]
        },
        {
          "output_type": "stream",
          "name": "stderr",
          "text": [
            "Feature extracting: 100%|██████████| 391/391 [00:15<00:00, 25.63it/s]\n",
            "Test Epoch: [320/500] Acc@1:83.35% Acc@5:99.41%: 100%|██████████| 79/79 [00:04<00:00, 18.43it/s]\n",
            "Train Epoch: [321/500] Loss: 0.4495: 100%|██████████| 390/390 [01:45<00:00,  3.68it/s]\n"
          ]
        },
        {
          "output_type": "stream",
          "name": "stdout",
          "text": [
            "0.05179414216975484\n",
            "tensor(0.4494)\n"
          ]
        },
        {
          "output_type": "stream",
          "name": "stderr",
          "text": [
            "Feature extracting: 100%|██████████| 391/391 [00:15<00:00, 25.68it/s]\n",
            "Test Epoch: [321/500] Acc@1:83.33% Acc@5:99.46%: 100%|██████████| 79/79 [00:04<00:00, 18.09it/s]\n",
            "Train Epoch: [322/500] Loss: 0.4426: 100%|██████████| 390/390 [01:45<00:00,  3.69it/s]\n"
          ]
        },
        {
          "output_type": "stream",
          "name": "stdout",
          "text": [
            "0.05134557034174213\n",
            "tensor(0.4429)\n"
          ]
        },
        {
          "output_type": "stream",
          "name": "stderr",
          "text": [
            "Feature extracting: 100%|██████████| 391/391 [00:15<00:00, 25.70it/s]\n",
            "Test Epoch: [322/500] Acc@1:83.33% Acc@5:99.41%: 100%|██████████| 79/79 [00:04<00:00, 18.02it/s]\n",
            "Train Epoch: [323/500] Loss: 0.4407: 100%|██████████| 390/390 [01:45<00:00,  3.69it/s]\n"
          ]
        },
        {
          "output_type": "stream",
          "name": "stdout",
          "text": [
            "0.050896890144561786\n",
            "tensor(0.4408)\n"
          ]
        },
        {
          "output_type": "stream",
          "name": "stderr",
          "text": [
            "Feature extracting: 100%|██████████| 391/391 [00:15<00:00, 25.60it/s]\n",
            "Test Epoch: [323/500] Acc@1:83.25% Acc@5:99.40%: 100%|██████████| 79/79 [00:04<00:00, 18.36it/s]\n",
            "Train Epoch: [324/500] Loss: 0.4456: 100%|██████████| 390/390 [01:45<00:00,  3.68it/s]\n"
          ]
        },
        {
          "output_type": "stream",
          "name": "stdout",
          "text": [
            "0.05044813772732661\n",
            "tensor(0.4453)\n"
          ]
        },
        {
          "output_type": "stream",
          "name": "stderr",
          "text": [
            "Feature extracting: 100%|██████████| 391/391 [00:15<00:00, 25.64it/s]\n",
            "Test Epoch: [324/500] Acc@1:83.46% Acc@5:99.42%: 100%|██████████| 79/79 [00:04<00:00, 18.30it/s]\n",
            "Train Epoch: [325/500] Loss: 0.4478: 100%|██████████| 390/390 [01:45<00:00,  3.68it/s]\n"
          ]
        },
        {
          "output_type": "stream",
          "name": "stdout",
          "text": [
            "0.049999349244968\n",
            "tensor(0.4476)\n"
          ]
        },
        {
          "output_type": "stream",
          "name": "stderr",
          "text": [
            "Feature extracting: 100%|██████████| 391/391 [00:15<00:00, 25.71it/s]\n",
            "Test Epoch: [325/500] Acc@1:83.70% Acc@5:99.42%: 100%|██████████| 79/79 [00:04<00:00, 18.43it/s]\n",
            "Train Epoch: [326/500] Loss: 0.4448: 100%|██████████| 390/390 [01:45<00:00,  3.68it/s]\n"
          ]
        },
        {
          "output_type": "stream",
          "name": "stdout",
          "text": [
            "0.049550560855323014\n",
            "tensor(0.4450)\n"
          ]
        },
        {
          "output_type": "stream",
          "name": "stderr",
          "text": [
            "Feature extracting: 100%|██████████| 391/391 [00:15<00:00, 25.66it/s]\n",
            "Test Epoch: [326/500] Acc@1:83.61% Acc@5:99.45%: 100%|██████████| 79/79 [00:04<00:00, 18.16it/s]\n",
            "Train Epoch: [327/500] Loss: 0.4473: 100%|██████████| 390/390 [01:45<00:00,  3.68it/s]\n"
          ]
        },
        {
          "output_type": "stream",
          "name": "stdout",
          "text": [
            "0.04910180871622131\n",
            "tensor(0.4472)\n"
          ]
        },
        {
          "output_type": "stream",
          "name": "stderr",
          "text": [
            "Feature extracting: 100%|██████████| 391/391 [00:15<00:00, 25.71it/s]\n",
            "Test Epoch: [327/500] Acc@1:83.37% Acc@5:99.42%: 100%|██████████| 79/79 [00:04<00:00, 18.14it/s]\n",
            "Train Epoch: [328/500] Loss: 0.4436: 100%|██████████| 390/390 [01:45<00:00,  3.68it/s]\n"
          ]
        },
        {
          "output_type": "stream",
          "name": "stdout",
          "text": [
            "0.04865312898257179\n",
            "tensor(0.4437)\n"
          ]
        },
        {
          "output_type": "stream",
          "name": "stderr",
          "text": [
            "Feature extracting: 100%|██████████| 391/391 [00:15<00:00, 25.60it/s]\n",
            "Test Epoch: [328/500] Acc@1:83.63% Acc@5:99.40%: 100%|██████████| 79/79 [00:04<00:00, 18.20it/s]\n",
            "Train Epoch: [329/500] Loss: 0.4432: 100%|██████████| 390/390 [01:45<00:00,  3.69it/s]\n"
          ]
        },
        {
          "output_type": "stream",
          "name": "stdout",
          "text": [
            "0.04820455780344997\n",
            "tensor(0.4433)\n"
          ]
        },
        {
          "output_type": "stream",
          "name": "stderr",
          "text": [
            "Feature extracting: 100%|██████████| 391/391 [00:15<00:00, 25.80it/s]\n",
            "Test Epoch: [329/500] Acc@1:83.83% Acc@5:99.44%: 100%|██████████| 79/79 [00:04<00:00, 18.06it/s]\n",
            "Train Epoch: [330/500] Loss: 0.4418: 100%|██████████| 390/390 [01:45<00:00,  3.68it/s]\n"
          ]
        },
        {
          "output_type": "stream",
          "name": "stdout",
          "text": [
            "0.047756131319185297\n",
            "tensor(0.4419)\n"
          ]
        },
        {
          "output_type": "stream",
          "name": "stderr",
          "text": [
            "Feature extracting: 100%|██████████| 391/391 [00:15<00:00, 25.80it/s]\n",
            "Test Epoch: [330/500] Acc@1:83.61% Acc@5:99.44%: 100%|██████████| 79/79 [00:04<00:00, 18.24it/s]\n",
            "Train Epoch: [331/500] Loss: 0.4397: 100%|██████████| 390/390 [01:45<00:00,  3.69it/s]\n"
          ]
        },
        {
          "output_type": "stream",
          "name": "stdout",
          "text": [
            "0.0473078856584495\n",
            "tensor(0.4398)\n"
          ]
        },
        {
          "output_type": "stream",
          "name": "stderr",
          "text": [
            "Feature extracting: 100%|██████████| 391/391 [00:15<00:00, 25.70it/s]\n",
            "Test Epoch: [331/500] Acc@1:83.44% Acc@5:99.46%: 100%|██████████| 79/79 [00:04<00:00, 18.51it/s]\n",
            "Train Epoch: [332/500] Loss: 0.4398: 100%|██████████| 390/390 [01:45<00:00,  3.69it/s]\n"
          ]
        },
        {
          "output_type": "stream",
          "name": "stdout",
          "text": [
            "0.046859856935345785\n",
            "tensor(0.4398)\n"
          ]
        },
        {
          "output_type": "stream",
          "name": "stderr",
          "text": [
            "Feature extracting: 100%|██████████| 391/391 [00:15<00:00, 25.71it/s]\n",
            "Test Epoch: [332/500] Acc@1:83.35% Acc@5:99.46%: 100%|██████████| 79/79 [00:04<00:00, 18.22it/s]\n",
            "Train Epoch: [333/500] Loss: 0.4349: 100%|██████████| 390/390 [01:45<00:00,  3.68it/s]\n"
          ]
        },
        {
          "output_type": "stream",
          "name": "stdout",
          "text": [
            "0.04641208124649921\n",
            "tensor(0.4351)\n"
          ]
        },
        {
          "output_type": "stream",
          "name": "stderr",
          "text": [
            "Feature extracting: 100%|██████████| 391/391 [00:15<00:00, 25.62it/s]\n",
            "Test Epoch: [333/500] Acc@1:83.83% Acc@5:99.43%: 100%|██████████| 79/79 [00:04<00:00, 18.27it/s]\n",
            "Train Epoch: [334/500] Loss: 0.4370: 100%|██████████| 390/390 [01:45<00:00,  3.68it/s]\n"
          ]
        },
        {
          "output_type": "stream",
          "name": "stdout",
          "text": [
            "0.04596459466814848\n",
            "tensor(0.4369)\n"
          ]
        },
        {
          "output_type": "stream",
          "name": "stderr",
          "text": [
            "Feature extracting: 100%|██████████| 391/391 [00:15<00:00, 25.64it/s]\n",
            "Test Epoch: [334/500] Acc@1:83.63% Acc@5:99.45%: 100%|██████████| 79/79 [00:04<00:00, 18.30it/s]\n",
            "Train Epoch: [335/500] Loss: 0.4384: 100%|██████████| 390/390 [01:45<00:00,  3.68it/s]\n"
          ]
        },
        {
          "output_type": "stream",
          "name": "stdout",
          "text": [
            "0.04551743325323926\n",
            "tensor(0.4383)\n"
          ]
        },
        {
          "output_type": "stream",
          "name": "stderr",
          "text": [
            "Feature extracting: 100%|██████████| 391/391 [00:15<00:00, 25.62it/s]\n",
            "Test Epoch: [335/500] Acc@1:83.50% Acc@5:99.47%: 100%|██████████| 79/79 [00:04<00:00, 18.29it/s]\n",
            "Train Epoch: [336/500] Loss: 0.4394: 100%|██████████| 390/390 [01:45<00:00,  3.68it/s]\n"
          ]
        },
        {
          "output_type": "stream",
          "name": "stdout",
          "text": [
            "0.045070633028519644\n",
            "tensor(0.4394)\n"
          ]
        },
        {
          "output_type": "stream",
          "name": "stderr",
          "text": [
            "Feature extracting: 100%|██████████| 391/391 [00:15<00:00, 25.77it/s]\n",
            "Test Epoch: [336/500] Acc@1:83.34% Acc@5:99.46%: 100%|██████████| 79/79 [00:04<00:00, 18.10it/s]\n",
            "Train Epoch: [337/500] Loss: 0.4365: 100%|██████████| 390/390 [01:45<00:00,  3.68it/s]\n"
          ]
        },
        {
          "output_type": "stream",
          "name": "stdout",
          "text": [
            "0.04462422999163746\n",
            "tensor(0.4367)\n"
          ]
        },
        {
          "output_type": "stream",
          "name": "stderr",
          "text": [
            "Feature extracting: 100%|██████████| 391/391 [00:15<00:00, 25.64it/s]\n",
            "Test Epoch: [337/500] Acc@1:83.50% Acc@5:99.44%: 100%|██████████| 79/79 [00:04<00:00, 18.47it/s]\n",
            "Train Epoch: [338/500] Loss: 0.4434: 100%|██████████| 390/390 [01:45<00:00,  3.69it/s]\n"
          ]
        },
        {
          "output_type": "stream",
          "name": "stdout",
          "text": [
            "0.04417826010824\n",
            "tensor(0.4431)\n"
          ]
        },
        {
          "output_type": "stream",
          "name": "stderr",
          "text": [
            "Feature extracting: 100%|██████████| 391/391 [00:15<00:00, 25.77it/s]\n",
            "Test Epoch: [338/500] Acc@1:83.76% Acc@5:99.48%: 100%|██████████| 79/79 [00:04<00:00, 18.17it/s]\n",
            "Train Epoch: [339/500] Loss: 0.4359: 100%|██████████| 390/390 [01:45<00:00,  3.68it/s]\n"
          ]
        },
        {
          "output_type": "stream",
          "name": "stdout",
          "text": [
            "0.043732759309076434\n",
            "tensor(0.4362)\n"
          ]
        },
        {
          "output_type": "stream",
          "name": "stderr",
          "text": [
            "Feature extracting: 100%|██████████| 391/391 [00:15<00:00, 25.75it/s]\n",
            "Test Epoch: [339/500] Acc@1:84.00% Acc@5:99.49%: 100%|██████████| 79/79 [00:04<00:00, 18.30it/s]\n",
            "Train Epoch: [340/500] Loss: 0.4396: 100%|██████████| 390/390 [01:45<00:00,  3.69it/s]\n"
          ]
        },
        {
          "output_type": "stream",
          "name": "stdout",
          "text": [
            "0.04328776348710291\n",
            "tensor(0.4395)\n"
          ]
        },
        {
          "output_type": "stream",
          "name": "stderr",
          "text": [
            "Feature extracting: 100%|██████████| 391/391 [00:15<00:00, 25.62it/s]\n",
            "Test Epoch: [340/500] Acc@1:83.87% Acc@5:99.36%: 100%|██████████| 79/79 [00:04<00:00, 18.27it/s]\n",
            "Train Epoch: [341/500] Loss: 0.4320: 100%|██████████| 390/390 [01:45<00:00,  3.68it/s]\n"
          ]
        },
        {
          "output_type": "stream",
          "name": "stdout",
          "text": [
            "0.042843308494590726\n",
            "tensor(0.4324)\n"
          ]
        },
        {
          "output_type": "stream",
          "name": "stderr",
          "text": [
            "Feature extracting: 100%|██████████| 391/391 [00:15<00:00, 25.67it/s]\n",
            "Test Epoch: [341/500] Acc@1:84.31% Acc@5:99.41%: 100%|██████████| 79/79 [00:04<00:00, 17.92it/s]\n",
            "Train Epoch: [342/500] Loss: 0.4296: 100%|██████████| 390/390 [01:45<00:00,  3.69it/s]\n"
          ]
        },
        {
          "output_type": "stream",
          "name": "stdout",
          "text": [
            "0.04239943014023783\n",
            "tensor(0.4297)\n"
          ]
        },
        {
          "output_type": "stream",
          "name": "stderr",
          "text": [
            "Feature extracting: 100%|██████████| 391/391 [00:15<00:00, 25.71it/s]\n",
            "Test Epoch: [342/500] Acc@1:83.87% Acc@5:99.44%: 100%|██████████| 79/79 [00:04<00:00, 18.23it/s]\n",
            "Train Epoch: [343/500] Loss: 0.4328: 100%|██████████| 390/390 [01:46<00:00,  3.68it/s]\n"
          ]
        },
        {
          "output_type": "stream",
          "name": "stdout",
          "text": [
            "0.0419561641862838\n",
            "tensor(0.4326)\n"
          ]
        },
        {
          "output_type": "stream",
          "name": "stderr",
          "text": [
            "Feature extracting: 100%|██████████| 391/391 [00:15<00:00, 25.70it/s]\n",
            "Test Epoch: [343/500] Acc@1:83.64% Acc@5:99.43%: 100%|██████████| 79/79 [00:04<00:00, 18.27it/s]\n",
            "Train Epoch: [344/500] Loss: 0.4295: 100%|██████████| 390/390 [01:46<00:00,  3.68it/s]\n"
          ]
        },
        {
          "output_type": "stream",
          "name": "stdout",
          "text": [
            "0.04151354634562851\n",
            "tensor(0.4296)\n"
          ]
        },
        {
          "output_type": "stream",
          "name": "stderr",
          "text": [
            "Feature extracting: 100%|██████████| 391/391 [00:15<00:00, 25.71it/s]\n",
            "Test Epoch: [344/500] Acc@1:83.79% Acc@5:99.41%: 100%|██████████| 79/79 [00:04<00:00, 18.24it/s]\n",
            "Train Epoch: [345/500] Loss: 0.4346: 100%|██████████| 390/390 [01:45<00:00,  3.69it/s]\n"
          ]
        },
        {
          "output_type": "stream",
          "name": "stdout",
          "text": [
            "0.04107161227895489\n",
            "tensor(0.4344)\n"
          ]
        },
        {
          "output_type": "stream",
          "name": "stderr",
          "text": [
            "Feature extracting: 100%|██████████| 391/391 [00:15<00:00, 25.69it/s]\n",
            "Test Epoch: [345/500] Acc@1:84.12% Acc@5:99.46%: 100%|██████████| 79/79 [00:04<00:00, 18.12it/s]\n",
            "Train Epoch: [346/500] Loss: 0.4322: 100%|██████████| 390/390 [01:46<00:00,  3.68it/s]\n"
          ]
        },
        {
          "output_type": "stream",
          "name": "stdout",
          "text": [
            "0.040630397591855806\n",
            "tensor(0.4323)\n"
          ]
        },
        {
          "output_type": "stream",
          "name": "stderr",
          "text": [
            "Feature extracting: 100%|██████████| 391/391 [00:15<00:00, 25.71it/s]\n",
            "Test Epoch: [346/500] Acc@1:83.75% Acc@5:99.43%: 100%|██████████| 79/79 [00:04<00:00, 18.09it/s]\n",
            "Train Epoch: [347/500] Loss: 0.4270: 100%|██████████| 390/390 [01:46<00:00,  3.68it/s]\n"
          ]
        },
        {
          "output_type": "stream",
          "name": "stdout",
          "text": [
            "0.040189937831965394\n",
            "tensor(0.4273)\n"
          ]
        },
        {
          "output_type": "stream",
          "name": "stderr",
          "text": [
            "Feature extracting: 100%|██████████| 391/391 [00:15<00:00, 25.70it/s]\n",
            "Test Epoch: [347/500] Acc@1:83.92% Acc@5:99.48%: 100%|██████████| 79/79 [00:04<00:00, 18.21it/s]\n",
            "Train Epoch: [348/500] Loss: 0.4280: 100%|██████████| 390/390 [01:45<00:00,  3.68it/s]\n"
          ]
        },
        {
          "output_type": "stream",
          "name": "stdout",
          "text": [
            "0.039750268486095044\n",
            "tensor(0.4280)\n"
          ]
        },
        {
          "output_type": "stream",
          "name": "stderr",
          "text": [
            "Feature extracting: 100%|██████████| 391/391 [00:15<00:00, 25.50it/s]\n",
            "Test Epoch: [348/500] Acc@1:83.66% Acc@5:99.50%: 100%|██████████| 79/79 [00:04<00:00, 18.18it/s]\n",
            "Train Epoch: [349/500] Loss: 0.4311: 100%|██████████| 390/390 [01:46<00:00,  3.68it/s]\n"
          ]
        },
        {
          "output_type": "stream",
          "name": "stdout",
          "text": [
            "0.039311424977374367\n",
            "tensor(0.4310)\n"
          ]
        },
        {
          "output_type": "stream",
          "name": "stderr",
          "text": [
            "Feature extracting: 100%|██████████| 391/391 [00:15<00:00, 25.64it/s]\n",
            "Test Epoch: [349/500] Acc@1:83.88% Acc@5:99.44%: 100%|██████████| 79/79 [00:04<00:00, 18.41it/s]\n",
            "Train Epoch: [350/500] Loss: 0.4286: 100%|██████████| 390/390 [01:46<00:00,  3.68it/s]\n"
          ]
        },
        {
          "output_type": "stream",
          "name": "stdout",
          "text": [
            "0.038873442662397215\n",
            "tensor(0.4288)\n"
          ]
        },
        {
          "output_type": "stream",
          "name": "stderr",
          "text": [
            "Feature extracting: 100%|██████████| 391/391 [00:15<00:00, 25.65it/s]\n",
            "Test Epoch: [350/500] Acc@1:84.06% Acc@5:99.49%: 100%|██████████| 79/79 [00:04<00:00, 18.16it/s]\n",
            "Train Epoch: [351/500] Loss: 0.4263: 100%|██████████| 390/390 [01:45<00:00,  3.69it/s]\n"
          ]
        },
        {
          "output_type": "stream",
          "name": "stdout",
          "text": [
            "0.03843635682837304\n",
            "tensor(0.4264)\n"
          ]
        },
        {
          "output_type": "stream",
          "name": "stderr",
          "text": [
            "Feature extracting: 100%|██████████| 391/391 [00:15<00:00, 25.44it/s]\n",
            "Test Epoch: [351/500] Acc@1:83.73% Acc@5:99.43%: 100%|██████████| 79/79 [00:04<00:00, 17.96it/s]\n",
            "Train Epoch: [352/500] Loss: 0.4252: 100%|██████████| 390/390 [01:45<00:00,  3.69it/s]\n"
          ]
        },
        {
          "output_type": "stream",
          "name": "stdout",
          "text": [
            "0.03800020269028396\n",
            "tensor(0.4252)\n"
          ]
        },
        {
          "output_type": "stream",
          "name": "stderr",
          "text": [
            "Feature extracting: 100%|██████████| 391/391 [00:15<00:00, 25.50it/s]\n",
            "Test Epoch: [352/500] Acc@1:84.01% Acc@5:99.41%: 100%|██████████| 79/79 [00:04<00:00, 18.05it/s]\n",
            "Train Epoch: [353/500] Loss: 0.4301: 100%|██████████| 390/390 [01:46<00:00,  3.68it/s]\n"
          ]
        },
        {
          "output_type": "stream",
          "name": "stdout",
          "text": [
            "0.03756501538804755\n",
            "tensor(0.4299)\n"
          ]
        },
        {
          "output_type": "stream",
          "name": "stderr",
          "text": [
            "Feature extracting: 100%|██████████| 391/391 [00:15<00:00, 25.71it/s]\n",
            "Test Epoch: [353/500] Acc@1:83.90% Acc@5:99.53%: 100%|██████████| 79/79 [00:04<00:00, 18.22it/s]\n",
            "Train Epoch: [354/500] Loss: 0.4206: 100%|██████████| 390/390 [01:45<00:00,  3.69it/s]\n"
          ]
        },
        {
          "output_type": "stream",
          "name": "stdout",
          "text": [
            "0.03713082998368559\n",
            "tensor(0.4210)\n"
          ]
        },
        {
          "output_type": "stream",
          "name": "stderr",
          "text": [
            "Feature extracting: 100%|██████████| 391/391 [00:15<00:00, 25.61it/s]\n",
            "Test Epoch: [354/500] Acc@1:83.47% Acc@5:99.41%: 100%|██████████| 79/79 [00:04<00:00, 18.23it/s]\n",
            "Train Epoch: [355/500] Loss: 0.4224: 100%|██████████| 390/390 [01:45<00:00,  3.69it/s]\n"
          ]
        },
        {
          "output_type": "stream",
          "name": "stdout",
          "text": [
            "0.03669768145849941\n",
            "tensor(0.4223)\n"
          ]
        },
        {
          "output_type": "stream",
          "name": "stderr",
          "text": [
            "Feature extracting: 100%|██████████| 391/391 [00:15<00:00, 25.61it/s]\n",
            "Test Epoch: [355/500] Acc@1:83.57% Acc@5:99.47%: 100%|██████████| 79/79 [00:04<00:00, 18.27it/s]\n",
            "Train Epoch: [356/500] Loss: 0.4210: 100%|██████████| 390/390 [01:46<00:00,  3.68it/s]\n"
          ]
        },
        {
          "output_type": "stream",
          "name": "stdout",
          "text": [
            "0.03626560471025135\n",
            "tensor(0.4211)\n"
          ]
        },
        {
          "output_type": "stream",
          "name": "stderr",
          "text": [
            "Feature extracting: 100%|██████████| 391/391 [00:15<00:00, 25.69it/s]\n",
            "Test Epoch: [356/500] Acc@1:83.83% Acc@5:99.46%: 100%|██████████| 79/79 [00:04<00:00, 18.30it/s]\n",
            "Train Epoch: [357/500] Loss: 0.4173: 100%|██████████| 390/390 [01:45<00:00,  3.69it/s]\n"
          ]
        },
        {
          "output_type": "stream",
          "name": "stdout",
          "text": [
            "0.0358346345503532\n",
            "tensor(0.4175)\n"
          ]
        },
        {
          "output_type": "stream",
          "name": "stderr",
          "text": [
            "Feature extracting: 100%|██████████| 391/391 [00:15<00:00, 25.58it/s]\n",
            "Test Epoch: [357/500] Acc@1:83.65% Acc@5:99.40%: 100%|██████████| 79/79 [00:04<00:00, 17.93it/s]\n",
            "Train Epoch: [358/500] Loss: 0.4272: 100%|██████████| 390/390 [01:45<00:00,  3.68it/s]\n"
          ]
        },
        {
          "output_type": "stream",
          "name": "stdout",
          "text": [
            "0.03540480570106152\n",
            "tensor(0.4267)\n"
          ]
        },
        {
          "output_type": "stream",
          "name": "stderr",
          "text": [
            "Feature extracting: 100%|██████████| 391/391 [00:15<00:00, 25.60it/s]\n",
            "Test Epoch: [358/500] Acc@1:84.01% Acc@5:99.42%: 100%|██████████| 79/79 [00:04<00:00, 17.99it/s]\n",
            "Train Epoch: [359/500] Loss: 0.4155: 100%|██████████| 390/390 [01:46<00:00,  3.68it/s]\n"
          ]
        },
        {
          "output_type": "stream",
          "name": "stdout",
          "text": [
            "0.03497615279268015\n",
            "tensor(0.4161)\n"
          ]
        },
        {
          "output_type": "stream",
          "name": "stderr",
          "text": [
            "Feature extracting: 100%|██████████| 391/391 [00:15<00:00, 25.53it/s]\n",
            "Test Epoch: [359/500] Acc@1:83.78% Acc@5:99.45%: 100%|██████████| 79/79 [00:04<00:00, 18.14it/s]\n",
            "Train Epoch: [360/500] Loss: 0.4262: 100%|██████████| 390/390 [01:45<00:00,  3.68it/s]\n"
          ]
        },
        {
          "output_type": "stream",
          "name": "stdout",
          "text": [
            "0.03454871036077013\n",
            "tensor(0.4257)\n"
          ]
        },
        {
          "output_type": "stream",
          "name": "stderr",
          "text": [
            "Feature extracting: 100%|██████████| 391/391 [00:15<00:00, 25.54it/s]\n",
            "Test Epoch: [360/500] Acc@1:83.79% Acc@5:99.49%: 100%|██████████| 79/79 [00:04<00:00, 18.20it/s]\n",
            "Train Epoch: [361/500] Loss: 0.4257: 100%|██████████| 390/390 [01:45<00:00,  3.69it/s]\n"
          ]
        },
        {
          "output_type": "stream",
          "name": "stdout",
          "text": [
            "0.03412251284336724\n",
            "tensor(0.4257)\n"
          ]
        },
        {
          "output_type": "stream",
          "name": "stderr",
          "text": [
            "Feature extracting: 100%|██████████| 391/391 [00:15<00:00, 25.62it/s]\n",
            "Test Epoch: [361/500] Acc@1:83.87% Acc@5:99.47%: 100%|██████████| 79/79 [00:04<00:00, 18.06it/s]\n",
            "Train Epoch: [362/500] Loss: 0.4201: 100%|██████████| 390/390 [01:45<00:00,  3.69it/s]\n"
          ]
        },
        {
          "output_type": "stream",
          "name": "stdout",
          "text": [
            "0.03369759457820738\n",
            "tensor(0.4204)\n"
          ]
        },
        {
          "output_type": "stream",
          "name": "stderr",
          "text": [
            "Feature extracting: 100%|██████████| 391/391 [00:15<00:00, 25.67it/s]\n",
            "Test Epoch: [362/500] Acc@1:84.03% Acc@5:99.42%: 100%|██████████| 79/79 [00:04<00:00, 18.20it/s]\n",
            "Train Epoch: [363/500] Loss: 0.4317: 100%|██████████| 390/390 [01:45<00:00,  3.69it/s]\n"
          ]
        },
        {
          "output_type": "stream",
          "name": "stdout",
          "text": [
            "0.03327398979996019\n",
            "tensor(0.4312)\n"
          ]
        },
        {
          "output_type": "stream",
          "name": "stderr",
          "text": [
            "Feature extracting: 100%|██████████| 391/391 [00:15<00:00, 25.67it/s]\n",
            "Test Epoch: [363/500] Acc@1:83.73% Acc@5:99.44%: 100%|██████████| 79/79 [00:04<00:00, 18.21it/s]\n",
            "Train Epoch: [364/500] Loss: 0.4168: 100%|██████████| 390/390 [01:45<00:00,  3.68it/s]\n"
          ]
        },
        {
          "output_type": "stream",
          "name": "stdout",
          "text": [
            "0.03285173263747062\n",
            "tensor(0.4175)\n"
          ]
        },
        {
          "output_type": "stream",
          "name": "stderr",
          "text": [
            "Feature extracting: 100%|██████████| 391/391 [00:15<00:00, 25.62it/s]\n",
            "Test Epoch: [364/500] Acc@1:83.58% Acc@5:99.46%: 100%|██████████| 79/79 [00:04<00:00, 18.37it/s]\n",
            "Train Epoch: [365/500] Loss: 0.4196: 100%|██████████| 390/390 [01:45<00:00,  3.68it/s]\n"
          ]
        },
        {
          "output_type": "stream",
          "name": "stdout",
          "text": [
            "0.03243085711100946\n",
            "tensor(0.4195)\n"
          ]
        },
        {
          "output_type": "stream",
          "name": "stderr",
          "text": [
            "Feature extracting: 100%|██████████| 391/391 [00:15<00:00, 25.59it/s]\n",
            "Test Epoch: [365/500] Acc@1:83.58% Acc@5:99.45%: 100%|██████████| 79/79 [00:04<00:00, 18.23it/s]\n",
            "Train Epoch: [366/500] Loss: 0.4201: 100%|██████████| 390/390 [01:45<00:00,  3.69it/s]\n"
          ]
        },
        {
          "output_type": "stream",
          "name": "stdout",
          "text": [
            "0.032011397129532305\n",
            "tensor(0.4201)\n"
          ]
        },
        {
          "output_type": "stream",
          "name": "stderr",
          "text": [
            "Feature extracting: 100%|██████████| 391/391 [00:15<00:00, 25.71it/s]\n",
            "Test Epoch: [366/500] Acc@1:83.74% Acc@5:99.46%: 100%|██████████| 79/79 [00:04<00:00, 18.21it/s]\n",
            "Train Epoch: [367/500] Loss: 0.4178: 100%|██████████| 390/390 [01:45<00:00,  3.69it/s]\n"
          ]
        },
        {
          "output_type": "stream",
          "name": "stdout",
          "text": [
            "0.03159338648794756\n",
            "tensor(0.4179)\n"
          ]
        },
        {
          "output_type": "stream",
          "name": "stderr",
          "text": [
            "Feature extracting: 100%|██████████| 391/391 [00:15<00:00, 25.57it/s]\n",
            "Test Epoch: [367/500] Acc@1:83.92% Acc@5:99.47%: 100%|██████████| 79/79 [00:04<00:00, 18.23it/s]\n",
            "Train Epoch: [368/500] Loss: 0.4145: 100%|██████████| 390/390 [01:45<00:00,  3.69it/s]\n"
          ]
        },
        {
          "output_type": "stream",
          "name": "stdout",
          "text": [
            "0.031176858864393777\n",
            "tensor(0.4146)\n"
          ]
        },
        {
          "output_type": "stream",
          "name": "stderr",
          "text": [
            "Feature extracting: 100%|██████████| 391/391 [00:15<00:00, 25.71it/s]\n",
            "Test Epoch: [368/500] Acc@1:83.98% Acc@5:99.47%: 100%|██████████| 79/79 [00:04<00:00, 18.27it/s]\n",
            "Train Epoch: [369/500] Loss: 0.4213: 100%|██████████| 390/390 [01:45<00:00,  3.69it/s]\n"
          ]
        },
        {
          "output_type": "stream",
          "name": "stdout",
          "text": [
            "0.030761847817526184\n",
            "tensor(0.4209)\n"
          ]
        },
        {
          "output_type": "stream",
          "name": "stderr",
          "text": [
            "Feature extracting: 100%|██████████| 391/391 [00:15<00:00, 25.68it/s]\n",
            "Test Epoch: [369/500] Acc@1:84.00% Acc@5:99.53%: 100%|██████████| 79/79 [00:04<00:00, 18.15it/s]\n",
            "Train Epoch: [370/500] Loss: 0.4133: 100%|██████████| 390/390 [01:45<00:00,  3.69it/s]\n"
          ]
        },
        {
          "output_type": "stream",
          "name": "stdout",
          "text": [
            "0.03034838678381296\n",
            "tensor(0.4137)\n"
          ]
        },
        {
          "output_type": "stream",
          "name": "stderr",
          "text": [
            "Feature extracting: 100%|██████████| 391/391 [00:15<00:00, 25.74it/s]\n",
            "Test Epoch: [370/500] Acc@1:83.78% Acc@5:99.39%: 100%|██████████| 79/79 [00:04<00:00, 18.27it/s]\n",
            "Train Epoch: [371/500] Loss: 0.4133: 100%|██████████| 390/390 [01:45<00:00,  3.68it/s]\n"
          ]
        },
        {
          "output_type": "stream",
          "name": "stdout",
          "text": [
            "0.029936509074841366\n",
            "tensor(0.4134)\n"
          ]
        },
        {
          "output_type": "stream",
          "name": "stderr",
          "text": [
            "Feature extracting: 100%|██████████| 391/391 [00:15<00:00, 25.64it/s]\n",
            "Test Epoch: [371/500] Acc@1:84.05% Acc@5:99.46%: 100%|██████████| 79/79 [00:04<00:00, 18.09it/s]\n",
            "Train Epoch: [372/500] Loss: 0.4098: 100%|██████████| 390/390 [01:45<00:00,  3.69it/s]\n"
          ]
        },
        {
          "output_type": "stream",
          "name": "stdout",
          "text": [
            "0.02952624787463393\n",
            "tensor(0.4099)\n"
          ]
        },
        {
          "output_type": "stream",
          "name": "stderr",
          "text": [
            "Feature extracting: 100%|██████████| 391/391 [00:15<00:00, 25.61it/s]\n",
            "Test Epoch: [372/500] Acc@1:84.02% Acc@5:99.40%: 100%|██████████| 79/79 [00:04<00:00, 18.02it/s]\n",
            "Train Epoch: [373/500] Loss: 0.4131: 100%|██████████| 390/390 [01:45<00:00,  3.69it/s]\n"
          ]
        },
        {
          "output_type": "stream",
          "name": "stdout",
          "text": [
            "0.029117636236974834\n",
            "tensor(0.4129)\n"
          ]
        },
        {
          "output_type": "stream",
          "name": "stderr",
          "text": [
            "Feature extracting: 100%|██████████| 391/391 [00:15<00:00, 25.64it/s]\n",
            "Test Epoch: [373/500] Acc@1:84.01% Acc@5:99.40%: 100%|██████████| 79/79 [00:04<00:00, 18.18it/s]\n",
            "Train Epoch: [374/500] Loss: 0.4095: 100%|██████████| 390/390 [01:45<00:00,  3.69it/s]\n"
          ]
        },
        {
          "output_type": "stream",
          "name": "stdout",
          "text": [
            "0.02871070708274681\n",
            "tensor(0.4096)\n"
          ]
        },
        {
          "output_type": "stream",
          "name": "stderr",
          "text": [
            "Feature extracting: 100%|██████████| 391/391 [00:15<00:00, 25.62it/s]\n",
            "Test Epoch: [374/500] Acc@1:84.23% Acc@5:99.47%: 100%|██████████| 79/79 [00:04<00:00, 18.26it/s]\n",
            "Train Epoch: [375/500] Loss: 0.4159: 100%|██████████| 390/390 [01:45<00:00,  3.68it/s]\n"
          ]
        },
        {
          "output_type": "stream",
          "name": "stdout",
          "text": [
            "0.028305493197278927\n",
            "tensor(0.4156)\n"
          ]
        },
        {
          "output_type": "stream",
          "name": "stderr",
          "text": [
            "Feature extracting: 100%|██████████| 391/391 [00:15<00:00, 25.60it/s]\n",
            "Test Epoch: [375/500] Acc@1:84.00% Acc@5:99.43%: 100%|██████████| 79/79 [00:04<00:00, 18.20it/s]\n",
            "Train Epoch: [376/500] Loss: 0.4043: 100%|██████████| 390/390 [01:45<00:00,  3.69it/s]\n"
          ]
        },
        {
          "output_type": "stream",
          "name": "stdout",
          "text": [
            "0.027902027227705066\n",
            "tensor(0.4049)\n"
          ]
        },
        {
          "output_type": "stream",
          "name": "stderr",
          "text": [
            "Feature extracting: 100%|██████████| 391/391 [00:15<00:00, 25.62it/s]\n",
            "Test Epoch: [376/500] Acc@1:83.85% Acc@5:99.40%: 100%|██████████| 79/79 [00:04<00:00, 18.05it/s]\n",
            "Train Epoch: [377/500] Loss: 0.4122: 100%|██████████| 390/390 [01:45<00:00,  3.69it/s]\n"
          ]
        },
        {
          "output_type": "stream",
          "name": "stdout",
          "text": [
            "0.0275003416803335\n",
            "tensor(0.4119)\n"
          ]
        },
        {
          "output_type": "stream",
          "name": "stderr",
          "text": [
            "Feature extracting: 100%|██████████| 391/391 [00:15<00:00, 25.62it/s]\n",
            "Test Epoch: [377/500] Acc@1:83.80% Acc@5:99.45%: 100%|██████████| 79/79 [00:04<00:00, 18.14it/s]\n",
            "Train Epoch: [378/500] Loss: 0.4164: 100%|██████████| 390/390 [01:46<00:00,  3.68it/s]\n"
          ]
        },
        {
          "output_type": "stream",
          "name": "stdout",
          "text": [
            "0.027100468918028184\n",
            "tensor(0.4162)\n"
          ]
        },
        {
          "output_type": "stream",
          "name": "stderr",
          "text": [
            "Feature extracting: 100%|██████████| 391/391 [00:15<00:00, 25.60it/s]\n",
            "Test Epoch: [378/500] Acc@1:84.08% Acc@5:99.49%: 100%|██████████| 79/79 [00:04<00:00, 18.13it/s]\n",
            "Train Epoch: [379/500] Loss: 0.4086: 100%|██████████| 390/390 [01:45<00:00,  3.68it/s]\n"
          ]
        },
        {
          "output_type": "stream",
          "name": "stdout",
          "text": [
            "0.026702441157601182\n",
            "tensor(0.4090)\n"
          ]
        },
        {
          "output_type": "stream",
          "name": "stderr",
          "text": [
            "Feature extracting: 100%|██████████| 391/391 [00:15<00:00, 25.71it/s]\n",
            "Test Epoch: [379/500] Acc@1:84.19% Acc@5:99.42%: 100%|██████████| 79/79 [00:04<00:00, 18.09it/s]\n",
            "Train Epoch: [380/500] Loss: 0.4051: 100%|██████████| 390/390 [01:45<00:00,  3.69it/s]\n"
          ]
        },
        {
          "output_type": "stream",
          "name": "stdout",
          "text": [
            "0.026306290467217077\n",
            "tensor(0.4053)\n"
          ]
        },
        {
          "output_type": "stream",
          "name": "stderr",
          "text": [
            "Feature extracting: 100%|██████████| 391/391 [00:15<00:00, 25.70it/s]\n",
            "Test Epoch: [380/500] Acc@1:84.40% Acc@5:99.48%: 100%|██████████| 79/79 [00:04<00:00, 18.22it/s]\n",
            "Train Epoch: [381/500] Loss: 0.4102: 100%|██████████| 390/390 [01:45<00:00,  3.68it/s]\n"
          ]
        },
        {
          "output_type": "stream",
          "name": "stdout",
          "text": [
            "0.02591204876380927\n",
            "tensor(0.4099)\n"
          ]
        },
        {
          "output_type": "stream",
          "name": "stderr",
          "text": [
            "Feature extracting: 100%|██████████| 391/391 [00:15<00:00, 25.50it/s]\n",
            "Test Epoch: [381/500] Acc@1:84.18% Acc@5:99.48%: 100%|██████████| 79/79 [00:04<00:00, 17.97it/s]\n",
            "Train Epoch: [382/500] Loss: 0.4099: 100%|██████████| 390/390 [01:45<00:00,  3.68it/s]\n"
          ]
        },
        {
          "output_type": "stream",
          "name": "stdout",
          "text": [
            "0.025519747810508638\n",
            "tensor(0.4099)\n"
          ]
        },
        {
          "output_type": "stream",
          "name": "stderr",
          "text": [
            "Feature extracting: 100%|██████████| 391/391 [00:15<00:00, 25.62it/s]\n",
            "Test Epoch: [382/500] Acc@1:84.04% Acc@5:99.47%: 100%|██████████| 79/79 [00:04<00:00, 17.65it/s]\n",
            "Train Epoch: [383/500] Loss: 0.4071: 100%|██████████| 390/390 [01:45<00:00,  3.69it/s]\n"
          ]
        },
        {
          "output_type": "stream",
          "name": "stdout",
          "text": [
            "0.025129419214084306\n",
            "tensor(0.4073)\n"
          ]
        },
        {
          "output_type": "stream",
          "name": "stderr",
          "text": [
            "Feature extracting: 100%|██████████| 391/391 [00:15<00:00, 25.81it/s]\n",
            "Test Epoch: [383/500] Acc@1:84.17% Acc@5:99.40%: 100%|██████████| 79/79 [00:04<00:00, 18.28it/s]\n",
            "Train Epoch: [384/500] Loss: 0.4085: 100%|██████████| 390/390 [01:45<00:00,  3.69it/s]\n"
          ]
        },
        {
          "output_type": "stream",
          "name": "stdout",
          "text": [
            "0.024741094422397216\n",
            "tensor(0.4084)\n"
          ]
        },
        {
          "output_type": "stream",
          "name": "stderr",
          "text": [
            "Feature extracting: 100%|██████████| 391/391 [00:15<00:00, 25.55it/s]\n",
            "Test Epoch: [384/500] Acc@1:84.04% Acc@5:99.44%: 100%|██████████| 79/79 [00:04<00:00, 18.23it/s]\n",
            "Train Epoch: [385/500] Loss: 0.4149: 100%|██████████| 390/390 [01:45<00:00,  3.69it/s]\n"
          ]
        },
        {
          "output_type": "stream",
          "name": "stdout",
          "text": [
            "0.024354804721866498\n",
            "tensor(0.4146)\n"
          ]
        },
        {
          "output_type": "stream",
          "name": "stderr",
          "text": [
            "Feature extracting: 100%|██████████| 391/391 [00:15<00:00, 25.60it/s]\n",
            "Test Epoch: [385/500] Acc@1:84.33% Acc@5:99.50%: 100%|██████████| 79/79 [00:04<00:00, 18.06it/s]\n",
            "Train Epoch: [386/500] Loss: 0.4112: 100%|██████████| 390/390 [01:46<00:00,  3.67it/s]\n"
          ]
        },
        {
          "output_type": "stream",
          "name": "stdout",
          "text": [
            "0.023970581234948753\n",
            "tensor(0.4114)\n"
          ]
        },
        {
          "output_type": "stream",
          "name": "stderr",
          "text": [
            "Feature extracting: 100%|██████████| 391/391 [00:15<00:00, 25.69it/s]\n",
            "Test Epoch: [386/500] Acc@1:84.12% Acc@5:99.43%: 100%|██████████| 79/79 [00:04<00:00, 17.98it/s]\n",
            "Train Epoch: [387/500] Loss: 0.4048: 100%|██████████| 390/390 [01:46<00:00,  3.67it/s]\n"
          ]
        },
        {
          "output_type": "stream",
          "name": "stdout",
          "text": [
            "0.023588454917630546\n",
            "tensor(0.4051)\n"
          ]
        },
        {
          "output_type": "stream",
          "name": "stderr",
          "text": [
            "Feature extracting: 100%|██████████| 391/391 [00:15<00:00, 25.60it/s]\n",
            "Test Epoch: [387/500] Acc@1:84.19% Acc@5:99.44%: 100%|██████████| 79/79 [00:04<00:00, 18.34it/s]\n",
            "Train Epoch: [388/500] Loss: 0.4049: 100%|██████████| 390/390 [01:46<00:00,  3.68it/s]\n"
          ]
        },
        {
          "output_type": "stream",
          "name": "stdout",
          "text": [
            "0.023208456556934404\n",
            "tensor(0.4049)\n"
          ]
        },
        {
          "output_type": "stream",
          "name": "stderr",
          "text": [
            "Feature extracting: 100%|██████████| 391/391 [00:15<00:00, 25.50it/s]\n",
            "Test Epoch: [388/500] Acc@1:84.27% Acc@5:99.49%: 100%|██████████| 79/79 [00:04<00:00, 18.06it/s]\n",
            "Train Epoch: [389/500] Loss: 0.3998: 100%|██████████| 390/390 [01:46<00:00,  3.68it/s]\n"
          ]
        },
        {
          "output_type": "stream",
          "name": "stdout",
          "text": [
            "0.022830616768438432\n",
            "tensor(0.4001)\n"
          ]
        },
        {
          "output_type": "stream",
          "name": "stderr",
          "text": [
            "Feature extracting: 100%|██████████| 391/391 [00:15<00:00, 25.57it/s]\n",
            "Test Epoch: [389/500] Acc@1:84.19% Acc@5:99.46%: 100%|██████████| 79/79 [00:04<00:00, 18.09it/s]\n",
            "Train Epoch: [390/500] Loss: 0.3982: 100%|██████████| 390/390 [01:46<00:00,  3.68it/s]\n"
          ]
        },
        {
          "output_type": "stream",
          "name": "stdout",
          "text": [
            "0.022454965993809563\n",
            "tensor(0.3983)\n"
          ]
        },
        {
          "output_type": "stream",
          "name": "stderr",
          "text": [
            "Feature extracting: 100%|██████████| 391/391 [00:15<00:00, 25.59it/s]\n",
            "Test Epoch: [390/500] Acc@1:84.16% Acc@5:99.52%: 100%|██████████| 79/79 [00:04<00:00, 18.00it/s]\n",
            "Train Epoch: [391/500] Loss: 0.4025: 100%|██████████| 390/390 [01:45<00:00,  3.68it/s]\n"
          ]
        },
        {
          "output_type": "stream",
          "name": "stdout",
          "text": [
            "0.02208153449835102\n",
            "tensor(0.4023)\n"
          ]
        },
        {
          "output_type": "stream",
          "name": "stderr",
          "text": [
            "Feature extracting: 100%|██████████| 391/391 [00:15<00:00, 25.67it/s]\n",
            "Test Epoch: [391/500] Acc@1:84.22% Acc@5:99.48%: 100%|██████████| 79/79 [00:04<00:00, 18.09it/s]\n",
            "Train Epoch: [392/500] Loss: 0.4002: 100%|██████████| 390/390 [01:45<00:00,  3.68it/s]\n"
          ]
        },
        {
          "output_type": "stream",
          "name": "stdout",
          "text": [
            "0.021710352368563935\n",
            "tensor(0.4003)\n"
          ]
        },
        {
          "output_type": "stream",
          "name": "stderr",
          "text": [
            "Feature extracting: 100%|██████████| 391/391 [00:15<00:00, 25.64it/s]\n",
            "Test Epoch: [392/500] Acc@1:84.52% Acc@5:99.49%: 100%|██████████| 79/79 [00:04<00:00, 18.25it/s]\n",
            "Train Epoch: [393/500] Loss: 0.3956: 100%|██████████| 390/390 [01:45<00:00,  3.69it/s]\n"
          ]
        },
        {
          "output_type": "stream",
          "name": "stdout",
          "text": [
            "0.021341449509723286\n",
            "tensor(0.3958)\n"
          ]
        },
        {
          "output_type": "stream",
          "name": "stderr",
          "text": [
            "Feature extracting: 100%|██████████| 391/391 [00:15<00:00, 25.64it/s]\n",
            "Test Epoch: [393/500] Acc@1:84.54% Acc@5:99.47%: 100%|██████████| 79/79 [00:04<00:00, 18.24it/s]\n",
            "Train Epoch: [394/500] Loss: 0.4005: 100%|██████████| 390/390 [01:45<00:00,  3.69it/s]\n"
          ]
        },
        {
          "output_type": "stream",
          "name": "stdout",
          "text": [
            "0.020974855643468515\n",
            "tensor(0.4003)\n"
          ]
        },
        {
          "output_type": "stream",
          "name": "stderr",
          "text": [
            "Feature extracting: 100%|██████████| 391/391 [00:15<00:00, 25.57it/s]\n",
            "Test Epoch: [394/500] Acc@1:84.36% Acc@5:99.53%: 100%|██████████| 79/79 [00:04<00:00, 17.96it/s]\n",
            "Train Epoch: [395/500] Loss: 0.4011: 100%|██████████| 390/390 [01:46<00:00,  3.67it/s]\n"
          ]
        },
        {
          "output_type": "stream",
          "name": "stdout",
          "text": [
            "0.020610600305408993\n",
            "tensor(0.4010)\n"
          ]
        },
        {
          "output_type": "stream",
          "name": "stderr",
          "text": [
            "Feature extracting: 100%|██████████| 391/391 [00:15<00:00, 25.61it/s]\n",
            "Test Epoch: [395/500] Acc@1:84.33% Acc@5:99.49%: 100%|██████████| 79/79 [00:04<00:00, 17.93it/s]\n",
            "Train Epoch: [396/500] Loss: 0.4047: 100%|██████████| 390/390 [01:45<00:00,  3.68it/s]\n"
          ]
        },
        {
          "output_type": "stream",
          "name": "stdout",
          "text": [
            "0.02024871284274427\n",
            "tensor(0.4046)\n"
          ]
        },
        {
          "output_type": "stream",
          "name": "stderr",
          "text": [
            "Feature extracting: 100%|██████████| 391/391 [00:15<00:00, 25.59it/s]\n",
            "Test Epoch: [396/500] Acc@1:84.18% Acc@5:99.48%: 100%|██████████| 79/79 [00:04<00:00, 18.00it/s]\n",
            "Train Epoch: [397/500] Loss: 0.4004: 100%|██████████| 390/390 [01:45<00:00,  3.68it/s]\n"
          ]
        },
        {
          "output_type": "stream",
          "name": "stdout",
          "text": [
            "0.019889222411899814\n",
            "tensor(0.4007)\n"
          ]
        },
        {
          "output_type": "stream",
          "name": "stderr",
          "text": [
            "Feature extracting: 100%|██████████| 391/391 [00:15<00:00, 25.60it/s]\n",
            "Test Epoch: [397/500] Acc@1:84.39% Acc@5:99.48%: 100%|██████████| 79/79 [00:04<00:00, 18.08it/s]\n",
            "Train Epoch: [398/500] Loss: 0.4030: 100%|██████████| 390/390 [01:45<00:00,  3.69it/s]\n"
          ]
        },
        {
          "output_type": "stream",
          "name": "stdout",
          "text": [
            "0.01953215797617776\n",
            "tensor(0.4029)\n"
          ]
        },
        {
          "output_type": "stream",
          "name": "stderr",
          "text": [
            "Feature extracting: 100%|██████████| 391/391 [00:15<00:00, 25.63it/s]\n",
            "Test Epoch: [398/500] Acc@1:84.27% Acc@5:99.49%: 100%|██████████| 79/79 [00:04<00:00, 18.03it/s]\n",
            "Train Epoch: [399/500] Loss: 0.4035: 100%|██████████| 390/390 [01:45<00:00,  3.68it/s]\n"
          ]
        },
        {
          "output_type": "stream",
          "name": "stdout",
          "text": [
            "0.019177548303423587\n",
            "tensor(0.4034)\n"
          ]
        },
        {
          "output_type": "stream",
          "name": "stderr",
          "text": [
            "Feature extracting: 100%|██████████| 391/391 [00:15<00:00, 25.56it/s]\n",
            "Test Epoch: [399/500] Acc@1:84.09% Acc@5:99.49%: 100%|██████████| 79/79 [00:04<00:00, 18.30it/s]\n",
            "Train Epoch: [400/500] Loss: 0.4035: 100%|██████████| 390/390 [01:45<00:00,  3.68it/s]\n"
          ]
        },
        {
          "output_type": "stream",
          "name": "stdout",
          "text": [
            "0.0188254219637082\n",
            "tensor(0.4035)\n"
          ]
        },
        {
          "output_type": "stream",
          "name": "stderr",
          "text": [
            "Feature extracting: 100%|██████████| 391/391 [00:15<00:00, 25.66it/s]\n",
            "Test Epoch: [400/500] Acc@1:84.45% Acc@5:99.44%: 100%|██████████| 79/79 [00:04<00:00, 18.05it/s]\n",
            "Train Epoch: [401/500] Loss: 0.4010: 100%|██████████| 390/390 [01:45<00:00,  3.68it/s]\n"
          ]
        },
        {
          "output_type": "stream",
          "name": "stdout",
          "text": [
            "0.018475807327026177\n",
            "tensor(0.4011)\n"
          ]
        },
        {
          "output_type": "stream",
          "name": "stderr",
          "text": [
            "Feature extracting: 100%|██████████| 391/391 [00:15<00:00, 25.55it/s]\n",
            "Test Epoch: [401/500] Acc@1:84.15% Acc@5:99.45%: 100%|██████████| 79/79 [00:04<00:00, 18.22it/s]\n",
            "Train Epoch: [402/500] Loss: 0.3990: 100%|██████████| 390/390 [01:45<00:00,  3.69it/s]\n"
          ]
        },
        {
          "output_type": "stream",
          "name": "stdout",
          "text": [
            "0.01812873256101013\n",
            "tensor(0.3991)\n"
          ]
        },
        {
          "output_type": "stream",
          "name": "stderr",
          "text": [
            "Feature extracting: 100%|██████████| 391/391 [00:15<00:00, 25.56it/s]\n",
            "Test Epoch: [402/500] Acc@1:84.36% Acc@5:99.52%: 100%|██████████| 79/79 [00:04<00:00, 17.99it/s]\n",
            "Train Epoch: [403/500] Loss: 0.3979: 100%|██████████| 390/390 [01:46<00:00,  3.68it/s]\n"
          ]
        },
        {
          "output_type": "stream",
          "name": "stdout",
          "text": [
            "0.017784225628661166\n",
            "tensor(0.3980)\n"
          ]
        },
        {
          "output_type": "stream",
          "name": "stderr",
          "text": [
            "Feature extracting: 100%|██████████| 391/391 [00:15<00:00, 25.65it/s]\n",
            "Test Epoch: [403/500] Acc@1:84.35% Acc@5:99.46%: 100%|██████████| 79/79 [00:04<00:00, 17.95it/s]\n",
            "Train Epoch: [404/500] Loss: 0.4082: 100%|██████████| 390/390 [01:45<00:00,  3.68it/s]\n"
          ]
        },
        {
          "output_type": "stream",
          "name": "stdout",
          "text": [
            "0.01744231428609611\n",
            "tensor(0.4076)\n"
          ]
        },
        {
          "output_type": "stream",
          "name": "stderr",
          "text": [
            "Feature extracting: 100%|██████████| 391/391 [00:15<00:00, 25.71it/s]\n",
            "Test Epoch: [404/500] Acc@1:84.07% Acc@5:99.41%: 100%|██████████| 79/79 [00:04<00:00, 17.68it/s]\n",
            "Train Epoch: [405/500] Loss: 0.3951: 100%|██████████| 390/390 [01:46<00:00,  3.67it/s]\n"
          ]
        },
        {
          "output_type": "stream",
          "name": "stdout",
          "text": [
            "0.017103026080311137\n",
            "tensor(0.3957)\n"
          ]
        },
        {
          "output_type": "stream",
          "name": "stderr",
          "text": [
            "Feature extracting: 100%|██████████| 391/391 [00:15<00:00, 25.50it/s]\n",
            "Test Epoch: [405/500] Acc@1:84.27% Acc@5:99.44%: 100%|██████████| 79/79 [00:04<00:00, 17.86it/s]\n",
            "Train Epoch: [406/500] Loss: 0.4001: 100%|██████████| 390/390 [01:45<00:00,  3.68it/s]\n"
          ]
        },
        {
          "output_type": "stream",
          "name": "stdout",
          "text": [
            "0.016766388346962462\n",
            "tensor(0.3999)\n"
          ]
        },
        {
          "output_type": "stream",
          "name": "stderr",
          "text": [
            "Feature extracting: 100%|██████████| 391/391 [00:15<00:00, 25.50it/s]\n",
            "Test Epoch: [406/500] Acc@1:84.44% Acc@5:99.49%: 100%|██████████| 79/79 [00:04<00:00, 18.07it/s]\n",
            "Train Epoch: [407/500] Loss: 0.3995: 100%|██████████| 390/390 [01:46<00:00,  3.68it/s]\n"
          ]
        },
        {
          "output_type": "stream",
          "name": "stdout",
          "text": [
            "0.01643242820816396\n",
            "tensor(0.3995)\n"
          ]
        },
        {
          "output_type": "stream",
          "name": "stderr",
          "text": [
            "Feature extracting: 100%|██████████| 391/391 [00:15<00:00, 25.58it/s]\n",
            "Test Epoch: [407/500] Acc@1:84.41% Acc@5:99.44%: 100%|██████████| 79/79 [00:04<00:00, 18.03it/s]\n",
            "Train Epoch: [408/500] Loss: 0.3928: 100%|██████████| 390/390 [01:46<00:00,  3.68it/s]\n"
          ]
        },
        {
          "output_type": "stream",
          "name": "stdout",
          "text": [
            "0.016101172570301962\n",
            "tensor(0.3932)\n"
          ]
        },
        {
          "output_type": "stream",
          "name": "stderr",
          "text": [
            "Feature extracting: 100%|██████████| 391/391 [00:15<00:00, 25.62it/s]\n",
            "Test Epoch: [408/500] Acc@1:84.32% Acc@5:99.42%: 100%|██████████| 79/79 [00:04<00:00, 18.29it/s]\n",
            "Train Epoch: [409/500] Loss: 0.3974: 100%|██████████| 390/390 [01:45<00:00,  3.68it/s]\n"
          ]
        },
        {
          "output_type": "stream",
          "name": "stdout",
          "text": [
            "0.01577264812186747\n",
            "tensor(0.3972)\n"
          ]
        },
        {
          "output_type": "stream",
          "name": "stderr",
          "text": [
            "Feature extracting: 100%|██████████| 391/391 [00:15<00:00, 25.59it/s]\n",
            "Test Epoch: [409/500] Acc@1:84.42% Acc@5:99.47%: 100%|██████████| 79/79 [00:04<00:00, 18.22it/s]\n",
            "Train Epoch: [410/500] Loss: 0.4047: 100%|██████████| 390/390 [01:45<00:00,  3.69it/s]\n"
          ]
        },
        {
          "output_type": "stream",
          "name": "stdout",
          "text": [
            "0.01544688133130601\n",
            "tensor(0.4043)\n"
          ]
        },
        {
          "output_type": "stream",
          "name": "stderr",
          "text": [
            "Feature extracting: 100%|██████████| 391/391 [00:15<00:00, 25.52it/s]\n",
            "Test Epoch: [410/500] Acc@1:84.44% Acc@5:99.49%: 100%|██████████| 79/79 [00:04<00:00, 18.05it/s]\n",
            "Train Epoch: [411/500] Loss: 0.3963: 100%|██████████| 390/390 [01:45<00:00,  3.68it/s]\n"
          ]
        },
        {
          "output_type": "stream",
          "name": "stdout",
          "text": [
            "0.015123898444885002\n",
            "tensor(0.3967)\n"
          ]
        },
        {
          "output_type": "stream",
          "name": "stderr",
          "text": [
            "Feature extracting: 100%|██████████| 391/391 [00:15<00:00, 25.63it/s]\n",
            "Test Epoch: [411/500] Acc@1:84.44% Acc@5:99.45%: 100%|██████████| 79/79 [00:04<00:00, 18.07it/s]\n",
            "Train Epoch: [412/500] Loss: 0.3945: 100%|██████████| 390/390 [01:45<00:00,  3.69it/s]\n"
          ]
        },
        {
          "output_type": "stream",
          "name": "stdout",
          "text": [
            "0.014803725484579297\n",
            "tensor(0.3946)\n"
          ]
        },
        {
          "output_type": "stream",
          "name": "stderr",
          "text": [
            "Feature extracting: 100%|██████████| 391/391 [00:15<00:00, 25.70it/s]\n",
            "Test Epoch: [412/500] Acc@1:84.55% Acc@5:99.51%: 100%|██████████| 79/79 [00:04<00:00, 18.04it/s]\n",
            "Train Epoch: [413/500] Loss: 0.3904: 100%|██████████| 390/390 [01:45<00:00,  3.68it/s]\n"
          ]
        },
        {
          "output_type": "stream",
          "name": "stdout",
          "text": [
            "0.014486388245974507\n",
            "tensor(0.3906)\n"
          ]
        },
        {
          "output_type": "stream",
          "name": "stderr",
          "text": [
            "Feature extracting: 100%|██████████| 391/391 [00:15<00:00, 25.63it/s]\n",
            "Test Epoch: [413/500] Acc@1:84.58% Acc@5:99.46%: 100%|██████████| 79/79 [00:04<00:00, 18.19it/s]\n",
            "Train Epoch: [414/500] Loss: 0.4004: 100%|██████████| 390/390 [01:45<00:00,  3.68it/s]\n"
          ]
        },
        {
          "output_type": "stream",
          "name": "stdout",
          "text": [
            "0.014171912296188867\n",
            "tensor(0.3999)\n"
          ]
        },
        {
          "output_type": "stream",
          "name": "stderr",
          "text": [
            "Feature extracting: 100%|██████████| 391/391 [00:15<00:00, 25.64it/s]\n",
            "Test Epoch: [414/500] Acc@1:84.45% Acc@5:99.43%: 100%|██████████| 79/79 [00:04<00:00, 17.80it/s]\n",
            "Train Epoch: [415/500] Loss: 0.3959: 100%|██████████| 390/390 [01:45<00:00,  3.68it/s]\n"
          ]
        },
        {
          "output_type": "stream",
          "name": "stdout",
          "text": [
            "0.0138603229718132\n",
            "tensor(0.3961)\n"
          ]
        },
        {
          "output_type": "stream",
          "name": "stderr",
          "text": [
            "Feature extracting: 100%|██████████| 391/391 [00:15<00:00, 25.57it/s]\n",
            "Test Epoch: [415/500] Acc@1:84.62% Acc@5:99.48%: 100%|██████████| 79/79 [00:04<00:00, 18.09it/s]\n",
            "Train Epoch: [416/500] Loss: 0.3940: 100%|██████████| 390/390 [01:45<00:00,  3.69it/s]\n"
          ]
        },
        {
          "output_type": "stream",
          "name": "stdout",
          "text": [
            "0.013551645376869707\n",
            "tensor(0.3941)\n"
          ]
        },
        {
          "output_type": "stream",
          "name": "stderr",
          "text": [
            "Feature extracting: 100%|██████████| 391/391 [00:15<00:00, 25.61it/s]\n",
            "Test Epoch: [416/500] Acc@1:84.38% Acc@5:99.42%: 100%|██████████| 79/79 [00:04<00:00, 18.10it/s]\n",
            "Train Epoch: [417/500] Loss: 0.3923: 100%|██████████| 390/390 [01:45<00:00,  3.69it/s]\n"
          ]
        },
        {
          "output_type": "stream",
          "name": "stdout",
          "text": [
            "0.01324590438078939\n",
            "tensor(0.3924)\n"
          ]
        },
        {
          "output_type": "stream",
          "name": "stderr",
          "text": [
            "Feature extracting: 100%|██████████| 391/391 [00:15<00:00, 25.61it/s]\n",
            "Test Epoch: [417/500] Acc@1:84.49% Acc@5:99.51%: 100%|██████████| 79/79 [00:04<00:00, 18.25it/s]\n",
            "Train Epoch: [418/500] Loss: 0.3938: 100%|██████████| 390/390 [01:45<00:00,  3.68it/s]\n"
          ]
        },
        {
          "output_type": "stream",
          "name": "stdout",
          "text": [
            "0.01294312461640833\n",
            "tensor(0.3937)\n"
          ]
        },
        {
          "output_type": "stream",
          "name": "stderr",
          "text": [
            "Feature extracting: 100%|██████████| 391/391 [00:15<00:00, 25.42it/s]\n",
            "Test Epoch: [418/500] Acc@1:84.54% Acc@5:99.46%: 100%|██████████| 79/79 [00:04<00:00, 18.32it/s]\n",
            "Train Epoch: [419/500] Loss: 0.3937: 100%|██████████| 390/390 [01:45<00:00,  3.69it/s]\n"
          ]
        },
        {
          "output_type": "stream",
          "name": "stdout",
          "text": [
            "0.012643330477983087\n",
            "tensor(0.3937)\n"
          ]
        },
        {
          "output_type": "stream",
          "name": "stderr",
          "text": [
            "Feature extracting: 100%|██████████| 391/391 [00:15<00:00, 25.67it/s]\n",
            "Test Epoch: [419/500] Acc@1:84.48% Acc@5:99.40%: 100%|██████████| 79/79 [00:04<00:00, 18.33it/s]\n",
            "Train Epoch: [420/500] Loss: 0.3910: 100%|██████████| 390/390 [01:45<00:00,  3.69it/s]\n"
          ]
        },
        {
          "output_type": "stream",
          "name": "stdout",
          "text": [
            "0.012346546119225383\n",
            "tensor(0.3912)\n"
          ]
        },
        {
          "output_type": "stream",
          "name": "stderr",
          "text": [
            "Feature extracting: 100%|██████████| 391/391 [00:15<00:00, 25.54it/s]\n",
            "Test Epoch: [420/500] Acc@1:84.50% Acc@5:99.44%: 100%|██████████| 79/79 [00:04<00:00, 18.13it/s]\n",
            "Train Epoch: [421/500] Loss: 0.3907: 100%|██████████| 390/390 [01:45<00:00,  3.69it/s]\n"
          ]
        },
        {
          "output_type": "stream",
          "name": "stdout",
          "text": [
            "0.012052795451356003\n",
            "tensor(0.3907)\n"
          ]
        },
        {
          "output_type": "stream",
          "name": "stderr",
          "text": [
            "Feature extracting: 100%|██████████| 391/391 [00:15<00:00, 25.59it/s]\n",
            "Test Epoch: [421/500] Acc@1:84.54% Acc@5:99.47%: 100%|██████████| 79/79 [00:04<00:00, 18.00it/s]\n",
            "Train Epoch: [422/500] Loss: 0.3940: 100%|██████████| 390/390 [01:45<00:00,  3.69it/s]\n"
          ]
        },
        {
          "output_type": "stream",
          "name": "stdout",
          "text": [
            "0.011762102141178355\n",
            "tensor(0.3938)\n"
          ]
        },
        {
          "output_type": "stream",
          "name": "stderr",
          "text": [
            "Feature extracting: 100%|██████████| 391/391 [00:15<00:00, 25.56it/s]\n",
            "Test Epoch: [422/500] Acc@1:84.43% Acc@5:99.47%: 100%|██████████| 79/79 [00:04<00:00, 18.23it/s]\n",
            "Train Epoch: [423/500] Loss: 0.3986: 100%|██████████| 390/390 [01:45<00:00,  3.69it/s]\n"
          ]
        },
        {
          "output_type": "stream",
          "name": "stdout",
          "text": [
            "0.01147448960917172\n",
            "tensor(0.3984)\n"
          ]
        },
        {
          "output_type": "stream",
          "name": "stderr",
          "text": [
            "Feature extracting: 100%|██████████| 391/391 [00:15<00:00, 25.54it/s]\n",
            "Test Epoch: [423/500] Acc@1:84.39% Acc@5:99.47%: 100%|██████████| 79/79 [00:04<00:00, 18.07it/s]\n",
            "Train Epoch: [424/500] Loss: 0.3883: 100%|██████████| 390/390 [01:45<00:00,  3.69it/s]\n"
          ]
        },
        {
          "output_type": "stream",
          "name": "stdout",
          "text": [
            "0.011189981027604315\n",
            "tensor(0.3888)\n"
          ]
        },
        {
          "output_type": "stream",
          "name": "stderr",
          "text": [
            "Feature extracting: 100%|██████████| 391/391 [00:15<00:00, 25.59it/s]\n",
            "Test Epoch: [424/500] Acc@1:84.49% Acc@5:99.46%: 100%|██████████| 79/79 [00:04<00:00, 17.91it/s]\n",
            "Train Epoch: [425/500] Loss: 0.3842: 100%|██████████| 390/390 [01:45<00:00,  3.69it/s]\n"
          ]
        },
        {
          "output_type": "stream",
          "name": "stdout",
          "text": [
            "0.010908599318666263\n",
            "tensor(0.3844)\n"
          ]
        },
        {
          "output_type": "stream",
          "name": "stderr",
          "text": [
            "Feature extracting: 100%|██████████| 391/391 [00:15<00:00, 25.64it/s]\n",
            "Test Epoch: [425/500] Acc@1:84.56% Acc@5:99.46%: 100%|██████████| 79/79 [00:04<00:00, 18.11it/s]\n",
            "Train Epoch: [426/500] Loss: 0.3917: 100%|██████████| 390/390 [01:45<00:00,  3.68it/s]\n"
          ]
        },
        {
          "output_type": "stream",
          "name": "stdout",
          "text": [
            "0.010630367152622944\n",
            "tensor(0.3913)\n"
          ]
        },
        {
          "output_type": "stream",
          "name": "stderr",
          "text": [
            "Feature extracting: 100%|██████████| 391/391 [00:15<00:00, 25.56it/s]\n",
            "Test Epoch: [426/500] Acc@1:84.60% Acc@5:99.49%: 100%|██████████| 79/79 [00:04<00:00, 18.13it/s]\n",
            "Train Epoch: [427/500] Loss: 0.3927: 100%|██████████| 390/390 [01:45<00:00,  3.69it/s]\n"
          ]
        },
        {
          "output_type": "stream",
          "name": "stdout",
          "text": [
            "0.010355306945988456\n",
            "tensor(0.3926)\n"
          ]
        },
        {
          "output_type": "stream",
          "name": "stderr",
          "text": [
            "Feature extracting: 100%|██████████| 391/391 [00:15<00:00, 25.73it/s]\n",
            "Test Epoch: [427/500] Acc@1:84.46% Acc@5:99.48%: 100%|██████████| 79/79 [00:04<00:00, 18.07it/s]\n",
            "Train Epoch: [428/500] Loss: 0.3932: 100%|██████████| 390/390 [01:46<00:00,  3.68it/s]\n"
          ]
        },
        {
          "output_type": "stream",
          "name": "stdout",
          "text": [
            "0.010083440859719508\n",
            "tensor(0.3932)\n"
          ]
        },
        {
          "output_type": "stream",
          "name": "stderr",
          "text": [
            "Feature extracting: 100%|██████████| 391/391 [00:15<00:00, 25.53it/s]\n",
            "Test Epoch: [428/500] Acc@1:84.37% Acc@5:99.43%: 100%|██████████| 79/79 [00:04<00:00, 18.14it/s]\n",
            "Train Epoch: [429/500] Loss: 0.3787: 100%|██████████| 390/390 [01:45<00:00,  3.69it/s]\n"
          ]
        },
        {
          "output_type": "stream",
          "name": "stdout",
          "text": [
            "0.009814790797430018\n",
            "tensor(0.3794)\n"
          ]
        },
        {
          "output_type": "stream",
          "name": "stderr",
          "text": [
            "Feature extracting: 100%|██████████| 391/391 [00:15<00:00, 25.65it/s]\n",
            "Test Epoch: [429/500] Acc@1:84.42% Acc@5:99.48%: 100%|██████████| 79/79 [00:04<00:00, 18.14it/s]\n",
            "Train Epoch: [430/500] Loss: 0.3878: 100%|██████████| 390/390 [01:45<00:00,  3.68it/s]\n"
          ]
        },
        {
          "output_type": "stream",
          "name": "stdout",
          "text": [
            "0.009549378403626404\n",
            "tensor(0.3874)\n"
          ]
        },
        {
          "output_type": "stream",
          "name": "stderr",
          "text": [
            "Feature extracting: 100%|██████████| 391/391 [00:15<00:00, 25.68it/s]\n",
            "Test Epoch: [430/500] Acc@1:84.64% Acc@5:99.52%: 100%|██████████| 79/79 [00:04<00:00, 17.68it/s]\n",
            "Train Epoch: [431/500] Loss: 0.3884: 100%|██████████| 390/390 [01:45<00:00,  3.68it/s]\n"
          ]
        },
        {
          "output_type": "stream",
          "name": "stdout",
          "text": [
            "0.009287225061963738\n",
            "tensor(0.3884)\n"
          ]
        },
        {
          "output_type": "stream",
          "name": "stderr",
          "text": [
            "Feature extracting: 100%|██████████| 391/391 [00:15<00:00, 25.50it/s]\n",
            "Test Epoch: [431/500] Acc@1:84.46% Acc@5:99.46%: 100%|██████████| 79/79 [00:04<00:00, 18.16it/s]\n",
            "Train Epoch: [432/500] Loss: 0.3935: 100%|██████████| 390/390 [01:45<00:00,  3.68it/s]\n"
          ]
        },
        {
          "output_type": "stream",
          "name": "stdout",
          "text": [
            "0.009028351893522808\n",
            "tensor(0.3932)\n"
          ]
        },
        {
          "output_type": "stream",
          "name": "stderr",
          "text": [
            "Feature extracting: 100%|██████████| 391/391 [00:15<00:00, 25.60it/s]\n",
            "Test Epoch: [432/500] Acc@1:84.35% Acc@5:99.49%: 100%|██████████| 79/79 [00:04<00:00, 18.15it/s]\n",
            "Train Epoch: [433/500] Loss: 0.3897: 100%|██████████| 390/390 [01:45<00:00,  3.69it/s]\n"
          ]
        },
        {
          "output_type": "stream",
          "name": "stdout",
          "text": [
            "0.008772779755108612\n",
            "tensor(0.3899)\n"
          ]
        },
        {
          "output_type": "stream",
          "name": "stderr",
          "text": [
            "Feature extracting: 100%|██████████| 391/391 [00:15<00:00, 25.52it/s]\n",
            "Test Epoch: [433/500] Acc@1:84.60% Acc@5:99.43%: 100%|██████████| 79/79 [00:04<00:00, 18.09it/s]\n",
            "Train Epoch: [434/500] Loss: 0.3912: 100%|██████████| 390/390 [01:45<00:00,  3.68it/s]\n"
          ]
        },
        {
          "output_type": "stream",
          "name": "stdout",
          "text": [
            "0.008520529237569864\n",
            "tensor(0.3911)\n"
          ]
        },
        {
          "output_type": "stream",
          "name": "stderr",
          "text": [
            "Feature extracting: 100%|██████████| 391/391 [00:15<00:00, 25.59it/s]\n",
            "Test Epoch: [434/500] Acc@1:84.52% Acc@5:99.50%: 100%|██████████| 79/79 [00:04<00:00, 17.94it/s]\n",
            "Train Epoch: [435/500] Loss: 0.3879: 100%|██████████| 390/390 [01:45<00:00,  3.69it/s]\n"
          ]
        },
        {
          "output_type": "stream",
          "name": "stdout",
          "text": [
            "0.008271620664140047\n",
            "tensor(0.3881)\n"
          ]
        },
        {
          "output_type": "stream",
          "name": "stderr",
          "text": [
            "Feature extracting: 100%|██████████| 391/391 [00:15<00:00, 25.58it/s]\n",
            "Test Epoch: [435/500] Acc@1:84.50% Acc@5:99.45%: 100%|██████████| 79/79 [00:04<00:00, 18.04it/s]\n",
            "Train Epoch: [436/500] Loss: 0.3864: 100%|██████████| 390/390 [01:45<00:00,  3.69it/s]\n"
          ]
        },
        {
          "output_type": "stream",
          "name": "stdout",
          "text": [
            "0.008026074088800034\n",
            "tensor(0.3864)\n"
          ]
        },
        {
          "output_type": "stream",
          "name": "stderr",
          "text": [
            "Feature extracting: 100%|██████████| 391/391 [00:15<00:00, 25.61it/s]\n",
            "Test Epoch: [436/500] Acc@1:84.48% Acc@5:99.51%: 100%|██████████| 79/79 [00:04<00:00, 18.01it/s]\n",
            "Train Epoch: [437/500] Loss: 0.3855: 100%|██████████| 390/390 [01:45<00:00,  3.69it/s]\n"
          ]
        },
        {
          "output_type": "stream",
          "name": "stdout",
          "text": [
            "0.007783909294662408\n",
            "tensor(0.3855)\n"
          ]
        },
        {
          "output_type": "stream",
          "name": "stderr",
          "text": [
            "Feature extracting: 100%|██████████| 391/391 [00:15<00:00, 25.55it/s]\n",
            "Test Epoch: [437/500] Acc@1:84.54% Acc@5:99.50%: 100%|██████████| 79/79 [00:04<00:00, 17.71it/s]\n",
            "Train Epoch: [438/500] Loss: 0.3876: 100%|██████████| 390/390 [01:45<00:00,  3.68it/s]\n"
          ]
        },
        {
          "output_type": "stream",
          "name": "stdout",
          "text": [
            "0.007545145792377542\n",
            "tensor(0.3875)\n"
          ]
        },
        {
          "output_type": "stream",
          "name": "stderr",
          "text": [
            "Feature extracting: 100%|██████████| 391/391 [00:15<00:00, 25.72it/s]\n",
            "Test Epoch: [438/500] Acc@1:84.43% Acc@5:99.47%: 100%|██████████| 79/79 [00:04<00:00, 17.99it/s]\n",
            "Train Epoch: [439/500] Loss: 0.3801: 100%|██████████| 390/390 [01:46<00:00,  3.68it/s]\n"
          ]
        },
        {
          "output_type": "stream",
          "name": "stdout",
          "text": [
            "0.0073098028185616774\n",
            "tensor(0.3805)\n"
          ]
        },
        {
          "output_type": "stream",
          "name": "stderr",
          "text": [
            "Feature extracting: 100%|██████████| 391/391 [00:15<00:00, 25.63it/s]\n",
            "Test Epoch: [439/500] Acc@1:84.66% Acc@5:99.52%: 100%|██████████| 79/79 [00:04<00:00, 17.85it/s]\n",
            "Train Epoch: [440/500] Loss: 0.3804: 100%|██████████| 390/390 [01:45<00:00,  3.69it/s]\n"
          ]
        },
        {
          "output_type": "stream",
          "name": "stdout",
          "text": [
            "0.00707789933424711\n",
            "tensor(0.3804)\n"
          ]
        },
        {
          "output_type": "stream",
          "name": "stderr",
          "text": [
            "Feature extracting: 100%|██████████| 391/391 [00:15<00:00, 25.60it/s]\n",
            "Test Epoch: [440/500] Acc@1:84.69% Acc@5:99.52%: 100%|██████████| 79/79 [00:04<00:00, 18.07it/s]\n",
            "Train Epoch: [441/500] Loss: 0.3875: 100%|██████████| 390/390 [01:45<00:00,  3.69it/s]\n"
          ]
        },
        {
          "output_type": "stream",
          "name": "stdout",
          "text": [
            "0.0068494540233545445\n",
            "tensor(0.3871)\n"
          ]
        },
        {
          "output_type": "stream",
          "name": "stderr",
          "text": [
            "Feature extracting: 100%|██████████| 391/391 [00:15<00:00, 25.55it/s]\n",
            "Test Epoch: [441/500] Acc@1:84.72% Acc@5:99.49%: 100%|██████████| 79/79 [00:04<00:00, 18.21it/s]\n",
            "Train Epoch: [442/500] Loss: 0.3873: 100%|██████████| 390/390 [01:46<00:00,  3.68it/s]\n"
          ]
        },
        {
          "output_type": "stream",
          "name": "stdout",
          "text": [
            "0.00662448529118767\n",
            "tensor(0.3873)\n"
          ]
        },
        {
          "output_type": "stream",
          "name": "stderr",
          "text": [
            "Feature extracting: 100%|██████████| 391/391 [00:15<00:00, 25.45it/s]\n",
            "Test Epoch: [442/500] Acc@1:84.57% Acc@5:99.47%: 100%|██████████| 79/79 [00:04<00:00, 17.88it/s]\n",
            "Train Epoch: [443/500] Loss: 0.3828: 100%|██████████| 390/390 [01:45<00:00,  3.69it/s]\n"
          ]
        },
        {
          "output_type": "stream",
          "name": "stdout",
          "text": [
            "0.006403011262950437\n",
            "tensor(0.3830)\n"
          ]
        },
        {
          "output_type": "stream",
          "name": "stderr",
          "text": [
            "Feature extracting: 100%|██████████| 391/391 [00:15<00:00, 25.55it/s]\n",
            "Test Epoch: [443/500] Acc@1:84.77% Acc@5:99.47%: 100%|██████████| 79/79 [00:04<00:00, 17.96it/s]\n",
            "Train Epoch: [444/500] Loss: 0.3853: 100%|██████████| 390/390 [01:45<00:00,  3.69it/s]\n"
          ]
        },
        {
          "output_type": "stream",
          "name": "stdout",
          "text": [
            "0.006185049782286677\n",
            "tensor(0.3852)\n"
          ]
        },
        {
          "output_type": "stream",
          "name": "stderr",
          "text": [
            "Feature extracting: 100%|██████████| 391/391 [00:15<00:00, 25.58it/s]\n",
            "Test Epoch: [444/500] Acc@1:84.61% Acc@5:99.49%: 100%|██████████| 79/79 [00:04<00:00, 18.16it/s]\n",
            "Train Epoch: [445/500] Loss: 0.3859: 100%|██████████| 390/390 [01:45<00:00,  3.69it/s]\n"
          ]
        },
        {
          "output_type": "stream",
          "name": "stdout",
          "text": [
            "0.005970618409842472\n",
            "tensor(0.3859)\n"
          ]
        },
        {
          "output_type": "stream",
          "name": "stderr",
          "text": [
            "Feature extracting: 100%|██████████| 391/391 [00:15<00:00, 25.59it/s]\n",
            "Test Epoch: [445/500] Acc@1:84.79% Acc@5:99.44%: 100%|██████████| 79/79 [00:04<00:00, 18.39it/s]\n",
            "Train Epoch: [446/500] Loss: 0.3857: 100%|██████████| 390/390 [01:45<00:00,  3.69it/s]\n"
          ]
        },
        {
          "output_type": "stream",
          "name": "stdout",
          "text": [
            "0.005759734421851344\n",
            "tensor(0.3857)\n"
          ]
        },
        {
          "output_type": "stream",
          "name": "stderr",
          "text": [
            "Feature extracting: 100%|██████████| 391/391 [00:15<00:00, 25.66it/s]\n",
            "Test Epoch: [446/500] Acc@1:84.65% Acc@5:99.46%: 100%|██████████| 79/79 [00:04<00:00, 18.03it/s]\n",
            "Train Epoch: [447/500] Loss: 0.3875: 100%|██████████| 390/390 [01:45<00:00,  3.69it/s]\n"
          ]
        },
        {
          "output_type": "stream",
          "name": "stdout",
          "text": [
            "0.005552414808742389\n",
            "tensor(0.3874)\n"
          ]
        },
        {
          "output_type": "stream",
          "name": "stderr",
          "text": [
            "Feature extracting: 100%|██████████| 391/391 [00:15<00:00, 25.53it/s]\n",
            "Test Epoch: [447/500] Acc@1:84.90% Acc@5:99.48%: 100%|██████████| 79/79 [00:04<00:00, 18.34it/s]\n",
            "Train Epoch: [448/500] Loss: 0.3849: 100%|██████████| 390/390 [01:45<00:00,  3.70it/s]\n"
          ]
        },
        {
          "output_type": "stream",
          "name": "stdout",
          "text": [
            "0.0053486762737713365\n",
            "tensor(0.3850)\n"
          ]
        },
        {
          "output_type": "stream",
          "name": "stderr",
          "text": [
            "Feature extracting: 100%|██████████| 391/391 [00:15<00:00, 25.73it/s]\n",
            "Test Epoch: [448/500] Acc@1:84.83% Acc@5:99.48%: 100%|██████████| 79/79 [00:04<00:00, 18.37it/s]\n",
            "Train Epoch: [449/500] Loss: 0.3812: 100%|██████████| 390/390 [01:45<00:00,  3.70it/s]\n"
          ]
        },
        {
          "output_type": "stream",
          "name": "stdout",
          "text": [
            "0.005148535231674832\n",
            "tensor(0.3814)\n"
          ]
        },
        {
          "output_type": "stream",
          "name": "stderr",
          "text": [
            "Feature extracting: 100%|██████████| 391/391 [00:15<00:00, 25.69it/s]\n",
            "Test Epoch: [449/500] Acc@1:84.69% Acc@5:99.51%: 100%|██████████| 79/79 [00:04<00:00, 18.26it/s]\n",
            "Train Epoch: [450/500] Loss: 0.3823: 100%|██████████| 390/390 [01:45<00:00,  3.70it/s]\n"
          ]
        },
        {
          "output_type": "stream",
          "name": "stdout",
          "text": [
            "0.004952007807347986\n",
            "tensor(0.3823)\n"
          ]
        },
        {
          "output_type": "stream",
          "name": "stderr",
          "text": [
            "Feature extracting: 100%|██████████| 391/391 [00:15<00:00, 25.81it/s]\n",
            "Test Epoch: [450/500] Acc@1:84.83% Acc@5:99.49%: 100%|██████████| 79/79 [00:04<00:00, 18.22it/s]\n",
            "Train Epoch: [451/500] Loss: 0.3775: 100%|██████████| 390/390 [01:45<00:00,  3.70it/s]\n"
          ]
        },
        {
          "output_type": "stream",
          "name": "stdout",
          "text": [
            "0.004759109834545135\n",
            "tensor(0.3778)\n"
          ]
        },
        {
          "output_type": "stream",
          "name": "stderr",
          "text": [
            "Feature extracting: 100%|██████████| 391/391 [00:15<00:00, 25.61it/s]\n",
            "Test Epoch: [451/500] Acc@1:84.58% Acc@5:99.50%: 100%|██████████| 79/79 [00:04<00:00, 18.03it/s]\n",
            "Train Epoch: [452/500] Loss: 0.3776: 100%|██████████| 390/390 [01:45<00:00,  3.68it/s]\n"
          ]
        },
        {
          "output_type": "stream",
          "name": "stdout",
          "text": [
            "0.004569856854604258\n",
            "tensor(0.3776)\n"
          ]
        },
        {
          "output_type": "stream",
          "name": "stderr",
          "text": [
            "Feature extracting: 100%|██████████| 391/391 [00:15<00:00, 25.63it/s]\n",
            "Test Epoch: [452/500] Acc@1:84.58% Acc@5:99.52%: 100%|██████████| 79/79 [00:04<00:00, 18.12it/s]\n",
            "Train Epoch: [453/500] Loss: 0.3851: 100%|██████████| 390/390 [01:45<00:00,  3.70it/s]\n"
          ]
        },
        {
          "output_type": "stream",
          "name": "stdout",
          "text": [
            "0.004384264115194735\n",
            "tensor(0.3848)\n"
          ]
        },
        {
          "output_type": "stream",
          "name": "stderr",
          "text": [
            "Feature extracting: 100%|██████████| 391/391 [00:15<00:00, 25.65it/s]\n",
            "Test Epoch: [453/500] Acc@1:84.52% Acc@5:99.51%: 100%|██████████| 79/79 [00:04<00:00, 18.06it/s]\n",
            "Train Epoch: [454/500] Loss: 0.3826: 100%|██████████| 390/390 [01:45<00:00,  3.69it/s]\n"
          ]
        },
        {
          "output_type": "stream",
          "name": "stdout",
          "text": [
            "0.004202346569088995\n",
            "tensor(0.3827)\n"
          ]
        },
        {
          "output_type": "stream",
          "name": "stderr",
          "text": [
            "Feature extracting: 100%|██████████| 391/391 [00:15<00:00, 25.64it/s]\n",
            "Test Epoch: [454/500] Acc@1:84.57% Acc@5:99.52%: 100%|██████████| 79/79 [00:04<00:00, 18.20it/s]\n",
            "Train Epoch: [455/500] Loss: 0.3802: 100%|██████████| 390/390 [01:45<00:00,  3.70it/s]\n"
          ]
        },
        {
          "output_type": "stream",
          "name": "stdout",
          "text": [
            "0.0040241188729577175\n",
            "tensor(0.3804)\n"
          ]
        },
        {
          "output_type": "stream",
          "name": "stderr",
          "text": [
            "Feature extracting: 100%|██████████| 391/391 [00:15<00:00, 25.61it/s]\n",
            "Test Epoch: [455/500] Acc@1:84.64% Acc@5:99.55%: 100%|██████████| 79/79 [00:04<00:00, 18.06it/s]\n",
            "Train Epoch: [456/500] Loss: 0.3796: 100%|██████████| 390/390 [01:45<00:00,  3.69it/s]\n"
          ]
        },
        {
          "output_type": "stream",
          "name": "stdout",
          "text": [
            "0.0038495953861890043\n",
            "tensor(0.3796)\n"
          ]
        },
        {
          "output_type": "stream",
          "name": "stderr",
          "text": [
            "Feature extracting: 100%|██████████| 391/391 [00:15<00:00, 25.65it/s]\n",
            "Test Epoch: [456/500] Acc@1:84.63% Acc@5:99.51%: 100%|██████████| 79/79 [00:04<00:00, 18.20it/s]\n",
            "Train Epoch: [457/500] Loss: 0.3800: 100%|██████████| 390/390 [01:45<00:00,  3.69it/s]\n"
          ]
        },
        {
          "output_type": "stream",
          "name": "stdout",
          "text": [
            "0.00367879016973151\n",
            "tensor(0.3800)\n"
          ]
        },
        {
          "output_type": "stream",
          "name": "stderr",
          "text": [
            "Feature extracting: 100%|██████████| 391/391 [00:15<00:00, 25.65it/s]\n",
            "Test Epoch: [457/500] Acc@1:84.54% Acc@5:99.53%: 100%|██████████| 79/79 [00:04<00:00, 18.14it/s]\n",
            "Train Epoch: [458/500] Loss: 0.3835: 100%|██████████| 390/390 [01:45<00:00,  3.69it/s]\n"
          ]
        },
        {
          "output_type": "stream",
          "name": "stdout",
          "text": [
            "0.003511716984961542\n",
            "tensor(0.3833)\n"
          ]
        },
        {
          "output_type": "stream",
          "name": "stderr",
          "text": [
            "Feature extracting: 100%|██████████| 391/391 [00:15<00:00, 25.65it/s]\n",
            "Test Epoch: [458/500] Acc@1:84.64% Acc@5:99.48%: 100%|██████████| 79/79 [00:04<00:00, 18.34it/s]\n",
            "Train Epoch: [459/500] Loss: 0.3797: 100%|██████████| 390/390 [01:45<00:00,  3.69it/s]\n"
          ]
        },
        {
          "output_type": "stream",
          "name": "stdout",
          "text": [
            "0.0033483892925743374\n",
            "tensor(0.3799)\n"
          ]
        },
        {
          "output_type": "stream",
          "name": "stderr",
          "text": [
            "Feature extracting: 100%|██████████| 391/391 [00:15<00:00, 25.59it/s]\n",
            "Test Epoch: [459/500] Acc@1:84.60% Acc@5:99.52%: 100%|██████████| 79/79 [00:04<00:00, 18.06it/s]\n",
            "Train Epoch: [460/500] Loss: 0.3805: 100%|██████████| 390/390 [01:45<00:00,  3.70it/s]\n"
          ]
        },
        {
          "output_type": "stream",
          "name": "stdout",
          "text": [
            "0.003188820251499624\n",
            "tensor(0.3804)\n"
          ]
        },
        {
          "output_type": "stream",
          "name": "stderr",
          "text": [
            "Feature extracting: 100%|██████████| 391/391 [00:15<00:00, 25.57it/s]\n",
            "Test Epoch: [460/500] Acc@1:84.54% Acc@5:99.45%: 100%|██████████| 79/79 [00:04<00:00, 18.12it/s]\n",
            "Train Epoch: [461/500] Loss: 0.3815: 100%|██████████| 390/390 [01:45<00:00,  3.70it/s]\n"
          ]
        },
        {
          "output_type": "stream",
          "name": "stdout",
          "text": [
            "0.0030330227178413513\n",
            "tensor(0.3814)\n"
          ]
        },
        {
          "output_type": "stream",
          "name": "stderr",
          "text": [
            "Feature extracting: 100%|██████████| 391/391 [00:15<00:00, 25.67it/s]\n",
            "Test Epoch: [461/500] Acc@1:84.58% Acc@5:99.47%: 100%|██████████| 79/79 [00:04<00:00, 18.11it/s]\n",
            "Train Epoch: [462/500] Loss: 0.3797: 100%|██████████| 390/390 [01:45<00:00,  3.70it/s]\n"
          ]
        },
        {
          "output_type": "stream",
          "name": "stdout",
          "text": [
            "0.002881009243841991\n",
            "tensor(0.3798)\n"
          ]
        },
        {
          "output_type": "stream",
          "name": "stderr",
          "text": [
            "Feature extracting: 100%|██████████| 391/391 [00:15<00:00, 25.65it/s]\n",
            "Test Epoch: [462/500] Acc@1:84.64% Acc@5:99.47%: 100%|██████████| 79/79 [00:04<00:00, 18.08it/s]\n",
            "Train Epoch: [463/500] Loss: 0.3808: 100%|██████████| 390/390 [01:45<00:00,  3.69it/s]\n"
          ]
        },
        {
          "output_type": "stream",
          "name": "stdout",
          "text": [
            "0.0027327920768711487\n",
            "tensor(0.3807)\n"
          ]
        },
        {
          "output_type": "stream",
          "name": "stderr",
          "text": [
            "Feature extracting: 100%|██████████| 391/391 [00:15<00:00, 25.62it/s]\n",
            "Test Epoch: [463/500] Acc@1:84.58% Acc@5:99.41%: 100%|██████████| 79/79 [00:04<00:00, 18.27it/s]\n",
            "Train Epoch: [464/500] Loss: 0.3804: 100%|██████████| 390/390 [01:45<00:00,  3.70it/s]\n"
          ]
        },
        {
          "output_type": "stream",
          "name": "stdout",
          "text": [
            "0.002588383158438878\n",
            "tensor(0.3804)\n"
          ]
        },
        {
          "output_type": "stream",
          "name": "stderr",
          "text": [
            "Feature extracting: 100%|██████████| 391/391 [00:15<00:00, 25.65it/s]\n",
            "Test Epoch: [464/500] Acc@1:84.59% Acc@5:99.44%: 100%|██████████| 79/79 [00:04<00:00, 18.20it/s]\n",
            "Train Epoch: [465/500] Loss: 0.3845: 100%|██████████| 390/390 [01:45<00:00,  3.71it/s]\n"
          ]
        },
        {
          "output_type": "stream",
          "name": "stdout",
          "text": [
            "0.002447794123233589\n",
            "tensor(0.3842)\n"
          ]
        },
        {
          "output_type": "stream",
          "name": "stderr",
          "text": [
            "Feature extracting: 100%|██████████| 391/391 [00:15<00:00, 25.69it/s]\n",
            "Test Epoch: [465/500] Acc@1:84.66% Acc@5:99.49%: 100%|██████████| 79/79 [00:04<00:00, 18.14it/s]\n",
            "Train Epoch: [466/500] Loss: 0.3862: 100%|██████████| 390/390 [01:45<00:00,  3.70it/s]\n"
          ]
        },
        {
          "output_type": "stream",
          "name": "stdout",
          "text": [
            "0.0023110362981846036\n",
            "tensor(0.3861)\n"
          ]
        },
        {
          "output_type": "stream",
          "name": "stderr",
          "text": [
            "Feature extracting: 100%|██████████| 391/391 [00:15<00:00, 25.74it/s]\n",
            "Test Epoch: [466/500] Acc@1:84.60% Acc@5:99.50%: 100%|██████████| 79/79 [00:04<00:00, 18.22it/s]\n",
            "Train Epoch: [467/500] Loss: 0.3799: 100%|██████████| 390/390 [01:45<00:00,  3.71it/s]\n"
          ]
        },
        {
          "output_type": "stream",
          "name": "stdout",
          "text": [
            "0.002178120701549651\n",
            "tensor(0.3802)\n"
          ]
        },
        {
          "output_type": "stream",
          "name": "stderr",
          "text": [
            "Feature extracting: 100%|██████████| 391/391 [00:15<00:00, 25.61it/s]\n",
            "Test Epoch: [467/500] Acc@1:84.60% Acc@5:99.51%: 100%|██████████| 79/79 [00:04<00:00, 18.18it/s]\n",
            "Train Epoch: [468/500] Loss: 0.3755: 100%|██████████| 390/390 [01:45<00:00,  3.70it/s]\n"
          ]
        },
        {
          "output_type": "stream",
          "name": "stdout",
          "text": [
            "0.00204905804202708\n",
            "tensor(0.3757)\n"
          ]
        },
        {
          "output_type": "stream",
          "name": "stderr",
          "text": [
            "Feature extracting: 100%|██████████| 391/391 [00:15<00:00, 25.74it/s]\n",
            "Test Epoch: [468/500] Acc@1:84.57% Acc@5:99.52%: 100%|██████████| 79/79 [00:04<00:00, 18.03it/s]\n",
            "Train Epoch: [469/500] Loss: 0.3809: 100%|██████████| 390/390 [01:45<00:00,  3.70it/s]\n"
          ]
        },
        {
          "output_type": "stream",
          "name": "stdout",
          "text": [
            "0.0019238587178931575\n",
            "tensor(0.3807)\n"
          ]
        },
        {
          "output_type": "stream",
          "name": "stderr",
          "text": [
            "Feature extracting: 100%|██████████| 391/391 [00:15<00:00, 25.62it/s]\n",
            "Test Epoch: [469/500] Acc@1:84.69% Acc@5:99.48%: 100%|██████████| 79/79 [00:04<00:00, 18.14it/s]\n",
            "Train Epoch: [470/500] Loss: 0.3755: 100%|██████████| 390/390 [01:45<00:00,  3.70it/s]\n"
          ]
        },
        {
          "output_type": "stream",
          "name": "stdout",
          "text": [
            "0.0018025328161642325\n",
            "tensor(0.3757)\n"
          ]
        },
        {
          "output_type": "stream",
          "name": "stderr",
          "text": [
            "Feature extracting: 100%|██████████| 391/391 [00:15<00:00, 25.71it/s]\n",
            "Test Epoch: [470/500] Acc@1:84.65% Acc@5:99.51%: 100%|██████████| 79/79 [00:04<00:00, 18.17it/s]\n",
            "Train Epoch: [471/500] Loss: 0.3812: 100%|██████████| 390/390 [01:45<00:00,  3.70it/s]\n"
          ]
        },
        {
          "output_type": "stream",
          "name": "stdout",
          "text": [
            "0.0016850901117840915\n",
            "tensor(0.3809)\n"
          ]
        },
        {
          "output_type": "stream",
          "name": "stderr",
          "text": [
            "Feature extracting: 100%|██████████| 391/391 [00:15<00:00, 25.60it/s]\n",
            "Test Epoch: [471/500] Acc@1:84.52% Acc@5:99.48%: 100%|██████████| 79/79 [00:04<00:00, 18.16it/s]\n",
            "Train Epoch: [472/500] Loss: 0.3812: 100%|██████████| 390/390 [01:45<00:00,  3.70it/s]\n"
          ]
        },
        {
          "output_type": "stream",
          "name": "stdout",
          "text": [
            "0.0015715400668364092\n",
            "tensor(0.3812)\n"
          ]
        },
        {
          "output_type": "stream",
          "name": "stderr",
          "text": [
            "Feature extracting: 100%|██████████| 391/391 [00:15<00:00, 25.58it/s]\n",
            "Test Epoch: [472/500] Acc@1:84.65% Acc@5:99.49%: 100%|██████████| 79/79 [00:04<00:00, 18.25it/s]\n",
            "Train Epoch: [473/500] Loss: 0.3789: 100%|██████████| 390/390 [01:45<00:00,  3.69it/s]\n"
          ]
        },
        {
          "output_type": "stream",
          "name": "stdout",
          "text": [
            "0.00146189182978241\n",
            "tensor(0.3790)\n"
          ]
        },
        {
          "output_type": "stream",
          "name": "stderr",
          "text": [
            "Feature extracting: 100%|██████████| 391/391 [00:15<00:00, 25.69it/s]\n",
            "Test Epoch: [473/500] Acc@1:84.67% Acc@5:99.47%: 100%|██████████| 79/79 [00:04<00:00, 17.99it/s]\n",
            "Train Epoch: [474/500] Loss: 0.3780: 100%|██████████| 390/390 [01:45<00:00,  3.70it/s]\n"
          ]
        },
        {
          "output_type": "stream",
          "name": "stdout",
          "text": [
            "0.0013561542347237702\n",
            "tensor(0.3781)\n"
          ]
        },
        {
          "output_type": "stream",
          "name": "stderr",
          "text": [
            "Feature extracting: 100%|██████████| 391/391 [00:15<00:00, 25.58it/s]\n",
            "Test Epoch: [474/500] Acc@1:84.66% Acc@5:99.46%: 100%|██████████| 79/79 [00:04<00:00, 18.04it/s]\n",
            "Train Epoch: [475/500] Loss: 0.3738: 100%|██████████| 390/390 [01:45<00:00,  3.70it/s]\n"
          ]
        },
        {
          "output_type": "stream",
          "name": "stdout",
          "text": [
            "0.001254335800690923\n",
            "tensor(0.3740)\n"
          ]
        },
        {
          "output_type": "stream",
          "name": "stderr",
          "text": [
            "Feature extracting: 100%|██████████| 391/391 [00:15<00:00, 25.73it/s]\n",
            "Test Epoch: [475/500] Acc@1:84.63% Acc@5:99.52%: 100%|██████████| 79/79 [00:04<00:00, 18.18it/s]\n",
            "Train Epoch: [476/500] Loss: 0.3864: 100%|██████████| 390/390 [01:45<00:00,  3.70it/s]\n"
          ]
        },
        {
          "output_type": "stream",
          "name": "stdout",
          "text": [
            "0.001156444730956663\n",
            "tensor(0.3858)\n"
          ]
        },
        {
          "output_type": "stream",
          "name": "stderr",
          "text": [
            "Feature extracting: 100%|██████████| 391/391 [00:15<00:00, 25.64it/s]\n",
            "Test Epoch: [476/500] Acc@1:84.69% Acc@5:99.51%: 100%|██████████| 79/79 [00:04<00:00, 18.07it/s]\n",
            "Train Epoch: [477/500] Loss: 0.3753: 100%|██████████| 390/390 [01:45<00:00,  3.70it/s]\n"
          ]
        },
        {
          "output_type": "stream",
          "name": "stdout",
          "text": [
            "0.001062488912375245\n",
            "tensor(0.3758)\n"
          ]
        },
        {
          "output_type": "stream",
          "name": "stderr",
          "text": [
            "Feature extracting: 100%|██████████| 391/391 [00:15<00:00, 25.63it/s]\n",
            "Test Epoch: [477/500] Acc@1:84.72% Acc@5:99.48%: 100%|██████████| 79/79 [00:04<00:00, 18.14it/s]\n",
            "Train Epoch: [478/500] Loss: 0.3807: 100%|██████████| 390/390 [01:45<00:00,  3.70it/s]\n"
          ]
        },
        {
          "output_type": "stream",
          "name": "stdout",
          "text": [
            "0.0009724759147469455\n",
            "tensor(0.3805)\n"
          ]
        },
        {
          "output_type": "stream",
          "name": "stderr",
          "text": [
            "Feature extracting: 100%|██████████| 391/391 [00:15<00:00, 25.57it/s]\n",
            "Test Epoch: [478/500] Acc@1:84.64% Acc@5:99.53%: 100%|██████████| 79/79 [00:04<00:00, 18.14it/s]\n",
            "Train Epoch: [479/500] Loss: 0.3863: 100%|██████████| 390/390 [01:45<00:00,  3.70it/s]\n"
          ]
        },
        {
          "output_type": "stream",
          "name": "stdout",
          "text": [
            "0.0008864129902082095\n",
            "tensor(0.3861)\n"
          ]
        },
        {
          "output_type": "stream",
          "name": "stderr",
          "text": [
            "Feature extracting: 100%|██████████| 391/391 [00:15<00:00, 25.63it/s]\n",
            "Test Epoch: [479/500] Acc@1:84.73% Acc@5:99.49%: 100%|██████████| 79/79 [00:04<00:00, 18.09it/s]\n",
            "Train Epoch: [480/500] Loss: 0.3813: 100%|██████████| 390/390 [01:45<00:00,  3.70it/s]\n"
          ]
        },
        {
          "output_type": "stream",
          "name": "stdout",
          "text": [
            "0.0008043070726473222\n",
            "tensor(0.3815)\n"
          ]
        },
        {
          "output_type": "stream",
          "name": "stderr",
          "text": [
            "Feature extracting: 100%|██████████| 391/391 [00:15<00:00, 25.63it/s]\n",
            "Test Epoch: [480/500] Acc@1:84.73% Acc@5:99.47%: 100%|██████████| 79/79 [00:04<00:00, 18.07it/s]\n",
            "Train Epoch: [481/500] Loss: 0.3795: 100%|██████████| 390/390 [01:45<00:00,  3.69it/s]\n"
          ]
        },
        {
          "output_type": "stream",
          "name": "stdout",
          "text": [
            "0.0007261647771457838\n",
            "tensor(0.3796)\n"
          ]
        },
        {
          "output_type": "stream",
          "name": "stderr",
          "text": [
            "Feature extracting: 100%|██████████| 391/391 [00:15<00:00, 25.65it/s]\n",
            "Test Epoch: [481/500] Acc@1:84.81% Acc@5:99.54%: 100%|██████████| 79/79 [00:04<00:00, 17.76it/s]\n",
            "Train Epoch: [482/500] Loss: 0.3756: 100%|██████████| 390/390 [01:45<00:00,  3.69it/s]\n"
          ]
        },
        {
          "output_type": "stream",
          "name": "stdout",
          "text": [
            "0.0006519923994453638\n",
            "tensor(0.3758)\n"
          ]
        },
        {
          "output_type": "stream",
          "name": "stderr",
          "text": [
            "Feature extracting: 100%|██████████| 391/391 [00:15<00:00, 25.60it/s]\n",
            "Test Epoch: [482/500] Acc@1:84.66% Acc@5:99.52%: 100%|██████████| 79/79 [00:04<00:00, 18.20it/s]\n",
            "Train Epoch: [483/500] Loss: 0.3768: 100%|██████████| 390/390 [01:45<00:00,  3.70it/s]\n"
          ]
        },
        {
          "output_type": "stream",
          "name": "stdout",
          "text": [
            "0.0005817959154408397\n",
            "tensor(0.3768)\n"
          ]
        },
        {
          "output_type": "stream",
          "name": "stderr",
          "text": [
            "Feature extracting: 100%|██████████| 391/391 [00:15<00:00, 25.64it/s]\n",
            "Test Epoch: [483/500] Acc@1:84.84% Acc@5:99.51%: 100%|██████████| 79/79 [00:04<00:00, 17.87it/s]\n",
            "Train Epoch: [484/500] Loss: 0.3785: 100%|██████████| 390/390 [01:45<00:00,  3.70it/s]\n"
          ]
        },
        {
          "output_type": "stream",
          "name": "stdout",
          "text": [
            "0.0005155809806985362\n",
            "tensor(0.3784)\n"
          ]
        },
        {
          "output_type": "stream",
          "name": "stderr",
          "text": [
            "Feature extracting: 100%|██████████| 391/391 [00:15<00:00, 25.70it/s]\n",
            "Test Epoch: [484/500] Acc@1:84.71% Acc@5:99.51%: 100%|██████████| 79/79 [00:04<00:00, 18.26it/s]\n",
            "Train Epoch: [485/500] Loss: 0.3826: 100%|██████████| 390/390 [01:45<00:00,  3.70it/s]\n"
          ]
        },
        {
          "output_type": "stream",
          "name": "stdout",
          "text": [
            "0.00045335293000070044\n",
            "tensor(0.3824)\n"
          ]
        },
        {
          "output_type": "stream",
          "name": "stderr",
          "text": [
            "Feature extracting: 100%|██████████| 391/391 [00:15<00:00, 25.59it/s]\n",
            "Test Epoch: [485/500] Acc@1:84.75% Acc@5:99.51%: 100%|██████████| 79/79 [00:04<00:00, 18.31it/s]\n",
            "Train Epoch: [486/500] Loss: 0.3736: 100%|██████████| 390/390 [01:45<00:00,  3.69it/s]\n"
          ]
        },
        {
          "output_type": "stream",
          "name": "stdout",
          "text": [
            "0.00039511677691565\n",
            "tensor(0.3741)\n"
          ]
        },
        {
          "output_type": "stream",
          "name": "stderr",
          "text": [
            "Feature extracting: 100%|██████████| 391/391 [00:15<00:00, 25.66it/s]\n",
            "Test Epoch: [486/500] Acc@1:84.75% Acc@5:99.52%: 100%|██████████| 79/79 [00:04<00:00, 18.13it/s]\n",
            "Train Epoch: [487/500] Loss: 0.3793: 100%|██████████| 390/390 [01:45<00:00,  3.70it/s]\n"
          ]
        },
        {
          "output_type": "stream",
          "name": "stdout",
          "text": [
            "0.0003408772133938556\n",
            "tensor(0.3790)\n"
          ]
        },
        {
          "output_type": "stream",
          "name": "stderr",
          "text": [
            "Feature extracting: 100%|██████████| 391/391 [00:15<00:00, 25.51it/s]\n",
            "Test Epoch: [487/500] Acc@1:84.73% Acc@5:99.52%: 100%|██████████| 79/79 [00:04<00:00, 17.89it/s]\n",
            "Train Epoch: [488/500] Loss: 0.3782: 100%|██████████| 390/390 [01:45<00:00,  3.69it/s]\n"
          ]
        },
        {
          "output_type": "stream",
          "name": "stdout",
          "text": [
            "0.0002906386093899526\n",
            "tensor(0.3783)\n"
          ]
        },
        {
          "output_type": "stream",
          "name": "stderr",
          "text": [
            "Feature extracting: 100%|██████████| 391/391 [00:15<00:00, 25.77it/s]\n",
            "Test Epoch: [488/500] Acc@1:84.67% Acc@5:99.51%: 100%|██████████| 79/79 [00:04<00:00, 18.00it/s]\n",
            "Train Epoch: [489/500] Loss: 0.3748: 100%|██████████| 390/390 [01:45<00:00,  3.70it/s]\n"
          ]
        },
        {
          "output_type": "stream",
          "name": "stdout",
          "text": [
            "0.00024440501251060415\n",
            "tensor(0.3750)\n"
          ]
        },
        {
          "output_type": "stream",
          "name": "stderr",
          "text": [
            "Feature extracting: 100%|██████████| 391/391 [00:15<00:00, 25.66it/s]\n",
            "Test Epoch: [489/500] Acc@1:84.72% Acc@5:99.54%: 100%|██████████| 79/79 [00:04<00:00, 18.00it/s]\n",
            "Train Epoch: [490/500] Loss: 0.3844: 100%|██████████| 390/390 [01:45<00:00,  3.70it/s]\n"
          ]
        },
        {
          "output_type": "stream",
          "name": "stdout",
          "text": [
            "0.00020218014768845426\n",
            "tensor(0.3839)\n"
          ]
        },
        {
          "output_type": "stream",
          "name": "stderr",
          "text": [
            "Feature extracting: 100%|██████████| 391/391 [00:15<00:00, 25.65it/s]\n",
            "Test Epoch: [490/500] Acc@1:84.68% Acc@5:99.49%: 100%|██████████| 79/79 [00:04<00:00, 18.20it/s]\n",
            "Train Epoch: [491/500] Loss: 0.3729: 100%|██████████| 390/390 [01:45<00:00,  3.69it/s]\n"
          ]
        },
        {
          "output_type": "stream",
          "name": "stdout",
          "text": [
            "0.00016396741688197634\n",
            "tensor(0.3735)\n"
          ]
        },
        {
          "output_type": "stream",
          "name": "stderr",
          "text": [
            "Feature extracting: 100%|██████████| 391/391 [00:15<00:00, 25.61it/s]\n",
            "Test Epoch: [491/500] Acc@1:84.82% Acc@5:99.55%: 100%|██████████| 79/79 [00:04<00:00, 17.67it/s]\n",
            "Train Epoch: [492/500] Loss: 0.3822: 100%|██████████| 390/390 [01:45<00:00,  3.69it/s]\n"
          ]
        },
        {
          "output_type": "stream",
          "name": "stdout",
          "text": [
            "0.00012976989880140612\n",
            "tensor(0.3818)\n"
          ]
        },
        {
          "output_type": "stream",
          "name": "stderr",
          "text": [
            "Feature extracting: 100%|██████████| 391/391 [00:15<00:00, 25.54it/s]\n",
            "Test Epoch: [492/500] Acc@1:84.73% Acc@5:99.48%: 100%|██████████| 79/79 [00:04<00:00, 17.65it/s]\n",
            "Train Epoch: [493/500] Loss: 0.3787: 100%|██████████| 390/390 [01:45<00:00,  3.69it/s]\n"
          ]
        },
        {
          "output_type": "stream",
          "name": "stdout",
          "text": [
            "9.959034866069838e-05\n",
            "tensor(0.3789)\n"
          ]
        },
        {
          "output_type": "stream",
          "name": "stderr",
          "text": [
            "Feature extracting: 100%|██████████| 391/391 [00:15<00:00, 25.63it/s]\n",
            "Test Epoch: [493/500] Acc@1:84.51% Acc@5:99.49%: 100%|██████████| 79/79 [00:04<00:00, 18.06it/s]\n",
            "Train Epoch: [494/500] Loss: 0.3764: 100%|██████████| 390/390 [01:45<00:00,  3.70it/s]\n"
          ]
        },
        {
          "output_type": "stream",
          "name": "stdout",
          "text": [
            "7.343119795553439e-05\n",
            "tensor(0.3765)\n"
          ]
        },
        {
          "output_type": "stream",
          "name": "stderr",
          "text": [
            "Feature extracting: 100%|██████████| 391/391 [00:15<00:00, 25.73it/s]\n",
            "Test Epoch: [494/500] Acc@1:84.65% Acc@5:99.50%: 100%|██████████| 79/79 [00:04<00:00, 18.18it/s]\n",
            "Train Epoch: [495/500] Loss: 0.3775: 100%|██████████| 390/390 [01:45<00:00,  3.69it/s]\n"
          ]
        },
        {
          "output_type": "stream",
          "name": "stdout",
          "text": [
            "5.129455426741948e-05\n",
            "tensor(0.3775)\n"
          ]
        },
        {
          "output_type": "stream",
          "name": "stderr",
          "text": [
            "Feature extracting: 100%|██████████| 391/391 [00:15<00:00, 25.70it/s]\n",
            "Test Epoch: [495/500] Acc@1:84.70% Acc@5:99.50%: 100%|██████████| 79/79 [00:04<00:00, 18.27it/s]\n",
            "Train Epoch: [496/500] Loss: 0.3768: 100%|██████████| 390/390 [01:45<00:00,  3.69it/s]\n"
          ]
        },
        {
          "output_type": "stream",
          "name": "stdout",
          "text": [
            "3.3182201093914946e-05\n",
            "tensor(0.3768)\n"
          ]
        },
        {
          "output_type": "stream",
          "name": "stderr",
          "text": [
            "Feature extracting: 100%|██████████| 391/391 [00:15<00:00, 25.59it/s]\n",
            "Test Epoch: [496/500] Acc@1:84.70% Acc@5:99.52%: 100%|██████████| 79/79 [00:04<00:00, 18.12it/s]\n",
            "Train Epoch: [497/500] Loss: 0.3720: 100%|██████████| 390/390 [01:45<00:00,  3.70it/s]\n"
          ]
        },
        {
          "output_type": "stream",
          "name": "stdout",
          "text": [
            "1.9095597704882356e-05\n",
            "tensor(0.3722)\n"
          ]
        },
        {
          "output_type": "stream",
          "name": "stderr",
          "text": [
            "Feature extracting: 100%|██████████| 391/391 [00:15<00:00, 25.49it/s]\n",
            "Test Epoch: [497/500] Acc@1:84.77% Acc@5:99.51%: 100%|██████████| 79/79 [00:04<00:00, 18.02it/s]\n",
            "Train Epoch: [498/500] Loss: 0.3779: 100%|██████████| 390/390 [01:45<00:00,  3.70it/s]\n"
          ]
        },
        {
          "output_type": "stream",
          "name": "stdout",
          "text": [
            "9.035879024984172e-06\n",
            "tensor(0.3776)\n"
          ]
        },
        {
          "output_type": "stream",
          "name": "stderr",
          "text": [
            "Feature extracting: 100%|██████████| 391/391 [00:15<00:00, 25.57it/s]\n",
            "Test Epoch: [498/500] Acc@1:84.53% Acc@5:99.50%: 100%|██████████| 79/79 [00:04<00:00, 17.99it/s]\n",
            "Train Epoch: [499/500] Loss: 0.3747: 100%|██████████| 390/390 [01:45<00:00,  3.69it/s]\n"
          ]
        },
        {
          "output_type": "stream",
          "name": "stdout",
          "text": [
            "3.003855542185696e-06\n",
            "tensor(0.3749)\n"
          ]
        },
        {
          "output_type": "stream",
          "name": "stderr",
          "text": [
            "Feature extracting: 100%|██████████| 391/391 [00:15<00:00, 25.68it/s]\n",
            "Test Epoch: [499/500] Acc@1:84.65% Acc@5:99.47%: 100%|██████████| 79/79 [00:04<00:00, 18.11it/s]\n",
            "Train Epoch: [500/500] Loss: 0.3782: 100%|██████████| 390/390 [01:45<00:00,  3.69it/s]\n"
          ]
        },
        {
          "output_type": "stream",
          "name": "stdout",
          "text": [
            "1.0000132425023402e-06\n",
            "tensor(0.3781)\n"
          ]
        },
        {
          "output_type": "stream",
          "name": "stderr",
          "text": [
            "Feature extracting: 100%|██████████| 391/391 [00:15<00:00, 25.61it/s]\n",
            "Test Epoch: [500/500] Acc@1:84.71% Acc@5:99.49%: 100%|██████████| 79/79 [00:04<00:00, 18.16it/s]"
          ]
        },
        {
          "output_type": "stream",
          "name": "stdout",
          "text": [
            "lr corresponding to minloss=1.9095597963314503e-05\n",
            "suggested maxlr=7.160849236242939e-06\n",
            "suggested minlr=7.160849122556101e-07\n"
          ]
        },
        {
          "output_type": "stream",
          "name": "stderr",
          "text": [
            "\n"
          ]
        }
      ],
      "source": [
        "# Train SimCLR\n",
        "import numpy as np\n",
        "   \n",
        "# Feature dim for latent vector, Temperature used in softmax, Top k most similar images used to predict the label\n",
        "feature_dim, temp, k = 128, [0.1], 200\n",
        "# Number of images in each mini-batch, Number of sweeps over the dataset to train\n",
        "batch_size=128\n",
        "#Coarse setting\n",
        "#Fine setting\n",
        "lr_start = 1.0e-6\n",
        "lr_end =1000000.0\n",
        "max_lrvalue=0.1 #Rule of Thumb is peaklr (from lambdalr test)*3/8\n",
        "temp0 = 0.1 #contrastive loss temperature setting\n",
        "schedulertype='onecyclelr' #'lambdalr' for testing range of training or 'onecyclelr' for actual training\n",
        "if schedulertype=='lambdalr':\n",
        "    epochs=10\n",
        "    #epochs=10 #coarserg recommend 10 epochs, finerg recommend 100 epochs \n",
        "elif schedulertype=='onecyclelr':\n",
        "    epochs=500\n",
        "    #epochs=3\n",
        "else:\n",
        "    print('choose valid option for scheduler')\n",
        "smoothfactor=0.95 #Smooth Factor for smoothing contrastive loss    \n",
        "IterationStr='It1'\n",
        "loadmodel=0 #loadmodel=0 From scratch or loadmodel=1 Continue from presaved model \n",
        "pathtosave='/content/drive/MyDrive/CS5260Project/results/Simclr_resnet50_RAdamv2'+schedulertype+'/'+IterationStr+'/'\n",
        "save_name_pre = '{}_{}_{}_{}_{}'.format(feature_dim, temp0, k, batch_size, epochs)\n",
        "csvfilename=pathtosave+'{}_statistics.csv'.format(save_name_pre)\n",
        "modelfilename=pathtosave+'{}_model.pth'.format(save_name_pre)\n",
        "\n",
        "# data prepare\n",
        "train_data = CIFAR10Pair(root='data', train=True, transform=train_transform, download=True)\n",
        "train_loader = DataLoader(train_data, batch_size=batch_size, shuffle=True, num_workers=16, pin_memory=True,\n",
        "                          drop_last=True)\n",
        "memory_data = CIFAR10Pair(root='data', train=True, transform=test_transform, download=True)\n",
        "memory_loader = DataLoader(memory_data, batch_size=batch_size, shuffle=False, num_workers=16, pin_memory=True)\n",
        "test_data = CIFAR10Pair(root='data', train=False, transform=test_transform, download=True)\n",
        "test_loader = DataLoader(test_data, batch_size=batch_size, shuffle=False, num_workers=16, pin_memory=True)\n",
        "\n",
        "import torch\n",
        "torch.cuda.is_available()\n",
        "torch.cuda.set_device(0)\n",
        "\n",
        "# model setup and optimizer config\n",
        "model = Model(feature_dim).cuda()\n",
        "\n",
        "flops, params = profile(model, inputs=(torch.randn(1, 3, 32, 32).cuda(),))\n",
        "flops, params = clever_format([flops, params])\n",
        "print('# Model Params: {} FLOPs: {}'.format(params, flops))\n",
        "\n",
        "optimizer = optim.RAdam(model.parameters(), lr=1.0)\n",
        "#optimizer=optim.Adam(model.parameters(),lr=1.0)\n",
        "\n",
        "#exponentially increase learning rate from low to high\n",
        "def lrs(batch):\n",
        "   low = math.log2(lr_start)\n",
        "   high = math.log2(lr_end)\n",
        "   return 2**(low+(high-low)*batch/len(train_loader)/epochs)\n",
        "   \n",
        "if schedulertype=='lambdalr':\n",
        "   scheduler = torch.optim.lr_scheduler.LambdaLR(optimizer, lrs)\n",
        "elif schedulertype=='onecyclelr':\n",
        "   div_factorvalue=10#round(max_lrvalue/0.0006) \n",
        "   scheduler = torch.optim.lr_scheduler.OneCycleLR(optimizer,div_factor=div_factorvalue,max_lr=max_lrvalue,total_steps=len(train_loader)*epochs,epochs=epochs)\n",
        "else:\n",
        "   print('choose valid option for scheduler')\n",
        "\n",
        "if loadmodel==1:\n",
        "   checkpoint=torch.load(modelfilename)\n",
        "   model.load_state_dict(checkpoint['model_state_dict'],strict=False)\n",
        "   model.to(device)\n",
        "   optimizer.load_state_dict(checkpoint['optimizer_state_dict'])\n",
        "   scheduler.load_state_dict(checkpoint['scheduler_state_dict'])\n",
        "   startepoch=checkpoint['epoch']+1\n",
        "   best_acc=checkpoint['best_acc']\n",
        "\n",
        "   print(startepoch)\n",
        "else:     \n",
        "   startepoch=1\n",
        "   best_acc=0\n",
        "   \n",
        "\n",
        "c = len(memory_data.classes)\n",
        "\n",
        "if not os.path.exists(pathtosave):\n",
        "   os.makedirs(pathtosave)\n",
        "\n",
        "train_loss_epoch=torch.zeros(epochs)\n",
        "smooth_loss_epoch=torch.zeros(epochs)\n",
        "test_acc_1_epoch=torch.zeros(epochs)\n",
        "test_acc_5_epoch=torch.zeros(epochs)\n",
        "lr_epoch=torch.zeros(epochs)\n",
        "\n",
        "if loadmodel==1:\n",
        "\n",
        "   df=pd.read_csv(csvfilename)\n",
        "   temp=pd.to_numeric(df.iloc[0:startepoch-1,1]).apply(np.array)\n",
        "   train_loss_epoch[0:temp.size]=torch.tensor(temp)\n",
        "   train_loss_list=temp.tolist()\n",
        "   temp=pd.to_numeric(df.iloc[0:startepoch-1,2]).apply(np.array)\n",
        "   test_acc_1_epoch[0:temp.size]=torch.tensor(temp)\n",
        "   test_acc_1_list=temp.tolist()\n",
        "   temp=pd.to_numeric(df.iloc[0:startepoch-1,3]).apply(np.array)\n",
        "   test_acc_5_epoch[0:temp.size]=torch.tensor(temp)\n",
        "   test_acc_5_list=temp.tolist()\n",
        "   temp=pd.to_numeric(df.iloc[0:startepoch-1,4]).apply(np.array)\n",
        "   smooth_loss_epoch[0:temp.size]=torch.tensor(temp)\n",
        "   smooth_loss_list=temp.tolist()\n",
        "   temp=pd.to_numeric(df.iloc[0:startepoch-1,5]).apply(np.array)\n",
        "   lr_epoch[0:temp.size]=torch.tensor(temp)\n",
        "   lr_list=temp.tolist()\n",
        "   results = {'train_loss': train_loss_list, 'test_acc@1': test_acc_1_list, 'test_acc@5': test_acc_5_list, 'smooth_loss': smooth_loss_list, 'lr_epoch': lr_list}\n",
        "\n",
        "else:\n",
        "   results = {'train_loss': [], 'test_acc@1': [], 'test_acc@5': [], 'smooth_loss': [], 'lr_epoch': []}\n",
        "\n",
        "\n",
        "for epoch in range(startepoch, epochs + 1):\n",
        "    train_loss = train(model, train_loader, optimizer, scheduler, temp0)\n",
        "    train_loss_epoch[epoch-1]=train_loss\n",
        "    if epoch>1:\n",
        "       smooth_loss=float(train_loss_epoch[epoch-1]*smoothfactor+smooth_loss_epoch[epoch-2]*(1.0-smoothfactor))\n",
        "    else:\n",
        "       smooth_loss=train_loss\n",
        "    smooth_loss_epoch[epoch-1]=torch.tensor(smooth_loss)\n",
        "\n",
        "\n",
        "    print(optimizer.param_groups[0]['lr'])\n",
        "    print(smooth_loss_epoch[epoch-1])\n",
        "    lr_epoch[epoch-1]=float(optimizer.param_groups[0]['lr'])\n",
        "   \n",
        "        \n",
        "    results['train_loss'].append(train_loss)\n",
        "    test_acc_1, test_acc_5 = test(model, memory_loader, test_loader, temp0)\n",
        "    results['test_acc@1'].append(test_acc_1)\n",
        "    results['test_acc@5'].append(test_acc_5)\n",
        "    results['smooth_loss'].append(smooth_loss)\n",
        "    results['lr_epoch'].append(optimizer.param_groups[0]['lr'])\n",
        "    # save statistics\n",
        "    data_frame = pd.DataFrame(data=results, index=range(1, epoch + 1))\n",
        "    data_frame.to_csv(csvfilename, index_label='epoch')\n",
        "    if test_acc_1 > best_acc:\n",
        "        best_acc = test_acc_1\n",
        "        torch.save({'epoch':epoch,'model_state_dict':model.state_dict(),'optimizer_state_dict':optimizer.state_dict(),'scheduler_state_dict':scheduler.state_dict(),'best_acc':best_acc}, modelfilename)\n",
        "    test_acc_1_epoch[epoch-1]=test_acc_1\n",
        "    test_acc_5_epoch[epoch-1]=test_acc_5\n",
        "    \n",
        "minloss_loc=torch.argmin(smooth_loss_epoch)\n",
        "minloss_loclr=lr_epoch[minloss_loc]\n",
        "print(f'lr corresponding to minloss={minloss_loclr}');\n",
        "print(f'suggested maxlr={minloss_loclr*3/8}');\n",
        "print(f'suggested minlr={minloss_loclr*3/80}');"
      ]
    },
    {
      "cell_type": "code",
      "execution_count": null,
      "metadata": {
        "id": "Kc2fmSbpO0Po",
        "colab": {
          "base_uri": "https://localhost:8080/",
          "height": 561
        },
        "outputId": "e593c5f0-6f9f-4f5e-9c57-5befdae3a08b"
      },
      "outputs": [
        {
          "output_type": "display_data",
          "data": {
            "text/plain": [
              "<Figure size 432x288 with 1 Axes>"
            ],
            "image/png": "[encoded data removed]"
          },
          "metadata": {
            "needs_background": "light"
          }
        },
        {
          "output_type": "display_data",
          "data": {
            "text/plain": [
              "<Figure size 432x288 with 1 Axes>"
            ],
            "image/png": "[encoded data removed]"
          },
          "metadata": {
            "needs_background": "light"
          }
        }
      ],
      "source": [
        "import matplotlib.pyplot as plt\n",
        "import pandas as pd\n",
        "\n",
        "df=pd.read_csv(csvfilename)\n",
        "\n",
        "f1=plt.figure()\n",
        "plt.semilogx(df['lr_epoch'],df['smooth_loss'])  \n",
        "plt.xlabel('learning rate')\n",
        "plt.ylabel('smoothed trg epoch loss')\n",
        "plt.show()\n",
        "\n",
        "f2=plt.figure()\n",
        "plt.plot(df['test_acc@1'])\n",
        "plt.title('Sim CLR with RAdam')\n",
        "plt.xlabel('epoch number')\n",
        "plt.ylabel('epoch Test Accuracy')\n",
        "plt.show()"
      ]
    },
    {
      "cell_type": "code",
      "source": [
        ""
      ],
      "metadata": {
        "id": "J_CRcWgLyAWd"
      },
      "execution_count": null,
      "outputs": []
    }
  ],
  "metadata": {
    "accelerator": "GPU",
    "colab": {
      "background_execution": "on",
      "collapsed_sections": [],
      "name": "simclr_resnet50_500_RAdamonecycle.ipynb",
      "provenance": [],
      "machine_shape": "hm"
    },
    "kernelspec": {
      "display_name": "Python 3 (ipykernel)",
      "language": "python",
      "name": "python3"
    },
    "language_info": {
      "codemirror_mode": {
        "name": "ipython",
        "version": 3
      },
      "file_extension": ".py",
      "mimetype": "text/x-python",
      "name": "python",
      "nbconvert_exporter": "python",
      "pygments_lexer": "ipython3",
      "version": "3.7.10"
    }
  },
  "nbformat": 4,
  "nbformat_minor": 0
}