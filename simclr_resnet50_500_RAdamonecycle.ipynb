{
 "cells": [
  {
   "cell_type": "markdown",
   "metadata": {
    "id": "HptO0CSwNjie"
   },
   "source": [
    "# Contrastive Learning on CIFAR10 using ConvNext Backbone"
   ]
  },
  {
   "cell_type": "markdown",
   "metadata": {
    "id": "vXC8nEmxOMN6"
   },
   "source": [
    "First, we import the dataset and define transformation operations on it. We apply random transformation on images (crop + flip + colorjitter + grayscale)."
   ]
  },
  {
   "cell_type": "code",
   "execution_count": 1,
   "metadata": {
    "id": "c61bUj3dVpYD"
   },
   "outputs": [],
   "source": [
    "from PIL import Image\n",
    "from torchvision import transforms\n",
    "from torchvision.datasets import CIFAR10\n",
    "import torch\n",
    "\n",
    "class CIFAR10Pair(CIFAR10):\n",
    "    \"\"\"CIFAR10 Dataset.\n",
    "    \"\"\"\n",
    "\n",
    "    def __getitem__(self, index):\n",
    "        img, target = self.data[index], self.targets[index]\n",
    "        img = Image.fromarray(img)\n",
    "\n",
    "        if self.transform is not None:\n",
    "            pos_1 = self.transform(img)\n",
    "            pos_2 = self.transform(img)\n",
    "\n",
    "        if self.target_transform is not None:\n",
    "            target = self.target_transform(target)\n",
    "\n",
    "        return pos_1, pos_2, target\n",
    "\n",
    "\n",
    "train_transform = transforms.Compose([\n",
    "    transforms.RandomResizedCrop(32),\n",
    "    transforms.RandomHorizontalFlip(p=0.5),\n",
    "    transforms.RandomApply([transforms.ColorJitter(0.4, 0.4, 0.4, 0.1)], p=0.8),\n",
    "    transforms.RandomGrayscale(p=0.2),\n",
    "    transforms.ToTensor(),\n",
    "    transforms.Normalize([0.4914, 0.4822, 0.4465], [0.2023, 0.1994, 0.2010])])\n",
    "\n",
    "test_transform = transforms.Compose([\n",
    "    transforms.ToTensor(),\n",
    "    transforms.Normalize([0.4914, 0.4822, 0.4465], [0.2023, 0.1994, 0.2010])])"
   ]
  },
  {
   "cell_type": "markdown",
   "metadata": {
    "id": "ct01fnfSNHuT"
   },
   "source": [
    "We use commonly used ResNet-50 as ConvNet encoders for simplicity in the original paper. The task 1 is to set encoder and projection head. The parameters are adapted from the original paper."
   ]
  },
  {
   "cell_type": "code",
   "execution_count": 2,
   "metadata": {
    "id": "ZbjYxzrgG6rO"
   },
   "outputs": [],
   "source": [
    "import torch\n",
    "import torch.nn as nn\n",
    "import torch.nn.functional as F\n",
    "from torchvision.models.resnet import resnet50\n",
    "\n",
    "\n",
    "class Model(nn.Module):\n",
    "    def __init__(self, feature_dim=128):\n",
    "        super(Model, self).__init__()\n",
    "\n",
    "        self.f = []\n",
    "        for name, module in resnet50().named_children():\n",
    "            if name == 'conv1':\n",
    "                module = nn.Conv2d(3, 64, kernel_size=3, stride=1, padding=1, bias=False)\n",
    "            if not isinstance(module, nn.Linear) and not isinstance(module, nn.MaxPool2d):\n",
    "                self.f.append(module)\n",
    "        # ----------------------------------------------------------------------\n",
    "        # START OF YOUR CODE\n",
    "        # ----------------------------------------------------------------------\n",
    "        # Task 1\n",
    "        # set a neural network base encoder self.f\n",
    "        # hint: nn.Sequential\n",
    "        # Reference : https://github.com/leftthomas/SimCLR/blob/master/model.py\n",
    "        self.f = nn.Sequential(*self.f)\n",
    "\n",
    "\n",
    "        # set a small neural network projection head\n",
    "        # Dense-> Relu-> Dense (2-layer MLP to project the representation to a 128-dimensional latent space and \n",
    "        # the representation is 2048-dimensional here)\n",
    "        # Reference : https://github.com/leftthomas/SimCLR/blob/master/model.py\n",
    "        self.g = nn.Sequential(nn.Linear(2048, 512, bias=False), nn.BatchNorm1d(512),\n",
    "                               nn.ReLU(inplace=True), nn.Linear(512, feature_dim, bias=True))\n",
    "     \n",
    "\n",
    "        \n",
    "        # ----------------------------------------------------------------------\n",
    "        # END OF YOUR CODE\n",
    "        # ----------------------------------------------------------------------\n",
    "    def forward(self, x):\n",
    "        x = self.f(x)\n",
    "        feature = torch.flatten(x, start_dim=1)\n",
    "        out = self.g(feature)\n",
    "        return F.normalize(feature, dim=-1), F.normalize(out, dim=-1)\n"
   ]
  },
  {
   "cell_type": "markdown",
   "metadata": {
    "id": "PPM5hsulQ74i"
   },
   "source": [
    "We train encoder network and projection head to maximize agreement using a contrastive loss. The default epoch is 1 for time efficiency while it could takes about 10 minutes to run for one epoch in google colab. The task 2 is to calculate the contrastive loss.\n",
    "To evaluate the influence of temperature value for contrastive loss, we run this training process 3 times with different temperature value (0.1,0.5 and 1.0)."
   ]
  },
  {
   "cell_type": "code",
   "execution_count": 3,
   "metadata": {
    "colab": {
     "base_uri": "https://localhost:8080/"
    },
    "id": "w7FrLDw2HAWN",
    "outputId": "6edde720-2674-440c-9870-344b32321ef1"
   },
   "outputs": [
    {
     "name": "stdout",
     "output_type": "stream",
     "text": [
      "Requirement already satisfied: thop in /home/umaiyal/miniconda3/envs/deeplearn_course/lib/python3.7/site-packages (0.0.31.post2005241907)\r\n",
      "Requirement already satisfied: torch>=1.0.0 in /home/umaiyal/miniconda3/envs/deeplearn_course/lib/python3.7/site-packages (from thop) (1.10.1+cu111)\r\n",
      "Requirement already satisfied: typing-extensions in /home/umaiyal/miniconda3/envs/deeplearn_course/lib/python3.7/site-packages (from torch>=1.0.0->thop) (4.2.0)\r\n"
     ]
    }
   ],
   "source": [
    "import argparse\n",
    "import os\n",
    "\n",
    "import numpy as np\n",
    "import pandas as pd\n",
    "import torch\n",
    "import torch.optim as optim\n",
    "!pip install thop\n",
    "from thop import profile, clever_format\n",
    "from torch.utils.data import DataLoader\n",
    "from tqdm import tqdm\n",
    "\n",
    "\n",
    "import math\n",
    "\n",
    "def contrastive_loss(out_1, out_2, temperature):\n",
    "\n",
    "    # ------------------------------------------------------------------\n",
    "    # START OF YOUR CODE\n",
    "    # ------------------------------------------------------------------\n",
    "    # Task2: implement contrastive loss function and return loss variable\n",
    "    # hint: loss formula could refer to the slides\n",
    "    # input: out_1, out_2，temperature\n",
    "    # output: loss variable\n",
    "\n",
    "    out = torch.cat([out_1, out_2], dim=0)\n",
    "    # [2*B, 2*B]\n",
    "    sim_matrix = torch.exp(torch.mm(out, out.t().contiguous()) / temperature)\n",
    "    mask = (torch.ones_like(sim_matrix) - torch.eye(2 * batch_size, device=sim_matrix.device)).bool()\n",
    "    # [2*B, 2*B-1]\n",
    "    sim_matrix = sim_matrix.masked_select(mask).view(2 * batch_size, -1)\n",
    "\n",
    "    # compute loss\n",
    "    pos_sim = torch.exp(torch.sum(out_1 * out_2, dim=-1) / temperature)\n",
    "    # [2*B]\n",
    "    pos_sim = torch.cat([pos_sim, pos_sim], dim=0)\n",
    "    loss = (- torch.log(pos_sim / sim_matrix.sum(dim=-1))).mean() \n",
    "\n",
    "    # ------------------------------------------------------------------\n",
    "    # END OF YOUR CODE\n",
    "    # ------------------------------------------------------------------\n",
    "\n",
    "    return loss\n",
    "\n",
    "# train for one epoch to learn unique features\n",
    "def train(net, data_loader, train_optimizer, train_scheduler, temperature):\n",
    "    net.train()\n",
    "    total_loss, total_num, train_bar = 0.0, 0, tqdm(data_loader)\n",
    "    for pos_1, pos_2, target in train_bar:\n",
    "        pos_1, pos_2 = pos_1.cuda(non_blocking=True), pos_2.cuda(non_blocking=True)\n",
    "        feature_1, out_1 = net(pos_1)\n",
    "        feature_2, out_2 = net(pos_2)\n",
    "\n",
    "        loss = contrastive_loss(out_1, out_2, temperature)\n",
    "\n",
    "        train_optimizer.zero_grad()\n",
    "        loss.backward()\n",
    "        train_optimizer.step()\n",
    "        train_scheduler.step()\n",
    "\n",
    "        total_num += batch_size\n",
    "        total_loss += loss.item() * batch_size\n",
    "        train_bar.set_description('Train Epoch: [{}/{}] Loss: {:.4f}'.format(epoch, epochs, total_loss / total_num))\n",
    "\n",
    "    return total_loss / total_num\n",
    "\n",
    "\n",
    "# test for one epoch, use weighted knn to find the most similar images' label to assign the test image\n",
    "def test(net, memory_data_loader, test_data_loader, temperature):\n",
    "    net.eval()\n",
    "    total_top1, total_top5, total_num, feature_bank = 0.0, 0.0, 0, []\n",
    "    with torch.no_grad():\n",
    "        # generate feature bank\n",
    "        for data, _, target in tqdm(memory_data_loader, desc='Feature extracting'):\n",
    "            feature, out = net(data.cuda(non_blocking=True))\n",
    "            feature_bank.append(feature)\n",
    "        # [D, N]\n",
    "        feature_bank = torch.cat(feature_bank, dim=0).t().contiguous()\n",
    "        # [N]\n",
    "        feature_labels = torch.tensor(memory_data_loader.dataset.targets, device=feature_bank.device)\n",
    "        # loop test data to predict the label by weighted knn search\n",
    "        test_bar = tqdm(test_data_loader)\n",
    "        for data, _, target in test_bar:\n",
    "            data, target = data.cuda(non_blocking=True), target.cuda(non_blocking=True)\n",
    "            feature, out = net(data)\n",
    "\n",
    "            total_num += data.size(0)\n",
    "            # compute cos similarity between each feature vector and feature bank ---> [B, N]\n",
    "            sim_matrix = torch.mm(feature, feature_bank)\n",
    "            # [B, K]\n",
    "            sim_weight, sim_indices = sim_matrix.topk(k=k, dim=-1)\n",
    "            # [B, K]\n",
    "            sim_labels = torch.gather(feature_labels.expand(data.size(0), -1), dim=-1, index=sim_indices)\n",
    "            sim_weight = (sim_weight / temperature).exp()\n",
    "\n",
    "            # counts for each class\n",
    "            one_hot_label = torch.zeros(data.size(0) * k, c, device=sim_labels.device)\n",
    "            # [B*K, C]\n",
    "            one_hot_label = one_hot_label.scatter(dim=-1, index=sim_labels.view(-1, 1), value=1.0)\n",
    "            # weighted score ---> [B, C]\n",
    "            pred_scores = torch.sum(one_hot_label.view(data.size(0), -1, c) * sim_weight.unsqueeze(dim=-1), dim=1)\n",
    "\n",
    "            pred_labels = pred_scores.argsort(dim=-1, descending=True)\n",
    "            total_top1 += torch.sum((pred_labels[:, :1] == target.unsqueeze(dim=-1)).any(dim=-1).float()).item()\n",
    "            total_top5 += torch.sum((pred_labels[:, :5] == target.unsqueeze(dim=-1)).any(dim=-1).float()).item()\n",
    "            test_bar.set_description('Test Epoch: [{}/{}] Acc@1:{:.2f}% Acc@5:{:.2f}%'\n",
    "                                     .format(epoch, epochs, total_top1 / total_num * 100, total_top5 / total_num * 100))\n",
    "\n",
    "    return total_top1 / total_num * 100, total_top5 / total_num * 100"
   ]
  },
  {
   "cell_type": "code",
   "execution_count": 4,
   "metadata": {
    "id": "5nhS6egtxDk8"
   },
   "outputs": [],
   "source": [
    "device = 'cuda' if torch.cuda.is_available() else 'cpu'"
   ]
  },
  {
   "cell_type": "code",
   "execution_count": null,
   "metadata": {
    "colab": {
     "base_uri": "https://localhost:8080/",
     "height": 908
    },
    "id": "BCIhOUGGxT93",
    "outputId": "08fe65db-a61f-49f4-f337-3482fe1a8446"
   },
   "outputs": [
    {
     "name": "stdout",
     "output_type": "stream",
     "text": [
      "Files already downloaded and verified\n",
      "Files already downloaded and verified\n",
      "Files already downloaded and verified\n"
     ]
    },
    {
     "name": "stderr",
     "output_type": "stream",
     "text": [
      "/home/umaiyal/miniconda3/envs/deeplearn_course/lib/python3.7/site-packages/thop/vision/basic_hooks.py:92: UserWarning: __floordiv__ is deprecated, and its behavior will change in a future version of pytorch. It currently rounds toward 0 (like the 'trunc' function NOT 'floor'). This results in incorrect rounding for negative values. To keep the current behavior, use torch.div(a, b, rounding_mode='trunc'), or for actual floor division, use torch.div(a, b, rounding_mode='floor').\n",
      "  kernel = torch.DoubleTensor([*(x[0].shape[2:])]) // torch.DoubleTensor(list((m.output_size,))).squeeze()\n"
     ]
    },
    {
     "name": "stdout",
     "output_type": "stream",
     "text": [
      "[INFO] Register count_convNd() for <class 'torch.nn.modules.conv.Conv2d'>.\n",
      "[INFO] Register count_bn() for <class 'torch.nn.modules.batchnorm.BatchNorm2d'>.\n",
      "[INFO] Register zero_ops() for <class 'torch.nn.modules.activation.ReLU'>.\n",
      "\u001b[91m[WARN] Cannot find rule for <class 'torch.nn.modules.container.Sequential'>. Treat it as zero Macs and zero Params.\u001b[00m\n",
      "\u001b[91m[WARN] Cannot find rule for <class 'torchvision.models.resnet.Bottleneck'>. Treat it as zero Macs and zero Params.\u001b[00m\n",
      "[INFO] Register count_adap_avgpool() for <class 'torch.nn.modules.pooling.AdaptiveAvgPool2d'>.\n",
      "[INFO] Register count_linear() for <class 'torch.nn.modules.linear.Linear'>.\n",
      "[INFO] Register count_bn() for <class 'torch.nn.modules.batchnorm.BatchNorm1d'>.\n",
      "\u001b[91m[WARN] Cannot find rule for <class '__main__.Model'>. Treat it as zero Macs and zero Params.\u001b[00m\n",
      "# Model Params: 24.62M FLOPs: 1.31G\n"
     ]
    },
    {
     "name": "stderr",
     "output_type": "stream",
     "text": [
      "Train Epoch: [1/500] Loss: 4.6051: 100%|██████████| 390/390 [01:31<00:00,  4.25it/s]\n"
     ]
    },
    {
     "name": "stdout",
     "output_type": "stream",
     "text": [
      "0.010009869581038305\n",
      "tensor(4.6051)\n"
     ]
    },
    {
     "name": "stderr",
     "output_type": "stream",
     "text": [
      "Feature extracting: 100%|██████████| 391/391 [00:13<00:00, 28.36it/s]\n",
      "Test Epoch: [1/500] Acc@1:42.35% Acc@5:89.96%: 100%|██████████| 79/79 [00:03<00:00, 22.59it/s]\n",
      "Train Epoch: [2/500] Loss: 3.7506: 100%|██████████| 390/390 [01:32<00:00,  4.22it/s]\n"
     ]
    },
    {
     "name": "stdout",
     "output_type": "stream",
     "text": [
      "0.010039473994880796\n",
      "tensor(3.7934)\n"
     ]
    },
    {
     "name": "stderr",
     "output_type": "stream",
     "text": [
      "Feature extracting: 100%|██████████| 391/391 [00:13<00:00, 28.28it/s]\n",
      "Test Epoch: [2/500] Acc@1:45.81% Acc@5:91.71%: 100%|██████████| 79/79 [00:03<00:00, 22.58it/s]\n",
      "Train Epoch: [3/500] Loss: 3.1320: 100%|██████████| 390/390 [01:32<00:00,  4.22it/s]\n"
     ]
    },
    {
     "name": "stdout",
     "output_type": "stream",
     "text": [
      "0.010088800255609168\n",
      "tensor(3.1651)\n"
     ]
    },
    {
     "name": "stderr",
     "output_type": "stream",
     "text": [
      "Feature extracting: 100%|██████████| 391/391 [00:13<00:00, 28.21it/s]\n",
      "Test Epoch: [3/500] Acc@1:50.82% Acc@5:93.38%: 100%|██████████| 79/79 [00:03<00:00, 22.65it/s]\n",
      "Train Epoch: [4/500] Loss: 2.7270: 100%|██████████| 390/390 [01:32<00:00,  4.22it/s]\n"
     ]
    },
    {
     "name": "stdout",
     "output_type": "stream",
     "text": [
      "0.010157826726355554\n",
      "tensor(2.7489)\n"
     ]
    },
    {
     "name": "stderr",
     "output_type": "stream",
     "text": [
      "Feature extracting: 100%|██████████| 391/391 [00:13<00:00, 28.34it/s]\n",
      "Test Epoch: [4/500] Acc@1:53.51% Acc@5:94.48%: 100%|██████████| 79/79 [00:03<00:00, 22.47it/s]\n",
      "Train Epoch: [5/500] Loss: 2.4508: 100%|██████████| 390/390 [01:32<00:00,  4.21it/s]\n"
     ]
    },
    {
     "name": "stdout",
     "output_type": "stream",
     "text": [
      "0.010246523128793386\n",
      "tensor(2.4657)\n"
     ]
    },
    {
     "name": "stderr",
     "output_type": "stream",
     "text": [
      "Feature extracting: 100%|██████████| 391/391 [00:13<00:00, 28.26it/s]\n",
      "Test Epoch: [5/500] Acc@1:55.74% Acc@5:95.14%: 100%|██████████| 79/79 [00:03<00:00, 22.32it/s]\n",
      "Train Epoch: [6/500] Loss: 2.2158: 100%|██████████| 390/390 [01:32<00:00,  4.22it/s]\n"
     ]
    },
    {
     "name": "stdout",
     "output_type": "stream",
     "text": [
      "0.01035485055641909\n",
      "tensor(2.2283)\n"
     ]
    },
    {
     "name": "stderr",
     "output_type": "stream",
     "text": [
      "Feature extracting: 100%|██████████| 391/391 [00:13<00:00, 28.25it/s]\n",
      "Test Epoch: [6/500] Acc@1:58.96% Acc@5:95.70%: 100%|██████████| 79/79 [00:03<00:00, 22.49it/s]\n",
      "Train Epoch: [7/500] Loss: 2.0683: 100%|██████████| 390/390 [01:33<00:00,  4.17it/s]\n"
     ]
    },
    {
     "name": "stdout",
     "output_type": "stream",
     "text": [
      "0.010482761491618156\n",
      "tensor(2.0763)\n"
     ]
    },
    {
     "name": "stderr",
     "output_type": "stream",
     "text": [
      "Feature extracting: 100%|██████████| 391/391 [00:13<00:00, 28.32it/s]\n",
      "Test Epoch: [7/500] Acc@1:60.22% Acc@5:96.18%: 100%|██████████| 79/79 [00:03<00:00, 22.55it/s]\n",
      "Train Epoch: [8/500] Loss: 1.9514: 100%|██████████| 390/390 [01:32<00:00,  4.22it/s]\n"
     ]
    },
    {
     "name": "stdout",
     "output_type": "stream",
     "text": [
      "0.010630199826508785\n",
      "tensor(1.9576)\n"
     ]
    },
    {
     "name": "stderr",
     "output_type": "stream",
     "text": [
      "Feature extracting: 100%|██████████| 391/391 [00:13<00:00, 28.28it/s]\n",
      "Test Epoch: [8/500] Acc@1:61.12% Acc@5:96.35%: 100%|██████████| 79/79 [00:03<00:00, 22.37it/s]\n",
      "Train Epoch: [9/500] Loss: 1.8409: 100%|██████████| 390/390 [01:32<00:00,  4.22it/s]\n"
     ]
    },
    {
     "name": "stdout",
     "output_type": "stream",
     "text": [
      "0.010797100887553437\n",
      "tensor(1.8468)\n"
     ]
    },
    {
     "name": "stderr",
     "output_type": "stream",
     "text": [
      "Feature extracting: 100%|██████████| 391/391 [00:13<00:00, 28.27it/s]\n",
      "Test Epoch: [9/500] Acc@1:62.31% Acc@5:96.52%: 100%|██████████| 79/79 [00:03<00:00, 22.35it/s]\n",
      "Train Epoch: [10/500] Loss: 1.7430: 100%|██████████| 390/390 [01:32<00:00,  4.22it/s]\n"
     ]
    },
    {
     "name": "stdout",
     "output_type": "stream",
     "text": [
      "0.010983391463927808\n",
      "tensor(1.7482)\n"
     ]
    },
    {
     "name": "stderr",
     "output_type": "stream",
     "text": [
      "Feature extracting: 100%|██████████| 391/391 [00:13<00:00, 28.29it/s]\n",
      "Test Epoch: [10/500] Acc@1:62.92% Acc@5:96.63%: 100%|██████████| 79/79 [00:03<00:00, 22.61it/s]\n",
      "Train Epoch: [11/500] Loss: 1.6648: 100%|██████████| 390/390 [01:32<00:00,  4.22it/s]\n"
     ]
    },
    {
     "name": "stdout",
     "output_type": "stream",
     "text": [
      "0.011188989839634567\n",
      "tensor(1.6690)\n"
     ]
    },
    {
     "name": "stderr",
     "output_type": "stream",
     "text": [
      "Feature extracting: 100%|██████████| 391/391 [00:13<00:00, 28.23it/s]\n",
      "Test Epoch: [11/500] Acc@1:64.28% Acc@5:96.78%: 100%|██████████| 79/79 [00:03<00:00, 22.46it/s]\n",
      "Train Epoch: [12/500] Loss: 1.6172: 100%|██████████| 390/390 [01:32<00:00,  4.22it/s]\n"
     ]
    },
    {
     "name": "stdout",
     "output_type": "stream",
     "text": [
      "0.011413805829347895\n",
      "tensor(1.6198)\n"
     ]
    },
    {
     "name": "stderr",
     "output_type": "stream",
     "text": [
      "Feature extracting: 100%|██████████| 391/391 [00:13<00:00, 28.17it/s]\n",
      "Test Epoch: [12/500] Acc@1:63.94% Acc@5:97.16%: 100%|██████████| 79/79 [00:03<00:00, 22.39it/s]\n",
      "Train Epoch: [13/500] Loss: 1.5513: 100%|██████████| 390/390 [01:32<00:00,  4.22it/s]\n"
     ]
    },
    {
     "name": "stdout",
     "output_type": "stream",
     "text": [
      "0.011657740817973147\n",
      "tensor(1.5548)\n"
     ]
    },
    {
     "name": "stderr",
     "output_type": "stream",
     "text": [
      "Feature extracting: 100%|██████████| 391/391 [00:13<00:00, 28.21it/s]\n",
      "Test Epoch: [13/500] Acc@1:65.45% Acc@5:97.40%: 100%|██████████| 79/79 [00:03<00:00, 22.65it/s]\n",
      "Train Epoch: [14/500] Loss: 1.5148: 100%|██████████| 390/390 [01:32<00:00,  4.22it/s]\n"
     ]
    },
    {
     "name": "stdout",
     "output_type": "stream",
     "text": [
      "0.011920687803904192\n",
      "tensor(1.5168)\n"
     ]
    },
    {
     "name": "stderr",
     "output_type": "stream",
     "text": [
      "Feature extracting: 100%|██████████| 391/391 [00:13<00:00, 28.28it/s]\n",
      "Test Epoch: [14/500] Acc@1:65.31% Acc@5:97.57%: 100%|██████████| 79/79 [00:03<00:00, 22.54it/s]\n",
      "Train Epoch: [15/500] Loss: 1.4885: 100%|██████████| 390/390 [01:32<00:00,  4.20it/s]\n"
     ]
    },
    {
     "name": "stdout",
     "output_type": "stream",
     "text": [
      "0.012202531445959439\n",
      "tensor(1.4899)\n"
     ]
    },
    {
     "name": "stderr",
     "output_type": "stream",
     "text": [
      "Feature extracting: 100%|██████████| 391/391 [00:13<00:00, 28.27it/s]\n",
      "Test Epoch: [15/500] Acc@1:65.71% Acc@5:97.60%: 100%|██████████| 79/79 [00:03<00:00, 22.56it/s]\n",
      "Train Epoch: [16/500] Loss: 1.4571: 100%|██████████| 390/390 [01:32<00:00,  4.22it/s]\n"
     ]
    },
    {
     "name": "stdout",
     "output_type": "stream",
     "text": [
      "0.012503148113975945\n",
      "tensor(1.4588)\n"
     ]
    },
    {
     "name": "stderr",
     "output_type": "stream",
     "text": [
      "Feature extracting: 100%|██████████| 391/391 [00:13<00:00, 28.22it/s]\n",
      "Test Epoch: [16/500] Acc@1:66.30% Acc@5:97.37%: 100%|██████████| 79/79 [00:03<00:00, 22.47it/s]\n",
      "Train Epoch: [17/500] Loss: 1.4149: 100%|██████████| 390/390 [01:32<00:00,  4.20it/s]\n"
     ]
    },
    {
     "name": "stdout",
     "output_type": "stream",
     "text": [
      "0.012822405943039655\n",
      "tensor(1.4170)\n"
     ]
    },
    {
     "name": "stderr",
     "output_type": "stream",
     "text": [
      "Feature extracting: 100%|██████████| 391/391 [00:13<00:00, 28.27it/s]\n",
      "Test Epoch: [17/500] Acc@1:66.21% Acc@5:97.40%: 100%|██████████| 79/79 [00:03<00:00, 22.65it/s]\n",
      "Train Epoch: [18/500] Loss: 1.3830: 100%|██████████| 390/390 [01:32<00:00,  4.22it/s]\n"
     ]
    },
    {
     "name": "stdout",
     "output_type": "stream",
     "text": [
      "0.013160164891327639\n",
      "tensor(1.3847)\n"
     ]
    },
    {
     "name": "stderr",
     "output_type": "stream",
     "text": [
      "Feature extracting: 100%|██████████| 391/391 [00:13<00:00, 28.30it/s]\n",
      "Test Epoch: [18/500] Acc@1:67.62% Acc@5:97.87%: 100%|██████████| 79/79 [00:03<00:00, 22.41it/s]\n",
      "Train Epoch: [19/500] Loss: 1.3657: 100%|██████████| 390/390 [01:32<00:00,  4.21it/s]\n"
     ]
    },
    {
     "name": "stdout",
     "output_type": "stream",
     "text": [
      "0.01351627680153715\n",
      "tensor(1.3666)\n"
     ]
    },
    {
     "name": "stderr",
     "output_type": "stream",
     "text": [
      "Feature extracting: 100%|██████████| 391/391 [00:13<00:00, 28.35it/s]\n",
      "Test Epoch: [19/500] Acc@1:67.34% Acc@5:97.34%: 100%|██████████| 79/79 [00:03<00:00, 22.62it/s]\n",
      "Train Epoch: [20/500] Loss: 1.3422: 100%|██████████| 390/390 [01:32<00:00,  4.21it/s]\n"
     ]
    },
    {
     "name": "stdout",
     "output_type": "stream",
     "text": [
      "0.013890585465874586\n",
      "tensor(1.3434)\n"
     ]
    },
    {
     "name": "stderr",
     "output_type": "stream",
     "text": [
      "Feature extracting: 100%|██████████| 391/391 [00:13<00:00, 28.33it/s]\n",
      "Test Epoch: [20/500] Acc@1:67.08% Acc@5:97.58%: 100%|██████████| 79/79 [00:03<00:00, 22.39it/s]\n",
      "Train Epoch: [21/500] Loss: 1.2973: 100%|██████████| 390/390 [01:32<00:00,  4.22it/s]\n"
     ]
    },
    {
     "name": "stdout",
     "output_type": "stream",
     "text": [
      "0.014282926694575648\n",
      "tensor(1.2996)\n"
     ]
    },
    {
     "name": "stderr",
     "output_type": "stream",
     "text": [
      "Feature extracting: 100%|██████████| 391/391 [00:13<00:00, 28.29it/s]\n",
      "Test Epoch: [21/500] Acc@1:67.61% Acc@5:97.62%: 100%|██████████| 79/79 [00:03<00:00, 22.26it/s]\n",
      "Train Epoch: [22/500] Loss: 1.3054: 100%|██████████| 390/390 [01:32<00:00,  4.21it/s]\n"
     ]
    },
    {
     "name": "stdout",
     "output_type": "stream",
     "text": [
      "0.014693128387926968\n",
      "tensor(1.3051)\n"
     ]
    },
    {
     "name": "stderr",
     "output_type": "stream",
     "text": [
      "Feature extracting: 100%|██████████| 391/391 [00:13<00:00, 28.31it/s]\n",
      "Test Epoch: [22/500] Acc@1:67.96% Acc@5:97.79%: 100%|██████████| 79/79 [00:03<00:00, 22.63it/s]\n",
      "Train Epoch: [23/500] Loss: 1.3001: 100%|██████████| 390/390 [01:32<00:00,  4.22it/s]\n"
     ]
    },
    {
     "name": "stdout",
     "output_type": "stream",
     "text": [
      "0.015121010611757219\n",
      "tensor(1.3004)\n"
     ]
    },
    {
     "name": "stderr",
     "output_type": "stream",
     "text": [
      "Feature extracting: 100%|██████████| 391/391 [00:13<00:00, 28.27it/s]\n",
      "Test Epoch: [23/500] Acc@1:68.59% Acc@5:97.83%: 100%|██████████| 79/79 [00:03<00:00, 22.37it/s]\n",
      "Train Epoch: [24/500] Loss: 1.2536: 100%|██████████| 390/390 [01:32<00:00,  4.22it/s]\n"
     ]
    },
    {
     "name": "stdout",
     "output_type": "stream",
     "text": [
      "0.015566385676364966\n",
      "tensor(1.2559)\n"
     ]
    },
    {
     "name": "stderr",
     "output_type": "stream",
     "text": [
      "Feature extracting: 100%|██████████| 391/391 [00:13<00:00, 28.21it/s]\n",
      "Test Epoch: [24/500] Acc@1:68.26% Acc@5:97.78%: 100%|██████████| 79/79 [00:03<00:00, 22.51it/s]\n",
      "Train Epoch: [25/500] Loss: 1.2440: 100%|██████████| 390/390 [01:32<00:00,  4.22it/s]\n"
     ]
    },
    {
     "name": "stdout",
     "output_type": "stream",
     "text": [
      "0.01602905821884827\n",
      "tensor(1.2446)\n"
     ]
    },
    {
     "name": "stderr",
     "output_type": "stream",
     "text": [
      "Feature extracting: 100%|██████████| 391/391 [00:13<00:00, 28.21it/s]\n",
      "Test Epoch: [25/500] Acc@1:68.36% Acc@5:97.80%: 100%|██████████| 79/79 [00:03<00:00, 22.39it/s]\n",
      "Train Epoch: [26/500] Loss: 1.2366: 100%|██████████| 390/390 [01:32<00:00,  4.22it/s]\n"
     ]
    },
    {
     "name": "stdout",
     "output_type": "stream",
     "text": [
      "0.016508825288800405\n",
      "tensor(1.2370)\n"
     ]
    },
    {
     "name": "stderr",
     "output_type": "stream",
     "text": [
      "Feature extracting: 100%|██████████| 391/391 [00:13<00:00, 28.27it/s]\n",
      "Test Epoch: [26/500] Acc@1:69.08% Acc@5:97.78%: 100%|██████████| 79/79 [00:03<00:00, 22.65it/s]\n",
      "Train Epoch: [27/500] Loss: 1.2303: 100%|██████████| 390/390 [01:32<00:00,  4.21it/s]\n"
     ]
    },
    {
     "name": "stdout",
     "output_type": "stream",
     "text": [
      "0.017005476437333494\n",
      "tensor(1.2306)\n"
     ]
    },
    {
     "name": "stderr",
     "output_type": "stream",
     "text": [
      "Feature extracting: 100%|██████████| 391/391 [00:13<00:00, 28.30it/s]\n",
      "Test Epoch: [27/500] Acc@1:69.14% Acc@5:97.91%: 100%|██████████| 79/79 [00:03<00:00, 22.78it/s]\n",
      "Train Epoch: [28/500] Loss: 1.1793: 100%|██████████| 390/390 [01:32<00:00,  4.22it/s]\n"
     ]
    },
    {
     "name": "stdout",
     "output_type": "stream",
     "text": [
      "0.017518793809391642\n",
      "tensor(1.1819)\n"
     ]
    },
    {
     "name": "stderr",
     "output_type": "stream",
     "text": [
      "Feature extracting: 100%|██████████| 391/391 [00:13<00:00, 28.33it/s]\n",
      "Test Epoch: [28/500] Acc@1:69.40% Acc@5:97.86%: 100%|██████████| 79/79 [00:03<00:00, 22.47it/s]\n",
      "Train Epoch: [29/500] Loss: 1.1954: 100%|██████████| 390/390 [01:32<00:00,  4.22it/s]\n"
     ]
    },
    {
     "name": "stdout",
     "output_type": "stream",
     "text": [
      "0.018048552239312537\n",
      "tensor(1.1948)\n"
     ]
    },
    {
     "name": "stderr",
     "output_type": "stream",
     "text": [
      "Feature extracting: 100%|██████████| 391/391 [00:13<00:00, 28.32it/s]\n",
      "Test Epoch: [29/500] Acc@1:69.23% Acc@5:97.85%: 100%|██████████| 79/79 [00:03<00:00, 22.07it/s]\n",
      "Train Epoch: [30/500] Loss: 1.1576: 100%|██████████| 390/390 [01:32<00:00,  4.21it/s]\n"
     ]
    },
    {
     "name": "stdout",
     "output_type": "stream",
     "text": [
      "0.018594519349595967\n",
      "tensor(1.1595)\n"
     ]
    },
    {
     "name": "stderr",
     "output_type": "stream",
     "text": [
      "Feature extracting: 100%|██████████| 391/391 [00:13<00:00, 28.20it/s]\n",
      "Test Epoch: [30/500] Acc@1:69.62% Acc@5:97.96%: 100%|██████████| 79/79 [00:03<00:00, 22.35it/s]\n",
      "Train Epoch: [31/500] Loss: 1.1419: 100%|██████████| 390/390 [01:32<00:00,  4.21it/s]\n"
     ]
    },
    {
     "name": "stdout",
     "output_type": "stream",
     "text": [
      "0.019156455652835747\n",
      "tensor(1.1428)\n"
     ]
    },
    {
     "name": "stderr",
     "output_type": "stream",
     "text": [
      "Feature extracting: 100%|██████████| 391/391 [00:13<00:00, 28.35it/s]\n",
      "Test Epoch: [31/500] Acc@1:69.39% Acc@5:98.12%: 100%|██████████| 79/79 [00:03<00:00, 22.54it/s]\n",
      "Train Epoch: [32/500] Loss: 1.1414: 100%|██████████| 390/390 [01:32<00:00,  4.22it/s]\n"
     ]
    },
    {
     "name": "stdout",
     "output_type": "stream",
     "text": [
      "0.0197341146567704\n",
      "tensor(1.1414)\n"
     ]
    },
    {
     "name": "stderr",
     "output_type": "stream",
     "text": [
      "Feature extracting: 100%|██████████| 391/391 [00:13<00:00, 28.25it/s]\n",
      "Test Epoch: [32/500] Acc@1:69.62% Acc@5:98.19%: 100%|██████████| 79/79 [00:03<00:00, 22.35it/s]\n",
      "Train Epoch: [33/500] Loss: 1.1238: 100%|██████████| 390/390 [01:32<00:00,  4.21it/s]\n"
     ]
    },
    {
     "name": "stdout",
     "output_type": "stream",
     "text": [
      "0.020327242972406484\n",
      "tensor(1.1247)\n"
     ]
    },
    {
     "name": "stderr",
     "output_type": "stream",
     "text": [
      "Feature extracting: 100%|██████████| 391/391 [00:13<00:00, 28.30it/s]\n",
      "Test Epoch: [33/500] Acc@1:70.00% Acc@5:98.10%: 100%|██████████| 79/79 [00:03<00:00, 22.46it/s]\n",
      "Train Epoch: [34/500] Loss: 1.1181: 100%|██████████| 390/390 [01:32<00:00,  4.22it/s]\n"
     ]
    },
    {
     "name": "stdout",
     "output_type": "stream",
     "text": [
      "0.020935580425167258\n",
      "tensor(1.1185)\n"
     ]
    },
    {
     "name": "stderr",
     "output_type": "stream",
     "text": [
      "Feature extracting: 100%|██████████| 391/391 [00:13<00:00, 28.32it/s]\n",
      "Test Epoch: [34/500] Acc@1:70.17% Acc@5:98.14%: 100%|██████████| 79/79 [00:03<00:00, 22.82it/s]\n",
      "Train Epoch: [35/500] Loss: 1.1024: 100%|██████████| 390/390 [01:32<00:00,  4.22it/s]\n"
     ]
    },
    {
     "name": "stdout",
     "output_type": "stream",
     "text": [
      "0.021558860169017688\n",
      "tensor(1.1032)\n"
     ]
    },
    {
     "name": "stderr",
     "output_type": "stream",
     "text": [
      "Feature extracting: 100%|██████████| 391/391 [00:13<00:00, 28.29it/s]\n",
      "Test Epoch: [35/500] Acc@1:70.25% Acc@5:98.09%: 100%|██████████| 79/79 [00:03<00:00, 22.66it/s]\n",
      "Train Epoch: [36/500] Loss: 1.0924: 100%|██████████| 390/390 [01:32<00:00,  4.21it/s]\n"
     ]
    },
    {
     "name": "stdout",
     "output_type": "stream",
     "text": [
      "0.02219680880351589\n",
      "tensor(1.0929)\n"
     ]
    },
    {
     "name": "stderr",
     "output_type": "stream",
     "text": [
      "Feature extracting: 100%|██████████| 391/391 [00:13<00:00, 28.24it/s]\n",
      "Test Epoch: [36/500] Acc@1:70.90% Acc@5:98.23%: 100%|██████████| 79/79 [00:03<00:00, 22.31it/s]\n",
      "Train Epoch: [37/500] Loss: 1.0849: 100%|██████████| 390/390 [01:32<00:00,  4.22it/s]\n"
     ]
    },
    {
     "name": "stdout",
     "output_type": "stream",
     "text": [
      "0.022849146493739828\n",
      "tensor(1.0853)\n"
     ]
    },
    {
     "name": "stderr",
     "output_type": "stream",
     "text": [
      "Feature extracting: 100%|██████████| 391/391 [00:13<00:00, 28.27it/s]\n",
      "Test Epoch: [37/500] Acc@1:71.14% Acc@5:98.24%: 100%|██████████| 79/79 [00:03<00:00, 22.20it/s]\n",
      "Train Epoch: [38/500] Loss: 1.0601: 100%|██████████| 390/390 [01:32<00:00,  4.22it/s]\n"
     ]
    },
    {
     "name": "stdout",
     "output_type": "stream",
     "text": [
      "0.02351558709303625\n",
      "tensor(1.0614)\n"
     ]
    },
    {
     "name": "stderr",
     "output_type": "stream",
     "text": [
      "Feature extracting: 100%|██████████| 391/391 [00:13<00:00, 28.32it/s]\n",
      "Test Epoch: [38/500] Acc@1:70.46% Acc@5:98.15%: 100%|██████████| 79/79 [00:03<00:00, 22.61it/s]\n",
      "Train Epoch: [39/500] Loss: 1.0616: 100%|██████████| 390/390 [01:32<00:00,  4.22it/s]\n"
     ]
    },
    {
     "name": "stdout",
     "output_type": "stream",
     "text": [
      "0.024195838268538383\n",
      "tensor(1.0616)\n"
     ]
    },
    {
     "name": "stderr",
     "output_type": "stream",
     "text": [
      "Feature extracting: 100%|██████████| 391/391 [00:13<00:00, 28.27it/s]\n",
      "Test Epoch: [39/500] Acc@1:70.37% Acc@5:98.24%: 100%|██████████| 79/79 [00:03<00:00, 22.39it/s]\n",
      "Train Epoch: [40/500] Loss: 1.0584: 100%|██████████| 390/390 [01:32<00:00,  4.22it/s]\n"
     ]
    },
    {
     "name": "stdout",
     "output_type": "stream",
     "text": [
      "0.02488960162939724\n",
      "tensor(1.0585)\n"
     ]
    },
    {
     "name": "stderr",
     "output_type": "stream",
     "text": [
      "Feature extracting: 100%|██████████| 391/391 [00:13<00:00, 28.30it/s]\n",
      "Test Epoch: [40/500] Acc@1:70.46% Acc@5:98.12%: 100%|██████████| 79/79 [00:03<00:00, 22.54it/s]\n",
      "Train Epoch: [41/500] Loss: 1.0412: 100%|██████████| 390/390 [01:32<00:00,  4.21it/s]\n"
     ]
    },
    {
     "name": "stdout",
     "output_type": "stream",
     "text": [
      "0.025596572857670058\n",
      "tensor(1.0421)\n"
     ]
    },
    {
     "name": "stderr",
     "output_type": "stream",
     "text": [
      "Feature extracting: 100%|██████████| 391/391 [00:13<00:00, 28.21it/s]\n",
      "Test Epoch: [41/500] Acc@1:72.15% Acc@5:98.18%: 100%|██████████| 79/79 [00:03<00:00, 22.58it/s]\n",
      "Train Epoch: [42/500] Loss: 1.0391: 100%|██████████| 390/390 [01:32<00:00,  4.22it/s]\n"
     ]
    },
    {
     "name": "stdout",
     "output_type": "stream",
     "text": [
      "0.026316441841808896\n",
      "tensor(1.0393)\n"
     ]
    },
    {
     "name": "stderr",
     "output_type": "stream",
     "text": [
      "Feature extracting: 100%|██████████| 391/391 [00:13<00:00, 28.30it/s]\n",
      "Test Epoch: [42/500] Acc@1:71.76% Acc@5:98.35%: 100%|██████████| 79/79 [00:03<00:00, 22.32it/s]\n",
      "Train Epoch: [43/500] Loss: 1.0187: 100%|██████████| 390/390 [01:32<00:00,  4.22it/s]\n"
     ]
    },
    {
     "name": "stdout",
     "output_type": "stream",
     "text": [
      "0.02704889281269035\n",
      "tensor(1.0197)\n"
     ]
    },
    {
     "name": "stderr",
     "output_type": "stream",
     "text": [
      "Feature extracting: 100%|██████████| 391/391 [00:13<00:00, 28.30it/s]\n",
      "Test Epoch: [43/500] Acc@1:71.58% Acc@5:98.34%: 100%|██████████| 79/79 [00:03<00:00, 22.50it/s]\n",
      "Train Epoch: [44/500] Loss: 1.0337: 100%|██████████| 390/390 [01:32<00:00,  4.22it/s]\n"
     ]
    },
    {
     "name": "stdout",
     "output_type": "stream",
     "text": [
      "0.027793604482127185\n",
      "tensor(1.0330)\n"
     ]
    },
    {
     "name": "stderr",
     "output_type": "stream",
     "text": [
      "Feature extracting: 100%|██████████| 391/391 [00:13<00:00, 28.30it/s]\n",
      "Test Epoch: [44/500] Acc@1:71.61% Acc@5:98.35%: 100%|██████████| 79/79 [00:03<00:00, 22.51it/s]\n",
      "Train Epoch: [45/500] Loss: 1.0227: 100%|██████████| 390/390 [01:32<00:00,  4.22it/s]\n"
     ]
    },
    {
     "name": "stdout",
     "output_type": "stream",
     "text": [
      "0.02855025018380064\n",
      "tensor(1.0232)\n"
     ]
    },
    {
     "name": "stderr",
     "output_type": "stream",
     "text": [
      "Feature extracting: 100%|██████████| 391/391 [00:13<00:00, 28.33it/s]\n",
      "Test Epoch: [45/500] Acc@1:70.95% Acc@5:98.03%: 100%|██████████| 79/79 [00:03<00:00, 22.60it/s]\n",
      "Train Epoch: [46/500] Loss: 1.0073: 100%|██████████| 390/390 [01:32<00:00,  4.21it/s]\n"
     ]
    },
    {
     "name": "stdout",
     "output_type": "stream",
     "text": [
      "0.029318498016552036\n",
      "tensor(1.0081)\n"
     ]
    },
    {
     "name": "stderr",
     "output_type": "stream",
     "text": [
      "Feature extracting: 100%|██████████| 391/391 [00:13<00:00, 28.35it/s]\n",
      "Test Epoch: [46/500] Acc@1:71.55% Acc@5:98.42%: 100%|██████████| 79/79 [00:03<00:00, 22.60it/s]\n",
      "Train Epoch: [47/500] Loss: 1.0028: 100%|██████████| 390/390 [01:32<00:00,  4.22it/s]\n"
     ]
    },
    {
     "name": "stdout",
     "output_type": "stream",
     "text": [
      "0.030098010989970614\n",
      "tensor(1.0031)\n"
     ]
    },
    {
     "name": "stderr",
     "output_type": "stream",
     "text": [
      "Feature extracting: 100%|██████████| 391/391 [00:13<00:00, 28.33it/s]\n",
      "Test Epoch: [47/500] Acc@1:71.09% Acc@5:98.18%: 100%|██████████| 79/79 [00:03<00:00, 22.56it/s]\n",
      "Train Epoch: [48/500] Loss: 0.9786: 100%|██████████| 390/390 [01:32<00:00,  4.22it/s]\n"
     ]
    },
    {
     "name": "stdout",
     "output_type": "stream",
     "text": [
      "0.03088844717221359\n",
      "tensor(0.9799)\n"
     ]
    },
    {
     "name": "stderr",
     "output_type": "stream",
     "text": [
      "Feature extracting: 100%|██████████| 391/391 [00:13<00:00, 28.32it/s]\n",
      "Test Epoch: [48/500] Acc@1:72.08% Acc@5:98.35%: 100%|██████████| 79/79 [00:03<00:00, 22.43it/s]\n",
      "Train Epoch: [49/500] Loss: 0.9795: 100%|██████████| 390/390 [01:32<00:00,  4.22it/s]\n"
     ]
    },
    {
     "name": "stdout",
     "output_type": "stream",
     "text": [
      "0.031689459839994064\n",
      "tensor(0.9795)\n"
     ]
    },
    {
     "name": "stderr",
     "output_type": "stream",
     "text": [
      "Feature extracting: 100%|██████████| 391/391 [00:13<00:00, 28.28it/s]\n",
      "Test Epoch: [49/500] Acc@1:72.01% Acc@5:98.20%: 100%|██████████| 79/79 [00:03<00:00, 22.47it/s]\n",
      "Train Epoch: [50/500] Loss: 0.9728: 100%|██████████| 390/390 [01:32<00:00,  4.22it/s]\n"
     ]
    },
    {
     "name": "stdout",
     "output_type": "stream",
     "text": [
      "0.03250069763067036\n",
      "tensor(0.9731)\n"
     ]
    },
    {
     "name": "stderr",
     "output_type": "stream",
     "text": [
      "Feature extracting: 100%|██████████| 391/391 [00:13<00:00, 28.35it/s]\n",
      "Test Epoch: [50/500] Acc@1:71.62% Acc@5:98.31%: 100%|██████████| 79/79 [00:03<00:00, 22.29it/s]\n",
      "Train Epoch: [51/500] Loss: 0.9624: 100%|██████████| 390/390 [01:32<00:00,  4.21it/s]\n"
     ]
    },
    {
     "name": "stdout",
     "output_type": "stream",
     "text": [
      "0.033321804696370624\n",
      "tensor(0.9629)\n"
     ]
    },
    {
     "name": "stderr",
     "output_type": "stream",
     "text": [
      "Feature extracting: 100%|██████████| 391/391 [00:13<00:00, 28.30it/s]\n",
      "Test Epoch: [51/500] Acc@1:71.87% Acc@5:98.30%: 100%|██████████| 79/79 [00:03<00:00, 22.38it/s]\n",
      "Train Epoch: [52/500] Loss: 0.9636: 100%|██████████| 390/390 [01:32<00:00,  4.22it/s]\n"
     ]
    },
    {
     "name": "stdout",
     "output_type": "stream",
     "text": [
      "0.034152420860084826\n",
      "tensor(0.9635)\n"
     ]
    },
    {
     "name": "stderr",
     "output_type": "stream",
     "text": [
      "Feature extracting: 100%|██████████| 391/391 [00:13<00:00, 28.33it/s]\n",
      "Test Epoch: [52/500] Acc@1:72.60% Acc@5:98.32%: 100%|██████████| 79/79 [00:03<00:00, 22.67it/s]\n",
      "Train Epoch: [53/500] Loss: 0.9569: 100%|██████████| 390/390 [01:32<00:00,  4.22it/s]\n"
     ]
    },
    {
     "name": "stdout",
     "output_type": "stream",
     "text": [
      "0.03499218177365565\n",
      "tensor(0.9572)\n"
     ]
    },
    {
     "name": "stderr",
     "output_type": "stream",
     "text": [
      "Feature extracting: 100%|██████████| 391/391 [00:13<00:00, 28.20it/s]\n",
      "Test Epoch: [53/500] Acc@1:71.91% Acc@5:98.35%: 100%|██████████| 79/79 [00:03<00:00, 22.56it/s]\n",
      "Train Epoch: [54/500] Loss: 0.9460: 100%|██████████| 390/390 [01:32<00:00,  4.22it/s]\n"
     ]
    },
    {
     "name": "stdout",
     "output_type": "stream",
     "text": [
      "0.03584071907759913\n",
      "tensor(0.9466)\n"
     ]
    },
    {
     "name": "stderr",
     "output_type": "stream",
     "text": [
      "Feature extracting: 100%|██████████| 391/391 [00:13<00:00, 28.36it/s]\n",
      "Test Epoch: [54/500] Acc@1:72.08% Acc@5:98.36%: 100%|██████████| 79/79 [00:03<00:00, 22.36it/s]\n",
      "Train Epoch: [55/500] Loss: 0.9471: 100%|██████████| 390/390 [01:32<00:00,  4.22it/s]\n"
     ]
    },
    {
     "name": "stdout",
     "output_type": "stream",
     "text": [
      "0.03669766056268478\n",
      "tensor(0.9471)\n"
     ]
    },
    {
     "name": "stderr",
     "output_type": "stream",
     "text": [
      "Feature extracting: 100%|██████████| 391/391 [00:13<00:00, 28.31it/s]\n",
      "Test Epoch: [55/500] Acc@1:71.86% Acc@5:98.43%: 100%|██████████| 79/79 [00:03<00:00, 22.32it/s]\n",
      "Train Epoch: [56/500] Loss: 0.9294: 100%|██████████| 390/390 [01:32<00:00,  4.20it/s]\n"
     ]
    },
    {
     "name": "stdout",
     "output_type": "stream",
     "text": [
      "0.03756263033320456\n",
      "tensor(0.9303)\n"
     ]
    },
    {
     "name": "stderr",
     "output_type": "stream",
     "text": [
      "Feature extracting: 100%|██████████| 391/391 [00:13<00:00, 28.31it/s]\n",
      "Test Epoch: [56/500] Acc@1:73.17% Acc@5:98.43%: 100%|██████████| 79/79 [00:03<00:00, 22.63it/s]\n",
      "Train Epoch: [57/500] Loss: 0.9275: 100%|██████████| 390/390 [01:32<00:00,  4.22it/s]\n"
     ]
    },
    {
     "name": "stdout",
     "output_type": "stream",
     "text": [
      "0.03843524897185861\n",
      "tensor(0.9276)\n"
     ]
    },
    {
     "name": "stderr",
     "output_type": "stream",
     "text": [
      "Feature extracting: 100%|██████████| 391/391 [00:13<00:00, 28.37it/s]\n",
      "Test Epoch: [57/500] Acc@1:72.92% Acc@5:98.50%: 100%|██████████| 79/79 [00:03<00:00, 22.57it/s]\n",
      "Train Epoch: [58/500] Loss: 0.9252: 100%|██████████| 390/390 [01:32<00:00,  4.22it/s]\n"
     ]
    },
    {
     "name": "stdout",
     "output_type": "stream",
     "text": [
      "0.03931513370618606\n",
      "tensor(0.9253)\n"
     ]
    },
    {
     "name": "stderr",
     "output_type": "stream",
     "text": [
      "Feature extracting: 100%|██████████| 391/391 [00:13<00:00, 28.37it/s]\n",
      "Test Epoch: [58/500] Acc@1:72.84% Acc@5:98.43%: 100%|██████████| 79/79 [00:03<00:00, 22.62it/s]\n",
      "Train Epoch: [59/500] Loss: 0.9227: 100%|██████████| 390/390 [01:32<00:00,  4.22it/s]\n"
     ]
    },
    {
     "name": "stdout",
     "output_type": "stream",
     "text": [
      "0.04020189857646738\n",
      "tensor(0.9228)\n"
     ]
    },
    {
     "name": "stderr",
     "output_type": "stream",
     "text": [
      "Feature extracting: 100%|██████████| 391/391 [00:13<00:00, 28.29it/s]\n",
      "Test Epoch: [59/500] Acc@1:72.52% Acc@5:98.42%: 100%|██████████| 79/79 [00:03<00:00, 22.67it/s]\n",
      "Train Epoch: [60/500] Loss: 0.9055: 100%|██████████| 390/390 [01:32<00:00,  4.22it/s]\n"
     ]
    },
    {
     "name": "stdout",
     "output_type": "stream",
     "text": [
      "0.04109515460502482\n",
      "tensor(0.9064)\n"
     ]
    },
    {
     "name": "stderr",
     "output_type": "stream",
     "text": [
      "Feature extracting: 100%|██████████| 391/391 [00:13<00:00, 28.29it/s]\n",
      "Test Epoch: [60/500] Acc@1:72.84% Acc@5:98.44%: 100%|██████████| 79/79 [00:03<00:00, 22.56it/s]\n",
      "Train Epoch: [61/500] Loss: 0.9133: 100%|██████████| 390/390 [01:32<00:00,  4.22it/s]\n"
     ]
    },
    {
     "name": "stdout",
     "output_type": "stream",
     "text": [
      "0.041994509966846734\n",
      "tensor(0.9129)\n"
     ]
    },
    {
     "name": "stderr",
     "output_type": "stream",
     "text": [
      "Feature extracting: 100%|██████████| 391/391 [00:13<00:00, 28.30it/s]\n",
      "Test Epoch: [61/500] Acc@1:72.26% Acc@5:98.33%: 100%|██████████| 79/79 [00:03<00:00, 22.52it/s]\n",
      "Train Epoch: [62/500] Loss: 0.8975: 100%|██████████| 390/390 [01:32<00:00,  4.22it/s]\n"
     ]
    },
    {
     "name": "stdout",
     "output_type": "stream",
     "text": [
      "0.042899570161460884\n",
      "tensor(0.8983)\n"
     ]
    },
    {
     "name": "stderr",
     "output_type": "stream",
     "text": [
      "Feature extracting: 100%|██████████| 391/391 [00:13<00:00, 28.35it/s]\n",
      "Test Epoch: [62/500] Acc@1:73.29% Acc@5:98.46%: 100%|██████████| 79/79 [00:03<00:00, 22.38it/s]\n",
      "Train Epoch: [63/500] Loss: 0.8993: 100%|██████████| 390/390 [01:32<00:00,  4.22it/s]\n"
     ]
    },
    {
     "name": "stdout",
     "output_type": "stream",
     "text": [
      "0.04380993818598124\n",
      "tensor(0.8992)\n"
     ]
    },
    {
     "name": "stderr",
     "output_type": "stream",
     "text": [
      "Feature extracting: 100%|██████████| 391/391 [00:13<00:00, 28.28it/s]\n",
      "Test Epoch: [63/500] Acc@1:72.79% Acc@5:98.50%: 100%|██████████| 79/79 [00:03<00:00, 22.54it/s]\n",
      "Train Epoch: [64/500] Loss: 0.9048: 100%|██████████| 390/390 [01:32<00:00,  4.21it/s]\n"
     ]
    },
    {
     "name": "stdout",
     "output_type": "stream",
     "text": [
      "0.044725214709252586\n",
      "tensor(0.9045)\n"
     ]
    },
    {
     "name": "stderr",
     "output_type": "stream",
     "text": [
      "Feature extracting: 100%|██████████| 391/391 [00:13<00:00, 28.33it/s]\n",
      "Test Epoch: [64/500] Acc@1:72.72% Acc@5:98.43%: 100%|██████████| 79/79 [00:03<00:00, 22.74it/s]\n",
      "Train Epoch: [65/500] Loss: 0.8929: 100%|██████████| 390/390 [01:32<00:00,  4.22it/s]\n"
     ]
    },
    {
     "name": "stdout",
     "output_type": "stream",
     "text": [
      "0.045644998247016295\n",
      "tensor(0.8935)\n"
     ]
    },
    {
     "name": "stderr",
     "output_type": "stream",
     "text": [
      "Feature extracting: 100%|██████████| 391/391 [00:13<00:00, 28.22it/s]\n",
      "Test Epoch: [65/500] Acc@1:73.63% Acc@5:98.50%: 100%|██████████| 79/79 [00:03<00:00, 22.63it/s]\n",
      "Train Epoch: [66/500] Loss: 0.8832: 100%|██████████| 390/390 [01:32<00:00,  4.22it/s]\n"
     ]
    },
    {
     "name": "stdout",
     "output_type": "stream",
     "text": [
      "0.04656888533802065\n",
      "tensor(0.8837)\n"
     ]
    },
    {
     "name": "stderr",
     "output_type": "stream",
     "text": [
      "Feature extracting: 100%|██████████| 391/391 [00:13<00:00, 28.34it/s]\n",
      "Test Epoch: [66/500] Acc@1:73.42% Acc@5:98.60%: 100%|██████████| 79/79 [00:03<00:00, 22.61it/s]\n",
      "Train Epoch: [67/500] Loss: 0.8856: 100%|██████████| 390/390 [01:32<00:00,  4.22it/s]\n"
     ]
    },
    {
     "name": "stdout",
     "output_type": "stream",
     "text": [
      "0.04749647072099833\n",
      "tensor(0.8855)\n"
     ]
    },
    {
     "name": "stderr",
     "output_type": "stream",
     "text": [
      "Feature extracting: 100%|██████████| 391/391 [00:13<00:00, 28.34it/s]\n",
      "Test Epoch: [67/500] Acc@1:73.10% Acc@5:98.45%: 100%|██████████| 79/79 [00:03<00:00, 22.19it/s]\n",
      "Train Epoch: [68/500] Loss: 0.8756: 100%|██████████| 390/390 [01:32<00:00,  4.23it/s]\n"
     ]
    },
    {
     "name": "stdout",
     "output_type": "stream",
     "text": [
      "0.04842734751243345\n",
      "tensor(0.8761)\n"
     ]
    },
    {
     "name": "stderr",
     "output_type": "stream",
     "text": [
      "Feature extracting: 100%|██████████| 391/391 [00:13<00:00, 28.31it/s]\n",
      "Test Epoch: [68/500] Acc@1:72.95% Acc@5:98.54%: 100%|██████████| 79/79 [00:03<00:00, 22.26it/s]\n",
      "Train Epoch: [69/500] Loss: 0.8733: 100%|██████████| 390/390 [01:32<00:00,  4.22it/s]\n"
     ]
    },
    {
     "name": "stdout",
     "output_type": "stream",
     "text": [
      "0.04936110738504025\n",
      "tensor(0.8735)\n"
     ]
    },
    {
     "name": "stderr",
     "output_type": "stream",
     "text": [
      "Feature extracting: 100%|██████████| 391/391 [00:13<00:00, 28.37it/s]\n",
      "Test Epoch: [69/500] Acc@1:73.67% Acc@5:98.48%: 100%|██████████| 79/79 [00:03<00:00, 22.49it/s]\n",
      "Train Epoch: [70/500] Loss: 0.8619: 100%|██████████| 390/390 [01:32<00:00,  4.23it/s]\n"
     ]
    },
    {
     "name": "stdout",
     "output_type": "stream",
     "text": [
      "0.05029734074687503\n",
      "tensor(0.8625)\n"
     ]
    },
    {
     "name": "stderr",
     "output_type": "stream",
     "text": [
      "Feature extracting: 100%|██████████| 391/391 [00:13<00:00, 28.26it/s]\n",
      "Test Epoch: [70/500] Acc@1:73.10% Acc@5:98.54%: 100%|██████████| 79/79 [00:03<00:00, 22.55it/s]\n",
      "Train Epoch: [71/500] Loss: 0.8609: 100%|██████████| 390/390 [01:32<00:00,  4.22it/s]\n"
     ]
    },
    {
     "name": "stdout",
     "output_type": "stream",
     "text": [
      "0.05123563692100289\n",
      "tensor(0.8609)\n"
     ]
    },
    {
     "name": "stderr",
     "output_type": "stream",
     "text": [
      "Feature extracting: 100%|██████████| 391/391 [00:13<00:00, 28.32it/s]\n",
      "Test Epoch: [71/500] Acc@1:73.57% Acc@5:98.63%: 100%|██████████| 79/79 [00:03<00:00, 22.47it/s]\n",
      "Train Epoch: [72/500] Loss: 0.8642: 100%|██████████| 390/390 [01:32<00:00,  4.23it/s]\n"
     ]
    },
    {
     "name": "stdout",
     "output_type": "stream",
     "text": [
      "0.052175584325640345\n",
      "tensor(0.8640)\n"
     ]
    },
    {
     "name": "stderr",
     "output_type": "stream",
     "text": [
      "Feature extracting: 100%|██████████| 391/391 [00:13<00:00, 28.28it/s]\n",
      "Test Epoch: [72/500] Acc@1:73.76% Acc@5:98.46%: 100%|██████████| 79/79 [00:03<00:00, 22.50it/s]\n",
      "Train Epoch: [73/500] Loss: 0.8500: 100%|██████████| 390/390 [01:32<00:00,  4.21it/s]\n"
     ]
    },
    {
     "name": "stdout",
     "output_type": "stream",
     "text": [
      "0.053116770654694855\n",
      "tensor(0.8507)\n"
     ]
    },
    {
     "name": "stderr",
     "output_type": "stream",
     "text": [
      "Feature extracting: 100%|██████████| 391/391 [00:13<00:00, 28.37it/s]\n",
      "Test Epoch: [73/500] Acc@1:72.98% Acc@5:98.53%: 100%|██████████| 79/79 [00:03<00:00, 22.62it/s]\n",
      "Train Epoch: [74/500] Loss: 0.8507: 100%|██████████| 390/390 [01:32<00:00,  4.21it/s]\n"
     ]
    },
    {
     "name": "stdout",
     "output_type": "stream",
     "text": [
      "0.05405878305862215\n",
      "tensor(0.8507)\n"
     ]
    },
    {
     "name": "stderr",
     "output_type": "stream",
     "text": [
      "Feature extracting: 100%|██████████| 391/391 [00:13<00:00, 28.34it/s]\n",
      "Test Epoch: [74/500] Acc@1:73.69% Acc@5:98.44%: 100%|██████████| 79/79 [00:03<00:00, 22.58it/s]\n",
      "Train Epoch: [75/500] Loss: 0.8572: 100%|██████████| 390/390 [01:32<00:00,  4.23it/s]\n"
     ]
    },
    {
     "name": "stdout",
     "output_type": "stream",
     "text": [
      "0.05500120832552176\n",
      "tensor(0.8569)\n"
     ]
    },
    {
     "name": "stderr",
     "output_type": "stream",
     "text": [
      "Feature extracting: 100%|██████████| 391/391 [00:13<00:00, 28.38it/s]\n",
      "Test Epoch: [75/500] Acc@1:74.19% Acc@5:98.61%: 100%|██████████| 79/79 [00:03<00:00, 22.40it/s]\n",
      "Train Epoch: [76/500] Loss: 0.8524: 100%|██████████| 390/390 [01:32<00:00,  4.23it/s]\n"
     ]
    },
    {
     "name": "stdout",
     "output_type": "stream",
     "text": [
      "0.055943633062391744\n",
      "tensor(0.8526)\n"
     ]
    },
    {
     "name": "stderr",
     "output_type": "stream",
     "text": [
      "Feature extracting: 100%|██████████| 391/391 [00:13<00:00, 28.28it/s]\n",
      "Test Epoch: [76/500] Acc@1:73.93% Acc@5:98.68%: 100%|██████████| 79/79 [00:03<00:00, 22.52it/s]\n",
      "Train Epoch: [77/500] Loss: 0.8475: 100%|██████████| 390/390 [01:32<00:00,  4.22it/s]\n"
     ]
    },
    {
     "name": "stdout",
     "output_type": "stream",
     "text": [
      "0.05688564387646263\n",
      "tensor(0.8478)\n"
     ]
    },
    {
     "name": "stderr",
     "output_type": "stream",
     "text": [
      "Feature extracting: 100%|██████████| 391/391 [00:13<00:00, 28.39it/s]\n",
      "Test Epoch: [77/500] Acc@1:73.98% Acc@5:98.64%: 100%|██████████| 79/79 [00:03<00:00, 22.48it/s]\n",
      "Train Epoch: [78/500] Loss: 0.8377: 100%|██████████| 390/390 [01:32<00:00,  4.23it/s]\n"
     ]
    },
    {
     "name": "stdout",
     "output_type": "stream",
     "text": [
      "0.05782682755653138\n",
      "tensor(0.8382)\n"
     ]
    },
    {
     "name": "stderr",
     "output_type": "stream",
     "text": [
      "Feature extracting: 100%|██████████| 391/391 [00:13<00:00, 28.39it/s]\n",
      "Test Epoch: [78/500] Acc@1:74.62% Acc@5:98.57%: 100%|██████████| 79/79 [00:03<00:00, 22.75it/s]\n",
      "Train Epoch: [79/500] Loss: 0.8483: 100%|██████████| 390/390 [01:32<00:00,  4.23it/s]\n"
     ]
    },
    {
     "name": "stdout",
     "output_type": "stream",
     "text": [
      "0.058766771254215665\n",
      "tensor(0.8478)\n"
     ]
    },
    {
     "name": "stderr",
     "output_type": "stream",
     "text": [
      "Feature extracting: 100%|██████████| 391/391 [00:13<00:00, 28.36it/s]\n",
      "Test Epoch: [79/500] Acc@1:73.66% Acc@5:98.59%: 100%|██████████| 79/79 [00:03<00:00, 22.46it/s]\n",
      "Train Epoch: [80/500] Loss: 0.8283: 100%|██████████| 390/390 [01:32<00:00,  4.22it/s]\n"
     ]
    },
    {
     "name": "stdout",
     "output_type": "stream",
     "text": [
      "0.059705062665049005\n",
      "tensor(0.8293)\n"
     ]
    },
    {
     "name": "stderr",
     "output_type": "stream",
     "text": [
      "Feature extracting: 100%|██████████| 391/391 [00:13<00:00, 28.45it/s]\n",
      "Test Epoch: [80/500] Acc@1:74.01% Acc@5:98.49%: 100%|██████████| 79/79 [00:03<00:00, 22.53it/s]\n",
      "Train Epoch: [81/500] Loss: 0.8289: 100%|██████████| 390/390 [01:32<00:00,  4.22it/s]\n"
     ]
    },
    {
     "name": "stdout",
     "output_type": "stream",
     "text": [
      "0.060641290209337305\n",
      "tensor(0.8289)\n"
     ]
    },
    {
     "name": "stderr",
     "output_type": "stream",
     "text": [
      "Feature extracting: 100%|██████████| 391/391 [00:13<00:00, 28.28it/s]\n",
      "Test Epoch: [81/500] Acc@1:74.18% Acc@5:98.72%: 100%|██████████| 79/79 [00:03<00:00, 22.51it/s]\n",
      "Train Epoch: [82/500] Loss: 0.8309: 100%|██████████| 390/390 [01:32<00:00,  4.22it/s]\n"
     ]
    },
    {
     "name": "stdout",
     "output_type": "stream",
     "text": [
      "0.06157504321269755\n",
      "tensor(0.8308)\n"
     ]
    },
    {
     "name": "stderr",
     "output_type": "stream",
     "text": [
      "Feature extracting: 100%|██████████| 391/391 [00:13<00:00, 28.32it/s]\n",
      "Test Epoch: [82/500] Acc@1:74.89% Acc@5:98.73%: 100%|██████████| 79/79 [00:03<00:00, 22.48it/s]\n",
      "Train Epoch: [83/500] Loss: 0.8245: 100%|██████████| 390/390 [01:32<00:00,  4.23it/s]\n"
     ]
    },
    {
     "name": "stdout",
     "output_type": "stream",
     "text": [
      "0.06250591208619921\n",
      "tensor(0.8249)\n"
     ]
    },
    {
     "name": "stderr",
     "output_type": "stream",
     "text": [
      "Feature extracting: 100%|██████████| 391/391 [00:13<00:00, 28.38it/s]\n",
      "Test Epoch: [83/500] Acc@1:73.90% Acc@5:98.80%: 100%|██████████| 79/79 [00:03<00:00, 22.58it/s]\n",
      "Train Epoch: [84/500] Loss: 0.8245: 100%|██████████| 390/390 [01:32<00:00,  4.22it/s]\n"
     ]
    },
    {
     "name": "stdout",
     "output_type": "stream",
     "text": [
      "0.0634334885060297\n",
      "tensor(0.8245)\n"
     ]
    },
    {
     "name": "stderr",
     "output_type": "stream",
     "text": [
      "Feature extracting: 100%|██████████| 391/391 [00:13<00:00, 28.42it/s]\n",
      "Test Epoch: [84/500] Acc@1:74.93% Acc@5:98.77%: 100%|██████████| 79/79 [00:03<00:00, 22.38it/s]\n",
      "Train Epoch: [85/500] Loss: 0.8081: 100%|██████████| 390/390 [01:32<00:00,  4.22it/s]\n"
     ]
    },
    {
     "name": "stdout",
     "output_type": "stream",
     "text": [
      "0.06435736559260483\n",
      "tensor(0.8089)\n"
     ]
    },
    {
     "name": "stderr",
     "output_type": "stream",
     "text": [
      "Feature extracting: 100%|██████████| 391/391 [00:13<00:00, 28.34it/s]\n",
      "Test Epoch: [85/500] Acc@1:73.25% Acc@5:98.59%: 100%|██████████| 79/79 [00:03<00:00, 22.49it/s]\n",
      "Train Epoch: [86/500] Loss: 0.8170: 100%|██████████| 390/390 [01:32<00:00,  4.22it/s]\n"
     ]
    },
    {
     "name": "stdout",
     "output_type": "stream",
     "text": [
      "0.06527713808904566\n",
      "tensor(0.8166)\n"
     ]
    },
    {
     "name": "stderr",
     "output_type": "stream",
     "text": [
      "Feature extracting: 100%|██████████| 391/391 [00:13<00:00, 28.30it/s]\n",
      "Test Epoch: [86/500] Acc@1:75.14% Acc@5:98.69%: 100%|██████████| 79/79 [00:03<00:00, 22.35it/s]\n",
      "Train Epoch: [87/500] Loss: 0.8117: 100%|██████████| 390/390 [01:32<00:00,  4.21it/s]\n"
     ]
    },
    {
     "name": "stdout",
     "output_type": "stream",
     "text": [
      "0.06619240253894376\n",
      "tensor(0.8119)\n"
     ]
    },
    {
     "name": "stderr",
     "output_type": "stream",
     "text": [
      "Feature extracting: 100%|██████████| 391/391 [00:13<00:00, 28.34it/s]\n",
      "Test Epoch: [87/500] Acc@1:74.86% Acc@5:98.77%: 100%|██████████| 79/79 [00:03<00:00, 22.45it/s]\n",
      "Train Epoch: [88/500] Loss: 0.8109: 100%|██████████| 390/390 [01:32<00:00,  4.22it/s]\n"
     ]
    },
    {
     "name": "stdout",
     "output_type": "stream",
     "text": [
      "0.06710275746333647\n",
      "tensor(0.8110)\n"
     ]
    },
    {
     "name": "stderr",
     "output_type": "stream",
     "text": [
      "Feature extracting: 100%|██████████| 391/391 [00:13<00:00, 28.43it/s]\n",
      "Test Epoch: [88/500] Acc@1:73.95% Acc@5:98.64%: 100%|██████████| 79/79 [00:03<00:00, 22.59it/s]\n",
      "Train Epoch: [89/500] Loss: 0.8019: 100%|██████████| 390/390 [01:32<00:00,  4.23it/s]\n"
     ]
    },
    {
     "name": "stdout",
     "output_type": "stream",
     "text": [
      "0.06800780353681488\n",
      "tensor(0.8023)\n"
     ]
    },
    {
     "name": "stderr",
     "output_type": "stream",
     "text": [
      "Feature extracting: 100%|██████████| 391/391 [00:13<00:00, 28.39it/s]\n",
      "Test Epoch: [89/500] Acc@1:74.45% Acc@5:98.55%: 100%|██████████| 79/79 [00:03<00:00, 22.69it/s]\n",
      "Train Epoch: [90/500] Loss: 0.7944: 100%|██████████| 390/390 [01:32<00:00,  4.23it/s]\n"
     ]
    },
    {
     "name": "stdout",
     "output_type": "stream",
     "text": [
      "0.06890714376268721\n",
      "tensor(0.7948)\n"
     ]
    },
    {
     "name": "stderr",
     "output_type": "stream",
     "text": [
      "Feature extracting: 100%|██████████| 391/391 [00:13<00:00, 28.30it/s]\n",
      "Test Epoch: [90/500] Acc@1:74.23% Acc@5:98.49%: 100%|██████████| 79/79 [00:03<00:00, 22.73it/s]\n",
      "Train Epoch: [91/500] Loss: 0.7945: 100%|██████████| 390/390 [01:32<00:00,  4.22it/s]\n"
     ]
    },
    {
     "name": "stdout",
     "output_type": "stream",
     "text": [
      "0.06980038364712053\n",
      "tensor(0.7945)\n"
     ]
    },
    {
     "name": "stderr",
     "output_type": "stream",
     "text": [
      "Feature extracting: 100%|██████████| 391/391 [00:13<00:00, 28.17it/s]\n",
      "Test Epoch: [91/500] Acc@1:74.83% Acc@5:98.66%: 100%|██████████| 79/79 [00:03<00:00, 22.62it/s]\n",
      "Train Epoch: [92/500] Loss: 0.7864: 100%|██████████| 390/390 [01:32<00:00,  4.23it/s]\n"
     ]
    },
    {
     "name": "stdout",
     "output_type": "stream",
     "text": [
      "0.07068713137218484\n",
      "tensor(0.7868)\n"
     ]
    },
    {
     "name": "stderr",
     "output_type": "stream",
     "text": [
      "Feature extracting: 100%|██████████| 391/391 [00:13<00:00, 28.37it/s]\n",
      "Test Epoch: [92/500] Acc@1:75.23% Acc@5:98.68%: 100%|██████████| 79/79 [00:03<00:00, 22.32it/s]\n",
      "Train Epoch: [93/500] Loss: 0.7939: 100%|██████████| 390/390 [01:32<00:00,  4.23it/s]\n"
     ]
    },
    {
     "name": "stdout",
     "output_type": "stream",
     "text": [
      "0.07156699796772308\n",
      "tensor(0.7935)\n"
     ]
    },
    {
     "name": "stderr",
     "output_type": "stream",
     "text": [
      "Feature extracting: 100%|██████████| 391/391 [00:13<00:00, 28.37it/s]\n",
      "Test Epoch: [93/500] Acc@1:74.72% Acc@5:98.60%: 100%|██████████| 79/79 [00:03<00:00, 22.52it/s]\n",
      "Train Epoch: [94/500] Loss: 0.7908: 100%|██████████| 390/390 [01:32<00:00,  4.23it/s]\n"
     ]
    },
    {
     "name": "stdout",
     "output_type": "stream",
     "text": [
      "0.07243959748197226\n",
      "tensor(0.7909)\n"
     ]
    },
    {
     "name": "stderr",
     "output_type": "stream",
     "text": [
      "Feature extracting: 100%|██████████| 391/391 [00:13<00:00, 28.36it/s]\n",
      "Test Epoch: [94/500] Acc@1:75.51% Acc@5:98.82%: 100%|██████████| 79/79 [00:03<00:00, 22.32it/s]\n",
      "Train Epoch: [95/500] Loss: 0.7876: 100%|██████████| 390/390 [01:32<00:00,  4.23it/s]\n"
     ]
    },
    {
     "name": "stdout",
     "output_type": "stream",
     "text": [
      "0.07330454715086035\n",
      "tensor(0.7878)\n"
     ]
    },
    {
     "name": "stderr",
     "output_type": "stream",
     "text": [
      "Feature extracting: 100%|██████████| 391/391 [00:13<00:00, 28.45it/s]\n",
      "Test Epoch: [95/500] Acc@1:74.81% Acc@5:98.63%: 100%|██████████| 79/79 [00:03<00:00, 22.65it/s]\n",
      "Train Epoch: [96/500] Loss: 0.7747: 100%|██████████| 390/390 [01:32<00:00,  4.23it/s]\n"
     ]
    },
    {
     "name": "stdout",
     "output_type": "stream",
     "text": [
      "0.07416146756590514\n",
      "tensor(0.7754)\n"
     ]
    },
    {
     "name": "stderr",
     "output_type": "stream",
     "text": [
      "Feature extracting: 100%|██████████| 391/391 [00:13<00:00, 28.39it/s]\n",
      "Test Epoch: [96/500] Acc@1:75.66% Acc@5:98.80%: 100%|██████████| 79/79 [00:03<00:00, 22.66it/s]\n",
      "Train Epoch: [97/500] Loss: 0.7702: 100%|██████████| 390/390 [01:32<00:00,  4.23it/s]\n"
     ]
    },
    {
     "name": "stdout",
     "output_type": "stream",
     "text": [
      "0.07500998284064084\n",
      "tensor(0.7704)\n"
     ]
    },
    {
     "name": "stderr",
     "output_type": "stream",
     "text": [
      "Feature extracting: 100%|██████████| 391/391 [00:13<00:00, 28.33it/s]\n",
      "Test Epoch: [97/500] Acc@1:75.25% Acc@5:98.65%: 100%|██████████| 79/79 [00:03<00:00, 22.49it/s]\n",
      "Train Epoch: [98/500] Loss: 0.7720: 100%|██████████| 390/390 [01:32<00:00,  4.22it/s]\n"
     ]
    },
    {
     "name": "stdout",
     "output_type": "stream",
     "text": [
      "0.07584972077550003\n",
      "tensor(0.7720)\n"
     ]
    },
    {
     "name": "stderr",
     "output_type": "stream",
     "text": [
      "Feature extracting: 100%|██████████| 391/391 [00:13<00:00, 28.39it/s]\n",
      "Test Epoch: [98/500] Acc@1:75.73% Acc@5:98.64%: 100%|██████████| 79/79 [00:03<00:00, 22.68it/s]\n",
      "Train Epoch: [99/500] Loss: 0.7662: 100%|██████████| 390/390 [01:32<00:00,  4.23it/s]\n"
     ]
    },
    {
     "name": "stdout",
     "output_type": "stream",
     "text": [
      "0.07668031302107836\n",
      "tensor(0.7665)\n"
     ]
    },
    {
     "name": "stderr",
     "output_type": "stream",
     "text": [
      "Feature extracting: 100%|██████████| 391/391 [00:13<00:00, 28.41it/s]\n",
      "Test Epoch: [99/500] Acc@1:75.98% Acc@5:98.72%: 100%|██████████| 79/79 [00:03<00:00, 22.21it/s]\n",
      "Train Epoch: [100/500] Loss: 0.7719: 100%|██████████| 390/390 [01:32<00:00,  4.23it/s]\n"
     ]
    },
    {
     "name": "stdout",
     "output_type": "stream",
     "text": [
      "0.07750139523971013\n",
      "tensor(0.7717)\n"
     ]
    },
    {
     "name": "stderr",
     "output_type": "stream",
     "text": [
      "Feature extracting: 100%|██████████| 391/391 [00:13<00:00, 28.41it/s]\n",
      "Test Epoch: [100/500] Acc@1:75.49% Acc@5:98.65%: 100%|██████████| 79/79 [00:03<00:00, 22.46it/s]\n",
      "Train Epoch: [101/500] Loss: 0.7605: 100%|██████████| 390/390 [01:32<00:00,  4.23it/s]\n"
     ]
    },
    {
     "name": "stdout",
     "output_type": "stream",
     "text": [
      "0.0783126072652844\n",
      "tensor(0.7610)\n"
     ]
    },
    {
     "name": "stderr",
     "output_type": "stream",
     "text": [
      "Feature extracting: 100%|██████████| 391/391 [00:13<00:00, 28.33it/s]\n",
      "Test Epoch: [101/500] Acc@1:76.12% Acc@5:98.85%: 100%|██████████| 79/79 [00:03<00:00, 22.26it/s]\n",
      "Train Epoch: [102/500] Loss: 0.7613: 100%|██████████| 390/390 [01:32<00:00,  4.23it/s]\n"
     ]
    },
    {
     "name": "stdout",
     "output_type": "stream",
     "text": [
      "0.07911359326123119\n",
      "tensor(0.7613)\n"
     ]
    },
    {
     "name": "stderr",
     "output_type": "stream",
     "text": [
      "Feature extracting: 100%|██████████| 391/391 [00:13<00:00, 28.41it/s]\n",
      "Test Epoch: [102/500] Acc@1:75.92% Acc@5:98.73%: 100%|██████████| 79/79 [00:03<00:00, 22.57it/s]\n",
      "Train Epoch: [103/500] Loss: 0.7630: 100%|██████████| 390/390 [01:32<00:00,  4.23it/s]\n"
     ]
    },
    {
     "name": "stdout",
     "output_type": "stream",
     "text": [
      "0.07990400187660834\n",
      "tensor(0.7630)\n"
     ]
    },
    {
     "name": "stderr",
     "output_type": "stream",
     "text": [
      "Feature extracting: 100%|██████████| 391/391 [00:13<00:00, 28.46it/s]\n",
      "Test Epoch: [103/500] Acc@1:75.42% Acc@5:98.57%: 100%|██████████| 79/79 [00:03<00:00, 22.69it/s]\n",
      "Train Epoch: [104/500] Loss: 0.7629: 100%|██████████| 390/390 [01:32<00:00,  4.23it/s]\n"
     ]
    },
    {
     "name": "stdout",
     "output_type": "stream",
     "text": [
      "0.08068348640022108\n",
      "tensor(0.7629)\n"
     ]
    },
    {
     "name": "stderr",
     "output_type": "stream",
     "text": [
      "Feature extracting: 100%|██████████| 391/391 [00:13<00:00, 28.34it/s]\n",
      "Test Epoch: [104/500] Acc@1:75.74% Acc@5:98.82%: 100%|██████████| 79/79 [00:03<00:00, 22.63it/s]\n",
      "Train Epoch: [105/500] Loss: 0.7673:  30%|███       | 117/390 [00:28<01:03,  4.28it/s]"
     ]
    }
   ],
   "source": [
    "# Train SimCLR\n",
    "import numpy as np\n",
    "   \n",
    "# Feature dim for latent vector, Temperature used in softmax, Top k most similar images used to predict the label\n",
    "feature_dim, temp, k = 128, [0.1], 200\n",
    "# Number of images in each mini-batch, Number of sweeps over the dataset to train\n",
    "batch_size=128\n",
    "#Coarse setting\n",
    "#Fine setting\n",
    "lr_start = 1.0e-6\n",
    "lr_end =1000000.0\n",
    "max_lrvalue=0.1 #Rule of Thumb is peaklr (from lambdalr test)*3/8\n",
    "temp0 = 0.1 #contrastive loss temperature setting\n",
    "schedulertype='onecyclelr' #'lambdalr' for testing range of training or 'onecyclelr' for actual training\n",
    "if schedulertype=='lambdalr':\n",
    "    epochs=10\n",
    "    #epochs=10 #coarserg recommend 10 epochs, finerg recommend 100 epochs \n",
    "elif schedulertype=='onecyclelr':\n",
    "    epochs=500\n",
    "    #epochs=3\n",
    "else:\n",
    "    print('choose valid option for scheduler')\n",
    "smoothfactor=0.95 #Smooth Factor for smoothing contrastive loss    \n",
    "IterationStr='It1'\n",
    "loadmodel=0 #loadmodel=0 From scratch or loadmodel=1 Continue from presaved model \n",
    "pathtosave='/home/umaiyal/CS5260Project/results/Simclr_resnet50_RAdamv2'+schedulertype+'/'+IterationStr+'/'\n",
    "save_name_pre = '{}_{}_{}_{}_{}'.format(feature_dim, temp0, k, batch_size, epochs)\n",
    "csvfilename=pathtosave+'{}_statistics.csv'.format(save_name_pre)\n",
    "modelfilename=pathtosave+'{}_model.pth'.format(save_name_pre)\n",
    "\n",
    "# data prepare\n",
    "train_data = CIFAR10Pair(root='data', train=True, transform=train_transform, download=True)\n",
    "train_loader = DataLoader(train_data, batch_size=batch_size, shuffle=True, num_workers=16, pin_memory=True,\n",
    "                          drop_last=True)\n",
    "memory_data = CIFAR10Pair(root='data', train=True, transform=test_transform, download=True)\n",
    "memory_loader = DataLoader(memory_data, batch_size=batch_size, shuffle=False, num_workers=16, pin_memory=True)\n",
    "test_data = CIFAR10Pair(root='data', train=False, transform=test_transform, download=True)\n",
    "test_loader = DataLoader(test_data, batch_size=batch_size, shuffle=False, num_workers=16, pin_memory=True)\n",
    "\n",
    "import torch\n",
    "torch.cuda.is_available()\n",
    "torch.cuda.set_device(0)\n",
    "\n",
    "# model setup and optimizer config\n",
    "model = Model(feature_dim).cuda()\n",
    "\n",
    "flops, params = profile(model, inputs=(torch.randn(1, 3, 32, 32).cuda(),))\n",
    "flops, params = clever_format([flops, params])\n",
    "print('# Model Params: {} FLOPs: {}'.format(params, flops))\n",
    "\n",
    "optimizer = optim.RAdam(model.parameters(), lr=1.0)\n",
    "#optimizer=optim.Adam(model.parameters(),lr=1.0)\n",
    "\n",
    "#exponentially increase learning rate from low to high\n",
    "def lrs(batch):\n",
    "   low = math.log2(lr_start)\n",
    "   high = math.log2(lr_end)\n",
    "   return 2**(low+(high-low)*batch/len(train_loader)/epochs)\n",
    "   \n",
    "if schedulertype=='lambdalr':\n",
    "   scheduler = torch.optim.lr_scheduler.LambdaLR(optimizer, lrs)\n",
    "elif schedulertype=='onecyclelr':\n",
    "   div_factorvalue=10#round(max_lrvalue/0.0006) \n",
    "   scheduler = torch.optim.lr_scheduler.OneCycleLR(optimizer,div_factor=div_factorvalue,max_lr=max_lrvalue,total_steps=len(train_loader)*epochs,epochs=epochs)\n",
    "else:\n",
    "   print('choose valid option for scheduler')\n",
    "\n",
    "if loadmodel==1:\n",
    "   checkpoint=torch.load(modelfilename)\n",
    "   model.load_state_dict(checkpoint['model_state_dict'],strict=False)\n",
    "   model.to(device)\n",
    "   optimizer.load_state_dict(checkpoint['optimizer_state_dict'])\n",
    "   scheduler.load_state_dict(checkpoint['scheduler_state_dict'])\n",
    "   startepoch=checkpoint['epoch']+1\n",
    "   best_acc=checkpoint['best_acc']\n",
    "\n",
    "   print(startepoch)\n",
    "else:     \n",
    "   startepoch=1\n",
    "   best_acc=0\n",
    "   \n",
    "\n",
    "c = len(memory_data.classes)\n",
    "\n",
    "if not os.path.exists(pathtosave):\n",
    "   os.makedirs(pathtosave)\n",
    "\n",
    "train_loss_epoch=torch.zeros(epochs)\n",
    "smooth_loss_epoch=torch.zeros(epochs)\n",
    "test_acc_1_epoch=torch.zeros(epochs)\n",
    "test_acc_5_epoch=torch.zeros(epochs)\n",
    "lr_epoch=torch.zeros(epochs)\n",
    "\n",
    "if loadmodel==1:\n",
    "\n",
    "   df=pd.read_csv(csvfilename)\n",
    "   temp=pd.to_numeric(df.iloc[0:startepoch-1,1]).apply(np.array)\n",
    "   train_loss_epoch[0:temp.size]=torch.tensor(temp)\n",
    "   train_loss_list=temp.tolist()\n",
    "   temp=pd.to_numeric(df.iloc[0:startepoch-1,2]).apply(np.array)\n",
    "   test_acc_1_epoch[0:temp.size]=torch.tensor(temp)\n",
    "   test_acc_1_list=temp.tolist()\n",
    "   temp=pd.to_numeric(df.iloc[0:startepoch-1,3]).apply(np.array)\n",
    "   test_acc_5_epoch[0:temp.size]=torch.tensor(temp)\n",
    "   test_acc_5_list=temp.tolist()\n",
    "   temp=pd.to_numeric(df.iloc[0:startepoch-1,4]).apply(np.array)\n",
    "   smooth_loss_epoch[0:temp.size]=torch.tensor(temp)\n",
    "   smooth_loss_list=temp.tolist()\n",
    "   temp=pd.to_numeric(df.iloc[0:startepoch-1,5]).apply(np.array)\n",
    "   lr_epoch[0:temp.size]=torch.tensor(temp)\n",
    "   lr_list=temp.tolist()\n",
    "   results = {'train_loss': train_loss_list, 'test_acc@1': test_acc_1_list, 'test_acc@5': test_acc_5_list, 'smooth_loss': smooth_loss_list, 'lr_epoch': lr_list}\n",
    "\n",
    "else:\n",
    "   results = {'train_loss': [], 'test_acc@1': [], 'test_acc@5': [], 'smooth_loss': [], 'lr_epoch': []}\n",
    "\n",
    "\n",
    "for epoch in range(startepoch, epochs + 1):\n",
    "    train_loss = train(model, train_loader, optimizer, scheduler, temp0)\n",
    "    train_loss_epoch[epoch-1]=train_loss\n",
    "    if epoch>1:\n",
    "       smooth_loss=float(train_loss_epoch[epoch-1]*smoothfactor+smooth_loss_epoch[epoch-2]*(1.0-smoothfactor))\n",
    "    else:\n",
    "       smooth_loss=train_loss\n",
    "    smooth_loss_epoch[epoch-1]=torch.tensor(smooth_loss)\n",
    "\n",
    "\n",
    "    print(optimizer.param_groups[0]['lr'])\n",
    "    print(smooth_loss_epoch[epoch-1])\n",
    "    lr_epoch[epoch-1]=float(optimizer.param_groups[0]['lr'])\n",
    "   \n",
    "        \n",
    "    results['train_loss'].append(train_loss)\n",
    "    test_acc_1, test_acc_5 = test(model, memory_loader, test_loader, temp0)\n",
    "    results['test_acc@1'].append(test_acc_1)\n",
    "    results['test_acc@5'].append(test_acc_5)\n",
    "    results['smooth_loss'].append(smooth_loss)\n",
    "    results['lr_epoch'].append(optimizer.param_groups[0]['lr'])\n",
    "    # save statistics\n",
    "    data_frame = pd.DataFrame(data=results, index=range(1, epoch + 1))\n",
    "    data_frame.to_csv(csvfilename, index_label='epoch')\n",
    "    if test_acc_1 > best_acc:\n",
    "        best_acc = test_acc_1\n",
    "        torch.save({'epoch':epoch,'model_state_dict':model.state_dict(),'optimizer_state_dict':optimizer.state_dict(),'scheduler_state_dict':scheduler.state_dict(),'best_acc':best_acc}, modelfilename)\n",
    "    test_acc_1_epoch[epoch-1]=test_acc_1\n",
    "    test_acc_5_epoch[epoch-1]=test_acc_5\n",
    "    \n",
    "minloss_loc=torch.argmin(smooth_loss_epoch)\n",
    "minloss_loclr=lr_epoch[minloss_loc]\n",
    "print(f'lr corresponding to minloss={minloss_loclr}');\n",
    "print(f'suggested maxlr={minloss_loclr*3/8}');\n",
    "print(f'suggested minlr={minloss_loclr*3/80}');"
   ]
  },
  {
   "cell_type": "code",
   "execution_count": null,
   "metadata": {
    "id": "Kc2fmSbpO0Po"
   },
   "outputs": [],
   "source": [
    "import matplotlib.pyplot as plt\n",
    "import pandas as pd\n",
    "\n",
    "df=pd.read_csv(csvfilename)\n",
    "\n",
    "f1=plt.figure()\n",
    "plt.semilogx(df['lr_epoch'],df['smooth_loss'])  \n",
    "plt.xlabel('learning rate')\n",
    "plt.ylabel('smoothed trg epoch loss')\n",
    "plt.show()\n",
    "\n",
    "f2=plt.figure()\n",
    "plt.plot(df['test_acc@1'])\n",
    "plt.title('Sim CLR with RAdam')\n",
    "plt.xlabel('epoch number')\n",
    "plt.ylabel('epoch Test Accuracy')\n",
    "plt.show()"
   ]
  }
 ],
 "metadata": {
  "accelerator": "GPU",
  "colab": {
   "background_execution": "on",
   "collapsed_sections": [],
   "name": "simclr_convnext_500_RAdamonecycle.ipynb",
   "provenance": []
  },
  "kernelspec": {
   "display_name": "Python 3 (ipykernel)",
   "language": "python",
   "name": "python3"
  },
  "language_info": {
   "codemirror_mode": {
    "name": "ipython",
    "version": 3
   },
   "file_extension": ".py",
   "mimetype": "text/x-python",
   "name": "python",
   "nbconvert_exporter": "python",
   "pygments_lexer": "ipython3",
   "version": "3.7.10"
  }
 },
 "nbformat": 4,
 "nbformat_minor": 1
}
